{
  "cells": [
    {
      "cell_type": "markdown",
      "metadata": {
        "id": "GoXn14ltnGh3"
      },
      "source": [
        "# Using an SAE as a steering vector\n",
        "\n",
        "This notebook demonstrates how to use SAE lens to identify a feature on a pretrained model, and then construct a steering vector to affect the models output to various prompts. This notebook will also make use of Neuronpedia for identifying features of interest.\n",
        "\n",
        "The steps below include:\n",
        "\n",
        "\n",
        "\n",
        "*   Installing relevant packages (Colab or locally)\n",
        "*   Load your SAE and the model it used\n",
        "*   Determining your feature of interest and its index\n",
        "*   Implementing your steering vector\n",
        "\n",
        "\n",
        "\n"
      ]
    },
    {
      "cell_type": "markdown",
      "metadata": {
        "id": "gf3lJYPEXh0v"
      },
      "source": [
        "## Setting up packages and notebook"
      ]
    },
    {
      "cell_type": "markdown",
      "metadata": {
        "id": "l9k5iGyOXtuN"
      },
      "source": [
        "### Import and installs"
      ]
    },
    {
      "cell_type": "markdown",
      "metadata": {
        "id": "fapxk8MDrs6R"
      },
      "source": [
        "#### Environment Setup\n"
      ]
    },
    {
      "cell_type": "code",
      "execution_count": 190,
      "metadata": {
        "colab": {
          "base_uri": "https://localhost:8080/"
        },
        "collapsed": true,
        "id": "0TwNmRkRUgR7",
        "outputId": "ffeb827a-9af2-4b09-b8dd-78e0d594ddf6"
      },
      "outputs": [
        {
          "name": "stdout",
          "output_type": "stream",
          "text": [
            "The autoreload extension is already loaded. To reload it, use:\n",
            "  %reload_ext autoreload\n"
          ]
        }
      ],
      "source": [
        "try:\n",
        "  # for google colab users\n",
        "    import google.colab # type: ignore\n",
        "    from google.colab import output\n",
        "    COLAB = True\n",
        "    %pip install sae-lens transformer-lens\n",
        "except:\n",
        "  # for local setup\n",
        "    COLAB = False\n",
        "    from IPython import get_ipython # type: ignore\n",
        "    ipython = get_ipython(); assert ipython is not None\n",
        "    ipython.run_line_magic(\"load_ext\", \"autoreload\")\n",
        "    ipython.run_line_magic(\"autoreload\", \"2\")\n",
        "\n",
        "# Imports for displaying vis in Colab / notebook\n",
        "import webbrowser\n",
        "import http.server\n",
        "import socketserver\n",
        "import threading\n",
        "PORT = 8000\n",
        "\n",
        "# general imports\n",
        "import os\n",
        "import torch\n",
        "from tqdm import tqdm\n",
        "import plotly.express as px\n",
        "\n",
        "torch.set_grad_enabled(False);\n",
        "\n",
        "import pandas as pd\n",
        "import itertools as ittl\n",
        "import numpy as np\n",
        "from scipy import stats\n",
        "import seaborn as sns\n",
        "from datasets import load_dataset\n",
        "import transformers\n"
      ]
    },
    {
      "cell_type": "markdown",
      "metadata": {
        "id": "CmaPYLpGrxbo"
      },
      "source": [
        "#### General Installs and device setup"
      ]
    },
    {
      "cell_type": "code",
      "execution_count": 2,
      "metadata": {
        "colab": {
          "base_uri": "https://localhost:8080/"
        },
        "id": "tdUm9rZKr1Qb",
        "outputId": "9b73b762-1356-437b-8925-91c514093b43"
      },
      "outputs": [
        {
          "name": "stdout",
          "output_type": "stream",
          "text": [
            "Device: cuda\n"
          ]
        }
      ],
      "source": [
        "# package import\n",
        "from torch import Tensor\n",
        "from transformer_lens import utils\n",
        "from functools import partial\n",
        "from jaxtyping import Int, Float\n",
        "\n",
        "\n",
        "# device setup\n",
        "if torch.backends.mps.is_available():\n",
        "    device = \"mps\"\n",
        "else:\n",
        "    device = \"cuda\" if torch.cuda.is_available() else \"cpu\"\n",
        "\n",
        "print(f\"Device: {device}\")"
      ]
    },
    {
      "cell_type": "markdown",
      "metadata": {
        "id": "lsB0qORUaXiK"
      },
      "source": [
        "### Load your model and SAE\n",
        "\n",
        "We're going to work with a pretrained GPT2-small model, and the RES-JB SAE set which is for the residual stream."
      ]
    },
    {
      "cell_type": "code",
      "execution_count": 3,
      "metadata": {
        "colab": {
          "base_uri": "https://localhost:8080/"
        },
        "collapsed": true,
        "id": "bCvNtm1OOhlR",
        "outputId": "e6fd27ab-ee94-46ec-a07e-ee48c8f30da3"
      },
      "outputs": [
        {
          "name": "stderr",
          "output_type": "stream",
          "text": [
            "/home/jovyan/.local/lib/python3.10/site-packages/huggingface_hub/file_download.py:1132: FutureWarning: `resume_download` is deprecated and will be removed in version 1.0.0. Downloads always resume when possible. If you want to force a new download, use `force_download=True`.\n",
            "  warnings.warn(\n"
          ]
        },
        {
          "name": "stdout",
          "output_type": "stream",
          "text": [
            "Loaded pretrained model gpt2-small into HookedTransformer\n",
            "blocks.2.hook_resid_pre\n"
          ]
        }
      ],
      "source": [
        "from transformer_lens import HookedTransformer\n",
        "from sae_lens import SAE\n",
        "from sae_lens.toolkit.pretrained_saes import get_gpt2_res_jb_saes\n",
        "\n",
        "# Choose a layer you want to focus on\n",
        "# For this tutorial, we're going to use layer 2\n",
        "layer = 2\n",
        "\n",
        "# get model\n",
        "model = HookedTransformer.from_pretrained(\"gpt2-small\", device = device)\n",
        "\n",
        "# get the SAE for this layer\n",
        "'''\n",
        "sae, cfg_dict, _ = SAE.from_pretrained(\n",
        "    release = \"gemma-2b-res-jb\",\n",
        "    sae_id = f\"blocks.{layer}.hook_resid_post\",\n",
        "    device = device\n",
        ")\n",
        "'''\n",
        "sae, cfg_dict, _ = SAE.from_pretrained(\n",
        "    release = \"gpt2-small-res-jb\",\n",
        "    sae_id = f\"blocks.{layer}.hook_resid_pre\",\n",
        "    device = device\n",
        ")\n",
        "\n",
        "# get hook point\n",
        "hook_point = sae.cfg.hook_name\n",
        "print(hook_point)"
      ]
    },
    {
      "cell_type": "markdown",
      "metadata": {
        "id": "NkAAoyFbu5a5"
      },
      "source": [
        "## Determine your feature of interest and its index"
      ]
    },
    {
      "cell_type": "markdown",
      "metadata": {
        "id": "DkQNvdd54q4S"
      },
      "source": [
        "### Find your feature"
      ]
    },
    {
      "cell_type": "markdown",
      "metadata": {
        "id": "wzeY2D13xRjY"
      },
      "source": [
        "#### Explore through code by using the feature activations for a prompt\n",
        "\n",
        "For the purpose of the tutorial, we are selecting a simple token prompt.\n",
        "\n",
        "In this example we will look trying to find and steer a \"Jedi\" feature.\n",
        "\n",
        "We run our prompt on our model and get the cache, which we then use with our sae to get our feature activations.\n",
        "\n",
        "Now we'll look at the top feature activations and look them up on Neuronpedia to determine what they have been intepreted as."
      ]
    },
    {
      "cell_type": "code",
      "execution_count": 4,
      "metadata": {
        "colab": {
          "base_uri": "https://localhost:8080/"
        },
        "id": "IIrdJ36mlXgB",
        "outputId": "c4014b87-3af6-4c27-8f79-3b5a3c2c03dc"
      },
      "outputs": [
        {
          "name": "stdout",
          "output_type": "stream",
          "text": [
            "dir(sae)\n",
            " ['T_destination', 'W_dec', 'W_enc', '__annotations__', '__call__', '__class__', '__delattr__', '__dict__', '__dir__', '__doc__', '__eq__', '__format__', '__ge__', '__getattr__', '__getattribute__', '__getstate__', '__gt__', '__hash__', '__init__', '__init_subclass__', '__le__', '__lt__', '__module__', '__ne__', '__new__', '__reduce__', '__reduce_ex__', '__repr__', '__setattr__', '__setstate__', '__sizeof__', '__str__', '__subclasshook__', '__weakref__', '_apply', '_backward_hooks', '_backward_pre_hooks', '_buffers', '_call_impl', '_compiled_call_impl', '_enable_hook', '_enable_hook_with_name', '_enable_hooks_for_points', '_forward_hooks', '_forward_hooks_always_called', '_forward_hooks_with_kwargs', '_forward_pre_hooks', '_forward_pre_hooks_with_kwargs', '_get_backward_hooks', '_get_backward_pre_hooks', '_get_name', '_is_full_backward_hook', '_load_from_state_dict', '_load_state_dict_post_hooks', '_load_state_dict_pre_hooks', '_maybe_warn_non_full_backward_hook', '_modules', '_named_members', '_non_persistent_buffers_set', '_parameters', '_register_load_state_dict_pre_hook', '_register_state_dict_hook', '_replicate_for_data_parallel', '_save_to_state_dict', '_slow_forward', '_state_dict_hooks', '_state_dict_pre_hooks', '_version', '_wrapped_call_impl', 'activation_fn', 'add_caching_hooks', 'add_hook', 'add_module', 'add_perma_hook', 'apply', 'apply_finetuning_scaling_factor', 'b_dec', 'b_enc', 'bfloat16', 'buffers', 'cache_all', 'cache_some', 'call_super_init', 'cfg', 'check_and_add_hook', 'check_hooks_to_add', 'children', 'clear_contexts', 'compile', 'context_level', 'cpu', 'cuda', 'd_head', 'decode', 'device', 'double', 'dtype', 'dump_patches', 'encode', 'eval', 'extra_repr', 'float', 'fold_W_dec_norm', 'fold_activation_norm_scaling_factor', 'forward', 'from_dict', 'from_pretrained', 'get_buffer', 'get_caching_hooks', 'get_extra_state', 'get_name', 'get_parameter', 'get_submodule', 'half', 'hook_dict', 'hook_points', 'hook_sae_acts_post', 'hook_sae_acts_pre', 'hook_sae_error', 'hook_sae_input', 'hook_sae_output', 'hook_sae_recons', 'hook_z_reshaping_mode', 'hooks', 'initialize_weights_basic', 'ipu', 'is_caching', 'load_from_pretrained', 'load_state_dict', 'mod_dict', 'modules', 'named_buffers', 'named_children', 'named_modules', 'named_parameters', 'parameters', 'register_backward_hook', 'register_buffer', 'register_forward_hook', 'register_forward_pre_hook', 'register_full_backward_hook', 'register_full_backward_pre_hook', 'register_load_state_dict_post_hook', 'register_module', 'register_parameter', 'register_state_dict_pre_hook', 'remove_all_hook_fns', 'requires_grad_', 'reset_hooks', 'reshape_fn_in', 'reshape_fn_out', 'run_time_activation_norm_fn_in', 'run_time_activation_norm_fn_out', 'run_with_cache', 'run_with_hooks', 'save_model', 'set_extra_state', 'setup', 'share_memory', 'state_dict', 'to', 'to_empty', 'train', 'training', 'turn_off_forward_pass_hook_z_reshaping', 'turn_on_forward_pass_hook_z_reshaping', 'type', 'use_error_term', 'xpu', 'zero_grad']\n",
            "sae.W_enc.shape\n",
            " torch.Size([768, 24576])\n",
            "\n",
            "\n",
            "tokens tensor([[50256, 48640,   338,  3290,   655,  3724,    13,  1375,   318,  4203,\n",
            "          6507]], device='cuda:0')\n",
            "\n",
            " torch.return_types.topk(\n",
            "values=tensor([[[107.2710, 105.1811,  96.7976],\n",
            "         [ 41.4527,   9.4415,   8.2145],\n",
            "         [ 22.9891,   8.8372,   3.3017],\n",
            "         [ 39.2306,   6.7457,   5.8985],\n",
            "         [ 32.0270,   7.1112,   4.9178],\n",
            "         [ 35.5273,   4.6781,   4.4712],\n",
            "         [ 16.8650,  10.1293,   2.2438],\n",
            "         [ 25.7548,   7.9421,   2.8781],\n",
            "         [ 19.8562,   4.4461,   2.7132],\n",
            "         [ 31.7165,   3.2587,   3.0180],\n",
            "         [ 38.8230,   3.2813,   2.5213]]], device='cuda:0'),\n",
            "indices=tensor([[[ 1151, 10488,  3344],\n",
            "         [14945, 23888, 18529],\n",
            "         [24460, 20213, 21654],\n",
            "         [10297, 11719, 21363],\n",
            "         [11828,  6328,  6661],\n",
            "         [ 7041,    46,  6328],\n",
            "         [20825, 12518, 11839],\n",
            "         [ 9327,  8560,  6328],\n",
            "         [20500,  9715, 14468],\n",
            "         [ 2701, 17681, 14468],\n",
            "         [ 2442, 15887, 14468]]], device='cuda:0'))\n"
          ]
        }
      ],
      "source": [
        "print('dir(sae)\\n', dir(sae))\n",
        "print('sae.W_enc.shape\\n', sae.W_enc.shape)\n",
        "\n",
        "print('\\n')\n",
        "\n",
        "#sv_prompt = \" The Golden Gate Bridge\"\n",
        "# sv_prompt = 'Jedi'\n",
        "sv_prompt = 'Emily\\'s dog just died. She is feeling sad'\n",
        "# sv_prompt = 'John\\'s lunch was stolen. He is feeling angry'\n",
        "# sv_prompt = 'John just received a present. He is feeling happy'\n",
        "\n",
        "sv_logits, cache = model.run_with_cache(sv_prompt, prepend_bos=True)\n",
        "tokens = model.to_tokens(sv_prompt)\n",
        "print('tokens', tokens)\n",
        "\n",
        "# get the feature activations from our SAE\n",
        "sv_feature_acts = sae.encode(cache[hook_point])\n",
        "\n",
        "# get sae_out\n",
        "sae_out = sae.decode(sv_feature_acts)\n",
        "\n",
        "# print out the top activations, focus on the indices\n",
        "print('\\n', torch.topk(sv_feature_acts, 3))\n",
        "\n",
        "\n",
        "# Explanation of the topk outputs below:\n",
        "# There are 5 tokens in sv_prompt: <BOS>, The, Golden, Gate, Bridge. \n",
        "# So what topk is showing is for each token what SAE feature is being activated the most.\n",
        "# Thats why we have a 5 x 3 array. \n"
      ]
    },
    {
      "cell_type": "markdown",
      "metadata": {
        "id": "cexaoBR65lIa"
      },
      "source": [
        "### Set up hook functions\n",
        "\n",
        "Finally, we need to create a hook that allows us to apply the steering vector when our model runs generate() on our defined prompt. We have also added a boolean value 'steering_on' that allows us to easily toggle the steering vector on and off for each prompt\n"
      ]
    },
    {
      "cell_type": "code",
      "execution_count": 5,
      "metadata": {
        "collapsed": true,
        "id": "3kcVWeJoIAlC"
      },
      "outputs": [],
      "source": [
        "def steering_hook(resid_pre, hook):\n",
        "\n",
        "    if resid_pre.shape[1] == 1:\n",
        "        return\n",
        "\n",
        "    # print('resid_pre.shape', resid_pre.shape)\n",
        "    position = sae.W_dec.shape[-1]\n",
        "    # print('sae_out.shape', sae_out.shape, '\\n')\n",
        "    if steering_on:\n",
        "      # using our steering vector and applying the coefficient\n",
        "\n",
        "      # So here resid_pre are the values from the residual stream (in this case [batch_size, n_tokens, 768])\n",
        "      # We modify all values up to but not including the last token (since its an EOS token)\n",
        "\n",
        "      # Modification is an addition of the outgoing weights from the target SAE feature \n",
        "      # (which is a size 768 vector) multiplied by a coefficient that controls the magnitude of the steering\n",
        "\n",
        "      # The steered values would then make their way through the rest of the model\n",
        "      resid_pre[:, :position - 1, :] += coeff * steering_vector\n",
        "\n",
        "def ablation_hook(resid_pre, hook):\n",
        "\n",
        "    if resid_pre.shape[1] == 1:\n",
        "        return\n",
        "\n",
        "    position = sae.W_dec.shape[-1]\n",
        "    \n",
        "    act_strength = (resid_pre @ sae.W_enc)[:, :position-1, feature_id]\n",
        "    act_strength = torch.unsqueeze(act_strength, -1)\n",
        "    new_shape = list(act_strength.shape)\n",
        "    new_shape[-1] = steering_vector.shape[-1]\n",
        "    act_strength.expand(new_shape)\n",
        "    \n",
        "    if steering_on:\n",
        "        resid_pre[:, :position-1, :] -= act_strength * steering_vector\n",
        "\n",
        "def hooked_generate(prompt_batch, fwd_hooks=[], seed=None, **kwargs):\n",
        "    if seed is not None:\n",
        "        torch.manual_seed(seed)\n",
        "\n",
        "    with model.hooks(fwd_hooks=fwd_hooks):\n",
        "        tokenized = model.to_tokens(prompt_batch)\n",
        "        result = model.generate(\n",
        "            stop_at_eos=False,  # avoids a bug on MPS\n",
        "            input=tokenized,\n",
        "            max_new_tokens=30,\n",
        "            do_sample=True,\n",
        "            **kwargs)\n",
        "    return result\n"
      ]
    },
    {
      "cell_type": "code",
      "execution_count": 6,
      "metadata": {
        "id": "VcuRkX0yA2WH"
      },
      "outputs": [],
      "source": [
        "def run_generate(prompts, n_samples, steering_type='steer'):\n",
        "  \n",
        "  res_list = []\n",
        "\n",
        "  for prompt, label in prompts:\n",
        "\n",
        "    model.reset_hooks()\n",
        "\n",
        "    # Steering\n",
        "    editing_hooks = [(f\"blocks.{layer}.hook_resid_post\", steering_hook)] if steering_type == 'steer' \\\n",
        "                    else [(f\"blocks.{layer}.hook_resid_post\", ablation_hook)]\n",
        "\n",
        "    res = hooked_generate([prompt] * n_samples, editing_hooks, seed=None, **sampling_kwargs)\n",
        "\n",
        "    # Print results, removing the ugly beginning of sequence token\n",
        "    res_str = model.to_string(res[:, 1:])\n",
        "    res_str = [(text.split('\\\". '))[1] for text in res_str]\n",
        "    res_list.append({'prompt': prompt, 'responses': res_str, 'label': label})\n",
        "\n",
        "  return pd.DataFrame(res_list)"
      ]
    },
    {
      "cell_type": "markdown",
      "metadata": {
        "id": "YACtNFzGcNua"
      },
      "source": [
        "## Implement your steering vector and affect the output"
      ]
    },
    {
      "cell_type": "markdown",
      "metadata": {
        "id": "pO8hjg8j5bb-"
      },
      "source": [
        "### Define values for your steering vector\n",
        "To create our steering vector, we now need to get the decoder weights from our sparse autoencoder found at our index of interest.\n",
        "\n",
        "Then to use our steering vector, we want a prompt for text generation, as well as a scaling factor coefficent to apply with the steering vector\n",
        "\n",
        "We also set common sampling kwargs - temperature, top_p and freq_penalty"
      ]
    },
    {
      "cell_type": "code",
      "execution_count": 7,
      "metadata": {
        "id": "rgYEWGV0t0L2"
      },
      "outputs": [],
      "source": [
        "# Golden State Bridge:\n",
        "# steering_vector = sae.W_dec[10200]\n",
        "\n",
        "# Jedi:\n",
        "# steering_vector = sae.W_dec[7650]\n",
        "\n",
        "# Sadness: 2442, \n",
        "# steering_vector = sae.W_dec[2442]\n",
        "\n",
        "# Anger: 1550, 4707, 18357, 5526, 21165, 252\n",
        "# steering_vector = sae.W_dec[21165]\n",
        "\n",
        "# Worry: 849, 15524, 18978, 21673\n",
        "# steering_vector = sae.W_dec[18978]\n",
        "\n",
        "# Happiness: 13928, 3879, 3456\n",
        "# steering_vector = sae.W_dec[24422]\n",
        "# sampling_kwargs = dict(temperature=0.9, top_p=0.1, freq_penalty=1.0)"
      ]
    },
    {
      "cell_type": "markdown",
      "metadata": {},
      "source": [
        "### Loading an Emotion Recognition Dataset - https://github.com/dair-ai/emotion_dataset"
      ]
    },
    {
      "cell_type": "code",
      "execution_count": 8,
      "metadata": {},
      "outputs": [],
      "source": [
        "emotion_dataset = load_dataset('dair-ai/emotion', split='train', trust_remote_code=True)\n"
      ]
    },
    {
      "cell_type": "code",
      "execution_count": 164,
      "metadata": {},
      "outputs": [
        {
          "name": "stdout",
          "output_type": "stream",
          "text": [
            "{'text': ['i feel funny just calling it a film', 'i feel that everyone is entitiled to their opinion and that opinion should be respected', 'i love the treadmill and i am actually so used to it that i actually feel intimidated running outside', 'i was really surprised by how much i like this moisturizer it smells really good and feels amazing on the skin', 'i feel utterly devastated that she must go through this and do so alone', 'i went to sleep friday i was feeling relieved that none of our family was caught in the tornadoes in broken arrow later that night', 'i hear the word and i feel stronger and re assured once again', 'i dont even know how to describe how i feel its like im sad but i can understand his decision but i cant control myself to not be mad at him', 'i feel like the rest of the season will continue to be successful like we were at freestone', 'i was feeling optimistic and actually ran the first couple miles at probably a pace', 'i feel agitated thinking about his mother and her supposedly hidden msg', 'i feel our hearts are treading dangerous territory', 'i feel like i missed out on a lot of important information that would have helped me understand his art better', 'i didnt feel that way with this we got to be with everyone on the dangerous path to freedom', 'i feel carefree and young and amazing', 'im feeling slightly irritable but generally level headed and actually not in a bad mood'], 'label': [5, 1, 4, 1, 0, 1, 1, 0, 1, 1, 4, 3, 0, 3, 1, 3]}\n"
          ]
        }
      ],
      "source": [
        "emotion_dataset = emotion_dataset.shuffle()\n",
        "batch_size = 16\n",
        "batch = emotion_dataset[:batch_size]\n",
        "print(batch)"
      ]
    },
    {
      "cell_type": "code",
      "execution_count": 165,
      "metadata": {},
      "outputs": [],
      "source": [
        "prompts = [f'John says, \\\"{text}\\\". John feels' for text in batch['text']]\n",
        "labels = [label for label in batch['label']]\n",
        "prompts = list(zip(prompts, labels))"
      ]
    },
    {
      "cell_type": "markdown",
      "metadata": {},
      "source": [
        "### Getting a \"judge\" model to judge the generations"
      ]
    },
    {
      "cell_type": "markdown",
      "metadata": {},
      "source": [
        "### Alternative Judge Model (Finetuned DISTILBERT)"
      ]
    },
    {
      "cell_type": "code",
      "execution_count": 11,
      "metadata": {},
      "outputs": [
        {
          "name": "stderr",
          "output_type": "stream",
          "text": [
            "/home/jovyan/.local/lib/python3.10/site-packages/torch/_utils.py:831: UserWarning: TypedStorage is deprecated. It will be removed in the future and UntypedStorage will be the only storage class. This should only matter to you if you are using storages directly.  To access UntypedStorage directly, use tensor.untyped_storage() instead of tensor.storage()\n",
            "  return self.fget.__get__(instance, owner)()\n"
          ]
        }
      ],
      "source": [
        "# bert_judge = transformers.pipeline(model='ActivationAI/distilbert-base-uncased-finetuned-emotion', device=0)"
      ]
    },
    {
      "cell_type": "code",
      "execution_count": 12,
      "metadata": {},
      "outputs": [],
      "source": [
        "%reset_selective -f bert_judge"
      ]
    },
    {
      "cell_type": "code",
      "execution_count": 166,
      "metadata": {},
      "outputs": [
        {
          "name": "stdout",
          "output_type": "stream",
          "text": [
            "[('John says, \"i feel funny just calling it a film\". John feels', 5), ('John says, \"i feel that everyone is entitiled to their opinion and that opinion should be respected\". John feels', 1), ('John says, \"i love the treadmill and i am actually so used to it that i actually feel intimidated running outside\". John feels', 4), ('John says, \"i was really surprised by how much i like this moisturizer it smells really good and feels amazing on the skin\". John feels', 1), ('John says, \"i feel utterly devastated that she must go through this and do so alone\". John feels', 0), ('John says, \"i went to sleep friday i was feeling relieved that none of our family was caught in the tornadoes in broken arrow later that night\". John feels', 1), ('John says, \"i hear the word and i feel stronger and re assured once again\". John feels', 1), ('John says, \"i dont even know how to describe how i feel its like im sad but i can understand his decision but i cant control myself to not be mad at him\". John feels', 0), ('John says, \"i feel like the rest of the season will continue to be successful like we were at freestone\". John feels', 1), ('John says, \"i was feeling optimistic and actually ran the first couple miles at probably a pace\". John feels', 1), ('John says, \"i feel agitated thinking about his mother and her supposedly hidden msg\". John feels', 4), ('John says, \"i feel our hearts are treading dangerous territory\". John feels', 3), ('John says, \"i feel like i missed out on a lot of important information that would have helped me understand his art better\". John feels', 0), ('John says, \"i didnt feel that way with this we got to be with everyone on the dangerous path to freedom\". John feels', 3), ('John says, \"i feel carefree and young and amazing\". John feels', 1), ('John says, \"im feeling slightly irritable but generally level headed and actually not in a bad mood\". John feels', 3)]\n"
          ]
        },
        {
          "data": {
            "application/vnd.jupyter.widget-view+json": {
              "model_id": "baafe97b4f064a07bbc0f9bcc437522a",
              "version_major": 2,
              "version_minor": 0
            },
            "text/plain": [
              "  0%|          | 0/30 [00:00<?, ?it/s]"
            ]
          },
          "metadata": {},
          "output_type": "display_data"
        },
        {
          "data": {
            "application/vnd.jupyter.widget-view+json": {
              "model_id": "a7cec2335616400094fb337291e0fb04",
              "version_major": 2,
              "version_minor": 0
            },
            "text/plain": [
              "  0%|          | 0/30 [00:00<?, ?it/s]"
            ]
          },
          "metadata": {},
          "output_type": "display_data"
        },
        {
          "data": {
            "application/vnd.jupyter.widget-view+json": {
              "model_id": "78f372c1708f45eab01bb91214f98617",
              "version_major": 2,
              "version_minor": 0
            },
            "text/plain": [
              "  0%|          | 0/30 [00:00<?, ?it/s]"
            ]
          },
          "metadata": {},
          "output_type": "display_data"
        },
        {
          "data": {
            "application/vnd.jupyter.widget-view+json": {
              "model_id": "61563a71aeb648c7a3875a5c8a738278",
              "version_major": 2,
              "version_minor": 0
            },
            "text/plain": [
              "  0%|          | 0/30 [00:00<?, ?it/s]"
            ]
          },
          "metadata": {},
          "output_type": "display_data"
        },
        {
          "data": {
            "application/vnd.jupyter.widget-view+json": {
              "model_id": "c02ab121373b4474bb54cc31ef858f0d",
              "version_major": 2,
              "version_minor": 0
            },
            "text/plain": [
              "  0%|          | 0/30 [00:00<?, ?it/s]"
            ]
          },
          "metadata": {},
          "output_type": "display_data"
        },
        {
          "data": {
            "application/vnd.jupyter.widget-view+json": {
              "model_id": "a743117b5bdf4f589bdfc11a0f9e4dd6",
              "version_major": 2,
              "version_minor": 0
            },
            "text/plain": [
              "  0%|          | 0/30 [00:00<?, ?it/s]"
            ]
          },
          "metadata": {},
          "output_type": "display_data"
        },
        {
          "data": {
            "application/vnd.jupyter.widget-view+json": {
              "model_id": "d0da3ce350eb42ed9fdd9ac22d28371a",
              "version_major": 2,
              "version_minor": 0
            },
            "text/plain": [
              "  0%|          | 0/30 [00:00<?, ?it/s]"
            ]
          },
          "metadata": {},
          "output_type": "display_data"
        },
        {
          "data": {
            "application/vnd.jupyter.widget-view+json": {
              "model_id": "68830a67b9dd43a0a4531fbfeb51a167",
              "version_major": 2,
              "version_minor": 0
            },
            "text/plain": [
              "  0%|          | 0/30 [00:00<?, ?it/s]"
            ]
          },
          "metadata": {},
          "output_type": "display_data"
        },
        {
          "data": {
            "application/vnd.jupyter.widget-view+json": {
              "model_id": "ef114af38047477e9a3f180a887ee4e3",
              "version_major": 2,
              "version_minor": 0
            },
            "text/plain": [
              "  0%|          | 0/30 [00:00<?, ?it/s]"
            ]
          },
          "metadata": {},
          "output_type": "display_data"
        },
        {
          "data": {
            "application/vnd.jupyter.widget-view+json": {
              "model_id": "09b9134582cb42f8bd50e425f9ae238d",
              "version_major": 2,
              "version_minor": 0
            },
            "text/plain": [
              "  0%|          | 0/30 [00:00<?, ?it/s]"
            ]
          },
          "metadata": {},
          "output_type": "display_data"
        },
        {
          "data": {
            "application/vnd.jupyter.widget-view+json": {
              "model_id": "739b2a167c60403ea4e57714b661c7be",
              "version_major": 2,
              "version_minor": 0
            },
            "text/plain": [
              "  0%|          | 0/30 [00:00<?, ?it/s]"
            ]
          },
          "metadata": {},
          "output_type": "display_data"
        },
        {
          "data": {
            "application/vnd.jupyter.widget-view+json": {
              "model_id": "92ef20d80a9346ce9824c99c4f076406",
              "version_major": 2,
              "version_minor": 0
            },
            "text/plain": [
              "  0%|          | 0/30 [00:00<?, ?it/s]"
            ]
          },
          "metadata": {},
          "output_type": "display_data"
        },
        {
          "data": {
            "application/vnd.jupyter.widget-view+json": {
              "model_id": "dc37aaabea2e46fdb366b3765b12c229",
              "version_major": 2,
              "version_minor": 0
            },
            "text/plain": [
              "  0%|          | 0/30 [00:00<?, ?it/s]"
            ]
          },
          "metadata": {},
          "output_type": "display_data"
        },
        {
          "data": {
            "application/vnd.jupyter.widget-view+json": {
              "model_id": "b81584817b664989977795d4f85a70d3",
              "version_major": 2,
              "version_minor": 0
            },
            "text/plain": [
              "  0%|          | 0/30 [00:00<?, ?it/s]"
            ]
          },
          "metadata": {},
          "output_type": "display_data"
        },
        {
          "data": {
            "application/vnd.jupyter.widget-view+json": {
              "model_id": "f93c59b7fbc84f33b73ffab4ba87bde5",
              "version_major": 2,
              "version_minor": 0
            },
            "text/plain": [
              "  0%|          | 0/30 [00:00<?, ?it/s]"
            ]
          },
          "metadata": {},
          "output_type": "display_data"
        },
        {
          "data": {
            "application/vnd.jupyter.widget-view+json": {
              "model_id": "dea57aca534441278a4290a40a820275",
              "version_major": 2,
              "version_minor": 0
            },
            "text/plain": [
              "  0%|          | 0/30 [00:00<?, ?it/s]"
            ]
          },
          "metadata": {},
          "output_type": "display_data"
        },
        {
          "data": {
            "application/vnd.jupyter.widget-view+json": {
              "model_id": "9a57e7c48b1b48ec9e86113c34142138",
              "version_major": 2,
              "version_minor": 0
            },
            "text/plain": [
              "  0%|          | 0/30 [00:00<?, ?it/s]"
            ]
          },
          "metadata": {},
          "output_type": "display_data"
        },
        {
          "data": {
            "application/vnd.jupyter.widget-view+json": {
              "model_id": "52b38c3cfb6e4aaa876327d7773a4dcd",
              "version_major": 2,
              "version_minor": 0
            },
            "text/plain": [
              "  0%|          | 0/30 [00:00<?, ?it/s]"
            ]
          },
          "metadata": {},
          "output_type": "display_data"
        },
        {
          "data": {
            "application/vnd.jupyter.widget-view+json": {
              "model_id": "5ad3410d7dc94d9396393daba35f231d",
              "version_major": 2,
              "version_minor": 0
            },
            "text/plain": [
              "  0%|          | 0/30 [00:00<?, ?it/s]"
            ]
          },
          "metadata": {},
          "output_type": "display_data"
        },
        {
          "data": {
            "application/vnd.jupyter.widget-view+json": {
              "model_id": "31c0bb1b37b14a8fa025487aa4c9be78",
              "version_major": 2,
              "version_minor": 0
            },
            "text/plain": [
              "  0%|          | 0/30 [00:00<?, ?it/s]"
            ]
          },
          "metadata": {},
          "output_type": "display_data"
        },
        {
          "data": {
            "application/vnd.jupyter.widget-view+json": {
              "model_id": "13567d06c2954d1f8a38bdef2692ca5c",
              "version_major": 2,
              "version_minor": 0
            },
            "text/plain": [
              "  0%|          | 0/30 [00:00<?, ?it/s]"
            ]
          },
          "metadata": {},
          "output_type": "display_data"
        },
        {
          "data": {
            "application/vnd.jupyter.widget-view+json": {
              "model_id": "e54740c5e1a74f86a32669f26ce69f30",
              "version_major": 2,
              "version_minor": 0
            },
            "text/plain": [
              "  0%|          | 0/30 [00:00<?, ?it/s]"
            ]
          },
          "metadata": {},
          "output_type": "display_data"
        },
        {
          "data": {
            "application/vnd.jupyter.widget-view+json": {
              "model_id": "8f55e454f363400d9ee06333da973780",
              "version_major": 2,
              "version_minor": 0
            },
            "text/plain": [
              "  0%|          | 0/30 [00:00<?, ?it/s]"
            ]
          },
          "metadata": {},
          "output_type": "display_data"
        },
        {
          "data": {
            "application/vnd.jupyter.widget-view+json": {
              "model_id": "a635931cbab24fac8fc886cdcc9cfdc9",
              "version_major": 2,
              "version_minor": 0
            },
            "text/plain": [
              "  0%|          | 0/30 [00:00<?, ?it/s]"
            ]
          },
          "metadata": {},
          "output_type": "display_data"
        },
        {
          "data": {
            "application/vnd.jupyter.widget-view+json": {
              "model_id": "1682ff21b28547d4986588990017476c",
              "version_major": 2,
              "version_minor": 0
            },
            "text/plain": [
              "  0%|          | 0/30 [00:00<?, ?it/s]"
            ]
          },
          "metadata": {},
          "output_type": "display_data"
        },
        {
          "data": {
            "application/vnd.jupyter.widget-view+json": {
              "model_id": "f58348b7ff9b4c50a6a5e4ca9bed21c0",
              "version_major": 2,
              "version_minor": 0
            },
            "text/plain": [
              "  0%|          | 0/30 [00:00<?, ?it/s]"
            ]
          },
          "metadata": {},
          "output_type": "display_data"
        },
        {
          "data": {
            "application/vnd.jupyter.widget-view+json": {
              "model_id": "08cbdd3b521444a88a361f962946ee33",
              "version_major": 2,
              "version_minor": 0
            },
            "text/plain": [
              "  0%|          | 0/30 [00:00<?, ?it/s]"
            ]
          },
          "metadata": {},
          "output_type": "display_data"
        },
        {
          "data": {
            "application/vnd.jupyter.widget-view+json": {
              "model_id": "8a9930aa52b1448e80ba7438eb440a8c",
              "version_major": 2,
              "version_minor": 0
            },
            "text/plain": [
              "  0%|          | 0/30 [00:00<?, ?it/s]"
            ]
          },
          "metadata": {},
          "output_type": "display_data"
        },
        {
          "data": {
            "application/vnd.jupyter.widget-view+json": {
              "model_id": "291ab3c9a206433cb91d4a494a19df1f",
              "version_major": 2,
              "version_minor": 0
            },
            "text/plain": [
              "  0%|          | 0/30 [00:00<?, ?it/s]"
            ]
          },
          "metadata": {},
          "output_type": "display_data"
        },
        {
          "data": {
            "application/vnd.jupyter.widget-view+json": {
              "model_id": "673f103b1c484e808a01509f85816e11",
              "version_major": 2,
              "version_minor": 0
            },
            "text/plain": [
              "  0%|          | 0/30 [00:00<?, ?it/s]"
            ]
          },
          "metadata": {},
          "output_type": "display_data"
        },
        {
          "data": {
            "application/vnd.jupyter.widget-view+json": {
              "model_id": "3c2938bebab54dd29ac62c4a8f9b0f06",
              "version_major": 2,
              "version_minor": 0
            },
            "text/plain": [
              "  0%|          | 0/30 [00:00<?, ?it/s]"
            ]
          },
          "metadata": {},
          "output_type": "display_data"
        },
        {
          "data": {
            "application/vnd.jupyter.widget-view+json": {
              "model_id": "825c2e7258464a3394a0d4c87e0232b4",
              "version_major": 2,
              "version_minor": 0
            },
            "text/plain": [
              "  0%|          | 0/30 [00:00<?, ?it/s]"
            ]
          },
          "metadata": {},
          "output_type": "display_data"
        }
      ],
      "source": [
        "print(prompts)\n",
        "\n",
        "# Because of the variance that comes with generations, we gotta run many iterations for each feature for EACH coefficient value.\n",
        "n_samples = 16\n",
        "# layer 2 - anger: 11085, 19854, 21027, 14918, 252, 21165, 4707, 1550, 5526, 18357\n",
        "# layer 2 - love: 3203\n",
        "# layer 2 - sadness: 11683, 14915, 17722, 11568, 4350, 2442, 10636\n",
        "feature_id = 22134\n",
        "steering_vector = sae.W_dec[feature_id]\n",
        "steer_type = 'steer'\n",
        "coeff = 15\n",
        "sampling_kwargs = dict(temperature=0.5, top_p=0.1, freq_penalty=1.0)\n",
        "\n",
        "steering_on = True\n",
        "steered_generation = run_generate(prompts, n_samples, steering_type=steer_type)\n",
        "\n",
        "steering_on = False\n",
        "default_generation = run_generate(prompts, n_samples, steering_type=steer_type)"
      ]
    },
    {
      "cell_type": "code",
      "execution_count": 84,
      "metadata": {},
      "outputs": [],
      "source": [
        "steered_example = steered_generation.iloc[0]['responses']\n",
        "default_example = default_generation.iloc[0]['responses']\n"
      ]
    },
    {
      "cell_type": "code",
      "execution_count": null,
      "metadata": {},
      "outputs": [],
      "source": [
        "\n",
        "steered_judgments = bert_judge(steered_example, top_k=None)\n",
        "default_judgments = bert_judge(default_example, top_k=None)"
      ]
    },
    {
      "cell_type": "code",
      "execution_count": 98,
      "metadata": {},
      "outputs": [
        {
          "name": "stdout",
          "output_type": "stream",
          "text": [
            "[[{'label': 'LABEL_1', 'score': 0.9571658372879028}, {'label': 'LABEL_2', 'score': 0.020777974277734756}, {'label': 'LABEL_0', 'score': 0.010290060192346573}, {'label': 'LABEL_5', 'score': 0.0057431370951235294}, {'label': 'LABEL_3', 'score': 0.003165498608723283}, {'label': 'LABEL_4', 'score': 0.002857564715668559}], [{'label': 'LABEL_1', 'score': 0.9571658372879028}, {'label': 'LABEL_2', 'score': 0.020777974277734756}, {'label': 'LABEL_0', 'score': 0.010290060192346573}, {'label': 'LABEL_5', 'score': 0.0057431370951235294}, {'label': 'LABEL_3', 'score': 0.003165498608723283}, {'label': 'LABEL_4', 'score': 0.002857564715668559}], [{'label': 'LABEL_1', 'score': 0.9571658372879028}, {'label': 'LABEL_2', 'score': 0.020777974277734756}, {'label': 'LABEL_0', 'score': 0.010290060192346573}, {'label': 'LABEL_5', 'score': 0.0057431370951235294}, {'label': 'LABEL_3', 'score': 0.003165498608723283}, {'label': 'LABEL_4', 'score': 0.002857564715668559}], [{'label': 'LABEL_1', 'score': 0.9571658372879028}, {'label': 'LABEL_2', 'score': 0.020777974277734756}, {'label': 'LABEL_0', 'score': 0.010290060192346573}, {'label': 'LABEL_5', 'score': 0.0057431370951235294}, {'label': 'LABEL_3', 'score': 0.003165498608723283}, {'label': 'LABEL_4', 'score': 0.002857564715668559}], [{'label': 'LABEL_1', 'score': 0.9571658372879028}, {'label': 'LABEL_2', 'score': 0.020777974277734756}, {'label': 'LABEL_0', 'score': 0.010290060192346573}, {'label': 'LABEL_5', 'score': 0.0057431370951235294}, {'label': 'LABEL_3', 'score': 0.003165498608723283}, {'label': 'LABEL_4', 'score': 0.002857564715668559}], [{'label': 'LABEL_1', 'score': 0.9571658372879028}, {'label': 'LABEL_2', 'score': 0.020777974277734756}, {'label': 'LABEL_0', 'score': 0.010290060192346573}, {'label': 'LABEL_5', 'score': 0.0057431370951235294}, {'label': 'LABEL_3', 'score': 0.003165498608723283}, {'label': 'LABEL_4', 'score': 0.002857564715668559}], [{'label': 'LABEL_1', 'score': 0.9571658372879028}, {'label': 'LABEL_2', 'score': 0.020777974277734756}, {'label': 'LABEL_0', 'score': 0.010290060192346573}, {'label': 'LABEL_5', 'score': 0.0057431370951235294}, {'label': 'LABEL_3', 'score': 0.003165498608723283}, {'label': 'LABEL_4', 'score': 0.002857564715668559}], [{'label': 'LABEL_1', 'score': 0.9571658372879028}, {'label': 'LABEL_2', 'score': 0.020777974277734756}, {'label': 'LABEL_0', 'score': 0.010290060192346573}, {'label': 'LABEL_5', 'score': 0.0057431370951235294}, {'label': 'LABEL_3', 'score': 0.003165498608723283}, {'label': 'LABEL_4', 'score': 0.002857564715668559}], [{'label': 'LABEL_1', 'score': 0.9571658372879028}, {'label': 'LABEL_2', 'score': 0.020777974277734756}, {'label': 'LABEL_0', 'score': 0.010290060192346573}, {'label': 'LABEL_5', 'score': 0.0057431370951235294}, {'label': 'LABEL_3', 'score': 0.003165498608723283}, {'label': 'LABEL_4', 'score': 0.002857564715668559}], [{'label': 'LABEL_1', 'score': 0.9571658372879028}, {'label': 'LABEL_2', 'score': 0.020777974277734756}, {'label': 'LABEL_0', 'score': 0.010290060192346573}, {'label': 'LABEL_5', 'score': 0.0057431370951235294}, {'label': 'LABEL_3', 'score': 0.003165498608723283}, {'label': 'LABEL_4', 'score': 0.002857564715668559}], [{'label': 'LABEL_1', 'score': 0.9571658372879028}, {'label': 'LABEL_2', 'score': 0.020777974277734756}, {'label': 'LABEL_0', 'score': 0.010290060192346573}, {'label': 'LABEL_5', 'score': 0.0057431370951235294}, {'label': 'LABEL_3', 'score': 0.003165498608723283}, {'label': 'LABEL_4', 'score': 0.002857564715668559}], [{'label': 'LABEL_1', 'score': 0.9571658372879028}, {'label': 'LABEL_2', 'score': 0.020777974277734756}, {'label': 'LABEL_0', 'score': 0.010290060192346573}, {'label': 'LABEL_5', 'score': 0.0057431370951235294}, {'label': 'LABEL_3', 'score': 0.003165498608723283}, {'label': 'LABEL_4', 'score': 0.002857564715668559}], [{'label': 'LABEL_1', 'score': 0.9571658372879028}, {'label': 'LABEL_2', 'score': 0.020777974277734756}, {'label': 'LABEL_0', 'score': 0.010290060192346573}, {'label': 'LABEL_5', 'score': 0.0057431370951235294}, {'label': 'LABEL_3', 'score': 0.003165498608723283}, {'label': 'LABEL_4', 'score': 0.002857564715668559}], [{'label': 'LABEL_1', 'score': 0.9571658372879028}, {'label': 'LABEL_2', 'score': 0.020777974277734756}, {'label': 'LABEL_0', 'score': 0.010290060192346573}, {'label': 'LABEL_5', 'score': 0.0057431370951235294}, {'label': 'LABEL_3', 'score': 0.003165498608723283}, {'label': 'LABEL_4', 'score': 0.002857564715668559}], [{'label': 'LABEL_1', 'score': 0.9571658372879028}, {'label': 'LABEL_2', 'score': 0.020777974277734756}, {'label': 'LABEL_0', 'score': 0.010290060192346573}, {'label': 'LABEL_5', 'score': 0.0057431370951235294}, {'label': 'LABEL_3', 'score': 0.003165498608723283}, {'label': 'LABEL_4', 'score': 0.002857564715668559}], [{'label': 'LABEL_1', 'score': 0.9571658372879028}, {'label': 'LABEL_2', 'score': 0.020777974277734756}, {'label': 'LABEL_0', 'score': 0.010290060192346573}, {'label': 'LABEL_5', 'score': 0.0057431370951235294}, {'label': 'LABEL_3', 'score': 0.003165498608723283}, {'label': 'LABEL_4', 'score': 0.002857564715668559}], [{'label': 'LABEL_1', 'score': 0.9571658372879028}, {'label': 'LABEL_2', 'score': 0.020777974277734756}, {'label': 'LABEL_0', 'score': 0.010290060192346573}, {'label': 'LABEL_5', 'score': 0.0057431370951235294}, {'label': 'LABEL_3', 'score': 0.003165498608723283}, {'label': 'LABEL_4', 'score': 0.002857564715668559}], [{'label': 'LABEL_1', 'score': 0.9571658372879028}, {'label': 'LABEL_2', 'score': 0.020777974277734756}, {'label': 'LABEL_0', 'score': 0.010290060192346573}, {'label': 'LABEL_5', 'score': 0.0057431370951235294}, {'label': 'LABEL_3', 'score': 0.003165498608723283}, {'label': 'LABEL_4', 'score': 0.002857564715668559}], [{'label': 'LABEL_1', 'score': 0.9571658372879028}, {'label': 'LABEL_2', 'score': 0.020777974277734756}, {'label': 'LABEL_0', 'score': 0.010290060192346573}, {'label': 'LABEL_5', 'score': 0.0057431370951235294}, {'label': 'LABEL_3', 'score': 0.003165498608723283}, {'label': 'LABEL_4', 'score': 0.002857564715668559}], [{'label': 'LABEL_1', 'score': 0.9571658372879028}, {'label': 'LABEL_2', 'score': 0.020777974277734756}, {'label': 'LABEL_0', 'score': 0.010290060192346573}, {'label': 'LABEL_5', 'score': 0.0057431370951235294}, {'label': 'LABEL_3', 'score': 0.003165498608723283}, {'label': 'LABEL_4', 'score': 0.002857564715668559}], [{'label': 'LABEL_1', 'score': 0.9571658372879028}, {'label': 'LABEL_2', 'score': 0.020777974277734756}, {'label': 'LABEL_0', 'score': 0.010290060192346573}, {'label': 'LABEL_5', 'score': 0.0057431370951235294}, {'label': 'LABEL_3', 'score': 0.003165498608723283}, {'label': 'LABEL_4', 'score': 0.002857564715668559}], [{'label': 'LABEL_1', 'score': 0.9571658372879028}, {'label': 'LABEL_2', 'score': 0.020777974277734756}, {'label': 'LABEL_0', 'score': 0.010290060192346573}, {'label': 'LABEL_5', 'score': 0.0057431370951235294}, {'label': 'LABEL_3', 'score': 0.003165498608723283}, {'label': 'LABEL_4', 'score': 0.002857564715668559}], [{'label': 'LABEL_1', 'score': 0.9571658372879028}, {'label': 'LABEL_2', 'score': 0.020777974277734756}, {'label': 'LABEL_0', 'score': 0.010290060192346573}, {'label': 'LABEL_5', 'score': 0.0057431370951235294}, {'label': 'LABEL_3', 'score': 0.003165498608723283}, {'label': 'LABEL_4', 'score': 0.002857564715668559}], [{'label': 'LABEL_1', 'score': 0.9571658372879028}, {'label': 'LABEL_2', 'score': 0.020777974277734756}, {'label': 'LABEL_0', 'score': 0.010290060192346573}, {'label': 'LABEL_5', 'score': 0.0057431370951235294}, {'label': 'LABEL_3', 'score': 0.003165498608723283}, {'label': 'LABEL_4', 'score': 0.002857564715668559}], [{'label': 'LABEL_1', 'score': 0.9571658372879028}, {'label': 'LABEL_2', 'score': 0.020777974277734756}, {'label': 'LABEL_0', 'score': 0.010290060192346573}, {'label': 'LABEL_5', 'score': 0.0057431370951235294}, {'label': 'LABEL_3', 'score': 0.003165498608723283}, {'label': 'LABEL_4', 'score': 0.002857564715668559}], [{'label': 'LABEL_1', 'score': 0.9571658372879028}, {'label': 'LABEL_2', 'score': 0.020777974277734756}, {'label': 'LABEL_0', 'score': 0.010290060192346573}, {'label': 'LABEL_5', 'score': 0.0057431370951235294}, {'label': 'LABEL_3', 'score': 0.003165498608723283}, {'label': 'LABEL_4', 'score': 0.002857564715668559}], [{'label': 'LABEL_1', 'score': 0.9571658372879028}, {'label': 'LABEL_2', 'score': 0.020777974277734756}, {'label': 'LABEL_0', 'score': 0.010290060192346573}, {'label': 'LABEL_5', 'score': 0.0057431370951235294}, {'label': 'LABEL_3', 'score': 0.003165498608723283}, {'label': 'LABEL_4', 'score': 0.002857564715668559}], [{'label': 'LABEL_1', 'score': 0.9571658372879028}, {'label': 'LABEL_2', 'score': 0.020777974277734756}, {'label': 'LABEL_0', 'score': 0.010290060192346573}, {'label': 'LABEL_5', 'score': 0.0057431370951235294}, {'label': 'LABEL_3', 'score': 0.003165498608723283}, {'label': 'LABEL_4', 'score': 0.002857564715668559}], [{'label': 'LABEL_1', 'score': 0.9571658372879028}, {'label': 'LABEL_2', 'score': 0.020777974277734756}, {'label': 'LABEL_0', 'score': 0.010290060192346573}, {'label': 'LABEL_5', 'score': 0.0057431370951235294}, {'label': 'LABEL_3', 'score': 0.003165498608723283}, {'label': 'LABEL_4', 'score': 0.002857564715668559}], [{'label': 'LABEL_1', 'score': 0.9571658372879028}, {'label': 'LABEL_2', 'score': 0.020777974277734756}, {'label': 'LABEL_0', 'score': 0.010290060192346573}, {'label': 'LABEL_5', 'score': 0.0057431370951235294}, {'label': 'LABEL_3', 'score': 0.003165498608723283}, {'label': 'LABEL_4', 'score': 0.002857564715668559}], [{'label': 'LABEL_1', 'score': 0.9571658372879028}, {'label': 'LABEL_2', 'score': 0.020777974277734756}, {'label': 'LABEL_0', 'score': 0.010290060192346573}, {'label': 'LABEL_5', 'score': 0.0057431370951235294}, {'label': 'LABEL_3', 'score': 0.003165498608723283}, {'label': 'LABEL_4', 'score': 0.002857564715668559}], [{'label': 'LABEL_1', 'score': 0.9571658372879028}, {'label': 'LABEL_2', 'score': 0.020777974277734756}, {'label': 'LABEL_0', 'score': 0.010290060192346573}, {'label': 'LABEL_5', 'score': 0.0057431370951235294}, {'label': 'LABEL_3', 'score': 0.003165498608723283}, {'label': 'LABEL_4', 'score': 0.002857564715668559}], [{'label': 'LABEL_1', 'score': 0.9571658372879028}, {'label': 'LABEL_2', 'score': 0.020777974277734756}, {'label': 'LABEL_0', 'score': 0.010290060192346573}, {'label': 'LABEL_5', 'score': 0.0057431370951235294}, {'label': 'LABEL_3', 'score': 0.003165498608723283}, {'label': 'LABEL_4', 'score': 0.002857564715668559}], [{'label': 'LABEL_1', 'score': 0.9571658372879028}, {'label': 'LABEL_2', 'score': 0.020777974277734756}, {'label': 'LABEL_0', 'score': 0.010290060192346573}, {'label': 'LABEL_5', 'score': 0.0057431370951235294}, {'label': 'LABEL_3', 'score': 0.003165498608723283}, {'label': 'LABEL_4', 'score': 0.002857564715668559}], [{'label': 'LABEL_1', 'score': 0.9571658372879028}, {'label': 'LABEL_2', 'score': 0.020777974277734756}, {'label': 'LABEL_0', 'score': 0.010290060192346573}, {'label': 'LABEL_5', 'score': 0.0057431370951235294}, {'label': 'LABEL_3', 'score': 0.003165498608723283}, {'label': 'LABEL_4', 'score': 0.002857564715668559}], [{'label': 'LABEL_1', 'score': 0.9571658372879028}, {'label': 'LABEL_2', 'score': 0.020777974277734756}, {'label': 'LABEL_0', 'score': 0.010290060192346573}, {'label': 'LABEL_5', 'score': 0.0057431370951235294}, {'label': 'LABEL_3', 'score': 0.003165498608723283}, {'label': 'LABEL_4', 'score': 0.002857564715668559}], [{'label': 'LABEL_1', 'score': 0.9571658372879028}, {'label': 'LABEL_2', 'score': 0.020777974277734756}, {'label': 'LABEL_0', 'score': 0.010290060192346573}, {'label': 'LABEL_5', 'score': 0.0057431370951235294}, {'label': 'LABEL_3', 'score': 0.003165498608723283}, {'label': 'LABEL_4', 'score': 0.002857564715668559}], [{'label': 'LABEL_1', 'score': 0.9571658372879028}, {'label': 'LABEL_2', 'score': 0.020777974277734756}, {'label': 'LABEL_0', 'score': 0.010290060192346573}, {'label': 'LABEL_5', 'score': 0.0057431370951235294}, {'label': 'LABEL_3', 'score': 0.003165498608723283}, {'label': 'LABEL_4', 'score': 0.002857564715668559}], [{'label': 'LABEL_1', 'score': 0.9571658372879028}, {'label': 'LABEL_2', 'score': 0.020777974277734756}, {'label': 'LABEL_0', 'score': 0.010290060192346573}, {'label': 'LABEL_5', 'score': 0.0057431370951235294}, {'label': 'LABEL_3', 'score': 0.003165498608723283}, {'label': 'LABEL_4', 'score': 0.002857564715668559}], [{'label': 'LABEL_1', 'score': 0.9571658372879028}, {'label': 'LABEL_2', 'score': 0.020777974277734756}, {'label': 'LABEL_0', 'score': 0.010290060192346573}, {'label': 'LABEL_5', 'score': 0.0057431370951235294}, {'label': 'LABEL_3', 'score': 0.003165498608723283}, {'label': 'LABEL_4', 'score': 0.002857564715668559}], [{'label': 'LABEL_1', 'score': 0.9571658372879028}, {'label': 'LABEL_2', 'score': 0.020777974277734756}, {'label': 'LABEL_0', 'score': 0.010290060192346573}, {'label': 'LABEL_5', 'score': 0.0057431370951235294}, {'label': 'LABEL_3', 'score': 0.003165498608723283}, {'label': 'LABEL_4', 'score': 0.002857564715668559}], [{'label': 'LABEL_1', 'score': 0.9571658372879028}, {'label': 'LABEL_2', 'score': 0.020777974277734756}, {'label': 'LABEL_0', 'score': 0.010290060192346573}, {'label': 'LABEL_5', 'score': 0.0057431370951235294}, {'label': 'LABEL_3', 'score': 0.003165498608723283}, {'label': 'LABEL_4', 'score': 0.002857564715668559}], [{'label': 'LABEL_1', 'score': 0.9571658372879028}, {'label': 'LABEL_2', 'score': 0.020777974277734756}, {'label': 'LABEL_0', 'score': 0.010290060192346573}, {'label': 'LABEL_5', 'score': 0.0057431370951235294}, {'label': 'LABEL_3', 'score': 0.003165498608723283}, {'label': 'LABEL_4', 'score': 0.002857564715668559}], [{'label': 'LABEL_1', 'score': 0.9571658372879028}, {'label': 'LABEL_2', 'score': 0.020777974277734756}, {'label': 'LABEL_0', 'score': 0.010290060192346573}, {'label': 'LABEL_5', 'score': 0.0057431370951235294}, {'label': 'LABEL_3', 'score': 0.003165498608723283}, {'label': 'LABEL_4', 'score': 0.002857564715668559}], [{'label': 'LABEL_1', 'score': 0.9571658372879028}, {'label': 'LABEL_2', 'score': 0.020777974277734756}, {'label': 'LABEL_0', 'score': 0.010290060192346573}, {'label': 'LABEL_5', 'score': 0.0057431370951235294}, {'label': 'LABEL_3', 'score': 0.003165498608723283}, {'label': 'LABEL_4', 'score': 0.002857564715668559}], [{'label': 'LABEL_1', 'score': 0.9571658372879028}, {'label': 'LABEL_2', 'score': 0.020777974277734756}, {'label': 'LABEL_0', 'score': 0.010290060192346573}, {'label': 'LABEL_5', 'score': 0.0057431370951235294}, {'label': 'LABEL_3', 'score': 0.003165498608723283}, {'label': 'LABEL_4', 'score': 0.002857564715668559}], [{'label': 'LABEL_1', 'score': 0.9571658372879028}, {'label': 'LABEL_2', 'score': 0.020777974277734756}, {'label': 'LABEL_0', 'score': 0.010290060192346573}, {'label': 'LABEL_5', 'score': 0.0057431370951235294}, {'label': 'LABEL_3', 'score': 0.003165498608723283}, {'label': 'LABEL_4', 'score': 0.002857564715668559}], [{'label': 'LABEL_1', 'score': 0.9571658372879028}, {'label': 'LABEL_2', 'score': 0.020777974277734756}, {'label': 'LABEL_0', 'score': 0.010290060192346573}, {'label': 'LABEL_5', 'score': 0.0057431370951235294}, {'label': 'LABEL_3', 'score': 0.003165498608723283}, {'label': 'LABEL_4', 'score': 0.002857564715668559}], [{'label': 'LABEL_1', 'score': 0.9571658372879028}, {'label': 'LABEL_2', 'score': 0.020777974277734756}, {'label': 'LABEL_0', 'score': 0.010290060192346573}, {'label': 'LABEL_5', 'score': 0.0057431370951235294}, {'label': 'LABEL_3', 'score': 0.003165498608723283}, {'label': 'LABEL_4', 'score': 0.002857564715668559}], [{'label': 'LABEL_1', 'score': 0.9571658372879028}, {'label': 'LABEL_2', 'score': 0.020777974277734756}, {'label': 'LABEL_0', 'score': 0.010290060192346573}, {'label': 'LABEL_5', 'score': 0.0057431370951235294}, {'label': 'LABEL_3', 'score': 0.003165498608723283}, {'label': 'LABEL_4', 'score': 0.002857564715668559}], [{'label': 'LABEL_1', 'score': 0.9571658372879028}, {'label': 'LABEL_2', 'score': 0.020777974277734756}, {'label': 'LABEL_0', 'score': 0.010290060192346573}, {'label': 'LABEL_5', 'score': 0.0057431370951235294}, {'label': 'LABEL_3', 'score': 0.003165498608723283}, {'label': 'LABEL_4', 'score': 0.002857564715668559}], [{'label': 'LABEL_1', 'score': 0.9571658372879028}, {'label': 'LABEL_2', 'score': 0.020777974277734756}, {'label': 'LABEL_0', 'score': 0.010290060192346573}, {'label': 'LABEL_5', 'score': 0.0057431370951235294}, {'label': 'LABEL_3', 'score': 0.003165498608723283}, {'label': 'LABEL_4', 'score': 0.002857564715668559}], [{'label': 'LABEL_1', 'score': 0.9571658372879028}, {'label': 'LABEL_2', 'score': 0.020777974277734756}, {'label': 'LABEL_0', 'score': 0.010290060192346573}, {'label': 'LABEL_5', 'score': 0.0057431370951235294}, {'label': 'LABEL_3', 'score': 0.003165498608723283}, {'label': 'LABEL_4', 'score': 0.002857564715668559}], [{'label': 'LABEL_1', 'score': 0.9571658372879028}, {'label': 'LABEL_2', 'score': 0.020777974277734756}, {'label': 'LABEL_0', 'score': 0.010290060192346573}, {'label': 'LABEL_5', 'score': 0.0057431370951235294}, {'label': 'LABEL_3', 'score': 0.003165498608723283}, {'label': 'LABEL_4', 'score': 0.002857564715668559}], [{'label': 'LABEL_1', 'score': 0.9571658372879028}, {'label': 'LABEL_2', 'score': 0.020777974277734756}, {'label': 'LABEL_0', 'score': 0.010290060192346573}, {'label': 'LABEL_5', 'score': 0.0057431370951235294}, {'label': 'LABEL_3', 'score': 0.003165498608723283}, {'label': 'LABEL_4', 'score': 0.002857564715668559}], [{'label': 'LABEL_1', 'score': 0.9571658372879028}, {'label': 'LABEL_2', 'score': 0.020777974277734756}, {'label': 'LABEL_0', 'score': 0.010290060192346573}, {'label': 'LABEL_5', 'score': 0.0057431370951235294}, {'label': 'LABEL_3', 'score': 0.003165498608723283}, {'label': 'LABEL_4', 'score': 0.002857564715668559}], [{'label': 'LABEL_1', 'score': 0.9571658372879028}, {'label': 'LABEL_2', 'score': 0.020777974277734756}, {'label': 'LABEL_0', 'score': 0.010290060192346573}, {'label': 'LABEL_5', 'score': 0.0057431370951235294}, {'label': 'LABEL_3', 'score': 0.003165498608723283}, {'label': 'LABEL_4', 'score': 0.002857564715668559}], [{'label': 'LABEL_1', 'score': 0.9571658372879028}, {'label': 'LABEL_2', 'score': 0.020777974277734756}, {'label': 'LABEL_0', 'score': 0.010290060192346573}, {'label': 'LABEL_5', 'score': 0.0057431370951235294}, {'label': 'LABEL_3', 'score': 0.003165498608723283}, {'label': 'LABEL_4', 'score': 0.002857564715668559}], [{'label': 'LABEL_1', 'score': 0.9571658372879028}, {'label': 'LABEL_2', 'score': 0.020777974277734756}, {'label': 'LABEL_0', 'score': 0.010290060192346573}, {'label': 'LABEL_5', 'score': 0.0057431370951235294}, {'label': 'LABEL_3', 'score': 0.003165498608723283}, {'label': 'LABEL_4', 'score': 0.002857564715668559}], [{'label': 'LABEL_1', 'score': 0.9571658372879028}, {'label': 'LABEL_2', 'score': 0.020777974277734756}, {'label': 'LABEL_0', 'score': 0.010290060192346573}, {'label': 'LABEL_5', 'score': 0.0057431370951235294}, {'label': 'LABEL_3', 'score': 0.003165498608723283}, {'label': 'LABEL_4', 'score': 0.002857564715668559}], [{'label': 'LABEL_1', 'score': 0.9571658372879028}, {'label': 'LABEL_2', 'score': 0.020777974277734756}, {'label': 'LABEL_0', 'score': 0.010290060192346573}, {'label': 'LABEL_5', 'score': 0.0057431370951235294}, {'label': 'LABEL_3', 'score': 0.003165498608723283}, {'label': 'LABEL_4', 'score': 0.002857564715668559}], [{'label': 'LABEL_1', 'score': 0.9571658372879028}, {'label': 'LABEL_2', 'score': 0.020777974277734756}, {'label': 'LABEL_0', 'score': 0.010290060192346573}, {'label': 'LABEL_5', 'score': 0.0057431370951235294}, {'label': 'LABEL_3', 'score': 0.003165498608723283}, {'label': 'LABEL_4', 'score': 0.002857564715668559}], [{'label': 'LABEL_1', 'score': 0.9571658372879028}, {'label': 'LABEL_2', 'score': 0.020777974277734756}, {'label': 'LABEL_0', 'score': 0.010290060192346573}, {'label': 'LABEL_5', 'score': 0.0057431370951235294}, {'label': 'LABEL_3', 'score': 0.003165498608723283}, {'label': 'LABEL_4', 'score': 0.002857564715668559}], [{'label': 'LABEL_1', 'score': 0.9571658372879028}, {'label': 'LABEL_2', 'score': 0.020777974277734756}, {'label': 'LABEL_0', 'score': 0.010290060192346573}, {'label': 'LABEL_5', 'score': 0.0057431370951235294}, {'label': 'LABEL_3', 'score': 0.003165498608723283}, {'label': 'LABEL_4', 'score': 0.002857564715668559}], [{'label': 'LABEL_1', 'score': 0.9571658372879028}, {'label': 'LABEL_2', 'score': 0.020777974277734756}, {'label': 'LABEL_0', 'score': 0.010290060192346573}, {'label': 'LABEL_5', 'score': 0.0057431370951235294}, {'label': 'LABEL_3', 'score': 0.003165498608723283}, {'label': 'LABEL_4', 'score': 0.002857564715668559}], [{'label': 'LABEL_1', 'score': 0.9571658372879028}, {'label': 'LABEL_2', 'score': 0.020777974277734756}, {'label': 'LABEL_0', 'score': 0.010290060192346573}, {'label': 'LABEL_5', 'score': 0.0057431370951235294}, {'label': 'LABEL_3', 'score': 0.003165498608723283}, {'label': 'LABEL_4', 'score': 0.002857564715668559}], [{'label': 'LABEL_1', 'score': 0.9571658372879028}, {'label': 'LABEL_2', 'score': 0.020777974277734756}, {'label': 'LABEL_0', 'score': 0.010290060192346573}, {'label': 'LABEL_5', 'score': 0.0057431370951235294}, {'label': 'LABEL_3', 'score': 0.003165498608723283}, {'label': 'LABEL_4', 'score': 0.002857564715668559}], [{'label': 'LABEL_1', 'score': 0.9571658372879028}, {'label': 'LABEL_2', 'score': 0.020777974277734756}, {'label': 'LABEL_0', 'score': 0.010290060192346573}, {'label': 'LABEL_5', 'score': 0.0057431370951235294}, {'label': 'LABEL_3', 'score': 0.003165498608723283}, {'label': 'LABEL_4', 'score': 0.002857564715668559}], [{'label': 'LABEL_1', 'score': 0.9571658372879028}, {'label': 'LABEL_2', 'score': 0.020777974277734756}, {'label': 'LABEL_0', 'score': 0.010290060192346573}, {'label': 'LABEL_5', 'score': 0.0057431370951235294}, {'label': 'LABEL_3', 'score': 0.003165498608723283}, {'label': 'LABEL_4', 'score': 0.002857564715668559}], [{'label': 'LABEL_1', 'score': 0.9571658372879028}, {'label': 'LABEL_2', 'score': 0.020777974277734756}, {'label': 'LABEL_0', 'score': 0.010290060192346573}, {'label': 'LABEL_5', 'score': 0.0057431370951235294}, {'label': 'LABEL_3', 'score': 0.003165498608723283}, {'label': 'LABEL_4', 'score': 0.002857564715668559}], [{'label': 'LABEL_1', 'score': 0.9571658372879028}, {'label': 'LABEL_2', 'score': 0.020777974277734756}, {'label': 'LABEL_0', 'score': 0.010290060192346573}, {'label': 'LABEL_5', 'score': 0.0057431370951235294}, {'label': 'LABEL_3', 'score': 0.003165498608723283}, {'label': 'LABEL_4', 'score': 0.002857564715668559}], [{'label': 'LABEL_1', 'score': 0.9571658372879028}, {'label': 'LABEL_2', 'score': 0.020777974277734756}, {'label': 'LABEL_0', 'score': 0.010290060192346573}, {'label': 'LABEL_5', 'score': 0.0057431370951235294}, {'label': 'LABEL_3', 'score': 0.003165498608723283}, {'label': 'LABEL_4', 'score': 0.002857564715668559}], [{'label': 'LABEL_1', 'score': 0.9571658372879028}, {'label': 'LABEL_2', 'score': 0.020777974277734756}, {'label': 'LABEL_0', 'score': 0.010290060192346573}, {'label': 'LABEL_5', 'score': 0.0057431370951235294}, {'label': 'LABEL_3', 'score': 0.003165498608723283}, {'label': 'LABEL_4', 'score': 0.002857564715668559}], [{'label': 'LABEL_1', 'score': 0.9571658372879028}, {'label': 'LABEL_2', 'score': 0.020777974277734756}, {'label': 'LABEL_0', 'score': 0.010290060192346573}, {'label': 'LABEL_5', 'score': 0.0057431370951235294}, {'label': 'LABEL_3', 'score': 0.003165498608723283}, {'label': 'LABEL_4', 'score': 0.002857564715668559}], [{'label': 'LABEL_1', 'score': 0.9571658372879028}, {'label': 'LABEL_2', 'score': 0.020777974277734756}, {'label': 'LABEL_0', 'score': 0.010290060192346573}, {'label': 'LABEL_5', 'score': 0.0057431370951235294}, {'label': 'LABEL_3', 'score': 0.003165498608723283}, {'label': 'LABEL_4', 'score': 0.002857564715668559}], [{'label': 'LABEL_1', 'score': 0.9571658372879028}, {'label': 'LABEL_2', 'score': 0.020777974277734756}, {'label': 'LABEL_0', 'score': 0.010290060192346573}, {'label': 'LABEL_5', 'score': 0.0057431370951235294}, {'label': 'LABEL_3', 'score': 0.003165498608723283}, {'label': 'LABEL_4', 'score': 0.002857564715668559}], [{'label': 'LABEL_1', 'score': 0.9571658372879028}, {'label': 'LABEL_2', 'score': 0.020777974277734756}, {'label': 'LABEL_0', 'score': 0.010290060192346573}, {'label': 'LABEL_5', 'score': 0.0057431370951235294}, {'label': 'LABEL_3', 'score': 0.003165498608723283}, {'label': 'LABEL_4', 'score': 0.002857564715668559}], [{'label': 'LABEL_1', 'score': 0.9571658372879028}, {'label': 'LABEL_2', 'score': 0.020777974277734756}, {'label': 'LABEL_0', 'score': 0.010290060192346573}, {'label': 'LABEL_5', 'score': 0.0057431370951235294}, {'label': 'LABEL_3', 'score': 0.003165498608723283}, {'label': 'LABEL_4', 'score': 0.002857564715668559}], [{'label': 'LABEL_1', 'score': 0.9571658372879028}, {'label': 'LABEL_2', 'score': 0.020777974277734756}, {'label': 'LABEL_0', 'score': 0.010290060192346573}, {'label': 'LABEL_5', 'score': 0.0057431370951235294}, {'label': 'LABEL_3', 'score': 0.003165498608723283}, {'label': 'LABEL_4', 'score': 0.002857564715668559}], [{'label': 'LABEL_1', 'score': 0.9571658372879028}, {'label': 'LABEL_2', 'score': 0.020777974277734756}, {'label': 'LABEL_0', 'score': 0.010290060192346573}, {'label': 'LABEL_5', 'score': 0.0057431370951235294}, {'label': 'LABEL_3', 'score': 0.003165498608723283}, {'label': 'LABEL_4', 'score': 0.002857564715668559}], [{'label': 'LABEL_1', 'score': 0.9571658372879028}, {'label': 'LABEL_2', 'score': 0.020777974277734756}, {'label': 'LABEL_0', 'score': 0.010290060192346573}, {'label': 'LABEL_5', 'score': 0.0057431370951235294}, {'label': 'LABEL_3', 'score': 0.003165498608723283}, {'label': 'LABEL_4', 'score': 0.002857564715668559}], [{'label': 'LABEL_1', 'score': 0.9571658372879028}, {'label': 'LABEL_2', 'score': 0.020777974277734756}, {'label': 'LABEL_0', 'score': 0.010290060192346573}, {'label': 'LABEL_5', 'score': 0.0057431370951235294}, {'label': 'LABEL_3', 'score': 0.003165498608723283}, {'label': 'LABEL_4', 'score': 0.002857564715668559}], [{'label': 'LABEL_1', 'score': 0.9571658372879028}, {'label': 'LABEL_2', 'score': 0.020777974277734756}, {'label': 'LABEL_0', 'score': 0.010290060192346573}, {'label': 'LABEL_5', 'score': 0.0057431370951235294}, {'label': 'LABEL_3', 'score': 0.003165498608723283}, {'label': 'LABEL_4', 'score': 0.002857564715668559}], [{'label': 'LABEL_1', 'score': 0.9571658372879028}, {'label': 'LABEL_2', 'score': 0.020777974277734756}, {'label': 'LABEL_0', 'score': 0.010290060192346573}, {'label': 'LABEL_5', 'score': 0.0057431370951235294}, {'label': 'LABEL_3', 'score': 0.003165498608723283}, {'label': 'LABEL_4', 'score': 0.002857564715668559}], [{'label': 'LABEL_1', 'score': 0.9571658372879028}, {'label': 'LABEL_2', 'score': 0.020777974277734756}, {'label': 'LABEL_0', 'score': 0.010290060192346573}, {'label': 'LABEL_5', 'score': 0.0057431370951235294}, {'label': 'LABEL_3', 'score': 0.003165498608723283}, {'label': 'LABEL_4', 'score': 0.002857564715668559}], [{'label': 'LABEL_1', 'score': 0.9571658372879028}, {'label': 'LABEL_2', 'score': 0.020777974277734756}, {'label': 'LABEL_0', 'score': 0.010290060192346573}, {'label': 'LABEL_5', 'score': 0.0057431370951235294}, {'label': 'LABEL_3', 'score': 0.003165498608723283}, {'label': 'LABEL_4', 'score': 0.002857564715668559}], [{'label': 'LABEL_1', 'score': 0.9571658372879028}, {'label': 'LABEL_2', 'score': 0.020777974277734756}, {'label': 'LABEL_0', 'score': 0.010290060192346573}, {'label': 'LABEL_5', 'score': 0.0057431370951235294}, {'label': 'LABEL_3', 'score': 0.003165498608723283}, {'label': 'LABEL_4', 'score': 0.002857564715668559}], [{'label': 'LABEL_1', 'score': 0.9571658372879028}, {'label': 'LABEL_2', 'score': 0.020777974277734756}, {'label': 'LABEL_0', 'score': 0.010290060192346573}, {'label': 'LABEL_5', 'score': 0.0057431370951235294}, {'label': 'LABEL_3', 'score': 0.003165498608723283}, {'label': 'LABEL_4', 'score': 0.002857564715668559}], [{'label': 'LABEL_1', 'score': 0.9571658372879028}, {'label': 'LABEL_2', 'score': 0.020777974277734756}, {'label': 'LABEL_0', 'score': 0.010290060192346573}, {'label': 'LABEL_5', 'score': 0.0057431370951235294}, {'label': 'LABEL_3', 'score': 0.003165498608723283}, {'label': 'LABEL_4', 'score': 0.002857564715668559}], [{'label': 'LABEL_1', 'score': 0.9571658372879028}, {'label': 'LABEL_2', 'score': 0.020777974277734756}, {'label': 'LABEL_0', 'score': 0.010290060192346573}, {'label': 'LABEL_5', 'score': 0.0057431370951235294}, {'label': 'LABEL_3', 'score': 0.003165498608723283}, {'label': 'LABEL_4', 'score': 0.002857564715668559}], [{'label': 'LABEL_1', 'score': 0.9571658372879028}, {'label': 'LABEL_2', 'score': 0.020777974277734756}, {'label': 'LABEL_0', 'score': 0.010290060192346573}, {'label': 'LABEL_5', 'score': 0.0057431370951235294}, {'label': 'LABEL_3', 'score': 0.003165498608723283}, {'label': 'LABEL_4', 'score': 0.002857564715668559}], [{'label': 'LABEL_1', 'score': 0.9571658372879028}, {'label': 'LABEL_2', 'score': 0.020777974277734756}, {'label': 'LABEL_0', 'score': 0.010290060192346573}, {'label': 'LABEL_5', 'score': 0.0057431370951235294}, {'label': 'LABEL_3', 'score': 0.003165498608723283}, {'label': 'LABEL_4', 'score': 0.002857564715668559}], [{'label': 'LABEL_1', 'score': 0.9571658372879028}, {'label': 'LABEL_2', 'score': 0.020777974277734756}, {'label': 'LABEL_0', 'score': 0.010290060192346573}, {'label': 'LABEL_5', 'score': 0.0057431370951235294}, {'label': 'LABEL_3', 'score': 0.003165498608723283}, {'label': 'LABEL_4', 'score': 0.002857564715668559}], [{'label': 'LABEL_1', 'score': 0.9571658372879028}, {'label': 'LABEL_2', 'score': 0.020777974277734756}, {'label': 'LABEL_0', 'score': 0.010290060192346573}, {'label': 'LABEL_5', 'score': 0.0057431370951235294}, {'label': 'LABEL_3', 'score': 0.003165498608723283}, {'label': 'LABEL_4', 'score': 0.002857564715668559}], [{'label': 'LABEL_1', 'score': 0.9571658372879028}, {'label': 'LABEL_2', 'score': 0.020777974277734756}, {'label': 'LABEL_0', 'score': 0.010290060192346573}, {'label': 'LABEL_5', 'score': 0.0057431370951235294}, {'label': 'LABEL_3', 'score': 0.003165498608723283}, {'label': 'LABEL_4', 'score': 0.002857564715668559}], [{'label': 'LABEL_1', 'score': 0.9571658372879028}, {'label': 'LABEL_2', 'score': 0.020777974277734756}, {'label': 'LABEL_0', 'score': 0.010290060192346573}, {'label': 'LABEL_5', 'score': 0.0057431370951235294}, {'label': 'LABEL_3', 'score': 0.003165498608723283}, {'label': 'LABEL_4', 'score': 0.002857564715668559}], [{'label': 'LABEL_1', 'score': 0.9571658372879028}, {'label': 'LABEL_2', 'score': 0.020777974277734756}, {'label': 'LABEL_0', 'score': 0.010290060192346573}, {'label': 'LABEL_5', 'score': 0.0057431370951235294}, {'label': 'LABEL_3', 'score': 0.003165498608723283}, {'label': 'LABEL_4', 'score': 0.002857564715668559}], [{'label': 'LABEL_1', 'score': 0.9571658372879028}, {'label': 'LABEL_2', 'score': 0.020777974277734756}, {'label': 'LABEL_0', 'score': 0.010290060192346573}, {'label': 'LABEL_5', 'score': 0.0057431370951235294}, {'label': 'LABEL_3', 'score': 0.003165498608723283}, {'label': 'LABEL_4', 'score': 0.002857564715668559}], [{'label': 'LABEL_1', 'score': 0.9571658372879028}, {'label': 'LABEL_2', 'score': 0.020777974277734756}, {'label': 'LABEL_0', 'score': 0.010290060192346573}, {'label': 'LABEL_5', 'score': 0.0057431370951235294}, {'label': 'LABEL_3', 'score': 0.003165498608723283}, {'label': 'LABEL_4', 'score': 0.002857564715668559}], [{'label': 'LABEL_1', 'score': 0.9571658372879028}, {'label': 'LABEL_2', 'score': 0.020777974277734756}, {'label': 'LABEL_0', 'score': 0.010290060192346573}, {'label': 'LABEL_5', 'score': 0.0057431370951235294}, {'label': 'LABEL_3', 'score': 0.003165498608723283}, {'label': 'LABEL_4', 'score': 0.002857564715668559}], [{'label': 'LABEL_1', 'score': 0.9571658372879028}, {'label': 'LABEL_2', 'score': 0.020777974277734756}, {'label': 'LABEL_0', 'score': 0.010290060192346573}, {'label': 'LABEL_5', 'score': 0.0057431370951235294}, {'label': 'LABEL_3', 'score': 0.003165498608723283}, {'label': 'LABEL_4', 'score': 0.002857564715668559}], [{'label': 'LABEL_1', 'score': 0.9571658372879028}, {'label': 'LABEL_2', 'score': 0.020777974277734756}, {'label': 'LABEL_0', 'score': 0.010290060192346573}, {'label': 'LABEL_5', 'score': 0.0057431370951235294}, {'label': 'LABEL_3', 'score': 0.003165498608723283}, {'label': 'LABEL_4', 'score': 0.002857564715668559}], [{'label': 'LABEL_1', 'score': 0.9571658372879028}, {'label': 'LABEL_2', 'score': 0.020777974277734756}, {'label': 'LABEL_0', 'score': 0.010290060192346573}, {'label': 'LABEL_5', 'score': 0.0057431370951235294}, {'label': 'LABEL_3', 'score': 0.003165498608723283}, {'label': 'LABEL_4', 'score': 0.002857564715668559}], [{'label': 'LABEL_1', 'score': 0.9571658372879028}, {'label': 'LABEL_2', 'score': 0.020777974277734756}, {'label': 'LABEL_0', 'score': 0.010290060192346573}, {'label': 'LABEL_5', 'score': 0.0057431370951235294}, {'label': 'LABEL_3', 'score': 0.003165498608723283}, {'label': 'LABEL_4', 'score': 0.002857564715668559}], [{'label': 'LABEL_1', 'score': 0.9571658372879028}, {'label': 'LABEL_2', 'score': 0.020777974277734756}, {'label': 'LABEL_0', 'score': 0.010290060192346573}, {'label': 'LABEL_5', 'score': 0.0057431370951235294}, {'label': 'LABEL_3', 'score': 0.003165498608723283}, {'label': 'LABEL_4', 'score': 0.002857564715668559}], [{'label': 'LABEL_1', 'score': 0.9571658372879028}, {'label': 'LABEL_2', 'score': 0.020777974277734756}, {'label': 'LABEL_0', 'score': 0.010290060192346573}, {'label': 'LABEL_5', 'score': 0.0057431370951235294}, {'label': 'LABEL_3', 'score': 0.003165498608723283}, {'label': 'LABEL_4', 'score': 0.002857564715668559}], [{'label': 'LABEL_1', 'score': 0.9571658372879028}, {'label': 'LABEL_2', 'score': 0.020777974277734756}, {'label': 'LABEL_0', 'score': 0.010290060192346573}, {'label': 'LABEL_5', 'score': 0.0057431370951235294}, {'label': 'LABEL_3', 'score': 0.003165498608723283}, {'label': 'LABEL_4', 'score': 0.002857564715668559}], [{'label': 'LABEL_1', 'score': 0.9571658372879028}, {'label': 'LABEL_2', 'score': 0.020777974277734756}, {'label': 'LABEL_0', 'score': 0.010290060192346573}, {'label': 'LABEL_5', 'score': 0.0057431370951235294}, {'label': 'LABEL_3', 'score': 0.003165498608723283}, {'label': 'LABEL_4', 'score': 0.002857564715668559}], [{'label': 'LABEL_1', 'score': 0.9571658372879028}, {'label': 'LABEL_2', 'score': 0.020777974277734756}, {'label': 'LABEL_0', 'score': 0.010290060192346573}, {'label': 'LABEL_5', 'score': 0.0057431370951235294}, {'label': 'LABEL_3', 'score': 0.003165498608723283}, {'label': 'LABEL_4', 'score': 0.002857564715668559}], [{'label': 'LABEL_1', 'score': 0.9571658372879028}, {'label': 'LABEL_2', 'score': 0.020777974277734756}, {'label': 'LABEL_0', 'score': 0.010290060192346573}, {'label': 'LABEL_5', 'score': 0.0057431370951235294}, {'label': 'LABEL_3', 'score': 0.003165498608723283}, {'label': 'LABEL_4', 'score': 0.002857564715668559}], [{'label': 'LABEL_1', 'score': 0.9571658372879028}, {'label': 'LABEL_2', 'score': 0.020777974277734756}, {'label': 'LABEL_0', 'score': 0.010290060192346573}, {'label': 'LABEL_5', 'score': 0.0057431370951235294}, {'label': 'LABEL_3', 'score': 0.003165498608723283}, {'label': 'LABEL_4', 'score': 0.002857564715668559}], [{'label': 'LABEL_1', 'score': 0.9571658372879028}, {'label': 'LABEL_2', 'score': 0.020777974277734756}, {'label': 'LABEL_0', 'score': 0.010290060192346573}, {'label': 'LABEL_5', 'score': 0.0057431370951235294}, {'label': 'LABEL_3', 'score': 0.003165498608723283}, {'label': 'LABEL_4', 'score': 0.002857564715668559}], [{'label': 'LABEL_1', 'score': 0.9571658372879028}, {'label': 'LABEL_2', 'score': 0.020777974277734756}, {'label': 'LABEL_0', 'score': 0.010290060192346573}, {'label': 'LABEL_5', 'score': 0.0057431370951235294}, {'label': 'LABEL_3', 'score': 0.003165498608723283}, {'label': 'LABEL_4', 'score': 0.002857564715668559}], [{'label': 'LABEL_1', 'score': 0.9571658372879028}, {'label': 'LABEL_2', 'score': 0.020777974277734756}, {'label': 'LABEL_0', 'score': 0.010290060192346573}, {'label': 'LABEL_5', 'score': 0.0057431370951235294}, {'label': 'LABEL_3', 'score': 0.003165498608723283}, {'label': 'LABEL_4', 'score': 0.002857564715668559}], [{'label': 'LABEL_1', 'score': 0.9571658372879028}, {'label': 'LABEL_2', 'score': 0.020777974277734756}, {'label': 'LABEL_0', 'score': 0.010290060192346573}, {'label': 'LABEL_5', 'score': 0.0057431370951235294}, {'label': 'LABEL_3', 'score': 0.003165498608723283}, {'label': 'LABEL_4', 'score': 0.002857564715668559}], [{'label': 'LABEL_1', 'score': 0.9571658372879028}, {'label': 'LABEL_2', 'score': 0.020777974277734756}, {'label': 'LABEL_0', 'score': 0.010290060192346573}, {'label': 'LABEL_5', 'score': 0.0057431370951235294}, {'label': 'LABEL_3', 'score': 0.003165498608723283}, {'label': 'LABEL_4', 'score': 0.002857564715668559}], [{'label': 'LABEL_1', 'score': 0.9571658372879028}, {'label': 'LABEL_2', 'score': 0.020777974277734756}, {'label': 'LABEL_0', 'score': 0.010290060192346573}, {'label': 'LABEL_5', 'score': 0.0057431370951235294}, {'label': 'LABEL_3', 'score': 0.003165498608723283}, {'label': 'LABEL_4', 'score': 0.002857564715668559}], [{'label': 'LABEL_1', 'score': 0.9571658372879028}, {'label': 'LABEL_2', 'score': 0.020777974277734756}, {'label': 'LABEL_0', 'score': 0.010290060192346573}, {'label': 'LABEL_5', 'score': 0.0057431370951235294}, {'label': 'LABEL_3', 'score': 0.003165498608723283}, {'label': 'LABEL_4', 'score': 0.002857564715668559}], [{'label': 'LABEL_1', 'score': 0.9571658372879028}, {'label': 'LABEL_2', 'score': 0.020777974277734756}, {'label': 'LABEL_0', 'score': 0.010290060192346573}, {'label': 'LABEL_5', 'score': 0.0057431370951235294}, {'label': 'LABEL_3', 'score': 0.003165498608723283}, {'label': 'LABEL_4', 'score': 0.002857564715668559}], [{'label': 'LABEL_1', 'score': 0.9571658372879028}, {'label': 'LABEL_2', 'score': 0.020777974277734756}, {'label': 'LABEL_0', 'score': 0.010290060192346573}, {'label': 'LABEL_5', 'score': 0.0057431370951235294}, {'label': 'LABEL_3', 'score': 0.003165498608723283}, {'label': 'LABEL_4', 'score': 0.002857564715668559}], [{'label': 'LABEL_1', 'score': 0.9571658372879028}, {'label': 'LABEL_2', 'score': 0.020777974277734756}, {'label': 'LABEL_0', 'score': 0.010290060192346573}, {'label': 'LABEL_5', 'score': 0.0057431370951235294}, {'label': 'LABEL_3', 'score': 0.003165498608723283}, {'label': 'LABEL_4', 'score': 0.002857564715668559}], [{'label': 'LABEL_1', 'score': 0.9571658372879028}, {'label': 'LABEL_2', 'score': 0.020777974277734756}, {'label': 'LABEL_0', 'score': 0.010290060192346573}, {'label': 'LABEL_5', 'score': 0.0057431370951235294}, {'label': 'LABEL_3', 'score': 0.003165498608723283}, {'label': 'LABEL_4', 'score': 0.002857564715668559}], [{'label': 'LABEL_1', 'score': 0.9571658372879028}, {'label': 'LABEL_2', 'score': 0.020777974277734756}, {'label': 'LABEL_0', 'score': 0.010290060192346573}, {'label': 'LABEL_5', 'score': 0.0057431370951235294}, {'label': 'LABEL_3', 'score': 0.003165498608723283}, {'label': 'LABEL_4', 'score': 0.002857564715668559}], [{'label': 'LABEL_1', 'score': 0.9571658372879028}, {'label': 'LABEL_2', 'score': 0.020777974277734756}, {'label': 'LABEL_0', 'score': 0.010290060192346573}, {'label': 'LABEL_5', 'score': 0.0057431370951235294}, {'label': 'LABEL_3', 'score': 0.003165498608723283}, {'label': 'LABEL_4', 'score': 0.002857564715668559}], [{'label': 'LABEL_1', 'score': 0.9571658372879028}, {'label': 'LABEL_2', 'score': 0.020777974277734756}, {'label': 'LABEL_0', 'score': 0.010290060192346573}, {'label': 'LABEL_5', 'score': 0.0057431370951235294}, {'label': 'LABEL_3', 'score': 0.003165498608723283}, {'label': 'LABEL_4', 'score': 0.002857564715668559}], [{'label': 'LABEL_1', 'score': 0.9571658372879028}, {'label': 'LABEL_2', 'score': 0.020777974277734756}, {'label': 'LABEL_0', 'score': 0.010290060192346573}, {'label': 'LABEL_5', 'score': 0.0057431370951235294}, {'label': 'LABEL_3', 'score': 0.003165498608723283}, {'label': 'LABEL_4', 'score': 0.002857564715668559}], [{'label': 'LABEL_1', 'score': 0.9571658372879028}, {'label': 'LABEL_2', 'score': 0.020777974277734756}, {'label': 'LABEL_0', 'score': 0.010290060192346573}, {'label': 'LABEL_5', 'score': 0.0057431370951235294}, {'label': 'LABEL_3', 'score': 0.003165498608723283}, {'label': 'LABEL_4', 'score': 0.002857564715668559}], [{'label': 'LABEL_1', 'score': 0.9571658372879028}, {'label': 'LABEL_2', 'score': 0.020777974277734756}, {'label': 'LABEL_0', 'score': 0.010290060192346573}, {'label': 'LABEL_5', 'score': 0.0057431370951235294}, {'label': 'LABEL_3', 'score': 0.003165498608723283}, {'label': 'LABEL_4', 'score': 0.002857564715668559}], [{'label': 'LABEL_1', 'score': 0.9571658372879028}, {'label': 'LABEL_2', 'score': 0.020777974277734756}, {'label': 'LABEL_0', 'score': 0.010290060192346573}, {'label': 'LABEL_5', 'score': 0.0057431370951235294}, {'label': 'LABEL_3', 'score': 0.003165498608723283}, {'label': 'LABEL_4', 'score': 0.002857564715668559}], [{'label': 'LABEL_1', 'score': 0.9571658372879028}, {'label': 'LABEL_2', 'score': 0.020777974277734756}, {'label': 'LABEL_0', 'score': 0.010290060192346573}, {'label': 'LABEL_5', 'score': 0.0057431370951235294}, {'label': 'LABEL_3', 'score': 0.003165498608723283}, {'label': 'LABEL_4', 'score': 0.002857564715668559}], [{'label': 'LABEL_1', 'score': 0.9571658372879028}, {'label': 'LABEL_2', 'score': 0.020777974277734756}, {'label': 'LABEL_0', 'score': 0.010290060192346573}, {'label': 'LABEL_5', 'score': 0.0057431370951235294}, {'label': 'LABEL_3', 'score': 0.003165498608723283}, {'label': 'LABEL_4', 'score': 0.002857564715668559}], [{'label': 'LABEL_1', 'score': 0.9571658372879028}, {'label': 'LABEL_2', 'score': 0.020777974277734756}, {'label': 'LABEL_0', 'score': 0.010290060192346573}, {'label': 'LABEL_5', 'score': 0.0057431370951235294}, {'label': 'LABEL_3', 'score': 0.003165498608723283}, {'label': 'LABEL_4', 'score': 0.002857564715668559}], [{'label': 'LABEL_1', 'score': 0.9571658372879028}, {'label': 'LABEL_2', 'score': 0.020777974277734756}, {'label': 'LABEL_0', 'score': 0.010290060192346573}, {'label': 'LABEL_5', 'score': 0.0057431370951235294}, {'label': 'LABEL_3', 'score': 0.003165498608723283}, {'label': 'LABEL_4', 'score': 0.002857564715668559}], [{'label': 'LABEL_1', 'score': 0.9571658372879028}, {'label': 'LABEL_2', 'score': 0.020777974277734756}, {'label': 'LABEL_0', 'score': 0.010290060192346573}, {'label': 'LABEL_5', 'score': 0.0057431370951235294}, {'label': 'LABEL_3', 'score': 0.003165498608723283}, {'label': 'LABEL_4', 'score': 0.002857564715668559}], [{'label': 'LABEL_1', 'score': 0.9571658372879028}, {'label': 'LABEL_2', 'score': 0.020777974277734756}, {'label': 'LABEL_0', 'score': 0.010290060192346573}, {'label': 'LABEL_5', 'score': 0.0057431370951235294}, {'label': 'LABEL_3', 'score': 0.003165498608723283}, {'label': 'LABEL_4', 'score': 0.002857564715668559}], [{'label': 'LABEL_1', 'score': 0.9571658372879028}, {'label': 'LABEL_2', 'score': 0.020777974277734756}, {'label': 'LABEL_0', 'score': 0.010290060192346573}, {'label': 'LABEL_5', 'score': 0.0057431370951235294}, {'label': 'LABEL_3', 'score': 0.003165498608723283}, {'label': 'LABEL_4', 'score': 0.002857564715668559}], [{'label': 'LABEL_1', 'score': 0.9571658372879028}, {'label': 'LABEL_2', 'score': 0.020777974277734756}, {'label': 'LABEL_0', 'score': 0.010290060192346573}, {'label': 'LABEL_5', 'score': 0.0057431370951235294}, {'label': 'LABEL_3', 'score': 0.003165498608723283}, {'label': 'LABEL_4', 'score': 0.002857564715668559}], [{'label': 'LABEL_1', 'score': 0.9571658372879028}, {'label': 'LABEL_2', 'score': 0.020777974277734756}, {'label': 'LABEL_0', 'score': 0.010290060192346573}, {'label': 'LABEL_5', 'score': 0.0057431370951235294}, {'label': 'LABEL_3', 'score': 0.003165498608723283}, {'label': 'LABEL_4', 'score': 0.002857564715668559}], [{'label': 'LABEL_1', 'score': 0.9571658372879028}, {'label': 'LABEL_2', 'score': 0.020777974277734756}, {'label': 'LABEL_0', 'score': 0.010290060192346573}, {'label': 'LABEL_5', 'score': 0.0057431370951235294}, {'label': 'LABEL_3', 'score': 0.003165498608723283}, {'label': 'LABEL_4', 'score': 0.002857564715668559}], [{'label': 'LABEL_1', 'score': 0.9571658372879028}, {'label': 'LABEL_2', 'score': 0.020777974277734756}, {'label': 'LABEL_0', 'score': 0.010290060192346573}, {'label': 'LABEL_5', 'score': 0.0057431370951235294}, {'label': 'LABEL_3', 'score': 0.003165498608723283}, {'label': 'LABEL_4', 'score': 0.002857564715668559}], [{'label': 'LABEL_1', 'score': 0.9571658372879028}, {'label': 'LABEL_2', 'score': 0.020777974277734756}, {'label': 'LABEL_0', 'score': 0.010290060192346573}, {'label': 'LABEL_5', 'score': 0.0057431370951235294}, {'label': 'LABEL_3', 'score': 0.003165498608723283}, {'label': 'LABEL_4', 'score': 0.002857564715668559}], [{'label': 'LABEL_1', 'score': 0.9571658372879028}, {'label': 'LABEL_2', 'score': 0.020777974277734756}, {'label': 'LABEL_0', 'score': 0.010290060192346573}, {'label': 'LABEL_5', 'score': 0.0057431370951235294}, {'label': 'LABEL_3', 'score': 0.003165498608723283}, {'label': 'LABEL_4', 'score': 0.002857564715668559}], [{'label': 'LABEL_1', 'score': 0.9571658372879028}, {'label': 'LABEL_2', 'score': 0.020777974277734756}, {'label': 'LABEL_0', 'score': 0.010290060192346573}, {'label': 'LABEL_5', 'score': 0.0057431370951235294}, {'label': 'LABEL_3', 'score': 0.003165498608723283}, {'label': 'LABEL_4', 'score': 0.002857564715668559}], [{'label': 'LABEL_1', 'score': 0.9571658372879028}, {'label': 'LABEL_2', 'score': 0.020777974277734756}, {'label': 'LABEL_0', 'score': 0.010290060192346573}, {'label': 'LABEL_5', 'score': 0.0057431370951235294}, {'label': 'LABEL_3', 'score': 0.003165498608723283}, {'label': 'LABEL_4', 'score': 0.002857564715668559}], [{'label': 'LABEL_1', 'score': 0.9571658372879028}, {'label': 'LABEL_2', 'score': 0.020777974277734756}, {'label': 'LABEL_0', 'score': 0.010290060192346573}, {'label': 'LABEL_5', 'score': 0.0057431370951235294}, {'label': 'LABEL_3', 'score': 0.003165498608723283}, {'label': 'LABEL_4', 'score': 0.002857564715668559}], [{'label': 'LABEL_1', 'score': 0.9571658372879028}, {'label': 'LABEL_2', 'score': 0.020777974277734756}, {'label': 'LABEL_0', 'score': 0.010290060192346573}, {'label': 'LABEL_5', 'score': 0.0057431370951235294}, {'label': 'LABEL_3', 'score': 0.003165498608723283}, {'label': 'LABEL_4', 'score': 0.002857564715668559}], [{'label': 'LABEL_1', 'score': 0.9571658372879028}, {'label': 'LABEL_2', 'score': 0.020777974277734756}, {'label': 'LABEL_0', 'score': 0.010290060192346573}, {'label': 'LABEL_5', 'score': 0.0057431370951235294}, {'label': 'LABEL_3', 'score': 0.003165498608723283}, {'label': 'LABEL_4', 'score': 0.002857564715668559}], [{'label': 'LABEL_1', 'score': 0.9571658372879028}, {'label': 'LABEL_2', 'score': 0.020777974277734756}, {'label': 'LABEL_0', 'score': 0.010290060192346573}, {'label': 'LABEL_5', 'score': 0.0057431370951235294}, {'label': 'LABEL_3', 'score': 0.003165498608723283}, {'label': 'LABEL_4', 'score': 0.002857564715668559}], [{'label': 'LABEL_1', 'score': 0.9571658372879028}, {'label': 'LABEL_2', 'score': 0.020777974277734756}, {'label': 'LABEL_0', 'score': 0.010290060192346573}, {'label': 'LABEL_5', 'score': 0.0057431370951235294}, {'label': 'LABEL_3', 'score': 0.003165498608723283}, {'label': 'LABEL_4', 'score': 0.002857564715668559}], [{'label': 'LABEL_1', 'score': 0.9571658372879028}, {'label': 'LABEL_2', 'score': 0.020777974277734756}, {'label': 'LABEL_0', 'score': 0.010290060192346573}, {'label': 'LABEL_5', 'score': 0.0057431370951235294}, {'label': 'LABEL_3', 'score': 0.003165498608723283}, {'label': 'LABEL_4', 'score': 0.002857564715668559}]]\n"
          ]
        }
      ],
      "source": [
        "print(steered_judgments)"
      ]
    },
    {
      "cell_type": "code",
      "execution_count": 99,
      "metadata": {},
      "outputs": [],
      "source": [
        "# Organize the label, score pairs. Average across labels scores\n",
        "labels = emotion_dataset.features['label'].names\n",
        "\n",
        "def get_label_score_stats(results):\n",
        "\n",
        "    stats = {f'LABEL_{x}' : np.empty(n_samples) for x in range(len(labels))}\n",
        "    for index, item in enumerate(results):\n",
        "        for d in item:\n",
        "            stats[d['label']][index] = d['score']\n",
        "    \n",
        "    # Average\n",
        "    avgs = {x: stats[x].mean(axis=0) for x in stats}\n",
        "    # SD\n",
        "    sds = {x: stats[x].std(axis=0) for x in stats}\n",
        "    \n",
        "    return avgs, sds"
      ]
    },
    {
      "cell_type": "code",
      "execution_count": 100,
      "metadata": {},
      "outputs": [],
      "source": [
        "steered_avgs, steered_sds = get_label_score_stats(steered_judgments)\n",
        "default_avgs, default_sds = get_label_score_stats(default_judgments)"
      ]
    },
    {
      "cell_type": "code",
      "execution_count": 101,
      "metadata": {},
      "outputs": [
        {
          "name": "stdout",
          "output_type": "stream",
          "text": [
            "Steered averages:\n",
            "{'LABEL_0': 0.010290060192346573, 'LABEL_1': 0.9571658372879028, 'LABEL_2': 0.020777974277734756, 'LABEL_3': 0.003165498608723283, 'LABEL_4': 0.002857564715668559, 'LABEL_5': 0.0057431370951235294}\n",
            "\n",
            " ---------------------------------------------------------------------------------------------------- \n",
            "\n",
            "Steered std devs:\n",
            "{'LABEL_0': 0.0, 'LABEL_1': 0.0, 'LABEL_2': 0.0, 'LABEL_3': 0.0, 'LABEL_4': 0.0, 'LABEL_5': 0.0}\n",
            "\n",
            " ---------------------------------------------------------------------------------------------------- \n",
            "\n",
            "Default averages:\n",
            "{'LABEL_0': 0.005845827050507069, 'LABEL_1': 0.9444676041603088, 'LABEL_2': 0.03586956113576889, 'LABEL_3': 0.0035950413439422846, 'LABEL_4': 0.00338013656437397, 'LABEL_5': 0.006841719150543213}\n",
            "\n",
            " ---------------------------------------------------------------------------------------------------- \n",
            "\n",
            "Default std devs:\n",
            "{'LABEL_0': 0.0, 'LABEL_1': 0.0, 'LABEL_2': 0.0, 'LABEL_3': 0.0, 'LABEL_4': 0.0, 'LABEL_5': 0.0}\n"
          ]
        }
      ],
      "source": [
        "print('Steered averages:')\n",
        "print(steered_avgs)\n",
        "print('\\n', '-'*100, '\\n')\n",
        "\n",
        "print('Steered std devs:')\n",
        "print(steered_sds)\n",
        "print('\\n', '-'*100, '\\n')\n",
        "\n",
        "print('Default averages:')\n",
        "print(default_avgs)\n",
        "print('\\n', '-'*100, '\\n')\n",
        "\n",
        "print('Default std devs:')\n",
        "print(default_sds)\n"
      ]
    },
    {
      "cell_type": "markdown",
      "metadata": {},
      "source": [
        "### Results for example prompt: [('John says, \"i feel useless and worthless\". John feels', 0)]. Different coeff values for love related feature: 3203\n",
        "\n",
        "10 \n",
        "{'LABEL_0': 0.7190215387940406, 'LABEL_1': 0.06529127676971257, 'LABEL_2': 0.012774634957313537, 'LABEL_3': 0.170976769994013, 'LABEL_4': 0.025992137745488433, 'LABEL_5': 0.005943622009363025}\n",
        "{'LABEL_0': 0.6026774962991476, 'LABEL_1': 0.2198826998565346, 'LABEL_2': 0.03258214028785005, 'LABEL_3': 0.09322445983532816, 'LABEL_4': 0.03770605735480785, 'LABEL_5': 0.013927115728147327}\n",
        "\n",
        "20\n",
        "{'LABEL_0': 0.2767638837033883, 'LABEL_1': 0.48788393307011574, 'LABEL_2': 0.12167917459039018, 'LABEL_3': 0.08963876160560176, 'LABEL_4': 0.011855096041690558, 'LABEL_5': 0.012179144371766598}\n",
        "{'LABEL_0': 0.5145439236052334, 'LABEL_1': 0.25482457326259467, 'LABEL_2': 0.037844830222893505, 'LABEL_3': 0.12796071587130428, 'LABEL_4': 0.04867495798505843, 'LABEL_5': 0.016150978496298193}\n",
        "\n",
        "21\n",
        "{'LABEL_0': 0.22872907536104323, 'LABEL_1': 0.6059607860352844, 'LABEL_2': 0.09070620632264763, 'LABEL_3': 0.05344671495491639, 'LABEL_4': 0.009989762811455876, 'LABEL_5': 0.011167455443646758}\n",
        "{'LABEL_0': 0.5534170390106737, 'LABEL_1': 0.2607078705215827, 'LABEL_2': 0.039753439133055506, 'LABEL_3': 0.07759478480089456, 'LABEL_4': 0.051232845042832195, 'LABEL_5': 0.01729399512754753}\n",
        "\n",
        "22\n",
        "{'LABEL_0': 0.3396644503204152, 'LABEL_1': 0.4476533314073458, 'LABEL_2': 0.08580599198816344, 'LABEL_3': 0.09983911606250331, 'LABEL_4': 0.018257545738015322, 'LABEL_5': 0.008779570928309112}\n",
        "{'LABEL_0': 0.5665904127806425, 'LABEL_1': 0.24354308717884124, 'LABEL_2': 0.04210721633862704, 'LABEL_3': 0.07187060184776783, 'LABEL_4': 0.05738185498397797, 'LABEL_5': 0.01850679338676855}\n",
        "\n",
        "23\n",
        "{'LABEL_0': 0.1237382231745869, 'LABEL_1': 0.3527423197031021, 'LABEL_2': 0.4779345570830628, 'LABEL_3': 0.02958498215302825, 'LABEL_4': 0.006788506475277245, 'LABEL_5': 0.009211436281912028}\n",
        "{'LABEL_0': 0.5876903250813484, 'LABEL_1': 0.2559698004135862, 'LABEL_2': 0.035816639598924664, 'LABEL_3': 0.07495108143892139, 'LABEL_4': 0.0323313411232084, 'LABEL_5': 0.01324078136589378}\n",
        "\n",
        "24\n",
        "{'LABEL_0': 0.007485882248729468, 'LABEL_1': 0.03183951780200005, 'LABEL_2': 0.936437451839447, 'LABEL_3': 0.007265836913138628, 'LABEL_4': 0.006901567005552351, 'LABEL_5': 0.010069809835404158}\n",
        "{'LABEL_0': 0.6413067180477082, 'LABEL_1': 0.21493106715846808, 'LABEL_2': 0.03362984130391851, 'LABEL_3': 0.057936261557042595, 'LABEL_4': 0.03838124629110098, 'LABEL_5': 0.013814834321383387}\n",
        "\n",
        "25\n",
        "{'LABEL_0': 0.007720328494906425, 'LABEL_1': 0.03175815533846617, 'LABEL_2': 0.9361573082208633, 'LABEL_3': 0.007508245576173067, 'LABEL_4': 0.00690976888872683, 'LABEL_5': 0.009946258990094065}\n",
        "{'LABEL_0': 0.6295325769297778, 'LABEL_1': 0.22658848601859063, 'LABEL_2': 0.034671142033766957, 'LABEL_3': 0.057508688583038745, 'LABEL_4': 0.03712139300536364, 'LABEL_5': 0.014577674837782979}\n",
        "\n",
        "26\n",
        "{'LABEL_0': 0.007385426070541144, 'LABEL_1': 0.03382726266980171, 'LABEL_2': 0.9346040987968445, 'LABEL_3': 0.007178835496306419, 'LABEL_4': 0.006936507765203714, 'LABEL_5': 0.010067825168371201}\n",
        "{'LABEL_0': 0.5798048145137727, 'LABEL_1': 0.20833267248701304, 'LABEL_2': 0.034663620891515166, 'LABEL_3': 0.11104273302480579, 'LABEL_4': 0.050000698533840475, 'LABEL_5': 0.016155425736214965}\n",
        "\n",
        "27\n",
        "{'LABEL_0': 0.007386308098211884, 'LABEL_1': 0.03378420170396566, 'LABEL_2': 0.9346386295557022, 'LABEL_3': 0.007189592774957418, 'LABEL_4': 0.0069324125070124865, 'LABEL_5': 0.010068810991942883}\n",
        "{'LABEL_0': 0.6329669214971364, 'LABEL_1': 0.19393649023026227, 'LABEL_2': 0.0316765616228804, 'LABEL_3': 0.08724732583388686, 'LABEL_4': 0.04069230439607054, 'LABEL_5': 0.01348036871990189}\n",
        "\n",
        "28\n",
        "{'LABEL_0': 0.008011017292737961, 'LABEL_1': 0.05707123450934887, 'LABEL_2': 0.9088250136375428, 'LABEL_3': 0.007588768661953509, 'LABEL_4': 0.007288112775422633, 'LABEL_5': 0.011215808372944593}\n",
        "{'LABEL_0': 0.6438233935460448, 'LABEL_1': 0.16344862488098444, 'LABEL_2': 0.02961703544249758, 'LABEL_3': 0.10635165481828153, 'LABEL_4': 0.04349331659730524, 'LABEL_5': 0.013265945259481668}\n",
        "\n",
        "29\n",
        "{'LABEL_0': 0.007735552247613669, 'LABEL_1': 0.05787921670824289, 'LABEL_2': 0.9090993529558182, 'LABEL_3': 0.00719900889787823, 'LABEL_4': 0.007003822838887572, 'LABEL_5': 0.011083016032353043}\n",
        "{'LABEL_0': 0.6189842127636075, 'LABEL_1': 0.19435476975515484, 'LABEL_2': 0.03166778691578656, 'LABEL_3': 0.09701234207954258, 'LABEL_4': 0.043578346725553274, 'LABEL_5': 0.014402509992942214}\n",
        "\n",
        "30 \n",
        "{'LABEL_0': 0.008448598813265562, 'LABEL_1': 0.06381071772426367, 'LABEL_2': 0.9007281023263931, 'LABEL_3': 0.0077571926591917875, 'LABEL_4': 0.0076361627783626315, 'LABEL_5': 0.011619238900020718}\n",
        "{'LABEL_0': 0.6021977141499519, 'LABEL_1': 0.2036181228933856, 'LABEL_2': 0.03108630757080391, 'LABEL_3': 0.1087468426534906, 'LABEL_4': 0.04018298890441656, 'LABEL_5': 0.014167988928966225}\n",
        "\n",
        "100\n",
        "{'LABEL_0': 0.010502127935178579, 'LABEL_1': 0.07553076501935721, 'LABEL_2': 0.8890670169517398, 'LABEL_3': 0.007208804409019649, 'LABEL_4': 0.007873942507430912, 'LABEL_5': 0.009817339479923248}\n",
        "{'LABEL_0': 0.5515771327912807, 'LABEL_1': 0.22069891304709016, 'LABEL_2': 0.037646842554677276, 'LABEL_3': 0.11671273810788989, 'LABEL_4': 0.05584903904236853, 'LABEL_5': 0.0175153036811389}\n"
      ]
    },
    {
      "cell_type": "markdown",
      "metadata": {},
      "source": [
        "### Results for example prompt: [('John says, \"i feel useless and worthless\". John feels', 0)]. Ablating different sadness related features.\n",
        "\n",
        "11683\n",
        "{'LABEL_0': 0.7438570696860551, 'LABEL_1': 0.18644340730272232, 'LABEL_2': 0.0247323771356605, 'LABEL_3': 0.017631164686754346, 'LABEL_4': 0.01756741581019014, 'LABEL_5': 0.009768533073365688}\n",
        "{'LABEL_0': 0.6161106714047492, 'LABEL_1': 0.18169188546482473, 'LABEL_2': 0.028732943083159625, 'LABEL_3': 0.12216368986293674, 'LABEL_4': 0.038217867156490684, 'LABEL_5': 0.01308290582615882}\n",
        "\n",
        "14915\n",
        "{'LABEL_0': 0.008139210753142834, 'LABEL_1': 0.949044406414032, 'LABEL_2': 0.03130289167165756, 'LABEL_3': 0.00414611678570509, 'LABEL_4': 0.0027581765316426754, 'LABEL_5': 0.00460908655077219}\n",
        "{'LABEL_0': 0.5758281467668712, 'LABEL_1': 0.2030424150498584, 'LABEL_2': 0.03302797882817685, 'LABEL_3': 0.1272725001210347, 'LABEL_4': 0.04610442724544555, 'LABEL_5': 0.014724502684548496}\n",
        "\n",
        "17722\n",
        "{'LABEL_0': 0.2885161219164729, 'LABEL_1': 0.46399708884768187, 'LABEL_2': 0.028879764513112603, 'LABEL_3': 0.16316900093108416, 'LABEL_4': 0.03944069048855454, 'LABEL_5': 0.015997369014658033}\n",
        "{'LABEL_0': 0.6763336971402168, 'LABEL_1': 0.17796218468341976, 'LABEL_2': 0.02843470806023106, 'LABEL_3': 0.06912240616977215, 'LABEL_4': 0.03557066047098487, 'LABEL_5': 0.012576312185265124}\n",
        "\n",
        "11568\n",
        "{'LABEL_0': 0.48621975720860067, 'LABEL_1': 0.4106632198439911, 'LABEL_2': 0.031068368107080458, 'LABEL_3': 0.020184251200407743, 'LABEL_4': 0.03600713633466512, 'LABEL_5': 0.01585724333766848}\n",
        "{'LABEL_0': 0.5652943521365523, 'LABEL_1': 0.226593662253581, 'LABEL_2': 0.03588325154967606, 'LABEL_3': 0.11619068092200906, 'LABEL_4': 0.041884939451701936, 'LABEL_5': 0.014153092394117266}\n",
        "\n",
        "4350\n",
        "{'LABEL_0': 0.9730195999145508, 'LABEL_1': 0.008994914591312408, 'LABEL_2': 0.004097764380276203, 'LABEL_3': 0.007663421798497438, 'LABEL_4': 0.0038471869193017483, 'LABEL_5': 0.002377139637246728}\n",
        "{'LABEL_0': 0.6374521311931312, 'LABEL_1': 0.2146033818181604, 'LABEL_2': 0.034242681413888934, 'LABEL_3': 0.05548086636234075, 'LABEL_4': 0.043121416876092555, 'LABEL_5': 0.015099486615508795}\n",
        "\n",
        "2442\n",
        "{'LABEL_0': 0.6811704892665148, 'LABEL_1': 0.22660987806506455, 'LABEL_2': 0.026250735172070563, 'LABEL_3': 0.026648959834128617, 'LABEL_4': 0.028745932737365365, 'LABEL_5': 0.010574012834113092}\n",
        "{'LABEL_0': 0.5984470611251891, 'LABEL_1': 0.21912903918419033, 'LABEL_2': 0.03872540342854336, 'LABEL_3': 0.07174572517164052, 'LABEL_4': 0.054375935890711845, 'LABEL_5': 0.017576801620889454}\n",
        "\n",
        "10636\n",
        "{'LABEL_0': 0.09680476065259427, 'LABEL_1': 0.8577145149558782, 'LABEL_2': 0.0314618837274611, 'LABEL_3': 0.005863760388456285, 'LABEL_4': 0.0032979709561914206, 'LABEL_5': 0.004857047218829394}\n",
        "{'LABEL_0': 0.5427213779650628, 'LABEL_1': 0.2272636397043243, 'LABEL_2': 0.04191851173061877, 'LABEL_3': 0.10166165309492499, 'LABEL_4': 0.06627334529999644, 'LABEL_5': 0.020161441655363887}"
      ]
    },
    {
      "cell_type": "markdown",
      "metadata": {
        "id": "JVTbMgMzCLB9"
      },
      "source": [
        "## Next Steps\n",
        "\n",
        "Ideas you could take for further exploration:\n",
        "\n",
        "*   Try ablating the feature\n",
        "*   Try and get a response where just the feature token prints over and over\n",
        "*   Investigate other features with more complex usage\n",
        "\n"
      ]
    },
    {
      "cell_type": "markdown",
      "metadata": {},
      "source": [
        "### Effect of ablating emotion related features"
      ]
    },
    {
      "cell_type": "code",
      "execution_count": null,
      "metadata": {},
      "outputs": [],
      "source": []
    },
    {
      "cell_type": "markdown",
      "metadata": {},
      "source": [
        "### Attempts at LLMs as Oracles"
      ]
    },
    {
      "cell_type": "code",
      "execution_count": 167,
      "metadata": {},
      "outputs": [
        {
          "name": "stdout",
          "output_type": "stream",
          "text": [
            "sadness, joy, love, anger, fear, surprise\n",
            "John feels that he has been able to get his life back on track. He is now in a position where he can do what he loves and be happy.\n"
          ]
        }
      ],
      "source": [
        "emotion_labels = emotion_dataset.features['label'].names\n",
        "# judge_prompt = f'For each of the following emotions: {emotion_labels}, rate '\n",
        "emotions = \", \".join(emotion_labels)\n",
        "print(emotions)\n",
        "# judge_prompt = f'For the following text: {example_response}, which of the following emotions: {emotions}, does John feel?'\n",
        "# judge_prompt = f'For the following text: \\\"{steered_example[0]}\\\", what does John feel?'\n",
        "# judge_prompt = f'Given the following text: \\\"{steered_example[0]}\\\", what does John feel? John feels'\n",
        "print(steered_example[0])"
      ]
    },
    {
      "cell_type": "code",
      "execution_count": 86,
      "metadata": {},
      "outputs": [
        {
          "data": {
            "application/vnd.jupyter.widget-view+json": {
              "model_id": "18c815949f2b44f3956b3d6d3cd2a07a",
              "version_major": 2,
              "version_minor": 0
            },
            "text/plain": [
              "Loading checkpoint shards:   0%|          | 0/4 [00:00<?, ?it/s]"
            ]
          },
          "metadata": {},
          "output_type": "display_data"
        },
        {
          "name": "stderr",
          "output_type": "stream",
          "text": [
            "Special tokens have been added in the vocabulary, make sure the associated word embeddings are fine-tuned or trained.\n"
          ]
        }
      ],
      "source": [
        "\n",
        "model_id = \"meta-llama/Meta-Llama-3-8B\"\n",
        "\n",
        "pipeline = transformers.pipeline(\n",
        "    \"text-generation\",\n",
        "    model=model_id,\n",
        "    model_kwargs={\"torch_dtype\": torch.bfloat16},\n",
        "    device=device,\n",
        "    return_full_text=False,\n",
        ")"
      ]
    },
    {
      "cell_type": "code",
      "execution_count": 173,
      "metadata": {},
      "outputs": [],
      "source": [
        "# Import few-shot prompt\n",
        "\n",
        "# label_map = {'(a)': 'sadness', '(b)': 'joy', '(c)': 'love', '(d)': 'anger', '(e)': 'fear', '(f)': 'surprise'}\n",
        "label_map = {'(a)': 0, '(b)': 1, '(c)': 2, '(d)': 3, '(e)': 4, '(f)': 5}\n",
        "\n",
        "new_prompt = f\"\\n\\n---\\n\\nText:\\n\\\\'\\'\\'\\n{steered_example[0]}\\n\\\\'\\'\\'\\nLabel:\"\n",
        "\n",
        "prompt_file = open('fewshot.txt', 'r')\n",
        "\n",
        "judge_fewshot = prompt_file.read()\n",
        "# judge_prompt += new_prompt\n",
        "\n",
        "prompt_file.close()"
      ]
    },
    {
      "cell_type": "code",
      "execution_count": 169,
      "metadata": {},
      "outputs": [
        {
          "name": "stderr",
          "output_type": "stream",
          "text": [
            "Setting `pad_token_id` to `eos_token_id`:128001 for open-end generation.\n"
          ]
        },
        {
          "name": "stdout",
          "output_type": "stream",
          "text": [
            "Example response: John feels that he has been able to get his life back on track. He is now in a position where he can do what he loves and be happy.\n",
            "{'generated_text': ' (a)\\n\\n'}\n",
            "annotation: sadness\n"
          ]
        }
      ],
      "source": [
        "print('Example response:', steered_example[0])\n",
        "\n",
        "# messages = [\n",
        "#     # {\"role\": \"system\", \"content\": f\"You are an expert at emotion recognition.\"},\n",
        "#     {\"role\": \"user\", \"content\": judge_prompt},\n",
        "# ]\n",
        "\n",
        "terminators = [\n",
        "    pipeline.tokenizer.eos_token_id,\n",
        "    pipeline.tokenizer.convert_tokens_to_ids(\"<|eot_id|>\")\n",
        "]\n",
        "\n",
        "outputs = pipeline(\n",
        "    judge_prompt,\n",
        "    max_new_tokens=3,\n",
        "    eos_token_id=terminators,\n",
        "    do_sample=True,\n",
        "    temperature=0.1,\n",
        "    top_p=0.1,\n",
        ")\n",
        "print(outputs[0])\n",
        "annotation = label_map[outputs[0]['generated_text'][1:4]]\n",
        "print('annotation:', annotation)\n"
      ]
    },
    {
      "cell_type": "markdown",
      "metadata": {},
      "source": [
        "### Default responses from GPT2 (no steering, annotation done by Llama 3 - 8B)"
      ]
    },
    {
      "cell_type": "code",
      "execution_count": 180,
      "metadata": {},
      "outputs": [
        {
          "name": "stdout",
          "output_type": "stream",
          "text": [
            "['John feels like he\\'s been doing this for years. He\\'s not sure if he\\'ll ever get over it.\\n\\nJohn says, \"i love the', 'John feels like he\\'s been doing this for years. He\\'s not sure if he\\'ll ever get over it.\\n\\nJohn says, \"i love the', 'John feels like he\\'s been doing this for years. He\\'s not sure if he\\'ll ever get over it.\\n\\nJohn says, \"i love the', 'John feels like he\\'s been doing this for years. He\\'s not sure if he\\'ll ever get over it.\\n\\nJohn says, \"i love the', 'John feels like he\\'s been doing this for years. He\\'s not sure if he\\'ll ever get over it.\\n\\nJohn says, \"i love the', 'John feels like he\\'s been doing this for years. He\\'s not sure if he\\'ll ever get over it.\\n\\nJohn says, \"i love the', 'John feels like he\\'s been doing this for years. He\\'s not sure if he\\'ll ever get over it.\\n\\nJohn says, \"i love the', 'John feels like he\\'s been doing this for years. He\\'s not sure if he\\'ll ever get over it.\\n\\nJohn says, \"i love the', 'John feels like he\\'s been doing this for years. He\\'s not sure if he\\'ll ever get over it.\\n\\nJohn says, \"i love the', 'John feels like he\\'s been doing this for years. He\\'s not sure if he\\'ll ever get over it.\\n\\nJohn says, \"i love the', 'John feels like he\\'s been doing this for years. He\\'s not sure if he\\'ll ever get over it.\\n\\nJohn says, \"i love the', 'John feels like he\\'s been doing this for years. He\\'s not sure if he\\'ll ever get over it.\\n\\nJohn says, \"i love the', 'John feels like he\\'s been doing this for years. He\\'s not sure if he\\'ll ever get over it.\\n\\nJohn says, \"i love the', 'John feels like he\\'s been doing this for years. He\\'s not sure if he\\'ll ever get over it.\\n\\nJohn says, \"i love the', 'John feels like he\\'s been doing this for years. He\\'s not sure if he\\'ll ever get over it.\\n\\nJohn says, \"i love the', 'John feels like he\\'s been doing this for years. He\\'s not sure if he\\'ll ever get over it.\\n\\nJohn says, \"i love the']\n"
          ]
        }
      ],
      "source": [
        "print(default_generation['responses'][2])"
      ]
    },
    {
      "cell_type": "code",
      "execution_count": 174,
      "metadata": {},
      "outputs": [
        {
          "name": "stderr",
          "output_type": "stream",
          "text": [
            "Setting `pad_token_id` to `eos_token_id`:128001 for open-end generation.\n",
            "Setting `pad_token_id` to `eos_token_id`:128001 for open-end generation.\n",
            "Setting `pad_token_id` to `eos_token_id`:128001 for open-end generation.\n",
            "Setting `pad_token_id` to `eos_token_id`:128001 for open-end generation.\n",
            "Setting `pad_token_id` to `eos_token_id`:128001 for open-end generation.\n",
            "Setting `pad_token_id` to `eos_token_id`:128001 for open-end generation.\n",
            "Setting `pad_token_id` to `eos_token_id`:128001 for open-end generation.\n",
            "Setting `pad_token_id` to `eos_token_id`:128001 for open-end generation.\n",
            "Setting `pad_token_id` to `eos_token_id`:128001 for open-end generation.\n",
            "Setting `pad_token_id` to `eos_token_id`:128001 for open-end generation.\n",
            "Setting `pad_token_id` to `eos_token_id`:128001 for open-end generation.\n",
            "Setting `pad_token_id` to `eos_token_id`:128001 for open-end generation.\n",
            "Setting `pad_token_id` to `eos_token_id`:128001 for open-end generation.\n",
            "Setting `pad_token_id` to `eos_token_id`:128001 for open-end generation.\n",
            "Setting `pad_token_id` to `eos_token_id`:128001 for open-end generation.\n",
            "Setting `pad_token_id` to `eos_token_id`:128001 for open-end generation.\n",
            "Setting `pad_token_id` to `eos_token_id`:128001 for open-end generation.\n",
            "Setting `pad_token_id` to `eos_token_id`:128001 for open-end generation.\n",
            "Setting `pad_token_id` to `eos_token_id`:128001 for open-end generation.\n",
            "Setting `pad_token_id` to `eos_token_id`:128001 for open-end generation.\n",
            "Setting `pad_token_id` to `eos_token_id`:128001 for open-end generation.\n",
            "Setting `pad_token_id` to `eos_token_id`:128001 for open-end generation.\n",
            "Setting `pad_token_id` to `eos_token_id`:128001 for open-end generation.\n",
            "Setting `pad_token_id` to `eos_token_id`:128001 for open-end generation.\n",
            "Setting `pad_token_id` to `eos_token_id`:128001 for open-end generation.\n",
            "Setting `pad_token_id` to `eos_token_id`:128001 for open-end generation.\n",
            "Setting `pad_token_id` to `eos_token_id`:128001 for open-end generation.\n",
            "Setting `pad_token_id` to `eos_token_id`:128001 for open-end generation.\n",
            "Setting `pad_token_id` to `eos_token_id`:128001 for open-end generation.\n",
            "Setting `pad_token_id` to `eos_token_id`:128001 for open-end generation.\n",
            "Setting `pad_token_id` to `eos_token_id`:128001 for open-end generation.\n",
            "Setting `pad_token_id` to `eos_token_id`:128001 for open-end generation.\n",
            "Setting `pad_token_id` to `eos_token_id`:128001 for open-end generation.\n",
            "Setting `pad_token_id` to `eos_token_id`:128001 for open-end generation.\n",
            "Setting `pad_token_id` to `eos_token_id`:128001 for open-end generation.\n",
            "Setting `pad_token_id` to `eos_token_id`:128001 for open-end generation.\n",
            "Setting `pad_token_id` to `eos_token_id`:128001 for open-end generation.\n",
            "Setting `pad_token_id` to `eos_token_id`:128001 for open-end generation.\n",
            "Setting `pad_token_id` to `eos_token_id`:128001 for open-end generation.\n",
            "Setting `pad_token_id` to `eos_token_id`:128001 for open-end generation.\n",
            "Setting `pad_token_id` to `eos_token_id`:128001 for open-end generation.\n",
            "Setting `pad_token_id` to `eos_token_id`:128001 for open-end generation.\n",
            "Setting `pad_token_id` to `eos_token_id`:128001 for open-end generation.\n",
            "Setting `pad_token_id` to `eos_token_id`:128001 for open-end generation.\n",
            "Setting `pad_token_id` to `eos_token_id`:128001 for open-end generation.\n",
            "Setting `pad_token_id` to `eos_token_id`:128001 for open-end generation.\n",
            "Setting `pad_token_id` to `eos_token_id`:128001 for open-end generation.\n",
            "Setting `pad_token_id` to `eos_token_id`:128001 for open-end generation.\n",
            "Setting `pad_token_id` to `eos_token_id`:128001 for open-end generation.\n",
            "Setting `pad_token_id` to `eos_token_id`:128001 for open-end generation.\n",
            "Setting `pad_token_id` to `eos_token_id`:128001 for open-end generation.\n",
            "Setting `pad_token_id` to `eos_token_id`:128001 for open-end generation.\n",
            "Setting `pad_token_id` to `eos_token_id`:128001 for open-end generation.\n",
            "Setting `pad_token_id` to `eos_token_id`:128001 for open-end generation.\n",
            "Setting `pad_token_id` to `eos_token_id`:128001 for open-end generation.\n",
            "Setting `pad_token_id` to `eos_token_id`:128001 for open-end generation.\n",
            "Setting `pad_token_id` to `eos_token_id`:128001 for open-end generation.\n",
            "Setting `pad_token_id` to `eos_token_id`:128001 for open-end generation.\n",
            "Setting `pad_token_id` to `eos_token_id`:128001 for open-end generation.\n",
            "Setting `pad_token_id` to `eos_token_id`:128001 for open-end generation.\n",
            "Setting `pad_token_id` to `eos_token_id`:128001 for open-end generation.\n",
            "Setting `pad_token_id` to `eos_token_id`:128001 for open-end generation.\n",
            "Setting `pad_token_id` to `eos_token_id`:128001 for open-end generation.\n",
            "Setting `pad_token_id` to `eos_token_id`:128001 for open-end generation.\n",
            "Setting `pad_token_id` to `eos_token_id`:128001 for open-end generation.\n",
            "Setting `pad_token_id` to `eos_token_id`:128001 for open-end generation.\n",
            "Setting `pad_token_id` to `eos_token_id`:128001 for open-end generation.\n",
            "Setting `pad_token_id` to `eos_token_id`:128001 for open-end generation.\n",
            "Setting `pad_token_id` to `eos_token_id`:128001 for open-end generation.\n",
            "Setting `pad_token_id` to `eos_token_id`:128001 for open-end generation.\n",
            "Setting `pad_token_id` to `eos_token_id`:128001 for open-end generation.\n",
            "Setting `pad_token_id` to `eos_token_id`:128001 for open-end generation.\n",
            "Setting `pad_token_id` to `eos_token_id`:128001 for open-end generation.\n",
            "Setting `pad_token_id` to `eos_token_id`:128001 for open-end generation.\n",
            "Setting `pad_token_id` to `eos_token_id`:128001 for open-end generation.\n",
            "Setting `pad_token_id` to `eos_token_id`:128001 for open-end generation.\n",
            "Setting `pad_token_id` to `eos_token_id`:128001 for open-end generation.\n",
            "Setting `pad_token_id` to `eos_token_id`:128001 for open-end generation.\n",
            "Setting `pad_token_id` to `eos_token_id`:128001 for open-end generation.\n",
            "Setting `pad_token_id` to `eos_token_id`:128001 for open-end generation.\n",
            "Setting `pad_token_id` to `eos_token_id`:128001 for open-end generation.\n",
            "Setting `pad_token_id` to `eos_token_id`:128001 for open-end generation.\n",
            "Setting `pad_token_id` to `eos_token_id`:128001 for open-end generation.\n",
            "Setting `pad_token_id` to `eos_token_id`:128001 for open-end generation.\n",
            "Setting `pad_token_id` to `eos_token_id`:128001 for open-end generation.\n",
            "Setting `pad_token_id` to `eos_token_id`:128001 for open-end generation.\n",
            "Setting `pad_token_id` to `eos_token_id`:128001 for open-end generation.\n",
            "Setting `pad_token_id` to `eos_token_id`:128001 for open-end generation.\n",
            "Setting `pad_token_id` to `eos_token_id`:128001 for open-end generation.\n",
            "Setting `pad_token_id` to `eos_token_id`:128001 for open-end generation.\n",
            "Setting `pad_token_id` to `eos_token_id`:128001 for open-end generation.\n",
            "Setting `pad_token_id` to `eos_token_id`:128001 for open-end generation.\n",
            "Setting `pad_token_id` to `eos_token_id`:128001 for open-end generation.\n",
            "Setting `pad_token_id` to `eos_token_id`:128001 for open-end generation.\n",
            "Setting `pad_token_id` to `eos_token_id`:128001 for open-end generation.\n",
            "Setting `pad_token_id` to `eos_token_id`:128001 for open-end generation.\n",
            "Setting `pad_token_id` to `eos_token_id`:128001 for open-end generation.\n",
            "Setting `pad_token_id` to `eos_token_id`:128001 for open-end generation.\n",
            "Setting `pad_token_id` to `eos_token_id`:128001 for open-end generation.\n",
            "Setting `pad_token_id` to `eos_token_id`:128001 for open-end generation.\n",
            "Setting `pad_token_id` to `eos_token_id`:128001 for open-end generation.\n",
            "Setting `pad_token_id` to `eos_token_id`:128001 for open-end generation.\n",
            "Setting `pad_token_id` to `eos_token_id`:128001 for open-end generation.\n",
            "Setting `pad_token_id` to `eos_token_id`:128001 for open-end generation.\n",
            "Setting `pad_token_id` to `eos_token_id`:128001 for open-end generation.\n",
            "Setting `pad_token_id` to `eos_token_id`:128001 for open-end generation.\n",
            "Setting `pad_token_id` to `eos_token_id`:128001 for open-end generation.\n",
            "Setting `pad_token_id` to `eos_token_id`:128001 for open-end generation.\n",
            "Setting `pad_token_id` to `eos_token_id`:128001 for open-end generation.\n",
            "Setting `pad_token_id` to `eos_token_id`:128001 for open-end generation.\n",
            "Setting `pad_token_id` to `eos_token_id`:128001 for open-end generation.\n",
            "Setting `pad_token_id` to `eos_token_id`:128001 for open-end generation.\n",
            "Setting `pad_token_id` to `eos_token_id`:128001 for open-end generation.\n",
            "Setting `pad_token_id` to `eos_token_id`:128001 for open-end generation.\n",
            "Setting `pad_token_id` to `eos_token_id`:128001 for open-end generation.\n",
            "Setting `pad_token_id` to `eos_token_id`:128001 for open-end generation.\n",
            "Setting `pad_token_id` to `eos_token_id`:128001 for open-end generation.\n",
            "Setting `pad_token_id` to `eos_token_id`:128001 for open-end generation.\n",
            "Setting `pad_token_id` to `eos_token_id`:128001 for open-end generation.\n",
            "Setting `pad_token_id` to `eos_token_id`:128001 for open-end generation.\n",
            "Setting `pad_token_id` to `eos_token_id`:128001 for open-end generation.\n",
            "Setting `pad_token_id` to `eos_token_id`:128001 for open-end generation.\n",
            "Setting `pad_token_id` to `eos_token_id`:128001 for open-end generation.\n",
            "Setting `pad_token_id` to `eos_token_id`:128001 for open-end generation.\n",
            "Setting `pad_token_id` to `eos_token_id`:128001 for open-end generation.\n",
            "Setting `pad_token_id` to `eos_token_id`:128001 for open-end generation.\n",
            "Setting `pad_token_id` to `eos_token_id`:128001 for open-end generation.\n",
            "Setting `pad_token_id` to `eos_token_id`:128001 for open-end generation.\n",
            "Setting `pad_token_id` to `eos_token_id`:128001 for open-end generation.\n",
            "Setting `pad_token_id` to `eos_token_id`:128001 for open-end generation.\n",
            "Setting `pad_token_id` to `eos_token_id`:128001 for open-end generation.\n",
            "Setting `pad_token_id` to `eos_token_id`:128001 for open-end generation.\n",
            "Setting `pad_token_id` to `eos_token_id`:128001 for open-end generation.\n",
            "Setting `pad_token_id` to `eos_token_id`:128001 for open-end generation.\n",
            "Setting `pad_token_id` to `eos_token_id`:128001 for open-end generation.\n",
            "Setting `pad_token_id` to `eos_token_id`:128001 for open-end generation.\n",
            "Setting `pad_token_id` to `eos_token_id`:128001 for open-end generation.\n",
            "Setting `pad_token_id` to `eos_token_id`:128001 for open-end generation.\n",
            "Setting `pad_token_id` to `eos_token_id`:128001 for open-end generation.\n",
            "Setting `pad_token_id` to `eos_token_id`:128001 for open-end generation.\n",
            "Setting `pad_token_id` to `eos_token_id`:128001 for open-end generation.\n",
            "Setting `pad_token_id` to `eos_token_id`:128001 for open-end generation.\n",
            "Setting `pad_token_id` to `eos_token_id`:128001 for open-end generation.\n",
            "Setting `pad_token_id` to `eos_token_id`:128001 for open-end generation.\n",
            "Setting `pad_token_id` to `eos_token_id`:128001 for open-end generation.\n",
            "Setting `pad_token_id` to `eos_token_id`:128001 for open-end generation.\n",
            "Setting `pad_token_id` to `eos_token_id`:128001 for open-end generation.\n",
            "Setting `pad_token_id` to `eos_token_id`:128001 for open-end generation.\n",
            "Setting `pad_token_id` to `eos_token_id`:128001 for open-end generation.\n",
            "Setting `pad_token_id` to `eos_token_id`:128001 for open-end generation.\n",
            "Setting `pad_token_id` to `eos_token_id`:128001 for open-end generation.\n",
            "Setting `pad_token_id` to `eos_token_id`:128001 for open-end generation.\n",
            "Setting `pad_token_id` to `eos_token_id`:128001 for open-end generation.\n",
            "Setting `pad_token_id` to `eos_token_id`:128001 for open-end generation.\n",
            "Setting `pad_token_id` to `eos_token_id`:128001 for open-end generation.\n",
            "Setting `pad_token_id` to `eos_token_id`:128001 for open-end generation.\n",
            "Setting `pad_token_id` to `eos_token_id`:128001 for open-end generation.\n",
            "Setting `pad_token_id` to `eos_token_id`:128001 for open-end generation.\n",
            "Setting `pad_token_id` to `eos_token_id`:128001 for open-end generation.\n",
            "Setting `pad_token_id` to `eos_token_id`:128001 for open-end generation.\n",
            "Setting `pad_token_id` to `eos_token_id`:128001 for open-end generation.\n",
            "Setting `pad_token_id` to `eos_token_id`:128001 for open-end generation.\n",
            "Setting `pad_token_id` to `eos_token_id`:128001 for open-end generation.\n",
            "Setting `pad_token_id` to `eos_token_id`:128001 for open-end generation.\n",
            "Setting `pad_token_id` to `eos_token_id`:128001 for open-end generation.\n",
            "Setting `pad_token_id` to `eos_token_id`:128001 for open-end generation.\n",
            "Setting `pad_token_id` to `eos_token_id`:128001 for open-end generation.\n",
            "Setting `pad_token_id` to `eos_token_id`:128001 for open-end generation.\n",
            "Setting `pad_token_id` to `eos_token_id`:128001 for open-end generation.\n",
            "Setting `pad_token_id` to `eos_token_id`:128001 for open-end generation.\n",
            "Setting `pad_token_id` to `eos_token_id`:128001 for open-end generation.\n",
            "Setting `pad_token_id` to `eos_token_id`:128001 for open-end generation.\n",
            "Setting `pad_token_id` to `eos_token_id`:128001 for open-end generation.\n",
            "Setting `pad_token_id` to `eos_token_id`:128001 for open-end generation.\n",
            "Setting `pad_token_id` to `eos_token_id`:128001 for open-end generation.\n",
            "Setting `pad_token_id` to `eos_token_id`:128001 for open-end generation.\n",
            "Setting `pad_token_id` to `eos_token_id`:128001 for open-end generation.\n",
            "Setting `pad_token_id` to `eos_token_id`:128001 for open-end generation.\n",
            "Setting `pad_token_id` to `eos_token_id`:128001 for open-end generation.\n",
            "Setting `pad_token_id` to `eos_token_id`:128001 for open-end generation.\n",
            "Setting `pad_token_id` to `eos_token_id`:128001 for open-end generation.\n",
            "Setting `pad_token_id` to `eos_token_id`:128001 for open-end generation.\n",
            "Setting `pad_token_id` to `eos_token_id`:128001 for open-end generation.\n",
            "Setting `pad_token_id` to `eos_token_id`:128001 for open-end generation.\n",
            "Setting `pad_token_id` to `eos_token_id`:128001 for open-end generation.\n",
            "Setting `pad_token_id` to `eos_token_id`:128001 for open-end generation.\n",
            "Setting `pad_token_id` to `eos_token_id`:128001 for open-end generation.\n",
            "Setting `pad_token_id` to `eos_token_id`:128001 for open-end generation.\n",
            "Setting `pad_token_id` to `eos_token_id`:128001 for open-end generation.\n",
            "Setting `pad_token_id` to `eos_token_id`:128001 for open-end generation.\n",
            "Setting `pad_token_id` to `eos_token_id`:128001 for open-end generation.\n",
            "Setting `pad_token_id` to `eos_token_id`:128001 for open-end generation.\n",
            "Setting `pad_token_id` to `eos_token_id`:128001 for open-end generation.\n",
            "Setting `pad_token_id` to `eos_token_id`:128001 for open-end generation.\n",
            "Setting `pad_token_id` to `eos_token_id`:128001 for open-end generation.\n",
            "Setting `pad_token_id` to `eos_token_id`:128001 for open-end generation.\n",
            "Setting `pad_token_id` to `eos_token_id`:128001 for open-end generation.\n",
            "Setting `pad_token_id` to `eos_token_id`:128001 for open-end generation.\n",
            "Setting `pad_token_id` to `eos_token_id`:128001 for open-end generation.\n",
            "Setting `pad_token_id` to `eos_token_id`:128001 for open-end generation.\n",
            "Setting `pad_token_id` to `eos_token_id`:128001 for open-end generation.\n",
            "Setting `pad_token_id` to `eos_token_id`:128001 for open-end generation.\n",
            "Setting `pad_token_id` to `eos_token_id`:128001 for open-end generation.\n",
            "Setting `pad_token_id` to `eos_token_id`:128001 for open-end generation.\n",
            "Setting `pad_token_id` to `eos_token_id`:128001 for open-end generation.\n",
            "Setting `pad_token_id` to `eos_token_id`:128001 for open-end generation.\n",
            "Setting `pad_token_id` to `eos_token_id`:128001 for open-end generation.\n",
            "Setting `pad_token_id` to `eos_token_id`:128001 for open-end generation.\n",
            "Setting `pad_token_id` to `eos_token_id`:128001 for open-end generation.\n",
            "Setting `pad_token_id` to `eos_token_id`:128001 for open-end generation.\n",
            "Setting `pad_token_id` to `eos_token_id`:128001 for open-end generation.\n",
            "Setting `pad_token_id` to `eos_token_id`:128001 for open-end generation.\n",
            "Setting `pad_token_id` to `eos_token_id`:128001 for open-end generation.\n",
            "Setting `pad_token_id` to `eos_token_id`:128001 for open-end generation.\n",
            "Setting `pad_token_id` to `eos_token_id`:128001 for open-end generation.\n",
            "Setting `pad_token_id` to `eos_token_id`:128001 for open-end generation.\n",
            "Setting `pad_token_id` to `eos_token_id`:128001 for open-end generation.\n",
            "Setting `pad_token_id` to `eos_token_id`:128001 for open-end generation.\n",
            "Setting `pad_token_id` to `eos_token_id`:128001 for open-end generation.\n",
            "Setting `pad_token_id` to `eos_token_id`:128001 for open-end generation.\n",
            "Setting `pad_token_id` to `eos_token_id`:128001 for open-end generation.\n",
            "Setting `pad_token_id` to `eos_token_id`:128001 for open-end generation.\n",
            "Setting `pad_token_id` to `eos_token_id`:128001 for open-end generation.\n",
            "Setting `pad_token_id` to `eos_token_id`:128001 for open-end generation.\n",
            "Setting `pad_token_id` to `eos_token_id`:128001 for open-end generation.\n",
            "Setting `pad_token_id` to `eos_token_id`:128001 for open-end generation.\n",
            "Setting `pad_token_id` to `eos_token_id`:128001 for open-end generation.\n",
            "Setting `pad_token_id` to `eos_token_id`:128001 for open-end generation.\n",
            "Setting `pad_token_id` to `eos_token_id`:128001 for open-end generation.\n",
            "Setting `pad_token_id` to `eos_token_id`:128001 for open-end generation.\n",
            "Setting `pad_token_id` to `eos_token_id`:128001 for open-end generation.\n",
            "Setting `pad_token_id` to `eos_token_id`:128001 for open-end generation.\n",
            "Setting `pad_token_id` to `eos_token_id`:128001 for open-end generation.\n",
            "Setting `pad_token_id` to `eos_token_id`:128001 for open-end generation.\n",
            "Setting `pad_token_id` to `eos_token_id`:128001 for open-end generation.\n",
            "Setting `pad_token_id` to `eos_token_id`:128001 for open-end generation.\n",
            "Setting `pad_token_id` to `eos_token_id`:128001 for open-end generation.\n",
            "Setting `pad_token_id` to `eos_token_id`:128001 for open-end generation.\n",
            "Setting `pad_token_id` to `eos_token_id`:128001 for open-end generation.\n",
            "Setting `pad_token_id` to `eos_token_id`:128001 for open-end generation.\n",
            "Setting `pad_token_id` to `eos_token_id`:128001 for open-end generation.\n",
            "Setting `pad_token_id` to `eos_token_id`:128001 for open-end generation.\n",
            "Setting `pad_token_id` to `eos_token_id`:128001 for open-end generation.\n",
            "Setting `pad_token_id` to `eos_token_id`:128001 for open-end generation.\n",
            "Setting `pad_token_id` to `eos_token_id`:128001 for open-end generation.\n",
            "Setting `pad_token_id` to `eos_token_id`:128001 for open-end generation.\n",
            "Setting `pad_token_id` to `eos_token_id`:128001 for open-end generation.\n",
            "Setting `pad_token_id` to `eos_token_id`:128001 for open-end generation.\n",
            "Setting `pad_token_id` to `eos_token_id`:128001 for open-end generation.\n",
            "Setting `pad_token_id` to `eos_token_id`:128001 for open-end generation.\n",
            "Setting `pad_token_id` to `eos_token_id`:128001 for open-end generation.\n",
            "Setting `pad_token_id` to `eos_token_id`:128001 for open-end generation.\n",
            "Setting `pad_token_id` to `eos_token_id`:128001 for open-end generation.\n",
            "Setting `pad_token_id` to `eos_token_id`:128001 for open-end generation.\n",
            "Setting `pad_token_id` to `eos_token_id`:128001 for open-end generation.\n",
            "Setting `pad_token_id` to `eos_token_id`:128001 for open-end generation.\n"
          ]
        }
      ],
      "source": [
        "annotation_df = default_generation.copy(deep=True)\n",
        "annotation_df['responses'] = np.empty(annotation_df['responses'].size, dtype=str)\n",
        "annotation_df = annotation_df.rename(columns={'responses': 'prediction'})\n",
        "\n",
        "for i, row in default_generation.iterrows():\n",
        "\n",
        "    row_annotations = pd.Series(n_samples, dtype=int)\n",
        "\n",
        "    for j, response in enumerate(row['responses']):\n",
        "\n",
        "        new_prompt = new_prompt = f\"\\n\\n---\\n\\nText:\\n\\\\'\\'\\'\\n{response}\\n\\\\'\\'\\'\\nLabel:\"\n",
        "        judge_prompt = judge_fewshot + new_prompt\n",
        "\n",
        "        outputs = pipeline(\n",
        "                    judge_prompt,\n",
        "                    max_new_tokens=3,\n",
        "                    eos_token_id=terminators,\n",
        "                    do_sample=True,\n",
        "                    temperature=0.1,\n",
        "                    top_p=0.1,\n",
        "                    )   \n",
        "    \n",
        "        annotation = label_map[outputs[0]['generated_text'][1:4]]\n",
        "        row_annotations[j] = annotation\n",
        "\n",
        "    annotation = row_annotations.mode()\n",
        "    # Add annotation to annotation_df\n",
        "    # annotation_df['prediction'][i] = annotation\n",
        "    annotation_df.loc[i, \"prediction\"] = annotation[0]\n",
        "\n"
      ]
    },
    {
      "cell_type": "code",
      "execution_count": 212,
      "metadata": {},
      "outputs": [
        {
          "name": "stdout",
          "output_type": "stream",
          "text": [
            "0    3\n",
            "1    7\n",
            "2    0\n",
            "3    3\n",
            "4    2\n",
            "5    1\n",
            "dtype: int64\n"
          ]
        }
      ],
      "source": [
        "# Fill in missing labels if necessary \n",
        "labels = [0, 1, 2, 3, 4, 5]\n",
        "real_labels = annotation_df['label'].value_counts(sort=False)\n",
        "\n",
        "missing = []\n",
        "for label in labels:\n",
        "    if label not in real_labels.index:\n",
        "        missing.append(label)\n",
        "missing = pd.Series([0 for _ in range(len(missing))], index=missing)\n",
        "real_labels = pd.concat([real_labels, missing])\n",
        "real_labels = real_labels.reindex(sorted(real_labels.index))\n",
        "print(real_labels)\n"
      ]
    },
    {
      "cell_type": "code",
      "execution_count": 213,
      "metadata": {},
      "outputs": [
        {
          "data": {
            "text/plain": [
              "<Axes: >"
            ]
          },
          "execution_count": 213,
          "metadata": {},
          "output_type": "execute_result"
        },
        {
          "data": {
            "image/png": "[encoded data removed]",
            "text/plain": [
              "<Figure size 640x480 with 1 Axes>"
            ]
          },
          "metadata": {},
          "output_type": "display_data"
        }
      ],
      "source": [
        "real_labels.plot(kind='bar')"
      ]
    },
    {
      "cell_type": "code",
      "execution_count": 194,
      "metadata": {},
      "outputs": [
        {
          "data": {
            "text/plain": [
              "<Axes: xlabel='prediction'>"
            ]
          },
          "execution_count": 194,
          "metadata": {},
          "output_type": "execute_result"
        },
        {
          "data": {
            "image/png": "[encoded data removed]",
            "text/plain": [
              "<Figure size 640x480 with 1 Axes>"
            ]
          },
          "metadata": {},
          "output_type": "display_data"
        }
      ],
      "source": [
        "annotation_df['prediction'].value_counts(sort=False).plot(kind='bar')"
      ]
    },
    {
      "cell_type": "code",
      "execution_count": null,
      "metadata": {},
      "outputs": [],
      "source": []
    }
  ],
  "metadata": {
    "accelerator": "GPU",
    "colab": {
      "collapsed_sections": [
        "fapxk8MDrs6R",
        "CmaPYLpGrxbo"
      ],
      "gpuType": "T4",
      "provenance": []
    },
    "kernelspec": {
      "display_name": "steering",
      "language": "python",
      "name": "python3"
    },
    "language_info": {
      "codemirror_mode": {
        "name": "ipython",
        "version": 3
      },
      "file_extension": ".py",
      "mimetype": "text/x-python",
      "name": "python",
      "nbconvert_exporter": "python",
      "pygments_lexer": "ipython3",
      "version": "3.10.14"
    },
    "widgets": {
      "application/vnd.jupyter.widget-state+json": {
        "06d77984a1a64d39938bfe68e114539b": {
          "model_module": "@jupyter-widgets/controls",
          "model_module_version": "1.5.0",
          "model_name": "HTMLModel",
          "state": {
            "_dom_classes": [],
            "_model_module": "@jupyter-widgets/controls",
            "_model_module_version": "1.5.0",
            "_model_name": "HTMLModel",
            "_view_count": null,
            "_view_module": "@jupyter-widgets/controls",
            "_view_module_version": "1.5.0",
            "_view_name": "HTMLView",
            "description": "",
            "description_tooltip": null,
            "layout": "IPY_MODEL_fe6cae73e861414eaff54680113676bc",
            "placeholder": "​",
            "style": "IPY_MODEL_3f5f9cad86e24dd489146215c3a208c9",
            "value": "100%"
          }
        },
        "07c0dd1a8de149408b981a8892f6e46d": {
          "model_module": "@jupyter-widgets/controls",
          "model_module_version": "1.5.0",
          "model_name": "ProgressStyleModel",
          "state": {
            "_model_module": "@jupyter-widgets/controls",
            "_model_module_version": "1.5.0",
            "_model_name": "ProgressStyleModel",
            "_view_count": null,
            "_view_module": "@jupyter-widgets/base",
            "_view_module_version": "1.2.0",
            "_view_name": "StyleView",
            "bar_color": null,
            "description_width": ""
          }
        },
        "106650a69f4c4bd0a340d58c4bd4f1bb": {
          "model_module": "@jupyter-widgets/controls",
          "model_module_version": "1.5.0",
          "model_name": "HBoxModel",
          "state": {
            "_dom_classes": [],
            "_model_module": "@jupyter-widgets/controls",
            "_model_module_version": "1.5.0",
            "_model_name": "HBoxModel",
            "_view_count": null,
            "_view_module": "@jupyter-widgets/controls",
            "_view_module_version": "1.5.0",
            "_view_name": "HBoxView",
            "box_style": "",
            "children": [
              "IPY_MODEL_06d77984a1a64d39938bfe68e114539b",
              "IPY_MODEL_6571f57262c447ce9177223fb583e707",
              "IPY_MODEL_a2179cafb63f475db0162cd990a17ff7"
            ],
            "layout": "IPY_MODEL_c0bb81765e93420796cd5f959e9d3534"
          }
        },
        "1a5dd5f7c9d340b6ab00ecaf43525ae9": {
          "model_module": "@jupyter-widgets/controls",
          "model_module_version": "1.5.0",
          "model_name": "HBoxModel",
          "state": {
            "_dom_classes": [],
            "_model_module": "@jupyter-widgets/controls",
            "_model_module_version": "1.5.0",
            "_model_name": "HBoxModel",
            "_view_count": null,
            "_view_module": "@jupyter-widgets/controls",
            "_view_module_version": "1.5.0",
            "_view_name": "HBoxView",
            "box_style": "",
            "children": [
              "IPY_MODEL_8211cc6c973a43fcaf18e14f6d7f08a2",
              "IPY_MODEL_3d3584d1feec459287ffa24c4ef790c3",
              "IPY_MODEL_5f03835168e64ec588c50ee21fedd198"
            ],
            "layout": "IPY_MODEL_b833db18729f422cb86deed4be6f1900"
          }
        },
        "229dad8e29f04c279c5603286e2c0643": {
          "model_module": "@jupyter-widgets/base",
          "model_module_version": "1.2.0",
          "model_name": "LayoutModel",
          "state": {
            "_model_module": "@jupyter-widgets/base",
            "_model_module_version": "1.2.0",
            "_model_name": "LayoutModel",
            "_view_count": null,
            "_view_module": "@jupyter-widgets/base",
            "_view_module_version": "1.2.0",
            "_view_name": "LayoutView",
            "align_content": null,
            "align_items": null,
            "align_self": null,
            "border": null,
            "bottom": null,
            "display": null,
            "flex": null,
            "flex_flow": null,
            "grid_area": null,
            "grid_auto_columns": null,
            "grid_auto_flow": null,
            "grid_auto_rows": null,
            "grid_column": null,
            "grid_gap": null,
            "grid_row": null,
            "grid_template_areas": null,
            "grid_template_columns": null,
            "grid_template_rows": null,
            "height": null,
            "justify_content": null,
            "justify_items": null,
            "left": null,
            "margin": null,
            "max_height": null,
            "max_width": null,
            "min_height": null,
            "min_width": null,
            "object_fit": null,
            "object_position": null,
            "order": null,
            "overflow": null,
            "overflow_x": null,
            "overflow_y": null,
            "padding": null,
            "right": null,
            "top": null,
            "visibility": null,
            "width": null
          }
        },
        "25ebd285de2e49c483c3b22b5c8364c0": {
          "model_module": "@jupyter-widgets/base",
          "model_module_version": "1.2.0",
          "model_name": "LayoutModel",
          "state": {
            "_model_module": "@jupyter-widgets/base",
            "_model_module_version": "1.2.0",
            "_model_name": "LayoutModel",
            "_view_count": null,
            "_view_module": "@jupyter-widgets/base",
            "_view_module_version": "1.2.0",
            "_view_name": "LayoutView",
            "align_content": null,
            "align_items": null,
            "align_self": null,
            "border": null,
            "bottom": null,
            "display": null,
            "flex": null,
            "flex_flow": null,
            "grid_area": null,
            "grid_auto_columns": null,
            "grid_auto_flow": null,
            "grid_auto_rows": null,
            "grid_column": null,
            "grid_gap": null,
            "grid_row": null,
            "grid_template_areas": null,
            "grid_template_columns": null,
            "grid_template_rows": null,
            "height": null,
            "justify_content": null,
            "justify_items": null,
            "left": null,
            "margin": null,
            "max_height": null,
            "max_width": null,
            "min_height": null,
            "min_width": null,
            "object_fit": null,
            "object_position": null,
            "order": null,
            "overflow": null,
            "overflow_x": null,
            "overflow_y": null,
            "padding": null,
            "right": null,
            "top": null,
            "visibility": null,
            "width": null
          }
        },
        "359ef2b8a4ac4a9c9a91edc4a2dd1326": {
          "model_module": "@jupyter-widgets/base",
          "model_module_version": "1.2.0",
          "model_name": "LayoutModel",
          "state": {
            "_model_module": "@jupyter-widgets/base",
            "_model_module_version": "1.2.0",
            "_model_name": "LayoutModel",
            "_view_count": null,
            "_view_module": "@jupyter-widgets/base",
            "_view_module_version": "1.2.0",
            "_view_name": "LayoutView",
            "align_content": null,
            "align_items": null,
            "align_self": null,
            "border": null,
            "bottom": null,
            "display": null,
            "flex": null,
            "flex_flow": null,
            "grid_area": null,
            "grid_auto_columns": null,
            "grid_auto_flow": null,
            "grid_auto_rows": null,
            "grid_column": null,
            "grid_gap": null,
            "grid_row": null,
            "grid_template_areas": null,
            "grid_template_columns": null,
            "grid_template_rows": null,
            "height": null,
            "justify_content": null,
            "justify_items": null,
            "left": null,
            "margin": null,
            "max_height": null,
            "max_width": null,
            "min_height": null,
            "min_width": null,
            "object_fit": null,
            "object_position": null,
            "order": null,
            "overflow": null,
            "overflow_x": null,
            "overflow_y": null,
            "padding": null,
            "right": null,
            "top": null,
            "visibility": null,
            "width": null
          }
        },
        "38341454dd6b4e9ca2fe5b85d2e371e1": {
          "model_module": "@jupyter-widgets/controls",
          "model_module_version": "1.5.0",
          "model_name": "DescriptionStyleModel",
          "state": {
            "_model_module": "@jupyter-widgets/controls",
            "_model_module_version": "1.5.0",
            "_model_name": "DescriptionStyleModel",
            "_view_count": null,
            "_view_module": "@jupyter-widgets/base",
            "_view_module_version": "1.2.0",
            "_view_name": "StyleView",
            "description_width": ""
          }
        },
        "3b74befc8d70471697ce6686ab4ac5c3": {
          "model_module": "@jupyter-widgets/base",
          "model_module_version": "1.2.0",
          "model_name": "LayoutModel",
          "state": {
            "_model_module": "@jupyter-widgets/base",
            "_model_module_version": "1.2.0",
            "_model_name": "LayoutModel",
            "_view_count": null,
            "_view_module": "@jupyter-widgets/base",
            "_view_module_version": "1.2.0",
            "_view_name": "LayoutView",
            "align_content": null,
            "align_items": null,
            "align_self": null,
            "border": null,
            "bottom": null,
            "display": null,
            "flex": null,
            "flex_flow": null,
            "grid_area": null,
            "grid_auto_columns": null,
            "grid_auto_flow": null,
            "grid_auto_rows": null,
            "grid_column": null,
            "grid_gap": null,
            "grid_row": null,
            "grid_template_areas": null,
            "grid_template_columns": null,
            "grid_template_rows": null,
            "height": null,
            "justify_content": null,
            "justify_items": null,
            "left": null,
            "margin": null,
            "max_height": null,
            "max_width": null,
            "min_height": null,
            "min_width": null,
            "object_fit": null,
            "object_position": null,
            "order": null,
            "overflow": null,
            "overflow_x": null,
            "overflow_y": null,
            "padding": null,
            "right": null,
            "top": null,
            "visibility": null,
            "width": null
          }
        },
        "3d3584d1feec459287ffa24c4ef790c3": {
          "model_module": "@jupyter-widgets/controls",
          "model_module_version": "1.5.0",
          "model_name": "FloatProgressModel",
          "state": {
            "_dom_classes": [],
            "_model_module": "@jupyter-widgets/controls",
            "_model_module_version": "1.5.0",
            "_model_name": "FloatProgressModel",
            "_view_count": null,
            "_view_module": "@jupyter-widgets/controls",
            "_view_module_version": "1.5.0",
            "_view_name": "ProgressView",
            "bar_style": "success",
            "description": "",
            "description_tooltip": null,
            "layout": "IPY_MODEL_a30c82833f55441995744300c2ef538d",
            "max": 50,
            "min": 0,
            "orientation": "horizontal",
            "style": "IPY_MODEL_4932983d4f1a4199b3d24c730c765a24",
            "value": 50
          }
        },
        "3f5f9cad86e24dd489146215c3a208c9": {
          "model_module": "@jupyter-widgets/controls",
          "model_module_version": "1.5.0",
          "model_name": "DescriptionStyleModel",
          "state": {
            "_model_module": "@jupyter-widgets/controls",
            "_model_module_version": "1.5.0",
            "_model_name": "DescriptionStyleModel",
            "_view_count": null,
            "_view_module": "@jupyter-widgets/base",
            "_view_module_version": "1.2.0",
            "_view_name": "StyleView",
            "description_width": ""
          }
        },
        "3fdf0c5e62f24f30b02bcdc37b17c2e7": {
          "model_module": "@jupyter-widgets/base",
          "model_module_version": "1.2.0",
          "model_name": "LayoutModel",
          "state": {
            "_model_module": "@jupyter-widgets/base",
            "_model_module_version": "1.2.0",
            "_model_name": "LayoutModel",
            "_view_count": null,
            "_view_module": "@jupyter-widgets/base",
            "_view_module_version": "1.2.0",
            "_view_name": "LayoutView",
            "align_content": null,
            "align_items": null,
            "align_self": null,
            "border": null,
            "bottom": null,
            "display": null,
            "flex": null,
            "flex_flow": null,
            "grid_area": null,
            "grid_auto_columns": null,
            "grid_auto_flow": null,
            "grid_auto_rows": null,
            "grid_column": null,
            "grid_gap": null,
            "grid_row": null,
            "grid_template_areas": null,
            "grid_template_columns": null,
            "grid_template_rows": null,
            "height": null,
            "justify_content": null,
            "justify_items": null,
            "left": null,
            "margin": null,
            "max_height": null,
            "max_width": null,
            "min_height": null,
            "min_width": null,
            "object_fit": null,
            "object_position": null,
            "order": null,
            "overflow": null,
            "overflow_x": null,
            "overflow_y": null,
            "padding": null,
            "right": null,
            "top": null,
            "visibility": null,
            "width": null
          }
        },
        "4024c181581c485abd3181586afc2574": {
          "model_module": "@jupyter-widgets/controls",
          "model_module_version": "1.5.0",
          "model_name": "FloatProgressModel",
          "state": {
            "_dom_classes": [],
            "_model_module": "@jupyter-widgets/controls",
            "_model_module_version": "1.5.0",
            "_model_name": "FloatProgressModel",
            "_view_count": null,
            "_view_module": "@jupyter-widgets/controls",
            "_view_module_version": "1.5.0",
            "_view_name": "ProgressView",
            "bar_style": "success",
            "description": "",
            "description_tooltip": null,
            "layout": "IPY_MODEL_3fdf0c5e62f24f30b02bcdc37b17c2e7",
            "max": 50,
            "min": 0,
            "orientation": "horizontal",
            "style": "IPY_MODEL_07c0dd1a8de149408b981a8892f6e46d",
            "value": 50
          }
        },
        "4932983d4f1a4199b3d24c730c765a24": {
          "model_module": "@jupyter-widgets/controls",
          "model_module_version": "1.5.0",
          "model_name": "ProgressStyleModel",
          "state": {
            "_model_module": "@jupyter-widgets/controls",
            "_model_module_version": "1.5.0",
            "_model_name": "ProgressStyleModel",
            "_view_count": null,
            "_view_module": "@jupyter-widgets/base",
            "_view_module_version": "1.2.0",
            "_view_name": "StyleView",
            "bar_color": null,
            "description_width": ""
          }
        },
        "5c53f97287d54c03a378fc44ab791cd7": {
          "model_module": "@jupyter-widgets/controls",
          "model_module_version": "1.5.0",
          "model_name": "DescriptionStyleModel",
          "state": {
            "_model_module": "@jupyter-widgets/controls",
            "_model_module_version": "1.5.0",
            "_model_name": "DescriptionStyleModel",
            "_view_count": null,
            "_view_module": "@jupyter-widgets/base",
            "_view_module_version": "1.2.0",
            "_view_name": "StyleView",
            "description_width": ""
          }
        },
        "5e9700580d6b4ad0bfac34bf3b3919fc": {
          "model_module": "@jupyter-widgets/base",
          "model_module_version": "1.2.0",
          "model_name": "LayoutModel",
          "state": {
            "_model_module": "@jupyter-widgets/base",
            "_model_module_version": "1.2.0",
            "_model_name": "LayoutModel",
            "_view_count": null,
            "_view_module": "@jupyter-widgets/base",
            "_view_module_version": "1.2.0",
            "_view_name": "LayoutView",
            "align_content": null,
            "align_items": null,
            "align_self": null,
            "border": null,
            "bottom": null,
            "display": null,
            "flex": null,
            "flex_flow": null,
            "grid_area": null,
            "grid_auto_columns": null,
            "grid_auto_flow": null,
            "grid_auto_rows": null,
            "grid_column": null,
            "grid_gap": null,
            "grid_row": null,
            "grid_template_areas": null,
            "grid_template_columns": null,
            "grid_template_rows": null,
            "height": null,
            "justify_content": null,
            "justify_items": null,
            "left": null,
            "margin": null,
            "max_height": null,
            "max_width": null,
            "min_height": null,
            "min_width": null,
            "object_fit": null,
            "object_position": null,
            "order": null,
            "overflow": null,
            "overflow_x": null,
            "overflow_y": null,
            "padding": null,
            "right": null,
            "top": null,
            "visibility": null,
            "width": null
          }
        },
        "5f03835168e64ec588c50ee21fedd198": {
          "model_module": "@jupyter-widgets/controls",
          "model_module_version": "1.5.0",
          "model_name": "HTMLModel",
          "state": {
            "_dom_classes": [],
            "_model_module": "@jupyter-widgets/controls",
            "_model_module_version": "1.5.0",
            "_model_name": "HTMLModel",
            "_view_count": null,
            "_view_module": "@jupyter-widgets/controls",
            "_view_module_version": "1.5.0",
            "_view_name": "HTMLView",
            "description": "",
            "description_tooltip": null,
            "layout": "IPY_MODEL_c20e9e14100d45f3bdff1b6df943940f",
            "placeholder": "​",
            "style": "IPY_MODEL_5c53f97287d54c03a378fc44ab791cd7",
            "value": " 50/50 [00:01&lt;00:00, 29.69it/s]"
          }
        },
        "60604227dac34e37a0a9f3bfb3984317": {
          "model_module": "@jupyter-widgets/controls",
          "model_module_version": "1.5.0",
          "model_name": "HTMLModel",
          "state": {
            "_dom_classes": [],
            "_model_module": "@jupyter-widgets/controls",
            "_model_module_version": "1.5.0",
            "_model_name": "HTMLModel",
            "_view_count": null,
            "_view_module": "@jupyter-widgets/controls",
            "_view_module_version": "1.5.0",
            "_view_name": "HTMLView",
            "description": "",
            "description_tooltip": null,
            "layout": "IPY_MODEL_3b74befc8d70471697ce6686ab4ac5c3",
            "placeholder": "​",
            "style": "IPY_MODEL_b2ff537e768b43ef98c412e633ab9e49",
            "value": "100%"
          }
        },
        "635162e10abc441797d4e5b74713bf44": {
          "model_module": "@jupyter-widgets/controls",
          "model_module_version": "1.5.0",
          "model_name": "HTMLModel",
          "state": {
            "_dom_classes": [],
            "_model_module": "@jupyter-widgets/controls",
            "_model_module_version": "1.5.0",
            "_model_name": "HTMLModel",
            "_view_count": null,
            "_view_module": "@jupyter-widgets/controls",
            "_view_module_version": "1.5.0",
            "_view_name": "HTMLView",
            "description": "",
            "description_tooltip": null,
            "layout": "IPY_MODEL_5e9700580d6b4ad0bfac34bf3b3919fc",
            "placeholder": "​",
            "style": "IPY_MODEL_a2c30462ef8d41fd9158f194a746d5a7",
            "value": " 50/50 [00:02&lt;00:00, 29.94it/s]"
          }
        },
        "6571f57262c447ce9177223fb583e707": {
          "model_module": "@jupyter-widgets/controls",
          "model_module_version": "1.5.0",
          "model_name": "FloatProgressModel",
          "state": {
            "_dom_classes": [],
            "_model_module": "@jupyter-widgets/controls",
            "_model_module_version": "1.5.0",
            "_model_name": "FloatProgressModel",
            "_view_count": null,
            "_view_module": "@jupyter-widgets/controls",
            "_view_module_version": "1.5.0",
            "_view_name": "ProgressView",
            "bar_style": "success",
            "description": "",
            "description_tooltip": null,
            "layout": "IPY_MODEL_70006fb01d6a49fb909e4a3bfc5b940a",
            "max": 50,
            "min": 0,
            "orientation": "horizontal",
            "style": "IPY_MODEL_7980b120d41247548f49667cea6156a5",
            "value": 50
          }
        },
        "66d406d6eb1f49699ee09c9a2fd4ffa9": {
          "model_module": "@jupyter-widgets/base",
          "model_module_version": "1.2.0",
          "model_name": "LayoutModel",
          "state": {
            "_model_module": "@jupyter-widgets/base",
            "_model_module_version": "1.2.0",
            "_model_name": "LayoutModel",
            "_view_count": null,
            "_view_module": "@jupyter-widgets/base",
            "_view_module_version": "1.2.0",
            "_view_name": "LayoutView",
            "align_content": null,
            "align_items": null,
            "align_self": null,
            "border": null,
            "bottom": null,
            "display": null,
            "flex": null,
            "flex_flow": null,
            "grid_area": null,
            "grid_auto_columns": null,
            "grid_auto_flow": null,
            "grid_auto_rows": null,
            "grid_column": null,
            "grid_gap": null,
            "grid_row": null,
            "grid_template_areas": null,
            "grid_template_columns": null,
            "grid_template_rows": null,
            "height": null,
            "justify_content": null,
            "justify_items": null,
            "left": null,
            "margin": null,
            "max_height": null,
            "max_width": null,
            "min_height": null,
            "min_width": null,
            "object_fit": null,
            "object_position": null,
            "order": null,
            "overflow": null,
            "overflow_x": null,
            "overflow_y": null,
            "padding": null,
            "right": null,
            "top": null,
            "visibility": null,
            "width": null
          }
        },
        "70006fb01d6a49fb909e4a3bfc5b940a": {
          "model_module": "@jupyter-widgets/base",
          "model_module_version": "1.2.0",
          "model_name": "LayoutModel",
          "state": {
            "_model_module": "@jupyter-widgets/base",
            "_model_module_version": "1.2.0",
            "_model_name": "LayoutModel",
            "_view_count": null,
            "_view_module": "@jupyter-widgets/base",
            "_view_module_version": "1.2.0",
            "_view_name": "LayoutView",
            "align_content": null,
            "align_items": null,
            "align_self": null,
            "border": null,
            "bottom": null,
            "display": null,
            "flex": null,
            "flex_flow": null,
            "grid_area": null,
            "grid_auto_columns": null,
            "grid_auto_flow": null,
            "grid_auto_rows": null,
            "grid_column": null,
            "grid_gap": null,
            "grid_row": null,
            "grid_template_areas": null,
            "grid_template_columns": null,
            "grid_template_rows": null,
            "height": null,
            "justify_content": null,
            "justify_items": null,
            "left": null,
            "margin": null,
            "max_height": null,
            "max_width": null,
            "min_height": null,
            "min_width": null,
            "object_fit": null,
            "object_position": null,
            "order": null,
            "overflow": null,
            "overflow_x": null,
            "overflow_y": null,
            "padding": null,
            "right": null,
            "top": null,
            "visibility": null,
            "width": null
          }
        },
        "720b4d010c364e3fbf72a53b267e8db9": {
          "model_module": "@jupyter-widgets/base",
          "model_module_version": "1.2.0",
          "model_name": "LayoutModel",
          "state": {
            "_model_module": "@jupyter-widgets/base",
            "_model_module_version": "1.2.0",
            "_model_name": "LayoutModel",
            "_view_count": null,
            "_view_module": "@jupyter-widgets/base",
            "_view_module_version": "1.2.0",
            "_view_name": "LayoutView",
            "align_content": null,
            "align_items": null,
            "align_self": null,
            "border": null,
            "bottom": null,
            "display": null,
            "flex": null,
            "flex_flow": null,
            "grid_area": null,
            "grid_auto_columns": null,
            "grid_auto_flow": null,
            "grid_auto_rows": null,
            "grid_column": null,
            "grid_gap": null,
            "grid_row": null,
            "grid_template_areas": null,
            "grid_template_columns": null,
            "grid_template_rows": null,
            "height": null,
            "justify_content": null,
            "justify_items": null,
            "left": null,
            "margin": null,
            "max_height": null,
            "max_width": null,
            "min_height": null,
            "min_width": null,
            "object_fit": null,
            "object_position": null,
            "order": null,
            "overflow": null,
            "overflow_x": null,
            "overflow_y": null,
            "padding": null,
            "right": null,
            "top": null,
            "visibility": null,
            "width": null
          }
        },
        "7761a50a602f41f1a21aa826c491eb9d": {
          "model_module": "@jupyter-widgets/controls",
          "model_module_version": "1.5.0",
          "model_name": "HTMLModel",
          "state": {
            "_dom_classes": [],
            "_model_module": "@jupyter-widgets/controls",
            "_model_module_version": "1.5.0",
            "_model_name": "HTMLModel",
            "_view_count": null,
            "_view_module": "@jupyter-widgets/controls",
            "_view_module_version": "1.5.0",
            "_view_name": "HTMLView",
            "description": "",
            "description_tooltip": null,
            "layout": "IPY_MODEL_b272384164504fa5b81d5502c12f8800",
            "placeholder": "​",
            "style": "IPY_MODEL_f525b9f19c334fe6b2305ad6bcfa20bf",
            "value": " 50/50 [00:01&lt;00:00, 28.55it/s]"
          }
        },
        "7980b120d41247548f49667cea6156a5": {
          "model_module": "@jupyter-widgets/controls",
          "model_module_version": "1.5.0",
          "model_name": "ProgressStyleModel",
          "state": {
            "_model_module": "@jupyter-widgets/controls",
            "_model_module_version": "1.5.0",
            "_model_name": "ProgressStyleModel",
            "_view_count": null,
            "_view_module": "@jupyter-widgets/base",
            "_view_module_version": "1.2.0",
            "_view_name": "StyleView",
            "bar_color": null,
            "description_width": ""
          }
        },
        "79b59cbde9444bf892931d31afec7f2a": {
          "model_module": "@jupyter-widgets/controls",
          "model_module_version": "1.5.0",
          "model_name": "HTMLModel",
          "state": {
            "_dom_classes": [],
            "_model_module": "@jupyter-widgets/controls",
            "_model_module_version": "1.5.0",
            "_model_name": "HTMLModel",
            "_view_count": null,
            "_view_module": "@jupyter-widgets/controls",
            "_view_module_version": "1.5.0",
            "_view_name": "HTMLView",
            "description": "",
            "description_tooltip": null,
            "layout": "IPY_MODEL_d9c33fbfb3164cbbb7b9a4cd172d20ae",
            "placeholder": "​",
            "style": "IPY_MODEL_df53331cce124bd1ada5aa9e9a977015",
            "value": "100%"
          }
        },
        "8211cc6c973a43fcaf18e14f6d7f08a2": {
          "model_module": "@jupyter-widgets/controls",
          "model_module_version": "1.5.0",
          "model_name": "HTMLModel",
          "state": {
            "_dom_classes": [],
            "_model_module": "@jupyter-widgets/controls",
            "_model_module_version": "1.5.0",
            "_model_name": "HTMLModel",
            "_view_count": null,
            "_view_module": "@jupyter-widgets/controls",
            "_view_module_version": "1.5.0",
            "_view_name": "HTMLView",
            "description": "",
            "description_tooltip": null,
            "layout": "IPY_MODEL_66d406d6eb1f49699ee09c9a2fd4ffa9",
            "placeholder": "​",
            "style": "IPY_MODEL_38341454dd6b4e9ca2fe5b85d2e371e1",
            "value": "100%"
          }
        },
        "83d947fc3338491ab4155b87c443884c": {
          "model_module": "@jupyter-widgets/controls",
          "model_module_version": "1.5.0",
          "model_name": "ProgressStyleModel",
          "state": {
            "_model_module": "@jupyter-widgets/controls",
            "_model_module_version": "1.5.0",
            "_model_name": "ProgressStyleModel",
            "_view_count": null,
            "_view_module": "@jupyter-widgets/base",
            "_view_module_version": "1.2.0",
            "_view_name": "StyleView",
            "bar_color": null,
            "description_width": ""
          }
        },
        "9f555c5ada38495eb4281cbb49169abe": {
          "model_module": "@jupyter-widgets/controls",
          "model_module_version": "1.5.0",
          "model_name": "HBoxModel",
          "state": {
            "_dom_classes": [],
            "_model_module": "@jupyter-widgets/controls",
            "_model_module_version": "1.5.0",
            "_model_name": "HBoxModel",
            "_view_count": null,
            "_view_module": "@jupyter-widgets/controls",
            "_view_module_version": "1.5.0",
            "_view_name": "HBoxView",
            "box_style": "",
            "children": [
              "IPY_MODEL_79b59cbde9444bf892931d31afec7f2a",
              "IPY_MODEL_a157870318114d459a33d795850967ef",
              "IPY_MODEL_635162e10abc441797d4e5b74713bf44"
            ],
            "layout": "IPY_MODEL_720b4d010c364e3fbf72a53b267e8db9"
          }
        },
        "a157870318114d459a33d795850967ef": {
          "model_module": "@jupyter-widgets/controls",
          "model_module_version": "1.5.0",
          "model_name": "FloatProgressModel",
          "state": {
            "_dom_classes": [],
            "_model_module": "@jupyter-widgets/controls",
            "_model_module_version": "1.5.0",
            "_model_name": "FloatProgressModel",
            "_view_count": null,
            "_view_module": "@jupyter-widgets/controls",
            "_view_module_version": "1.5.0",
            "_view_name": "ProgressView",
            "bar_style": "success",
            "description": "",
            "description_tooltip": null,
            "layout": "IPY_MODEL_229dad8e29f04c279c5603286e2c0643",
            "max": 50,
            "min": 0,
            "orientation": "horizontal",
            "style": "IPY_MODEL_83d947fc3338491ab4155b87c443884c",
            "value": 50
          }
        },
        "a2179cafb63f475db0162cd990a17ff7": {
          "model_module": "@jupyter-widgets/controls",
          "model_module_version": "1.5.0",
          "model_name": "HTMLModel",
          "state": {
            "_dom_classes": [],
            "_model_module": "@jupyter-widgets/controls",
            "_model_module_version": "1.5.0",
            "_model_name": "HTMLModel",
            "_view_count": null,
            "_view_module": "@jupyter-widgets/controls",
            "_view_module_version": "1.5.0",
            "_view_name": "HTMLView",
            "description": "",
            "description_tooltip": null,
            "layout": "IPY_MODEL_359ef2b8a4ac4a9c9a91edc4a2dd1326",
            "placeholder": "​",
            "style": "IPY_MODEL_c66dc6c14a4c4274900abe8fc993266a",
            "value": " 50/50 [00:01&lt;00:00, 28.62it/s]"
          }
        },
        "a2c30462ef8d41fd9158f194a746d5a7": {
          "model_module": "@jupyter-widgets/controls",
          "model_module_version": "1.5.0",
          "model_name": "DescriptionStyleModel",
          "state": {
            "_model_module": "@jupyter-widgets/controls",
            "_model_module_version": "1.5.0",
            "_model_name": "DescriptionStyleModel",
            "_view_count": null,
            "_view_module": "@jupyter-widgets/base",
            "_view_module_version": "1.2.0",
            "_view_name": "StyleView",
            "description_width": ""
          }
        },
        "a30c82833f55441995744300c2ef538d": {
          "model_module": "@jupyter-widgets/base",
          "model_module_version": "1.2.0",
          "model_name": "LayoutModel",
          "state": {
            "_model_module": "@jupyter-widgets/base",
            "_model_module_version": "1.2.0",
            "_model_name": "LayoutModel",
            "_view_count": null,
            "_view_module": "@jupyter-widgets/base",
            "_view_module_version": "1.2.0",
            "_view_name": "LayoutView",
            "align_content": null,
            "align_items": null,
            "align_self": null,
            "border": null,
            "bottom": null,
            "display": null,
            "flex": null,
            "flex_flow": null,
            "grid_area": null,
            "grid_auto_columns": null,
            "grid_auto_flow": null,
            "grid_auto_rows": null,
            "grid_column": null,
            "grid_gap": null,
            "grid_row": null,
            "grid_template_areas": null,
            "grid_template_columns": null,
            "grid_template_rows": null,
            "height": null,
            "justify_content": null,
            "justify_items": null,
            "left": null,
            "margin": null,
            "max_height": null,
            "max_width": null,
            "min_height": null,
            "min_width": null,
            "object_fit": null,
            "object_position": null,
            "order": null,
            "overflow": null,
            "overflow_x": null,
            "overflow_y": null,
            "padding": null,
            "right": null,
            "top": null,
            "visibility": null,
            "width": null
          }
        },
        "a8bdc4ecce4f48e0ba6483ea9e679336": {
          "model_module": "@jupyter-widgets/controls",
          "model_module_version": "1.5.0",
          "model_name": "HBoxModel",
          "state": {
            "_dom_classes": [],
            "_model_module": "@jupyter-widgets/controls",
            "_model_module_version": "1.5.0",
            "_model_name": "HBoxModel",
            "_view_count": null,
            "_view_module": "@jupyter-widgets/controls",
            "_view_module_version": "1.5.0",
            "_view_name": "HBoxView",
            "box_style": "",
            "children": [
              "IPY_MODEL_60604227dac34e37a0a9f3bfb3984317",
              "IPY_MODEL_4024c181581c485abd3181586afc2574",
              "IPY_MODEL_7761a50a602f41f1a21aa826c491eb9d"
            ],
            "layout": "IPY_MODEL_25ebd285de2e49c483c3b22b5c8364c0"
          }
        },
        "b272384164504fa5b81d5502c12f8800": {
          "model_module": "@jupyter-widgets/base",
          "model_module_version": "1.2.0",
          "model_name": "LayoutModel",
          "state": {
            "_model_module": "@jupyter-widgets/base",
            "_model_module_version": "1.2.0",
            "_model_name": "LayoutModel",
            "_view_count": null,
            "_view_module": "@jupyter-widgets/base",
            "_view_module_version": "1.2.0",
            "_view_name": "LayoutView",
            "align_content": null,
            "align_items": null,
            "align_self": null,
            "border": null,
            "bottom": null,
            "display": null,
            "flex": null,
            "flex_flow": null,
            "grid_area": null,
            "grid_auto_columns": null,
            "grid_auto_flow": null,
            "grid_auto_rows": null,
            "grid_column": null,
            "grid_gap": null,
            "grid_row": null,
            "grid_template_areas": null,
            "grid_template_columns": null,
            "grid_template_rows": null,
            "height": null,
            "justify_content": null,
            "justify_items": null,
            "left": null,
            "margin": null,
            "max_height": null,
            "max_width": null,
            "min_height": null,
            "min_width": null,
            "object_fit": null,
            "object_position": null,
            "order": null,
            "overflow": null,
            "overflow_x": null,
            "overflow_y": null,
            "padding": null,
            "right": null,
            "top": null,
            "visibility": null,
            "width": null
          }
        },
        "b2ff537e768b43ef98c412e633ab9e49": {
          "model_module": "@jupyter-widgets/controls",
          "model_module_version": "1.5.0",
          "model_name": "DescriptionStyleModel",
          "state": {
            "_model_module": "@jupyter-widgets/controls",
            "_model_module_version": "1.5.0",
            "_model_name": "DescriptionStyleModel",
            "_view_count": null,
            "_view_module": "@jupyter-widgets/base",
            "_view_module_version": "1.2.0",
            "_view_name": "StyleView",
            "description_width": ""
          }
        },
        "b833db18729f422cb86deed4be6f1900": {
          "model_module": "@jupyter-widgets/base",
          "model_module_version": "1.2.0",
          "model_name": "LayoutModel",
          "state": {
            "_model_module": "@jupyter-widgets/base",
            "_model_module_version": "1.2.0",
            "_model_name": "LayoutModel",
            "_view_count": null,
            "_view_module": "@jupyter-widgets/base",
            "_view_module_version": "1.2.0",
            "_view_name": "LayoutView",
            "align_content": null,
            "align_items": null,
            "align_self": null,
            "border": null,
            "bottom": null,
            "display": null,
            "flex": null,
            "flex_flow": null,
            "grid_area": null,
            "grid_auto_columns": null,
            "grid_auto_flow": null,
            "grid_auto_rows": null,
            "grid_column": null,
            "grid_gap": null,
            "grid_row": null,
            "grid_template_areas": null,
            "grid_template_columns": null,
            "grid_template_rows": null,
            "height": null,
            "justify_content": null,
            "justify_items": null,
            "left": null,
            "margin": null,
            "max_height": null,
            "max_width": null,
            "min_height": null,
            "min_width": null,
            "object_fit": null,
            "object_position": null,
            "order": null,
            "overflow": null,
            "overflow_x": null,
            "overflow_y": null,
            "padding": null,
            "right": null,
            "top": null,
            "visibility": null,
            "width": null
          }
        },
        "c0bb81765e93420796cd5f959e9d3534": {
          "model_module": "@jupyter-widgets/base",
          "model_module_version": "1.2.0",
          "model_name": "LayoutModel",
          "state": {
            "_model_module": "@jupyter-widgets/base",
            "_model_module_version": "1.2.0",
            "_model_name": "LayoutModel",
            "_view_count": null,
            "_view_module": "@jupyter-widgets/base",
            "_view_module_version": "1.2.0",
            "_view_name": "LayoutView",
            "align_content": null,
            "align_items": null,
            "align_self": null,
            "border": null,
            "bottom": null,
            "display": null,
            "flex": null,
            "flex_flow": null,
            "grid_area": null,
            "grid_auto_columns": null,
            "grid_auto_flow": null,
            "grid_auto_rows": null,
            "grid_column": null,
            "grid_gap": null,
            "grid_row": null,
            "grid_template_areas": null,
            "grid_template_columns": null,
            "grid_template_rows": null,
            "height": null,
            "justify_content": null,
            "justify_items": null,
            "left": null,
            "margin": null,
            "max_height": null,
            "max_width": null,
            "min_height": null,
            "min_width": null,
            "object_fit": null,
            "object_position": null,
            "order": null,
            "overflow": null,
            "overflow_x": null,
            "overflow_y": null,
            "padding": null,
            "right": null,
            "top": null,
            "visibility": null,
            "width": null
          }
        },
        "c20e9e14100d45f3bdff1b6df943940f": {
          "model_module": "@jupyter-widgets/base",
          "model_module_version": "1.2.0",
          "model_name": "LayoutModel",
          "state": {
            "_model_module": "@jupyter-widgets/base",
            "_model_module_version": "1.2.0",
            "_model_name": "LayoutModel",
            "_view_count": null,
            "_view_module": "@jupyter-widgets/base",
            "_view_module_version": "1.2.0",
            "_view_name": "LayoutView",
            "align_content": null,
            "align_items": null,
            "align_self": null,
            "border": null,
            "bottom": null,
            "display": null,
            "flex": null,
            "flex_flow": null,
            "grid_area": null,
            "grid_auto_columns": null,
            "grid_auto_flow": null,
            "grid_auto_rows": null,
            "grid_column": null,
            "grid_gap": null,
            "grid_row": null,
            "grid_template_areas": null,
            "grid_template_columns": null,
            "grid_template_rows": null,
            "height": null,
            "justify_content": null,
            "justify_items": null,
            "left": null,
            "margin": null,
            "max_height": null,
            "max_width": null,
            "min_height": null,
            "min_width": null,
            "object_fit": null,
            "object_position": null,
            "order": null,
            "overflow": null,
            "overflow_x": null,
            "overflow_y": null,
            "padding": null,
            "right": null,
            "top": null,
            "visibility": null,
            "width": null
          }
        },
        "c66dc6c14a4c4274900abe8fc993266a": {
          "model_module": "@jupyter-widgets/controls",
          "model_module_version": "1.5.0",
          "model_name": "DescriptionStyleModel",
          "state": {
            "_model_module": "@jupyter-widgets/controls",
            "_model_module_version": "1.5.0",
            "_model_name": "DescriptionStyleModel",
            "_view_count": null,
            "_view_module": "@jupyter-widgets/base",
            "_view_module_version": "1.2.0",
            "_view_name": "StyleView",
            "description_width": ""
          }
        },
        "d9c33fbfb3164cbbb7b9a4cd172d20ae": {
          "model_module": "@jupyter-widgets/base",
          "model_module_version": "1.2.0",
          "model_name": "LayoutModel",
          "state": {
            "_model_module": "@jupyter-widgets/base",
            "_model_module_version": "1.2.0",
            "_model_name": "LayoutModel",
            "_view_count": null,
            "_view_module": "@jupyter-widgets/base",
            "_view_module_version": "1.2.0",
            "_view_name": "LayoutView",
            "align_content": null,
            "align_items": null,
            "align_self": null,
            "border": null,
            "bottom": null,
            "display": null,
            "flex": null,
            "flex_flow": null,
            "grid_area": null,
            "grid_auto_columns": null,
            "grid_auto_flow": null,
            "grid_auto_rows": null,
            "grid_column": null,
            "grid_gap": null,
            "grid_row": null,
            "grid_template_areas": null,
            "grid_template_columns": null,
            "grid_template_rows": null,
            "height": null,
            "justify_content": null,
            "justify_items": null,
            "left": null,
            "margin": null,
            "max_height": null,
            "max_width": null,
            "min_height": null,
            "min_width": null,
            "object_fit": null,
            "object_position": null,
            "order": null,
            "overflow": null,
            "overflow_x": null,
            "overflow_y": null,
            "padding": null,
            "right": null,
            "top": null,
            "visibility": null,
            "width": null
          }
        },
        "df53331cce124bd1ada5aa9e9a977015": {
          "model_module": "@jupyter-widgets/controls",
          "model_module_version": "1.5.0",
          "model_name": "DescriptionStyleModel",
          "state": {
            "_model_module": "@jupyter-widgets/controls",
            "_model_module_version": "1.5.0",
            "_model_name": "DescriptionStyleModel",
            "_view_count": null,
            "_view_module": "@jupyter-widgets/base",
            "_view_module_version": "1.2.0",
            "_view_name": "StyleView",
            "description_width": ""
          }
        },
        "f525b9f19c334fe6b2305ad6bcfa20bf": {
          "model_module": "@jupyter-widgets/controls",
          "model_module_version": "1.5.0",
          "model_name": "DescriptionStyleModel",
          "state": {
            "_model_module": "@jupyter-widgets/controls",
            "_model_module_version": "1.5.0",
            "_model_name": "DescriptionStyleModel",
            "_view_count": null,
            "_view_module": "@jupyter-widgets/base",
            "_view_module_version": "1.2.0",
            "_view_name": "StyleView",
            "description_width": ""
          }
        },
        "fe6cae73e861414eaff54680113676bc": {
          "model_module": "@jupyter-widgets/base",
          "model_module_version": "1.2.0",
          "model_name": "LayoutModel",
          "state": {
            "_model_module": "@jupyter-widgets/base",
            "_model_module_version": "1.2.0",
            "_model_name": "LayoutModel",
            "_view_count": null,
            "_view_module": "@jupyter-widgets/base",
            "_view_module_version": "1.2.0",
            "_view_name": "LayoutView",
            "align_content": null,
            "align_items": null,
            "align_self": null,
            "border": null,
            "bottom": null,
            "display": null,
            "flex": null,
            "flex_flow": null,
            "grid_area": null,
            "grid_auto_columns": null,
            "grid_auto_flow": null,
            "grid_auto_rows": null,
            "grid_column": null,
            "grid_gap": null,
            "grid_row": null,
            "grid_template_areas": null,
            "grid_template_columns": null,
            "grid_template_rows": null,
            "height": null,
            "justify_content": null,
            "justify_items": null,
            "left": null,
            "margin": null,
            "max_height": null,
            "max_width": null,
            "min_height": null,
            "min_width": null,
            "object_fit": null,
            "object_position": null,
            "order": null,
            "overflow": null,
            "overflow_x": null,
            "overflow_y": null,
            "padding": null,
            "right": null,
            "top": null,
            "visibility": null,
            "width": null
          }
        }
      }
    }
  },
  "nbformat": 4,
  "nbformat_minor": 0
}
