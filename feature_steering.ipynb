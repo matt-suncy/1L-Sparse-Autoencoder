{
  "cells": [
    {
      "cell_type": "markdown",
      "metadata": {
        "id": "GoXn14ltnGh3"
      },
      "source": [
        "# Using an SAE as a steering vector\n",
        "\n",
        "This notebook demonstrates how to use SAE lens to identify a feature on a pretrained model, and then construct a steering vector to affect the models output to various prompts. This notebook will also make use of Neuronpedia for identifying features of interest.\n",
        "\n",
        "The steps below include:\n",
        "\n",
        "\n",
        "\n",
        "*   Installing relevant packages (Colab or locally)\n",
        "*   Load your SAE and the model it used\n",
        "*   Determining your feature of interest and its index\n",
        "*   Implementing your steering vector\n",
        "\n",
        "\n",
        "\n"
      ]
    },
    {
      "cell_type": "markdown",
      "metadata": {
        "id": "gf3lJYPEXh0v"
      },
      "source": [
        "## Setting up packages and notebook"
      ]
    },
    {
      "cell_type": "markdown",
      "metadata": {
        "id": "l9k5iGyOXtuN"
      },
      "source": [
        "### Import and installs"
      ]
    },
    {
      "cell_type": "markdown",
      "metadata": {
        "id": "fapxk8MDrs6R"
      },
      "source": [
        "#### Environment Setup\n"
      ]
    },
    {
      "cell_type": "code",
      "execution_count": 1,
      "metadata": {
        "colab": {
          "base_uri": "https://localhost:8080/"
        },
        "collapsed": true,
        "id": "0TwNmRkRUgR7",
        "outputId": "ffeb827a-9af2-4b09-b8dd-78e0d594ddf6"
      },
      "outputs": [],
      "source": [
        "try:\n",
        "  # for google colab users\n",
        "    import google.colab # type: ignore\n",
        "    from google.colab import output\n",
        "    COLAB = True\n",
        "    %pip install sae-lens transformer-lens\n",
        "except:\n",
        "  # for local setup\n",
        "    COLAB = False\n",
        "    from IPython import get_ipython # type: ignore\n",
        "    ipython = get_ipython(); assert ipython is not None\n",
        "    ipython.run_line_magic(\"load_ext\", \"autoreload\")\n",
        "    ipython.run_line_magic(\"autoreload\", \"2\")\n",
        "\n",
        "# Imports for displaying vis in Colab / notebook\n",
        "import webbrowser\n",
        "import http.server\n",
        "import socketserver\n",
        "import threading\n",
        "PORT = 8000\n",
        "\n",
        "# general imports\n",
        "import os\n",
        "import torch\n",
        "from tqdm import tqdm\n",
        "import plotly.express as px\n",
        "\n",
        "torch.set_grad_enabled(False);\n",
        "\n",
        "import pandas as pd\n",
        "from datasets import load_dataset\n",
        "import transformers"
      ]
    },
    {
      "cell_type": "code",
      "execution_count": 2,
      "metadata": {
        "id": "NGgIu1ZVYDub"
      },
      "outputs": [],
      "source": [
        "def display_vis_inline(filename: str, height: int = 850):\n",
        "    '''\n",
        "    Displays the HTML files in Colab. Uses global `PORT` variable defined in prev cell, so that each\n",
        "    vis has a unique port without having to define a port within the function.\n",
        "    '''\n",
        "    if not(COLAB):\n",
        "        webbrowser.open(filename);\n",
        "\n",
        "    else:\n",
        "        global PORT\n",
        "\n",
        "        def serve(directory):\n",
        "            os.chdir(directory)\n",
        "\n",
        "            # Create a handler for serving files\n",
        "            handler = http.server.SimpleHTTPRequestHandler\n",
        "\n",
        "            # Create a socket server with the handler\n",
        "            with socketserver.TCPServer((\"\", PORT), handler) as httpd:\n",
        "                print(f\"Serving files from {directory} on port {PORT}\")\n",
        "                httpd.serve_forever()\n",
        "\n",
        "        thread = threading.Thread(target=serve, args=(\"/content\",))\n",
        "        thread.start()\n",
        "\n",
        "        output.serve_kernel_port_as_iframe(PORT, path=f\"/{filename}\", height=height, cache_in_notebook=True)\n",
        "\n",
        "        PORT += 1"
      ]
    },
    {
      "cell_type": "markdown",
      "metadata": {
        "id": "CmaPYLpGrxbo"
      },
      "source": [
        "#### General Installs and device setup"
      ]
    },
    {
      "cell_type": "code",
      "execution_count": 3,
      "metadata": {
        "colab": {
          "base_uri": "https://localhost:8080/"
        },
        "id": "tdUm9rZKr1Qb",
        "outputId": "9b73b762-1356-437b-8925-91c514093b43"
      },
      "outputs": [
        {
          "name": "stdout",
          "output_type": "stream",
          "text": [
            "Device: cuda\n"
          ]
        }
      ],
      "source": [
        "# package import\n",
        "from torch import Tensor\n",
        "from transformer_lens import utils\n",
        "from functools import partial\n",
        "from jaxtyping import Int, Float\n",
        "\n",
        "\n",
        "# device setup\n",
        "if torch.backends.mps.is_available():\n",
        "    device = \"mps\"\n",
        "else:\n",
        "    device = \"cuda\" if torch.cuda.is_available() else \"cpu\"\n",
        "\n",
        "print(f\"Device: {device}\")"
      ]
    },
    {
      "cell_type": "markdown",
      "metadata": {
        "id": "lsB0qORUaXiK"
      },
      "source": [
        "### Load your model and SAE\n",
        "\n",
        "We're going to work with a pretrained GPT2-small model, and the RES-JB SAE set which is for the residual stream."
      ]
    },
    {
      "cell_type": "code",
      "execution_count": 58,
      "metadata": {
        "colab": {
          "base_uri": "https://localhost:8080/"
        },
        "collapsed": true,
        "id": "bCvNtm1OOhlR",
        "outputId": "e6fd27ab-ee94-46ec-a07e-ee48c8f30da3"
      },
      "outputs": [
        {
          "name": "stdout",
          "output_type": "stream",
          "text": [
            "Loaded pretrained model gpt2-small into HookedTransformer\n",
            "blocks.2.hook_resid_pre\n"
          ]
        }
      ],
      "source": [
        "from transformer_lens import HookedTransformer\n",
        "from sae_lens import SAE\n",
        "from sae_lens.toolkit.pretrained_saes import get_gpt2_res_jb_saes\n",
        "\n",
        "# Choose a layer you want to focus on\n",
        "# For this tutorial, we're going to use layer 2\n",
        "layer = 2\n",
        "\n",
        "# get model\n",
        "model = HookedTransformer.from_pretrained(\"gpt2-small\", device = device)\n",
        "\n",
        "# get the SAE for this layer\n",
        "'''\n",
        "sae, cfg_dict, _ = SAE.from_pretrained(\n",
        "    release = \"gemma-2b-res-jb\",\n",
        "    sae_id = f\"blocks.{layer}.hook_resid_post\",\n",
        "    device = device\n",
        ")\n",
        "'''\n",
        "sae, cfg_dict, _ = SAE.from_pretrained(\n",
        "    release = \"gpt2-small-res-jb\",\n",
        "    sae_id = f\"blocks.{layer}.hook_resid_pre\",\n",
        "    device = device\n",
        ")\n",
        "\n",
        "# get hook point\n",
        "hook_point = sae.cfg.hook_name\n",
        "print(hook_point)"
      ]
    },
    {
      "cell_type": "markdown",
      "metadata": {
        "id": "NkAAoyFbu5a5"
      },
      "source": [
        "## Determine your feature of interest and its index"
      ]
    },
    {
      "cell_type": "markdown",
      "metadata": {
        "id": "DkQNvdd54q4S"
      },
      "source": [
        "### Find your feature"
      ]
    },
    {
      "cell_type": "markdown",
      "metadata": {
        "id": "wzeY2D13xRjY"
      },
      "source": [
        "#### Explore through code by using the feature activations for a prompt\n",
        "\n",
        "For the purpose of the tutorial, we are selecting a simple token prompt.\n",
        "\n",
        "In this example we will look trying to find and steer a \"Jedi\" feature.\n",
        "\n",
        "We run our prompt on our model and get the cache, which we then use with our sae to get our feature activations.\n",
        "\n",
        "Now we'll look at the top feature activations and look them up on Neuronpedia to determine what they have been intepreted as."
      ]
    },
    {
      "cell_type": "code",
      "execution_count": 5,
      "metadata": {
        "colab": {
          "base_uri": "https://localhost:8080/"
        },
        "id": "IIrdJ36mlXgB",
        "outputId": "c4014b87-3af6-4c27-8f79-3b5a3c2c03dc"
      },
      "outputs": [
        {
          "name": "stdout",
          "output_type": "stream",
          "text": [
            "dir(sae)\n",
            " ['T_destination', 'W_dec', 'W_enc', '__annotations__', '__call__', '__class__', '__delattr__', '__dict__', '__dir__', '__doc__', '__eq__', '__format__', '__ge__', '__getattr__', '__getattribute__', '__getstate__', '__gt__', '__hash__', '__init__', '__init_subclass__', '__le__', '__lt__', '__module__', '__ne__', '__new__', '__reduce__', '__reduce_ex__', '__repr__', '__setattr__', '__setstate__', '__sizeof__', '__str__', '__subclasshook__', '__weakref__', '_apply', '_backward_hooks', '_backward_pre_hooks', '_buffers', '_call_impl', '_compiled_call_impl', '_enable_hook', '_enable_hook_with_name', '_enable_hooks_for_points', '_forward_hooks', '_forward_hooks_always_called', '_forward_hooks_with_kwargs', '_forward_pre_hooks', '_forward_pre_hooks_with_kwargs', '_get_backward_hooks', '_get_backward_pre_hooks', '_get_name', '_is_full_backward_hook', '_load_from_state_dict', '_load_state_dict_post_hooks', '_load_state_dict_pre_hooks', '_maybe_warn_non_full_backward_hook', '_modules', '_named_members', '_non_persistent_buffers_set', '_parameters', '_register_load_state_dict_pre_hook', '_register_state_dict_hook', '_replicate_for_data_parallel', '_save_to_state_dict', '_slow_forward', '_state_dict_hooks', '_state_dict_pre_hooks', '_version', '_wrapped_call_impl', 'activation_fn', 'add_caching_hooks', 'add_hook', 'add_module', 'add_perma_hook', 'apply', 'apply_finetuning_scaling_factor', 'b_dec', 'b_enc', 'bfloat16', 'buffers', 'cache_all', 'cache_some', 'call_super_init', 'cfg', 'check_and_add_hook', 'check_hooks_to_add', 'children', 'clear_contexts', 'compile', 'context_level', 'cpu', 'cuda', 'd_head', 'decode', 'device', 'double', 'dtype', 'dump_patches', 'encode', 'eval', 'extra_repr', 'float', 'fold_W_dec_norm', 'fold_activation_norm_scaling_factor', 'forward', 'from_dict', 'from_pretrained', 'get_buffer', 'get_caching_hooks', 'get_extra_state', 'get_name', 'get_parameter', 'get_submodule', 'half', 'hook_dict', 'hook_points', 'hook_sae_acts_post', 'hook_sae_acts_pre', 'hook_sae_error', 'hook_sae_input', 'hook_sae_output', 'hook_sae_recons', 'hook_z_reshaping_mode', 'hooks', 'initialize_weights_basic', 'ipu', 'is_caching', 'load_from_pretrained', 'load_state_dict', 'mod_dict', 'modules', 'named_buffers', 'named_children', 'named_modules', 'named_parameters', 'parameters', 'register_backward_hook', 'register_buffer', 'register_forward_hook', 'register_forward_pre_hook', 'register_full_backward_hook', 'register_full_backward_pre_hook', 'register_load_state_dict_post_hook', 'register_module', 'register_parameter', 'register_state_dict_pre_hook', 'remove_all_hook_fns', 'requires_grad_', 'reset_hooks', 'reshape_fn_in', 'reshape_fn_out', 'run_time_activation_norm_fn_in', 'run_time_activation_norm_fn_out', 'run_with_cache', 'run_with_hooks', 'save_model', 'set_extra_state', 'setup', 'share_memory', 'state_dict', 'to', 'to_empty', 'train', 'training', 'turn_off_forward_pass_hook_z_reshaping', 'turn_on_forward_pass_hook_z_reshaping', 'type', 'use_error_term', 'xpu', 'zero_grad']\n",
            "sae.W_enc.shape\n",
            " torch.Size([768, 24576])\n",
            "\n",
            "\n",
            "tokens tensor([[50256, 48640,   338,  3290,   655,  3724,    13,  1375,   318,  4203,\n",
            "          6507]], device='cuda:0')\n",
            "\n",
            " torch.return_types.topk(\n",
            "values=tensor([[[553.5056, 494.7831, 483.2340],\n",
            "         [ 20.6197,  16.4795,  14.0260],\n",
            "         [ 21.6390,  16.3316,  14.4957],\n",
            "         [ 59.8917,  10.8819,   9.6884],\n",
            "         [ 33.8041,  31.5941,  21.8417],\n",
            "         [ 39.3615,  17.9179,  12.1052],\n",
            "         [ 10.9960,  10.3718,   9.1150],\n",
            "         [ 29.8130,  13.0709,   9.3379],\n",
            "         [ 16.5870,  14.4605,  14.0514],\n",
            "         [ 42.5398,  19.7476,  17.4674],\n",
            "         [ 37.9356,  23.6779,   7.9513]]], device='cuda:0'),\n",
            "indices=tensor([[[ 1794,  4268, 16384],\n",
            "         [22633, 20056, 17498],\n",
            "         [19404,  5351, 17595],\n",
            "         [13554, 23054, 23761],\n",
            "         [  772, 10239,   668],\n",
            "         [  958, 21559,   668],\n",
            "         [19411,  1685, 11094],\n",
            "         [12844, 16860,   668],\n",
            "         [16226,   668, 20923],\n",
            "         [17010,   775,  9413],\n",
            "         [11363,  9168, 22223]]], device='cuda:0'))\n"
          ]
        }
      ],
      "source": [
        "print('dir(sae)\\n', dir(sae))\n",
        "print('sae.W_enc.shape\\n', sae.W_enc.shape)\n",
        "\n",
        "print('\\n')\n",
        "\n",
        "#sv_prompt = \" The Golden Gate Bridge\"\n",
        "# sv_prompt = 'Jedi'\n",
        "sv_prompt = 'Emily\\'s dog just died. She is feeling sad'\n",
        "# sv_prompt = 'John\\'s lunch was stolen. He is feeling angry'\n",
        "# sv_prompt = 'John just received a present. He is feeling happy'\n",
        "\n",
        "sv_logits, cache = model.run_with_cache(sv_prompt, prepend_bos=True)\n",
        "tokens = model.to_tokens(sv_prompt)\n",
        "print('tokens', tokens)\n",
        "\n",
        "# get the feature activations from our SAE\n",
        "sv_feature_acts = sae.encode(cache[hook_point])\n",
        "\n",
        "# get sae_out\n",
        "sae_out = sae.decode(sv_feature_acts)\n",
        "\n",
        "# print out the top activations, focus on the indices\n",
        "print('\\n', torch.topk(sv_feature_acts, 3))\n",
        "\n",
        "\n",
        "# Explanation of the topk outputs below:\n",
        "# There are 5 tokens in sv_prompt: <BOS>, The, Golden, Gate, Bridge. \n",
        "# So what topk is showing is for each token what SAE feature is being activated the most.\n",
        "# Thats why we have a 5 x 3 array. \n"
      ]
    },
    {
      "cell_type": "markdown",
      "metadata": {
        "id": "cexaoBR65lIa"
      },
      "source": [
        "### Set up hook functions\n",
        "\n",
        "Finally, we need to create a hook that allows us to apply the steering vector when our model runs generate() on our defined prompt. We have also added a boolean value 'steering_on' that allows us to easily toggle the steering vector on and off for each prompt\n"
      ]
    },
    {
      "cell_type": "code",
      "execution_count": 102,
      "metadata": {
        "collapsed": true,
        "id": "3kcVWeJoIAlC"
      },
      "outputs": [],
      "source": [
        "def steering_hook(resid_pre, hook):\n",
        "    if resid_pre.shape[1] == 1:\n",
        "        return\n",
        "\n",
        "    # print('resid_pre.shape', resid_pre.shape)\n",
        "    position = sae_out.shape[1]\n",
        "    # print('sae_out.shape', sae_out.shape, '\\n')\n",
        "    if steering_on:\n",
        "      # using our steering vector and applying the coefficient\n",
        "\n",
        "      # So here resid_pre are the values from the residual stream (in this case [batch_size, n_tokens, 768])\n",
        "      # We modify the values at the last token: all batches of the last token for all neurons\n",
        "\n",
        "      # Modification is an addition of the outgoing weights from the target SAE feature \n",
        "      # (which is a size 768 vector) multiplied by a coefficient that controls the magnitude of the steering\n",
        "\n",
        "      # The steered values would then make their way through the rest of the model\n",
        "      resid_pre[:, :position - 1, :] += coeff * steering_vector\n",
        "\n",
        "\n",
        "def hooked_generate(prompt_batch, fwd_hooks=[], seed=None, **kwargs):\n",
        "    if seed is not None:\n",
        "        torch.manual_seed(seed)\n",
        "\n",
        "    with model.hooks(fwd_hooks=fwd_hooks):\n",
        "        tokenized = model.to_tokens(prompt_batch)\n",
        "        result = model.generate(\n",
        "            stop_at_eos=False,  # avoids a bug on MPS\n",
        "            input=tokenized,\n",
        "            max_new_tokens=30,\n",
        "            do_sample=True,\n",
        "            **kwargs)\n",
        "    return result\n"
      ]
    },
    {
      "cell_type": "code",
      "execution_count": 103,
      "metadata": {
        "id": "VcuRkX0yA2WH"
      },
      "outputs": [],
      "source": [
        "def run_generate(prompts):\n",
        "\n",
        "  res_list = []\n",
        "\n",
        "  for prompt in prompts:\n",
        "    model.reset_hooks()\n",
        "    editing_hooks = [(f\"blocks.{layer}.hook_resid_post\", steering_hook)]\n",
        "    res = hooked_generate([prompt] * 3, editing_hooks, seed=None, **sampling_kwargs)\n",
        "\n",
        "    # Print results, removing the ugly beginning of sequence token\n",
        "    res_str = model.to_string(res[:, 1:])\n",
        "    # print((\"\\n\\n\" + \"-\" * 80 + \"\\n\\n\").join(res_str))\n",
        "    res_list.append(res_str)\n",
        "\n",
        "  return res_list"
      ]
    },
    {
      "cell_type": "markdown",
      "metadata": {
        "id": "YACtNFzGcNua"
      },
      "source": [
        "## Implement your steering vector and affect the output"
      ]
    },
    {
      "cell_type": "markdown",
      "metadata": {
        "id": "pO8hjg8j5bb-"
      },
      "source": [
        "### Define values for your steering vector\n",
        "To create our steering vector, we now need to get the decoder weights from our sparse autoencoder found at our index of interest.\n",
        "\n",
        "Then to use our steering vector, we want a prompt for text generation, as well as a scaling factor coefficent to apply with the steering vector\n",
        "\n",
        "We also set common sampling kwargs - temperature, top_p and freq_penalty"
      ]
    },
    {
      "cell_type": "code",
      "execution_count": 156,
      "metadata": {
        "id": "rgYEWGV0t0L2"
      },
      "outputs": [],
      "source": [
        "# Golden State Bridge:\n",
        "# steering_vector = sae.W_dec[10200]\n",
        "\n",
        "# Jedi:\n",
        "# steering_vector = sae.W_dec[7650]\n",
        "\n",
        "# Sadness: 2442, \n",
        "# steering_vector = sae.W_dec[2442]\n",
        "\n",
        "# Anger: 1550, 4707, 18357, 5526, 21165, 252\n",
        "# steering_vector = sae.W_dec[21165]\n",
        "\n",
        "# Worry: 849, 15524, 18978, 21673\n",
        "# steering_vector = sae.W_dec[18978]\n",
        "\n",
        "# Happiness: 13928, 3879, 3456\n",
        "steering_vector = sae.W_dec[24422]\n",
        "sampling_kwargs = dict(temperature=0.9, top_p=0.1, freq_penalty=1.0)"
      ]
    },
    {
      "cell_type": "markdown",
      "metadata": {},
      "source": [
        "### Loading an Emotion Recognition Dataset - https://github.com/dair-ai/emotion_dataset"
      ]
    },
    {
      "cell_type": "code",
      "execution_count": 9,
      "metadata": {},
      "outputs": [
        {
          "name": "stdout",
          "output_type": "stream",
          "text": [
            "Dataset({\n",
            "    features: ['text', 'label'],\n",
            "    num_rows: 16000\n",
            "})\n"
          ]
        }
      ],
      "source": [
        "emotion_dataset = load_dataset('dair-ai/emotion', split='train', trust_remote_code=True)\n",
        "print(emotion_dataset)"
      ]
    },
    {
      "cell_type": "code",
      "execution_count": 10,
      "metadata": {},
      "outputs": [
        {
          "name": "stdout",
          "output_type": "stream",
          "text": [
            "{'text': ['i will hopefully be able to feel less inhibited in my writing and not so much like i write too often'], 'label': [0]}\n"
          ]
        }
      ],
      "source": [
        "emotion_dataset = emotion_dataset.shuffle()\n",
        "batch_size = 1\n",
        "batch = emotion_dataset[:batch_size]\n",
        "print(batch)"
      ]
    },
    {
      "cell_type": "code",
      "execution_count": 11,
      "metadata": {},
      "outputs": [],
      "source": [
        "prompts = [f'John says, \\\"{text}\\\". John feels' for text in batch['text']]"
      ]
    },
    {
      "cell_type": "code",
      "execution_count": 120,
      "metadata": {},
      "outputs": [],
      "source": [
        "coeff = 20\n",
        "sampling_kwargs = dict(temperature=1.0, top_p=0.1, freq_penalty=1.0)"
      ]
    },
    {
      "cell_type": "code",
      "execution_count": 121,
      "metadata": {},
      "outputs": [
        {
          "data": {
            "application/vnd.jupyter.widget-view+json": {
              "model_id": "dcc6f53f0d4747e5936960f1c0824d66",
              "version_major": 2,
              "version_minor": 0
            },
            "text/plain": [
              "  0%|          | 0/30 [00:00<?, ?it/s]"
            ]
          },
          "metadata": {},
          "output_type": "display_data"
        },
        {
          "name": "stdout",
          "output_type": "stream",
          "text": [
            "John says, \"i will hopefully be able to feel less inhibited in my writing and not so much like i write too often\". John feels that he is more comfortable with his writing. He writes a lot of short stories and he likes to write about things that are important to him. He\n"
          ]
        }
      ],
      "source": [
        "steering_on = True\n",
        "steered_result = run_generate(prompts)\n",
        "print(steered_result[0][0])"
      ]
    },
    {
      "cell_type": "code",
      "execution_count": 174,
      "metadata": {},
      "outputs": [
        {
          "data": {
            "application/vnd.jupyter.widget-view+json": {
              "model_id": "4bf501aa4cb442dfa752832c5df82657",
              "version_major": 2,
              "version_minor": 0
            },
            "text/plain": [
              "  0%|          | 0/30 [00:00<?, ?it/s]"
            ]
          },
          "metadata": {},
          "output_type": "display_data"
        },
        {
          "name": "stdout",
          "output_type": "stream",
          "text": [
            "John says, \"i will hopefully be able to feel less inhibited in my writing and not so much like i write too often\". John feels that he is being more creative. He writes a lot of stories about his family and friends. He has a lot of friends who are very supportive of\n"
          ]
        }
      ],
      "source": [
        "steering_on = False\n",
        "default_result = run_generate(prompts)\n",
        "print(default_result[0][0])"
      ]
    },
    {
      "cell_type": "markdown",
      "metadata": {},
      "source": [
        "### Getting a \"judge\" model to judge the generations"
      ]
    },
    {
      "cell_type": "code",
      "execution_count": 15,
      "metadata": {},
      "outputs": [
        {
          "name": "stderr",
          "output_type": "stream",
          "text": [
            "`config.hidden_act` is ignored, you should use `config.hidden_activation` instead.\n",
            "Gemma's activation function will be set to `gelu_pytorch_tanh`. Please, use\n",
            "`config.hidden_activation` if you want to override this behaviour.\n",
            "See https://github.com/huggingface/transformers/pull/29402 for more details.\n"
          ]
        },
        {
          "data": {
            "application/vnd.jupyter.widget-view+json": {
              "model_id": "52cba930d8c048f1a022610ab2255269",
              "version_major": 2,
              "version_minor": 0
            },
            "text/plain": [
              "Loading checkpoint shards:   0%|          | 0/2 [00:00<?, ?it/s]"
            ]
          },
          "metadata": {},
          "output_type": "display_data"
        },
        {
          "name": "stderr",
          "output_type": "stream",
          "text": [
            "WARNING:root:You are not using LayerNorm, so the writing weights can't be centered! Skipping\n"
          ]
        },
        {
          "name": "stdout",
          "output_type": "stream",
          "text": [
            "Loaded pretrained model google/gemma-2b-it into HookedTransformer\n"
          ]
        }
      ],
      "source": [
        "judge = HookedTransformer.from_pretrained(\"google/gemma-2b-it\", device = device)"
      ]
    },
    {
      "cell_type": "code",
      "execution_count": 123,
      "metadata": {},
      "outputs": [],
      "source": [
        "example_response = steered_result[0][0].split('\\\". ')[1]\n",
        "default_response = default_result[0][0].split('\\\". ')[1]"
      ]
    },
    {
      "cell_type": "code",
      "execution_count": 124,
      "metadata": {},
      "outputs": [
        {
          "name": "stdout",
          "output_type": "stream",
          "text": [
            "sadness, joy, love, anger, fear, surprise\n"
          ]
        }
      ],
      "source": [
        "emotion_labels = ['sadness', 'joy', 'love', 'anger', 'fear', 'surprise']\n",
        "# judge_prompt = f'For each of the following emotions: {emotion_labels}, rate '\n",
        "emotions = \", \".join(emotion_labels)\n",
        "print(emotions)\n",
        "# judge_prompt = f'For the following text: {example_response}, which of the following emotions: {emotions}, does John feel?'\n",
        "judge_prompt = f'For the following text: {example_response}, what does John feel?'"
      ]
    },
    {
      "cell_type": "code",
      "execution_count": 125,
      "metadata": {},
      "outputs": [
        {
          "data": {
            "application/vnd.jupyter.widget-view+json": {
              "model_id": "609c3a546efd4fa390b981725782e2ac",
              "version_major": 2,
              "version_minor": 0
            },
            "text/plain": [
              "Loading checkpoint shards:   0%|          | 0/4 [00:00<?, ?it/s]"
            ]
          },
          "metadata": {},
          "output_type": "display_data"
        },
        {
          "name": "stderr",
          "output_type": "stream",
          "text": [
            "WARNING:root:Some parameters are on the meta device device because they were offloaded to the cpu.\n",
            "Special tokens have been added in the vocabulary, make sure the associated word embeddings are fine-tuned or trained.\n"
          ]
        }
      ],
      "source": [
        "\n",
        "model_id = \"meta-llama/Meta-Llama-3-8B-Instruct\"\n",
        "\n",
        "pipeline = transformers.pipeline(\n",
        "    \"text-generation\",\n",
        "    model=model_id,\n",
        "    model_kwargs={\"torch_dtype\": torch.bfloat16},\n",
        "    device_map=\"auto\",\n",
        ")"
      ]
    },
    {
      "cell_type": "code",
      "execution_count": 126,
      "metadata": {},
      "outputs": [
        {
          "name": "stderr",
          "output_type": "stream",
          "text": [
            "Setting `pad_token_id` to `eos_token_id`:128009 for open-end generation.\n"
          ]
        },
        {
          "name": "stderr",
          "output_type": "stream",
          "text": [
            "Setting `pad_token_id` to `eos_token_id`:128009 for open-end generation.\n"
          ]
        },
        {
          "name": "stdout",
          "output_type": "stream",
          "text": [
            "{'role': 'assistant', 'content': 'joy'}\n"
          ]
        },
        {
          "name": "stderr",
          "output_type": "stream",
          "text": [
            "Setting `pad_token_id` to `eos_token_id`:128009 for open-end generation.\n"
          ]
        },
        {
          "name": "stdout",
          "output_type": "stream",
          "text": [
            "{'role': 'assistant', 'content': 'joy'}\n"
          ]
        },
        {
          "name": "stderr",
          "output_type": "stream",
          "text": [
            "Setting `pad_token_id` to `eos_token_id`:128009 for open-end generation.\n"
          ]
        },
        {
          "name": "stdout",
          "output_type": "stream",
          "text": [
            "{'role': 'assistant', 'content': 'joy'}\n"
          ]
        },
        {
          "name": "stderr",
          "output_type": "stream",
          "text": [
            "Setting `pad_token_id` to `eos_token_id`:128009 for open-end generation.\n"
          ]
        },
        {
          "name": "stdout",
          "output_type": "stream",
          "text": [
            "{'role': 'assistant', 'content': 'joy'}\n",
            "{'role': 'assistant', 'content': 'joy'}\n"
          ]
        }
      ],
      "source": [
        "\n",
        "n_judgments = 5\n",
        "judgments = []\n",
        "for _ in range(n_judgments):\n",
        "    messages = [\n",
        "        {\"role\": \"system\", \"content\": f\"You will be doing emotion recognition. Answer with one of the following emotions: {emotions}\"},\n",
        "        {\"role\": \"user\", \"content\": judge_prompt},\n",
        "    ]\n",
        "\n",
        "    terminators = [\n",
        "        pipeline.tokenizer.eos_token_id,\n",
        "        pipeline.tokenizer.convert_tokens_to_ids(\"<|eot_id|>\")\n",
        "    ]\n",
        "\n",
        "    outputs = pipeline(\n",
        "        messages,\n",
        "        max_new_tokens=256,\n",
        "        eos_token_id=terminators,\n",
        "        do_sample=True,\n",
        "        temperature=1.0,\n",
        "        top_p=0.2,\n",
        "    )\n",
        "    print(outputs[0][\"generated_text\"][-1])\n",
        "    judgments.append(outputs[0][\"generated_text\"][-1]['content'])\n",
        "\n",
        "final_judgment = max(set(judgments), key=judgments.count)"
      ]
    },
    {
      "cell_type": "code",
      "execution_count": 99,
      "metadata": {},
      "outputs": [
        {
          "name": "stdout",
          "output_type": "stream",
          "text": [
            "Anger\n"
          ]
        }
      ],
      "source": [
        "print(final_judgment)"
      ]
    },
    {
      "cell_type": "markdown",
      "metadata": {},
      "source": [
        "### Alternative Judge Model (Finetuned DISTILBERT)"
      ]
    },
    {
      "cell_type": "code",
      "execution_count": 42,
      "metadata": {},
      "outputs": [],
      "source": [
        "bert_judge = transformers.pipeline(model='ActivationAI/distilbert-base-uncased-finetuned-emotion')"
      ]
    },
    {
      "cell_type": "code",
      "execution_count": 171,
      "metadata": {},
      "outputs": [
        {
          "data": {
            "application/vnd.jupyter.widget-view+json": {
              "model_id": "2dcece7f702b4a24b8b178abce38f66d",
              "version_major": 2,
              "version_minor": 0
            },
            "text/plain": [
              "  0%|          | 0/30 [00:00<?, ?it/s]"
            ]
          },
          "metadata": {},
          "output_type": "display_data"
        },
        {
          "data": {
            "application/vnd.jupyter.widget-view+json": {
              "model_id": "17af727fe7804367965cd785597bdebb",
              "version_major": 2,
              "version_minor": 0
            },
            "text/plain": [
              "  0%|          | 0/30 [00:00<?, ?it/s]"
            ]
          },
          "metadata": {},
          "output_type": "display_data"
        },
        {
          "data": {
            "application/vnd.jupyter.widget-view+json": {
              "model_id": "3bdd16b7f67c4fb8b566c59f1030af6c",
              "version_major": 2,
              "version_minor": 0
            },
            "text/plain": [
              "  0%|          | 0/30 [00:00<?, ?it/s]"
            ]
          },
          "metadata": {},
          "output_type": "display_data"
        },
        {
          "data": {
            "application/vnd.jupyter.widget-view+json": {
              "model_id": "758caa16528e421d9fe536b0c7c7f132",
              "version_major": 2,
              "version_minor": 0
            },
            "text/plain": [
              "  0%|          | 0/30 [00:00<?, ?it/s]"
            ]
          },
          "metadata": {},
          "output_type": "display_data"
        },
        {
          "data": {
            "application/vnd.jupyter.widget-view+json": {
              "model_id": "7c0e6d34994d44cbb81590d4e6176941",
              "version_major": 2,
              "version_minor": 0
            },
            "text/plain": [
              "  0%|          | 0/30 [00:00<?, ?it/s]"
            ]
          },
          "metadata": {},
          "output_type": "display_data"
        },
        {
          "data": {
            "application/vnd.jupyter.widget-view+json": {
              "model_id": "1b603ef650ef4444aeb90c3a6949a342",
              "version_major": 2,
              "version_minor": 0
            },
            "text/plain": [
              "  0%|          | 0/30 [00:00<?, ?it/s]"
            ]
          },
          "metadata": {},
          "output_type": "display_data"
        },
        {
          "data": {
            "application/vnd.jupyter.widget-view+json": {
              "model_id": "896a0b2a05b9460f99d0261447c1fc70",
              "version_major": 2,
              "version_minor": 0
            },
            "text/plain": [
              "  0%|          | 0/30 [00:00<?, ?it/s]"
            ]
          },
          "metadata": {},
          "output_type": "display_data"
        },
        {
          "data": {
            "application/vnd.jupyter.widget-view+json": {
              "model_id": "d81b947b79e14f0f8aea3becd644e3d0",
              "version_major": 2,
              "version_minor": 0
            },
            "text/plain": [
              "  0%|          | 0/30 [00:00<?, ?it/s]"
            ]
          },
          "metadata": {},
          "output_type": "display_data"
        },
        {
          "data": {
            "application/vnd.jupyter.widget-view+json": {
              "model_id": "82e9f67b3482453ea0e54a8e6165f725",
              "version_major": 2,
              "version_minor": 0
            },
            "text/plain": [
              "  0%|          | 0/30 [00:00<?, ?it/s]"
            ]
          },
          "metadata": {},
          "output_type": "display_data"
        },
        {
          "data": {
            "application/vnd.jupyter.widget-view+json": {
              "model_id": "04aa0a19b4e94b568d3510bff0ed2e6d",
              "version_major": 2,
              "version_minor": 0
            },
            "text/plain": [
              "  0%|          | 0/30 [00:00<?, ?it/s]"
            ]
          },
          "metadata": {},
          "output_type": "display_data"
        },
        {
          "data": {
            "application/vnd.jupyter.widget-view+json": {
              "model_id": "3cfeef2dd53e4b04a32ef2ed1730b664",
              "version_major": 2,
              "version_minor": 0
            },
            "text/plain": [
              "  0%|          | 0/30 [00:00<?, ?it/s]"
            ]
          },
          "metadata": {},
          "output_type": "display_data"
        },
        {
          "data": {
            "application/vnd.jupyter.widget-view+json": {
              "model_id": "b3f2303c9a0140f194cf383c67082227",
              "version_major": 2,
              "version_minor": 0
            },
            "text/plain": [
              "  0%|          | 0/30 [00:00<?, ?it/s]"
            ]
          },
          "metadata": {},
          "output_type": "display_data"
        },
        {
          "data": {
            "application/vnd.jupyter.widget-view+json": {
              "model_id": "9f889842056645b7bd41f833bda305f5",
              "version_major": 2,
              "version_minor": 0
            },
            "text/plain": [
              "  0%|          | 0/30 [00:00<?, ?it/s]"
            ]
          },
          "metadata": {},
          "output_type": "display_data"
        },
        {
          "data": {
            "application/vnd.jupyter.widget-view+json": {
              "model_id": "632952769ef94c9bb4939a4536c15532",
              "version_major": 2,
              "version_minor": 0
            },
            "text/plain": [
              "  0%|          | 0/30 [00:00<?, ?it/s]"
            ]
          },
          "metadata": {},
          "output_type": "display_data"
        },
        {
          "data": {
            "application/vnd.jupyter.widget-view+json": {
              "model_id": "e1e8923c9c6546c2a218146a5156d4fc",
              "version_major": 2,
              "version_minor": 0
            },
            "text/plain": [
              "  0%|          | 0/30 [00:00<?, ?it/s]"
            ]
          },
          "metadata": {},
          "output_type": "display_data"
        },
        {
          "data": {
            "application/vnd.jupyter.widget-view+json": {
              "model_id": "8872eca710a24ac4aba11bd8ece46dea",
              "version_major": 2,
              "version_minor": 0
            },
            "text/plain": [
              "  0%|          | 0/30 [00:00<?, ?it/s]"
            ]
          },
          "metadata": {},
          "output_type": "display_data"
        },
        {
          "data": {
            "application/vnd.jupyter.widget-view+json": {
              "model_id": "a50a755817794fb5aab02b927fac26e2",
              "version_major": 2,
              "version_minor": 0
            },
            "text/plain": [
              "  0%|          | 0/30 [00:00<?, ?it/s]"
            ]
          },
          "metadata": {},
          "output_type": "display_data"
        },
        {
          "data": {
            "application/vnd.jupyter.widget-view+json": {
              "model_id": "691eacc300054ec5afd09acc3455a6f6",
              "version_major": 2,
              "version_minor": 0
            },
            "text/plain": [
              "  0%|          | 0/30 [00:00<?, ?it/s]"
            ]
          },
          "metadata": {},
          "output_type": "display_data"
        },
        {
          "data": {
            "application/vnd.jupyter.widget-view+json": {
              "model_id": "3af17e3953e34bcaa65761e1f42dd10f",
              "version_major": 2,
              "version_minor": 0
            },
            "text/plain": [
              "  0%|          | 0/30 [00:00<?, ?it/s]"
            ]
          },
          "metadata": {},
          "output_type": "display_data"
        },
        {
          "data": {
            "application/vnd.jupyter.widget-view+json": {
              "model_id": "eed0617db14e47bd8469ccb968aeaf3f",
              "version_major": 2,
              "version_minor": 0
            },
            "text/plain": [
              "  0%|          | 0/30 [00:00<?, ?it/s]"
            ]
          },
          "metadata": {},
          "output_type": "display_data"
        },
        {
          "name": "stdout",
          "output_type": "stream",
          "text": [
            "[[{'label': 'LABEL_0', 'score': 0.9623180031776428}, {'label': 'LABEL_3', 'score': 0.02037476748228073}, {'label': 'LABEL_1', 'score': 0.00628313422203064}, {'label': 'LABEL_4', 'score': 0.004679218865931034}, {'label': 'LABEL_2', 'score': 0.0037975625600665808}, {'label': 'LABEL_5', 'score': 0.002547226380556822}], [{'label': 'LABEL_1', 'score': 0.6533886194229126}, {'label': 'LABEL_2', 'score': 0.19851583242416382}, {'label': 'LABEL_0', 'score': 0.06684751063585281}, {'label': 'LABEL_3', 'score': 0.040311604738235474}, {'label': 'LABEL_4', 'score': 0.020492685958743095}, {'label': 'LABEL_5', 'score': 0.020443763583898544}], [{'label': 'LABEL_1', 'score': 0.6441083550453186}, {'label': 'LABEL_0', 'score': 0.2706294357776642}, {'label': 'LABEL_2', 'score': 0.044997282326221466}, {'label': 'LABEL_4', 'score': 0.013793941587209702}, {'label': 'LABEL_5', 'score': 0.013704944401979446}, {'label': 'LABEL_3', 'score': 0.012765975669026375}], [{'label': 'LABEL_1', 'score': 0.9759530425071716}, {'label': 'LABEL_2', 'score': 0.00818795058876276}, {'label': 'LABEL_5', 'score': 0.006220065522938967}, {'label': 'LABEL_0', 'score': 0.004233825020492077}, {'label': 'LABEL_3', 'score': 0.0027887511532753706}, {'label': 'LABEL_4', 'score': 0.002616433659568429}], [{'label': 'LABEL_1', 'score': 0.9676111340522766}, {'label': 'LABEL_2', 'score': 0.010942845605313778}, {'label': 'LABEL_5', 'score': 0.008685529232025146}, {'label': 'LABEL_0', 'score': 0.006340506952255964}, {'label': 'LABEL_3', 'score': 0.0036546995397657156}, {'label': 'LABEL_4', 'score': 0.0027653404977172613}], [{'label': 'LABEL_1', 'score': 0.9697288274765015}, {'label': 'LABEL_2', 'score': 0.014840557239949703}, {'label': 'LABEL_5', 'score': 0.00527832331135869}, {'label': 'LABEL_0', 'score': 0.003952409140765667}, {'label': 'LABEL_3', 'score': 0.003104959847405553}, {'label': 'LABEL_4', 'score': 0.0030949260108172894}], [{'label': 'LABEL_0', 'score': 0.963187038898468}, {'label': 'LABEL_3', 'score': 0.01937735639512539}, {'label': 'LABEL_1', 'score': 0.006360321305692196}, {'label': 'LABEL_4', 'score': 0.004556186497211456}, {'label': 'LABEL_2', 'score': 0.003961383830755949}, {'label': 'LABEL_5', 'score': 0.002557655330747366}], [{'label': 'LABEL_1', 'score': 0.9643979072570801}, {'label': 'LABEL_2', 'score': 0.01711662858724594}, {'label': 'LABEL_0', 'score': 0.007849495857954025}, {'label': 'LABEL_5', 'score': 0.0043626814149320126}, {'label': 'LABEL_3', 'score': 0.0036881903652101755}, {'label': 'LABEL_4', 'score': 0.002585069742053747}], [{'label': 'LABEL_1', 'score': 0.9693891406059265}, {'label': 'LABEL_2', 'score': 0.014820418320596218}, {'label': 'LABEL_0', 'score': 0.005792705342173576}, {'label': 'LABEL_5', 'score': 0.004238544963300228}, {'label': 'LABEL_3', 'score': 0.0033442042768001556}, {'label': 'LABEL_4', 'score': 0.0024151206016540527}], [{'label': 'LABEL_1', 'score': 0.9636298418045044}, {'label': 'LABEL_5', 'score': 0.012379925698041916}, {'label': 'LABEL_2', 'score': 0.007820164784789085}, {'label': 'LABEL_0', 'score': 0.00600865064188838}, {'label': 'LABEL_3', 'score': 0.005617755930870771}, {'label': 'LABEL_4', 'score': 0.004543632734566927}]]\n",
            "[[{'label': 'LABEL_1', 'score': 0.9663990139961243}, {'label': 'LABEL_2', 'score': 0.017169171944260597}, {'label': 'LABEL_0', 'score': 0.005893915891647339}, {'label': 'LABEL_5', 'score': 0.005158686079084873}, {'label': 'LABEL_3', 'score': 0.003260058583691716}, {'label': 'LABEL_4', 'score': 0.0021191483829170465}], [{'label': 'LABEL_1', 'score': 0.9607614278793335}, {'label': 'LABEL_2', 'score': 0.01688971370458603}, {'label': 'LABEL_0', 'score': 0.010980257764458656}, {'label': 'LABEL_5', 'score': 0.00547151081264019}, {'label': 'LABEL_3', 'score': 0.0034418345894664526}, {'label': 'LABEL_4', 'score': 0.002455167705193162}], [{'label': 'LABEL_1', 'score': 0.968759298324585}, {'label': 'LABEL_2', 'score': 0.01572214625775814}, {'label': 'LABEL_5', 'score': 0.005220141727477312}, {'label': 'LABEL_0', 'score': 0.005172355566173792}, {'label': 'LABEL_3', 'score': 0.003015792928636074}, {'label': 'LABEL_4', 'score': 0.0021102502942085266}], [{'label': 'LABEL_1', 'score': 0.9684857130050659}, {'label': 'LABEL_2', 'score': 0.010737414471805096}, {'label': 'LABEL_5', 'score': 0.007927360013127327}, {'label': 'LABEL_0', 'score': 0.006599015090614557}, {'label': 'LABEL_3', 'score': 0.003618300659582019}, {'label': 'LABEL_4', 'score': 0.002632161369547248}], [{'label': 'LABEL_1', 'score': 0.9681465029716492}, {'label': 'LABEL_2', 'score': 0.016209375113248825}, {'label': 'LABEL_0', 'score': 0.005308901891112328}, {'label': 'LABEL_5', 'score': 0.005206495989114046}, {'label': 'LABEL_3', 'score': 0.0030181233305484056}, {'label': 'LABEL_4', 'score': 0.0021104977931827307}], [{'label': 'LABEL_1', 'score': 0.9145856499671936}, {'label': 'LABEL_2', 'score': 0.040225449949502945}, {'label': 'LABEL_0', 'score': 0.02336103282868862}, {'label': 'LABEL_3', 'score': 0.008299849927425385}, {'label': 'LABEL_5', 'score': 0.007637706585228443}, {'label': 'LABEL_4', 'score': 0.005890376400202513}], [{'label': 'LABEL_1', 'score': 0.9145856499671936}, {'label': 'LABEL_2', 'score': 0.040225449949502945}, {'label': 'LABEL_0', 'score': 0.02336103282868862}, {'label': 'LABEL_3', 'score': 0.008299849927425385}, {'label': 'LABEL_5', 'score': 0.007637706585228443}, {'label': 'LABEL_4', 'score': 0.005890376400202513}], [{'label': 'LABEL_1', 'score': 0.9675992131233215}, {'label': 'LABEL_2', 'score': 0.015280441381037235}, {'label': 'LABEL_5', 'score': 0.006470046937465668}, {'label': 'LABEL_0', 'score': 0.003963202703744173}, {'label': 'LABEL_4', 'score': 0.0037188103888183832}, {'label': 'LABEL_3', 'score': 0.0029683634638786316}], [{'label': 'LABEL_1', 'score': 0.96271151304245}, {'label': 'LABEL_5', 'score': 0.013544832356274128}, {'label': 'LABEL_2', 'score': 0.007573333103209734}, {'label': 'LABEL_3', 'score': 0.00577775901183486}, {'label': 'LABEL_0', 'score': 0.0057227700017392635}, {'label': 'LABEL_4', 'score': 0.004669868852943182}], [{'label': 'LABEL_1', 'score': 0.5010054707527161}, {'label': 'LABEL_2', 'score': 0.16543717682361603}, {'label': 'LABEL_4', 'score': 0.14876176416873932}, {'label': 'LABEL_5', 'score': 0.0874941423535347}, {'label': 'LABEL_0', 'score': 0.0633283257484436}, {'label': 'LABEL_3', 'score': 0.03397316113114357}]]\n"
          ]
        }
      ],
      "source": [
        "# Because of the variance that comes with generations, we gotta run many iterations for each feature for EACH coefficient value.\n",
        "n_samples = 10\n",
        "steering_vector = sae.W_dec[24422]\n",
        "coeff = 20\n",
        "sampling_kwargs = dict(temperature=1.0, top_p=0.1, freq_penalty=1.0)\n",
        "\n",
        "steered_results = []\n",
        "default_results = []\n",
        "for _ in range(n_samples):\n",
        "\n",
        "    steering_on = True\n",
        "    steered_generation = run_generate(prompts)\n",
        "    steered_response = steered_generation[0][0].split('\\\". ')[1]\n",
        "\n",
        "    steering_on = False\n",
        "    default_generation = run_generate(prompts)\n",
        "    default_response = default_generation[0][0].split('\\\". ')[1]\n",
        "\n",
        "    judgment = bert_judge([steered_response, default_response], top_k=None)\n",
        "    steered_results.append(judgment[0])\n",
        "    default_results.append(judgment[1])\n",
        "\n",
        "print(steered_results)\n",
        "print(default_results)"
      ]
    },
    {
      "cell_type": "code",
      "execution_count": 172,
      "metadata": {},
      "outputs": [],
      "source": [
        "# Organize the label, score pairs. Average across labels scores\n",
        "\n",
        "def get_avg_label_scores(results):\n",
        "    stats = {}\n",
        "    for item in results:\n",
        "        for d in item:\n",
        "            if d['label'] in stats:\n",
        "                stats[d['label']] += d['score']\n",
        "            else:\n",
        "                stats[d['label']] = d['score']\n",
        "    # Average\n",
        "    stats = {x: stats[x]/n_samples for x in stats}\n",
        "    # Sort keys\n",
        "    keys = list(stats.keys())\n",
        "    keys.sort()\n",
        "    stats = {i: stats[i] for i in keys}\n",
        "    return stats"
      ]
    },
    {
      "cell_type": "code",
      "execution_count": 173,
      "metadata": {},
      "outputs": [
        {
          "name": "stdout",
          "output_type": "stream",
          "text": [
            "{'LABEL_0': 0.22971595814451576, 'LABEL_1': 0.7120850323699415, 'LABEL_2': 0.03250006262678653, 'LABEL_3': 0.01150282653979957, 'LABEL_4': 0.0061542556155473, 'LABEL_5': 0.008041865983977914}\n",
            "{'LABEL_0': 0.015369081031531095, 'LABEL_1': 0.9093039453029632, 'LABEL_2': 0.034546967269852756, 'LABEL_3': 0.00756730935536325, 'LABEL_4': 0.01803584217559546, 'LABEL_5': 0.015176862943917513}\n"
          ]
        }
      ],
      "source": [
        "steered_stats = get_avg_label_scores(steered_results)\n",
        "default_stats = get_avg_label_scores(default_results)\n",
        "\n",
        "print(steered_stats)\n",
        "print(default_stats)"
      ]
    },
    {
      "cell_type": "markdown",
      "metadata": {
        "id": "JVTbMgMzCLB9"
      },
      "source": [
        "## Next Steps\n",
        "\n",
        "Ideas you could take for further exploration:\n",
        "\n",
        "*   Try ablating the feature\n",
        "*   Try and get a response where just the feature token prints over and over\n",
        "*   Investigate other features with more complex usage\n",
        "\n"
      ]
    },
    {
      "cell_type": "markdown",
      "metadata": {},
      "source": [
        "### Effect of ablating emotion related features"
      ]
    },
    {
      "cell_type": "code",
      "execution_count": null,
      "metadata": {},
      "outputs": [],
      "source": []
    }
  ],
  "metadata": {
    "accelerator": "GPU",
    "colab": {
      "collapsed_sections": [
        "fapxk8MDrs6R",
        "CmaPYLpGrxbo"
      ],
      "gpuType": "T4",
      "provenance": []
    },
    "kernelspec": {
      "display_name": "steering",
      "language": "python",
      "name": "python3"
    },
    "language_info": {
      "codemirror_mode": {
        "name": "ipython",
        "version": 3
      },
      "file_extension": ".py",
      "mimetype": "text/x-python",
      "name": "python",
      "nbconvert_exporter": "python",
      "pygments_lexer": "ipython3",
      "version": "3.10.14"
    },
    "widgets": {
      "application/vnd.jupyter.widget-state+json": {
        "06d77984a1a64d39938bfe68e114539b": {
          "model_module": "@jupyter-widgets/controls",
          "model_module_version": "1.5.0",
          "model_name": "HTMLModel",
          "state": {
            "_dom_classes": [],
            "_model_module": "@jupyter-widgets/controls",
            "_model_module_version": "1.5.0",
            "_model_name": "HTMLModel",
            "_view_count": null,
            "_view_module": "@jupyter-widgets/controls",
            "_view_module_version": "1.5.0",
            "_view_name": "HTMLView",
            "description": "",
            "description_tooltip": null,
            "layout": "IPY_MODEL_fe6cae73e861414eaff54680113676bc",
            "placeholder": "​",
            "style": "IPY_MODEL_3f5f9cad86e24dd489146215c3a208c9",
            "value": "100%"
          }
        },
        "07c0dd1a8de149408b981a8892f6e46d": {
          "model_module": "@jupyter-widgets/controls",
          "model_module_version": "1.5.0",
          "model_name": "ProgressStyleModel",
          "state": {
            "_model_module": "@jupyter-widgets/controls",
            "_model_module_version": "1.5.0",
            "_model_name": "ProgressStyleModel",
            "_view_count": null,
            "_view_module": "@jupyter-widgets/base",
            "_view_module_version": "1.2.0",
            "_view_name": "StyleView",
            "bar_color": null,
            "description_width": ""
          }
        },
        "106650a69f4c4bd0a340d58c4bd4f1bb": {
          "model_module": "@jupyter-widgets/controls",
          "model_module_version": "1.5.0",
          "model_name": "HBoxModel",
          "state": {
            "_dom_classes": [],
            "_model_module": "@jupyter-widgets/controls",
            "_model_module_version": "1.5.0",
            "_model_name": "HBoxModel",
            "_view_count": null,
            "_view_module": "@jupyter-widgets/controls",
            "_view_module_version": "1.5.0",
            "_view_name": "HBoxView",
            "box_style": "",
            "children": [
              "IPY_MODEL_06d77984a1a64d39938bfe68e114539b",
              "IPY_MODEL_6571f57262c447ce9177223fb583e707",
              "IPY_MODEL_a2179cafb63f475db0162cd990a17ff7"
            ],
            "layout": "IPY_MODEL_c0bb81765e93420796cd5f959e9d3534"
          }
        },
        "1a5dd5f7c9d340b6ab00ecaf43525ae9": {
          "model_module": "@jupyter-widgets/controls",
          "model_module_version": "1.5.0",
          "model_name": "HBoxModel",
          "state": {
            "_dom_classes": [],
            "_model_module": "@jupyter-widgets/controls",
            "_model_module_version": "1.5.0",
            "_model_name": "HBoxModel",
            "_view_count": null,
            "_view_module": "@jupyter-widgets/controls",
            "_view_module_version": "1.5.0",
            "_view_name": "HBoxView",
            "box_style": "",
            "children": [
              "IPY_MODEL_8211cc6c973a43fcaf18e14f6d7f08a2",
              "IPY_MODEL_3d3584d1feec459287ffa24c4ef790c3",
              "IPY_MODEL_5f03835168e64ec588c50ee21fedd198"
            ],
            "layout": "IPY_MODEL_b833db18729f422cb86deed4be6f1900"
          }
        },
        "229dad8e29f04c279c5603286e2c0643": {
          "model_module": "@jupyter-widgets/base",
          "model_module_version": "1.2.0",
          "model_name": "LayoutModel",
          "state": {
            "_model_module": "@jupyter-widgets/base",
            "_model_module_version": "1.2.0",
            "_model_name": "LayoutModel",
            "_view_count": null,
            "_view_module": "@jupyter-widgets/base",
            "_view_module_version": "1.2.0",
            "_view_name": "LayoutView",
            "align_content": null,
            "align_items": null,
            "align_self": null,
            "border": null,
            "bottom": null,
            "display": null,
            "flex": null,
            "flex_flow": null,
            "grid_area": null,
            "grid_auto_columns": null,
            "grid_auto_flow": null,
            "grid_auto_rows": null,
            "grid_column": null,
            "grid_gap": null,
            "grid_row": null,
            "grid_template_areas": null,
            "grid_template_columns": null,
            "grid_template_rows": null,
            "height": null,
            "justify_content": null,
            "justify_items": null,
            "left": null,
            "margin": null,
            "max_height": null,
            "max_width": null,
            "min_height": null,
            "min_width": null,
            "object_fit": null,
            "object_position": null,
            "order": null,
            "overflow": null,
            "overflow_x": null,
            "overflow_y": null,
            "padding": null,
            "right": null,
            "top": null,
            "visibility": null,
            "width": null
          }
        },
        "25ebd285de2e49c483c3b22b5c8364c0": {
          "model_module": "@jupyter-widgets/base",
          "model_module_version": "1.2.0",
          "model_name": "LayoutModel",
          "state": {
            "_model_module": "@jupyter-widgets/base",
            "_model_module_version": "1.2.0",
            "_model_name": "LayoutModel",
            "_view_count": null,
            "_view_module": "@jupyter-widgets/base",
            "_view_module_version": "1.2.0",
            "_view_name": "LayoutView",
            "align_content": null,
            "align_items": null,
            "align_self": null,
            "border": null,
            "bottom": null,
            "display": null,
            "flex": null,
            "flex_flow": null,
            "grid_area": null,
            "grid_auto_columns": null,
            "grid_auto_flow": null,
            "grid_auto_rows": null,
            "grid_column": null,
            "grid_gap": null,
            "grid_row": null,
            "grid_template_areas": null,
            "grid_template_columns": null,
            "grid_template_rows": null,
            "height": null,
            "justify_content": null,
            "justify_items": null,
            "left": null,
            "margin": null,
            "max_height": null,
            "max_width": null,
            "min_height": null,
            "min_width": null,
            "object_fit": null,
            "object_position": null,
            "order": null,
            "overflow": null,
            "overflow_x": null,
            "overflow_y": null,
            "padding": null,
            "right": null,
            "top": null,
            "visibility": null,
            "width": null
          }
        },
        "359ef2b8a4ac4a9c9a91edc4a2dd1326": {
          "model_module": "@jupyter-widgets/base",
          "model_module_version": "1.2.0",
          "model_name": "LayoutModel",
          "state": {
            "_model_module": "@jupyter-widgets/base",
            "_model_module_version": "1.2.0",
            "_model_name": "LayoutModel",
            "_view_count": null,
            "_view_module": "@jupyter-widgets/base",
            "_view_module_version": "1.2.0",
            "_view_name": "LayoutView",
            "align_content": null,
            "align_items": null,
            "align_self": null,
            "border": null,
            "bottom": null,
            "display": null,
            "flex": null,
            "flex_flow": null,
            "grid_area": null,
            "grid_auto_columns": null,
            "grid_auto_flow": null,
            "grid_auto_rows": null,
            "grid_column": null,
            "grid_gap": null,
            "grid_row": null,
            "grid_template_areas": null,
            "grid_template_columns": null,
            "grid_template_rows": null,
            "height": null,
            "justify_content": null,
            "justify_items": null,
            "left": null,
            "margin": null,
            "max_height": null,
            "max_width": null,
            "min_height": null,
            "min_width": null,
            "object_fit": null,
            "object_position": null,
            "order": null,
            "overflow": null,
            "overflow_x": null,
            "overflow_y": null,
            "padding": null,
            "right": null,
            "top": null,
            "visibility": null,
            "width": null
          }
        },
        "38341454dd6b4e9ca2fe5b85d2e371e1": {
          "model_module": "@jupyter-widgets/controls",
          "model_module_version": "1.5.0",
          "model_name": "DescriptionStyleModel",
          "state": {
            "_model_module": "@jupyter-widgets/controls",
            "_model_module_version": "1.5.0",
            "_model_name": "DescriptionStyleModel",
            "_view_count": null,
            "_view_module": "@jupyter-widgets/base",
            "_view_module_version": "1.2.0",
            "_view_name": "StyleView",
            "description_width": ""
          }
        },
        "3b74befc8d70471697ce6686ab4ac5c3": {
          "model_module": "@jupyter-widgets/base",
          "model_module_version": "1.2.0",
          "model_name": "LayoutModel",
          "state": {
            "_model_module": "@jupyter-widgets/base",
            "_model_module_version": "1.2.0",
            "_model_name": "LayoutModel",
            "_view_count": null,
            "_view_module": "@jupyter-widgets/base",
            "_view_module_version": "1.2.0",
            "_view_name": "LayoutView",
            "align_content": null,
            "align_items": null,
            "align_self": null,
            "border": null,
            "bottom": null,
            "display": null,
            "flex": null,
            "flex_flow": null,
            "grid_area": null,
            "grid_auto_columns": null,
            "grid_auto_flow": null,
            "grid_auto_rows": null,
            "grid_column": null,
            "grid_gap": null,
            "grid_row": null,
            "grid_template_areas": null,
            "grid_template_columns": null,
            "grid_template_rows": null,
            "height": null,
            "justify_content": null,
            "justify_items": null,
            "left": null,
            "margin": null,
            "max_height": null,
            "max_width": null,
            "min_height": null,
            "min_width": null,
            "object_fit": null,
            "object_position": null,
            "order": null,
            "overflow": null,
            "overflow_x": null,
            "overflow_y": null,
            "padding": null,
            "right": null,
            "top": null,
            "visibility": null,
            "width": null
          }
        },
        "3d3584d1feec459287ffa24c4ef790c3": {
          "model_module": "@jupyter-widgets/controls",
          "model_module_version": "1.5.0",
          "model_name": "FloatProgressModel",
          "state": {
            "_dom_classes": [],
            "_model_module": "@jupyter-widgets/controls",
            "_model_module_version": "1.5.0",
            "_model_name": "FloatProgressModel",
            "_view_count": null,
            "_view_module": "@jupyter-widgets/controls",
            "_view_module_version": "1.5.0",
            "_view_name": "ProgressView",
            "bar_style": "success",
            "description": "",
            "description_tooltip": null,
            "layout": "IPY_MODEL_a30c82833f55441995744300c2ef538d",
            "max": 50,
            "min": 0,
            "orientation": "horizontal",
            "style": "IPY_MODEL_4932983d4f1a4199b3d24c730c765a24",
            "value": 50
          }
        },
        "3f5f9cad86e24dd489146215c3a208c9": {
          "model_module": "@jupyter-widgets/controls",
          "model_module_version": "1.5.0",
          "model_name": "DescriptionStyleModel",
          "state": {
            "_model_module": "@jupyter-widgets/controls",
            "_model_module_version": "1.5.0",
            "_model_name": "DescriptionStyleModel",
            "_view_count": null,
            "_view_module": "@jupyter-widgets/base",
            "_view_module_version": "1.2.0",
            "_view_name": "StyleView",
            "description_width": ""
          }
        },
        "3fdf0c5e62f24f30b02bcdc37b17c2e7": {
          "model_module": "@jupyter-widgets/base",
          "model_module_version": "1.2.0",
          "model_name": "LayoutModel",
          "state": {
            "_model_module": "@jupyter-widgets/base",
            "_model_module_version": "1.2.0",
            "_model_name": "LayoutModel",
            "_view_count": null,
            "_view_module": "@jupyter-widgets/base",
            "_view_module_version": "1.2.0",
            "_view_name": "LayoutView",
            "align_content": null,
            "align_items": null,
            "align_self": null,
            "border": null,
            "bottom": null,
            "display": null,
            "flex": null,
            "flex_flow": null,
            "grid_area": null,
            "grid_auto_columns": null,
            "grid_auto_flow": null,
            "grid_auto_rows": null,
            "grid_column": null,
            "grid_gap": null,
            "grid_row": null,
            "grid_template_areas": null,
            "grid_template_columns": null,
            "grid_template_rows": null,
            "height": null,
            "justify_content": null,
            "justify_items": null,
            "left": null,
            "margin": null,
            "max_height": null,
            "max_width": null,
            "min_height": null,
            "min_width": null,
            "object_fit": null,
            "object_position": null,
            "order": null,
            "overflow": null,
            "overflow_x": null,
            "overflow_y": null,
            "padding": null,
            "right": null,
            "top": null,
            "visibility": null,
            "width": null
          }
        },
        "4024c181581c485abd3181586afc2574": {
          "model_module": "@jupyter-widgets/controls",
          "model_module_version": "1.5.0",
          "model_name": "FloatProgressModel",
          "state": {
            "_dom_classes": [],
            "_model_module": "@jupyter-widgets/controls",
            "_model_module_version": "1.5.0",
            "_model_name": "FloatProgressModel",
            "_view_count": null,
            "_view_module": "@jupyter-widgets/controls",
            "_view_module_version": "1.5.0",
            "_view_name": "ProgressView",
            "bar_style": "success",
            "description": "",
            "description_tooltip": null,
            "layout": "IPY_MODEL_3fdf0c5e62f24f30b02bcdc37b17c2e7",
            "max": 50,
            "min": 0,
            "orientation": "horizontal",
            "style": "IPY_MODEL_07c0dd1a8de149408b981a8892f6e46d",
            "value": 50
          }
        },
        "4932983d4f1a4199b3d24c730c765a24": {
          "model_module": "@jupyter-widgets/controls",
          "model_module_version": "1.5.0",
          "model_name": "ProgressStyleModel",
          "state": {
            "_model_module": "@jupyter-widgets/controls",
            "_model_module_version": "1.5.0",
            "_model_name": "ProgressStyleModel",
            "_view_count": null,
            "_view_module": "@jupyter-widgets/base",
            "_view_module_version": "1.2.0",
            "_view_name": "StyleView",
            "bar_color": null,
            "description_width": ""
          }
        },
        "5c53f97287d54c03a378fc44ab791cd7": {
          "model_module": "@jupyter-widgets/controls",
          "model_module_version": "1.5.0",
          "model_name": "DescriptionStyleModel",
          "state": {
            "_model_module": "@jupyter-widgets/controls",
            "_model_module_version": "1.5.0",
            "_model_name": "DescriptionStyleModel",
            "_view_count": null,
            "_view_module": "@jupyter-widgets/base",
            "_view_module_version": "1.2.0",
            "_view_name": "StyleView",
            "description_width": ""
          }
        },
        "5e9700580d6b4ad0bfac34bf3b3919fc": {
          "model_module": "@jupyter-widgets/base",
          "model_module_version": "1.2.0",
          "model_name": "LayoutModel",
          "state": {
            "_model_module": "@jupyter-widgets/base",
            "_model_module_version": "1.2.0",
            "_model_name": "LayoutModel",
            "_view_count": null,
            "_view_module": "@jupyter-widgets/base",
            "_view_module_version": "1.2.0",
            "_view_name": "LayoutView",
            "align_content": null,
            "align_items": null,
            "align_self": null,
            "border": null,
            "bottom": null,
            "display": null,
            "flex": null,
            "flex_flow": null,
            "grid_area": null,
            "grid_auto_columns": null,
            "grid_auto_flow": null,
            "grid_auto_rows": null,
            "grid_column": null,
            "grid_gap": null,
            "grid_row": null,
            "grid_template_areas": null,
            "grid_template_columns": null,
            "grid_template_rows": null,
            "height": null,
            "justify_content": null,
            "justify_items": null,
            "left": null,
            "margin": null,
            "max_height": null,
            "max_width": null,
            "min_height": null,
            "min_width": null,
            "object_fit": null,
            "object_position": null,
            "order": null,
            "overflow": null,
            "overflow_x": null,
            "overflow_y": null,
            "padding": null,
            "right": null,
            "top": null,
            "visibility": null,
            "width": null
          }
        },
        "5f03835168e64ec588c50ee21fedd198": {
          "model_module": "@jupyter-widgets/controls",
          "model_module_version": "1.5.0",
          "model_name": "HTMLModel",
          "state": {
            "_dom_classes": [],
            "_model_module": "@jupyter-widgets/controls",
            "_model_module_version": "1.5.0",
            "_model_name": "HTMLModel",
            "_view_count": null,
            "_view_module": "@jupyter-widgets/controls",
            "_view_module_version": "1.5.0",
            "_view_name": "HTMLView",
            "description": "",
            "description_tooltip": null,
            "layout": "IPY_MODEL_c20e9e14100d45f3bdff1b6df943940f",
            "placeholder": "​",
            "style": "IPY_MODEL_5c53f97287d54c03a378fc44ab791cd7",
            "value": " 50/50 [00:01&lt;00:00, 29.69it/s]"
          }
        },
        "60604227dac34e37a0a9f3bfb3984317": {
          "model_module": "@jupyter-widgets/controls",
          "model_module_version": "1.5.0",
          "model_name": "HTMLModel",
          "state": {
            "_dom_classes": [],
            "_model_module": "@jupyter-widgets/controls",
            "_model_module_version": "1.5.0",
            "_model_name": "HTMLModel",
            "_view_count": null,
            "_view_module": "@jupyter-widgets/controls",
            "_view_module_version": "1.5.0",
            "_view_name": "HTMLView",
            "description": "",
            "description_tooltip": null,
            "layout": "IPY_MODEL_3b74befc8d70471697ce6686ab4ac5c3",
            "placeholder": "​",
            "style": "IPY_MODEL_b2ff537e768b43ef98c412e633ab9e49",
            "value": "100%"
          }
        },
        "635162e10abc441797d4e5b74713bf44": {
          "model_module": "@jupyter-widgets/controls",
          "model_module_version": "1.5.0",
          "model_name": "HTMLModel",
          "state": {
            "_dom_classes": [],
            "_model_module": "@jupyter-widgets/controls",
            "_model_module_version": "1.5.0",
            "_model_name": "HTMLModel",
            "_view_count": null,
            "_view_module": "@jupyter-widgets/controls",
            "_view_module_version": "1.5.0",
            "_view_name": "HTMLView",
            "description": "",
            "description_tooltip": null,
            "layout": "IPY_MODEL_5e9700580d6b4ad0bfac34bf3b3919fc",
            "placeholder": "​",
            "style": "IPY_MODEL_a2c30462ef8d41fd9158f194a746d5a7",
            "value": " 50/50 [00:02&lt;00:00, 29.94it/s]"
          }
        },
        "6571f57262c447ce9177223fb583e707": {
          "model_module": "@jupyter-widgets/controls",
          "model_module_version": "1.5.0",
          "model_name": "FloatProgressModel",
          "state": {
            "_dom_classes": [],
            "_model_module": "@jupyter-widgets/controls",
            "_model_module_version": "1.5.0",
            "_model_name": "FloatProgressModel",
            "_view_count": null,
            "_view_module": "@jupyter-widgets/controls",
            "_view_module_version": "1.5.0",
            "_view_name": "ProgressView",
            "bar_style": "success",
            "description": "",
            "description_tooltip": null,
            "layout": "IPY_MODEL_70006fb01d6a49fb909e4a3bfc5b940a",
            "max": 50,
            "min": 0,
            "orientation": "horizontal",
            "style": "IPY_MODEL_7980b120d41247548f49667cea6156a5",
            "value": 50
          }
        },
        "66d406d6eb1f49699ee09c9a2fd4ffa9": {
          "model_module": "@jupyter-widgets/base",
          "model_module_version": "1.2.0",
          "model_name": "LayoutModel",
          "state": {
            "_model_module": "@jupyter-widgets/base",
            "_model_module_version": "1.2.0",
            "_model_name": "LayoutModel",
            "_view_count": null,
            "_view_module": "@jupyter-widgets/base",
            "_view_module_version": "1.2.0",
            "_view_name": "LayoutView",
            "align_content": null,
            "align_items": null,
            "align_self": null,
            "border": null,
            "bottom": null,
            "display": null,
            "flex": null,
            "flex_flow": null,
            "grid_area": null,
            "grid_auto_columns": null,
            "grid_auto_flow": null,
            "grid_auto_rows": null,
            "grid_column": null,
            "grid_gap": null,
            "grid_row": null,
            "grid_template_areas": null,
            "grid_template_columns": null,
            "grid_template_rows": null,
            "height": null,
            "justify_content": null,
            "justify_items": null,
            "left": null,
            "margin": null,
            "max_height": null,
            "max_width": null,
            "min_height": null,
            "min_width": null,
            "object_fit": null,
            "object_position": null,
            "order": null,
            "overflow": null,
            "overflow_x": null,
            "overflow_y": null,
            "padding": null,
            "right": null,
            "top": null,
            "visibility": null,
            "width": null
          }
        },
        "70006fb01d6a49fb909e4a3bfc5b940a": {
          "model_module": "@jupyter-widgets/base",
          "model_module_version": "1.2.0",
          "model_name": "LayoutModel",
          "state": {
            "_model_module": "@jupyter-widgets/base",
            "_model_module_version": "1.2.0",
            "_model_name": "LayoutModel",
            "_view_count": null,
            "_view_module": "@jupyter-widgets/base",
            "_view_module_version": "1.2.0",
            "_view_name": "LayoutView",
            "align_content": null,
            "align_items": null,
            "align_self": null,
            "border": null,
            "bottom": null,
            "display": null,
            "flex": null,
            "flex_flow": null,
            "grid_area": null,
            "grid_auto_columns": null,
            "grid_auto_flow": null,
            "grid_auto_rows": null,
            "grid_column": null,
            "grid_gap": null,
            "grid_row": null,
            "grid_template_areas": null,
            "grid_template_columns": null,
            "grid_template_rows": null,
            "height": null,
            "justify_content": null,
            "justify_items": null,
            "left": null,
            "margin": null,
            "max_height": null,
            "max_width": null,
            "min_height": null,
            "min_width": null,
            "object_fit": null,
            "object_position": null,
            "order": null,
            "overflow": null,
            "overflow_x": null,
            "overflow_y": null,
            "padding": null,
            "right": null,
            "top": null,
            "visibility": null,
            "width": null
          }
        },
        "720b4d010c364e3fbf72a53b267e8db9": {
          "model_module": "@jupyter-widgets/base",
          "model_module_version": "1.2.0",
          "model_name": "LayoutModel",
          "state": {
            "_model_module": "@jupyter-widgets/base",
            "_model_module_version": "1.2.0",
            "_model_name": "LayoutModel",
            "_view_count": null,
            "_view_module": "@jupyter-widgets/base",
            "_view_module_version": "1.2.0",
            "_view_name": "LayoutView",
            "align_content": null,
            "align_items": null,
            "align_self": null,
            "border": null,
            "bottom": null,
            "display": null,
            "flex": null,
            "flex_flow": null,
            "grid_area": null,
            "grid_auto_columns": null,
            "grid_auto_flow": null,
            "grid_auto_rows": null,
            "grid_column": null,
            "grid_gap": null,
            "grid_row": null,
            "grid_template_areas": null,
            "grid_template_columns": null,
            "grid_template_rows": null,
            "height": null,
            "justify_content": null,
            "justify_items": null,
            "left": null,
            "margin": null,
            "max_height": null,
            "max_width": null,
            "min_height": null,
            "min_width": null,
            "object_fit": null,
            "object_position": null,
            "order": null,
            "overflow": null,
            "overflow_x": null,
            "overflow_y": null,
            "padding": null,
            "right": null,
            "top": null,
            "visibility": null,
            "width": null
          }
        },
        "7761a50a602f41f1a21aa826c491eb9d": {
          "model_module": "@jupyter-widgets/controls",
          "model_module_version": "1.5.0",
          "model_name": "HTMLModel",
          "state": {
            "_dom_classes": [],
            "_model_module": "@jupyter-widgets/controls",
            "_model_module_version": "1.5.0",
            "_model_name": "HTMLModel",
            "_view_count": null,
            "_view_module": "@jupyter-widgets/controls",
            "_view_module_version": "1.5.0",
            "_view_name": "HTMLView",
            "description": "",
            "description_tooltip": null,
            "layout": "IPY_MODEL_b272384164504fa5b81d5502c12f8800",
            "placeholder": "​",
            "style": "IPY_MODEL_f525b9f19c334fe6b2305ad6bcfa20bf",
            "value": " 50/50 [00:01&lt;00:00, 28.55it/s]"
          }
        },
        "7980b120d41247548f49667cea6156a5": {
          "model_module": "@jupyter-widgets/controls",
          "model_module_version": "1.5.0",
          "model_name": "ProgressStyleModel",
          "state": {
            "_model_module": "@jupyter-widgets/controls",
            "_model_module_version": "1.5.0",
            "_model_name": "ProgressStyleModel",
            "_view_count": null,
            "_view_module": "@jupyter-widgets/base",
            "_view_module_version": "1.2.0",
            "_view_name": "StyleView",
            "bar_color": null,
            "description_width": ""
          }
        },
        "79b59cbde9444bf892931d31afec7f2a": {
          "model_module": "@jupyter-widgets/controls",
          "model_module_version": "1.5.0",
          "model_name": "HTMLModel",
          "state": {
            "_dom_classes": [],
            "_model_module": "@jupyter-widgets/controls",
            "_model_module_version": "1.5.0",
            "_model_name": "HTMLModel",
            "_view_count": null,
            "_view_module": "@jupyter-widgets/controls",
            "_view_module_version": "1.5.0",
            "_view_name": "HTMLView",
            "description": "",
            "description_tooltip": null,
            "layout": "IPY_MODEL_d9c33fbfb3164cbbb7b9a4cd172d20ae",
            "placeholder": "​",
            "style": "IPY_MODEL_df53331cce124bd1ada5aa9e9a977015",
            "value": "100%"
          }
        },
        "8211cc6c973a43fcaf18e14f6d7f08a2": {
          "model_module": "@jupyter-widgets/controls",
          "model_module_version": "1.5.0",
          "model_name": "HTMLModel",
          "state": {
            "_dom_classes": [],
            "_model_module": "@jupyter-widgets/controls",
            "_model_module_version": "1.5.0",
            "_model_name": "HTMLModel",
            "_view_count": null,
            "_view_module": "@jupyter-widgets/controls",
            "_view_module_version": "1.5.0",
            "_view_name": "HTMLView",
            "description": "",
            "description_tooltip": null,
            "layout": "IPY_MODEL_66d406d6eb1f49699ee09c9a2fd4ffa9",
            "placeholder": "​",
            "style": "IPY_MODEL_38341454dd6b4e9ca2fe5b85d2e371e1",
            "value": "100%"
          }
        },
        "83d947fc3338491ab4155b87c443884c": {
          "model_module": "@jupyter-widgets/controls",
          "model_module_version": "1.5.0",
          "model_name": "ProgressStyleModel",
          "state": {
            "_model_module": "@jupyter-widgets/controls",
            "_model_module_version": "1.5.0",
            "_model_name": "ProgressStyleModel",
            "_view_count": null,
            "_view_module": "@jupyter-widgets/base",
            "_view_module_version": "1.2.0",
            "_view_name": "StyleView",
            "bar_color": null,
            "description_width": ""
          }
        },
        "9f555c5ada38495eb4281cbb49169abe": {
          "model_module": "@jupyter-widgets/controls",
          "model_module_version": "1.5.0",
          "model_name": "HBoxModel",
          "state": {
            "_dom_classes": [],
            "_model_module": "@jupyter-widgets/controls",
            "_model_module_version": "1.5.0",
            "_model_name": "HBoxModel",
            "_view_count": null,
            "_view_module": "@jupyter-widgets/controls",
            "_view_module_version": "1.5.0",
            "_view_name": "HBoxView",
            "box_style": "",
            "children": [
              "IPY_MODEL_79b59cbde9444bf892931d31afec7f2a",
              "IPY_MODEL_a157870318114d459a33d795850967ef",
              "IPY_MODEL_635162e10abc441797d4e5b74713bf44"
            ],
            "layout": "IPY_MODEL_720b4d010c364e3fbf72a53b267e8db9"
          }
        },
        "a157870318114d459a33d795850967ef": {
          "model_module": "@jupyter-widgets/controls",
          "model_module_version": "1.5.0",
          "model_name": "FloatProgressModel",
          "state": {
            "_dom_classes": [],
            "_model_module": "@jupyter-widgets/controls",
            "_model_module_version": "1.5.0",
            "_model_name": "FloatProgressModel",
            "_view_count": null,
            "_view_module": "@jupyter-widgets/controls",
            "_view_module_version": "1.5.0",
            "_view_name": "ProgressView",
            "bar_style": "success",
            "description": "",
            "description_tooltip": null,
            "layout": "IPY_MODEL_229dad8e29f04c279c5603286e2c0643",
            "max": 50,
            "min": 0,
            "orientation": "horizontal",
            "style": "IPY_MODEL_83d947fc3338491ab4155b87c443884c",
            "value": 50
          }
        },
        "a2179cafb63f475db0162cd990a17ff7": {
          "model_module": "@jupyter-widgets/controls",
          "model_module_version": "1.5.0",
          "model_name": "HTMLModel",
          "state": {
            "_dom_classes": [],
            "_model_module": "@jupyter-widgets/controls",
            "_model_module_version": "1.5.0",
            "_model_name": "HTMLModel",
            "_view_count": null,
            "_view_module": "@jupyter-widgets/controls",
            "_view_module_version": "1.5.0",
            "_view_name": "HTMLView",
            "description": "",
            "description_tooltip": null,
            "layout": "IPY_MODEL_359ef2b8a4ac4a9c9a91edc4a2dd1326",
            "placeholder": "​",
            "style": "IPY_MODEL_c66dc6c14a4c4274900abe8fc993266a",
            "value": " 50/50 [00:01&lt;00:00, 28.62it/s]"
          }
        },
        "a2c30462ef8d41fd9158f194a746d5a7": {
          "model_module": "@jupyter-widgets/controls",
          "model_module_version": "1.5.0",
          "model_name": "DescriptionStyleModel",
          "state": {
            "_model_module": "@jupyter-widgets/controls",
            "_model_module_version": "1.5.0",
            "_model_name": "DescriptionStyleModel",
            "_view_count": null,
            "_view_module": "@jupyter-widgets/base",
            "_view_module_version": "1.2.0",
            "_view_name": "StyleView",
            "description_width": ""
          }
        },
        "a30c82833f55441995744300c2ef538d": {
          "model_module": "@jupyter-widgets/base",
          "model_module_version": "1.2.0",
          "model_name": "LayoutModel",
          "state": {
            "_model_module": "@jupyter-widgets/base",
            "_model_module_version": "1.2.0",
            "_model_name": "LayoutModel",
            "_view_count": null,
            "_view_module": "@jupyter-widgets/base",
            "_view_module_version": "1.2.0",
            "_view_name": "LayoutView",
            "align_content": null,
            "align_items": null,
            "align_self": null,
            "border": null,
            "bottom": null,
            "display": null,
            "flex": null,
            "flex_flow": null,
            "grid_area": null,
            "grid_auto_columns": null,
            "grid_auto_flow": null,
            "grid_auto_rows": null,
            "grid_column": null,
            "grid_gap": null,
            "grid_row": null,
            "grid_template_areas": null,
            "grid_template_columns": null,
            "grid_template_rows": null,
            "height": null,
            "justify_content": null,
            "justify_items": null,
            "left": null,
            "margin": null,
            "max_height": null,
            "max_width": null,
            "min_height": null,
            "min_width": null,
            "object_fit": null,
            "object_position": null,
            "order": null,
            "overflow": null,
            "overflow_x": null,
            "overflow_y": null,
            "padding": null,
            "right": null,
            "top": null,
            "visibility": null,
            "width": null
          }
        },
        "a8bdc4ecce4f48e0ba6483ea9e679336": {
          "model_module": "@jupyter-widgets/controls",
          "model_module_version": "1.5.0",
          "model_name": "HBoxModel",
          "state": {
            "_dom_classes": [],
            "_model_module": "@jupyter-widgets/controls",
            "_model_module_version": "1.5.0",
            "_model_name": "HBoxModel",
            "_view_count": null,
            "_view_module": "@jupyter-widgets/controls",
            "_view_module_version": "1.5.0",
            "_view_name": "HBoxView",
            "box_style": "",
            "children": [
              "IPY_MODEL_60604227dac34e37a0a9f3bfb3984317",
              "IPY_MODEL_4024c181581c485abd3181586afc2574",
              "IPY_MODEL_7761a50a602f41f1a21aa826c491eb9d"
            ],
            "layout": "IPY_MODEL_25ebd285de2e49c483c3b22b5c8364c0"
          }
        },
        "b272384164504fa5b81d5502c12f8800": {
          "model_module": "@jupyter-widgets/base",
          "model_module_version": "1.2.0",
          "model_name": "LayoutModel",
          "state": {
            "_model_module": "@jupyter-widgets/base",
            "_model_module_version": "1.2.0",
            "_model_name": "LayoutModel",
            "_view_count": null,
            "_view_module": "@jupyter-widgets/base",
            "_view_module_version": "1.2.0",
            "_view_name": "LayoutView",
            "align_content": null,
            "align_items": null,
            "align_self": null,
            "border": null,
            "bottom": null,
            "display": null,
            "flex": null,
            "flex_flow": null,
            "grid_area": null,
            "grid_auto_columns": null,
            "grid_auto_flow": null,
            "grid_auto_rows": null,
            "grid_column": null,
            "grid_gap": null,
            "grid_row": null,
            "grid_template_areas": null,
            "grid_template_columns": null,
            "grid_template_rows": null,
            "height": null,
            "justify_content": null,
            "justify_items": null,
            "left": null,
            "margin": null,
            "max_height": null,
            "max_width": null,
            "min_height": null,
            "min_width": null,
            "object_fit": null,
            "object_position": null,
            "order": null,
            "overflow": null,
            "overflow_x": null,
            "overflow_y": null,
            "padding": null,
            "right": null,
            "top": null,
            "visibility": null,
            "width": null
          }
        },
        "b2ff537e768b43ef98c412e633ab9e49": {
          "model_module": "@jupyter-widgets/controls",
          "model_module_version": "1.5.0",
          "model_name": "DescriptionStyleModel",
          "state": {
            "_model_module": "@jupyter-widgets/controls",
            "_model_module_version": "1.5.0",
            "_model_name": "DescriptionStyleModel",
            "_view_count": null,
            "_view_module": "@jupyter-widgets/base",
            "_view_module_version": "1.2.0",
            "_view_name": "StyleView",
            "description_width": ""
          }
        },
        "b833db18729f422cb86deed4be6f1900": {
          "model_module": "@jupyter-widgets/base",
          "model_module_version": "1.2.0",
          "model_name": "LayoutModel",
          "state": {
            "_model_module": "@jupyter-widgets/base",
            "_model_module_version": "1.2.0",
            "_model_name": "LayoutModel",
            "_view_count": null,
            "_view_module": "@jupyter-widgets/base",
            "_view_module_version": "1.2.0",
            "_view_name": "LayoutView",
            "align_content": null,
            "align_items": null,
            "align_self": null,
            "border": null,
            "bottom": null,
            "display": null,
            "flex": null,
            "flex_flow": null,
            "grid_area": null,
            "grid_auto_columns": null,
            "grid_auto_flow": null,
            "grid_auto_rows": null,
            "grid_column": null,
            "grid_gap": null,
            "grid_row": null,
            "grid_template_areas": null,
            "grid_template_columns": null,
            "grid_template_rows": null,
            "height": null,
            "justify_content": null,
            "justify_items": null,
            "left": null,
            "margin": null,
            "max_height": null,
            "max_width": null,
            "min_height": null,
            "min_width": null,
            "object_fit": null,
            "object_position": null,
            "order": null,
            "overflow": null,
            "overflow_x": null,
            "overflow_y": null,
            "padding": null,
            "right": null,
            "top": null,
            "visibility": null,
            "width": null
          }
        },
        "c0bb81765e93420796cd5f959e9d3534": {
          "model_module": "@jupyter-widgets/base",
          "model_module_version": "1.2.0",
          "model_name": "LayoutModel",
          "state": {
            "_model_module": "@jupyter-widgets/base",
            "_model_module_version": "1.2.0",
            "_model_name": "LayoutModel",
            "_view_count": null,
            "_view_module": "@jupyter-widgets/base",
            "_view_module_version": "1.2.0",
            "_view_name": "LayoutView",
            "align_content": null,
            "align_items": null,
            "align_self": null,
            "border": null,
            "bottom": null,
            "display": null,
            "flex": null,
            "flex_flow": null,
            "grid_area": null,
            "grid_auto_columns": null,
            "grid_auto_flow": null,
            "grid_auto_rows": null,
            "grid_column": null,
            "grid_gap": null,
            "grid_row": null,
            "grid_template_areas": null,
            "grid_template_columns": null,
            "grid_template_rows": null,
            "height": null,
            "justify_content": null,
            "justify_items": null,
            "left": null,
            "margin": null,
            "max_height": null,
            "max_width": null,
            "min_height": null,
            "min_width": null,
            "object_fit": null,
            "object_position": null,
            "order": null,
            "overflow": null,
            "overflow_x": null,
            "overflow_y": null,
            "padding": null,
            "right": null,
            "top": null,
            "visibility": null,
            "width": null
          }
        },
        "c20e9e14100d45f3bdff1b6df943940f": {
          "model_module": "@jupyter-widgets/base",
          "model_module_version": "1.2.0",
          "model_name": "LayoutModel",
          "state": {
            "_model_module": "@jupyter-widgets/base",
            "_model_module_version": "1.2.0",
            "_model_name": "LayoutModel",
            "_view_count": null,
            "_view_module": "@jupyter-widgets/base",
            "_view_module_version": "1.2.0",
            "_view_name": "LayoutView",
            "align_content": null,
            "align_items": null,
            "align_self": null,
            "border": null,
            "bottom": null,
            "display": null,
            "flex": null,
            "flex_flow": null,
            "grid_area": null,
            "grid_auto_columns": null,
            "grid_auto_flow": null,
            "grid_auto_rows": null,
            "grid_column": null,
            "grid_gap": null,
            "grid_row": null,
            "grid_template_areas": null,
            "grid_template_columns": null,
            "grid_template_rows": null,
            "height": null,
            "justify_content": null,
            "justify_items": null,
            "left": null,
            "margin": null,
            "max_height": null,
            "max_width": null,
            "min_height": null,
            "min_width": null,
            "object_fit": null,
            "object_position": null,
            "order": null,
            "overflow": null,
            "overflow_x": null,
            "overflow_y": null,
            "padding": null,
            "right": null,
            "top": null,
            "visibility": null,
            "width": null
          }
        },
        "c66dc6c14a4c4274900abe8fc993266a": {
          "model_module": "@jupyter-widgets/controls",
          "model_module_version": "1.5.0",
          "model_name": "DescriptionStyleModel",
          "state": {
            "_model_module": "@jupyter-widgets/controls",
            "_model_module_version": "1.5.0",
            "_model_name": "DescriptionStyleModel",
            "_view_count": null,
            "_view_module": "@jupyter-widgets/base",
            "_view_module_version": "1.2.0",
            "_view_name": "StyleView",
            "description_width": ""
          }
        },
        "d9c33fbfb3164cbbb7b9a4cd172d20ae": {
          "model_module": "@jupyter-widgets/base",
          "model_module_version": "1.2.0",
          "model_name": "LayoutModel",
          "state": {
            "_model_module": "@jupyter-widgets/base",
            "_model_module_version": "1.2.0",
            "_model_name": "LayoutModel",
            "_view_count": null,
            "_view_module": "@jupyter-widgets/base",
            "_view_module_version": "1.2.0",
            "_view_name": "LayoutView",
            "align_content": null,
            "align_items": null,
            "align_self": null,
            "border": null,
            "bottom": null,
            "display": null,
            "flex": null,
            "flex_flow": null,
            "grid_area": null,
            "grid_auto_columns": null,
            "grid_auto_flow": null,
            "grid_auto_rows": null,
            "grid_column": null,
            "grid_gap": null,
            "grid_row": null,
            "grid_template_areas": null,
            "grid_template_columns": null,
            "grid_template_rows": null,
            "height": null,
            "justify_content": null,
            "justify_items": null,
            "left": null,
            "margin": null,
            "max_height": null,
            "max_width": null,
            "min_height": null,
            "min_width": null,
            "object_fit": null,
            "object_position": null,
            "order": null,
            "overflow": null,
            "overflow_x": null,
            "overflow_y": null,
            "padding": null,
            "right": null,
            "top": null,
            "visibility": null,
            "width": null
          }
        },
        "df53331cce124bd1ada5aa9e9a977015": {
          "model_module": "@jupyter-widgets/controls",
          "model_module_version": "1.5.0",
          "model_name": "DescriptionStyleModel",
          "state": {
            "_model_module": "@jupyter-widgets/controls",
            "_model_module_version": "1.5.0",
            "_model_name": "DescriptionStyleModel",
            "_view_count": null,
            "_view_module": "@jupyter-widgets/base",
            "_view_module_version": "1.2.0",
            "_view_name": "StyleView",
            "description_width": ""
          }
        },
        "f525b9f19c334fe6b2305ad6bcfa20bf": {
          "model_module": "@jupyter-widgets/controls",
          "model_module_version": "1.5.0",
          "model_name": "DescriptionStyleModel",
          "state": {
            "_model_module": "@jupyter-widgets/controls",
            "_model_module_version": "1.5.0",
            "_model_name": "DescriptionStyleModel",
            "_view_count": null,
            "_view_module": "@jupyter-widgets/base",
            "_view_module_version": "1.2.0",
            "_view_name": "StyleView",
            "description_width": ""
          }
        },
        "fe6cae73e861414eaff54680113676bc": {
          "model_module": "@jupyter-widgets/base",
          "model_module_version": "1.2.0",
          "model_name": "LayoutModel",
          "state": {
            "_model_module": "@jupyter-widgets/base",
            "_model_module_version": "1.2.0",
            "_model_name": "LayoutModel",
            "_view_count": null,
            "_view_module": "@jupyter-widgets/base",
            "_view_module_version": "1.2.0",
            "_view_name": "LayoutView",
            "align_content": null,
            "align_items": null,
            "align_self": null,
            "border": null,
            "bottom": null,
            "display": null,
            "flex": null,
            "flex_flow": null,
            "grid_area": null,
            "grid_auto_columns": null,
            "grid_auto_flow": null,
            "grid_auto_rows": null,
            "grid_column": null,
            "grid_gap": null,
            "grid_row": null,
            "grid_template_areas": null,
            "grid_template_columns": null,
            "grid_template_rows": null,
            "height": null,
            "justify_content": null,
            "justify_items": null,
            "left": null,
            "margin": null,
            "max_height": null,
            "max_width": null,
            "min_height": null,
            "min_width": null,
            "object_fit": null,
            "object_position": null,
            "order": null,
            "overflow": null,
            "overflow_x": null,
            "overflow_y": null,
            "padding": null,
            "right": null,
            "top": null,
            "visibility": null,
            "width": null
          }
        }
      }
    }
  },
  "nbformat": 4,
  "nbformat_minor": 0
}
