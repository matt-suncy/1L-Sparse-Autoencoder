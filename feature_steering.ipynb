{
  "cells": [
    {
      "cell_type": "markdown",
      "metadata": {
        "id": "GoXn14ltnGh3"
      },
      "source": [
        "# Using an SAE as a steering vector\n",
        "\n",
        "This notebook demonstrates how to use SAE lens to identify a feature on a pretrained model, and then construct a steering vector to affect the models output to various prompts. This notebook will also make use of Neuronpedia for identifying features of interest.\n",
        "\n",
        "The steps below include:\n",
        "\n",
        "\n",
        "\n",
        "*   Installing relevant packages (Colab or locally)\n",
        "*   Load your SAE and the model it used\n",
        "*   Determining your feature of interest and its index\n",
        "*   Implementing your steering vector\n",
        "\n",
        "\n",
        "\n"
      ]
    },
    {
      "cell_type": "markdown",
      "metadata": {
        "id": "gf3lJYPEXh0v"
      },
      "source": [
        "## Setting up packages and notebook"
      ]
    },
    {
      "cell_type": "markdown",
      "metadata": {
        "id": "l9k5iGyOXtuN"
      },
      "source": [
        "### Import and installs"
      ]
    },
    {
      "cell_type": "markdown",
      "metadata": {
        "id": "fapxk8MDrs6R"
      },
      "source": [
        "#### Environment Setup\n"
      ]
    },
    {
      "cell_type": "code",
      "execution_count": 1,
      "metadata": {
        "colab": {
          "base_uri": "https://localhost:8080/"
        },
        "collapsed": true,
        "id": "0TwNmRkRUgR7",
        "outputId": "ffeb827a-9af2-4b09-b8dd-78e0d594ddf6"
      },
      "outputs": [],
      "source": [
        "try:\n",
        "  # for google colab users\n",
        "    import google.colab # type: ignore\n",
        "    from google.colab import output\n",
        "    COLAB = True\n",
        "    %pip install sae-lens transformer-lens\n",
        "except:\n",
        "  # for local setup\n",
        "    COLAB = False\n",
        "    from IPython import get_ipython # type: ignore\n",
        "    ipython = get_ipython(); assert ipython is not None\n",
        "    ipython.run_line_magic(\"load_ext\", \"autoreload\")\n",
        "    ipython.run_line_magic(\"autoreload\", \"2\")\n",
        "\n",
        "# Imports for displaying vis in Colab / notebook\n",
        "import webbrowser\n",
        "import http.server\n",
        "import socketserver\n",
        "import threading\n",
        "PORT = 8000\n",
        "\n",
        "# general imports\n",
        "import os\n",
        "import sys\n",
        "import torch\n",
        "from tqdm import tqdm\n",
        "import plotly.express as px\n",
        "\n",
        "torch.set_grad_enabled(False);\n",
        "\n",
        "import copy\n",
        "import pandas as pd\n",
        "import itertools as ittl\n",
        "import numpy as np\n",
        "from scipy import stats\n",
        "from scipy.spatial import distance\n",
        "from sklearn import metrics\n",
        "import seaborn as sns\n",
        "import matplotlib.pyplot as plt\n",
        "from matplotlib.ticker import MaxNLocator\n",
        "from datasets import Dataset\n",
        "from datasets import load_dataset, concatenate_datasets\n",
        "import transformers\n"
      ]
    },
    {
      "cell_type": "markdown",
      "metadata": {
        "id": "CmaPYLpGrxbo"
      },
      "source": [
        "#### General Installs and device setup"
      ]
    },
    {
      "cell_type": "code",
      "execution_count": 2,
      "metadata": {
        "colab": {
          "base_uri": "https://localhost:8080/"
        },
        "id": "tdUm9rZKr1Qb",
        "outputId": "9b73b762-1356-437b-8925-91c514093b43"
      },
      "outputs": [
        {
          "name": "stdout",
          "output_type": "stream",
          "text": [
            "Device: cuda\n"
          ]
        }
      ],
      "source": [
        "# package import\n",
        "from torch import Tensor\n",
        "from transformer_lens import utils\n",
        "from transformers import AutoTokenizer, AutoModelForCausalLM\n",
        "from functools import partial\n",
        "from jaxtyping import Int, Float\n",
        "\n",
        "\n",
        "# device setup\n",
        "if torch.backends.mps.is_available():\n",
        "    device = \"mps\"\n",
        "else:\n",
        "    device = \"cuda\" if torch.cuda.is_available() else \"cpu\"\n",
        "\n",
        "print(f\"Device: {device}\")"
      ]
    },
    {
      "cell_type": "markdown",
      "metadata": {
        "id": "lsB0qORUaXiK"
      },
      "source": [
        "### Load your model and SAE\n",
        "\n",
        "We're going to work with a pretrained GPT2-small model, and the RES-JB SAE set which is for the residual stream."
      ]
    },
    {
      "cell_type": "code",
      "execution_count": 3,
      "metadata": {
        "colab": {
          "base_uri": "https://localhost:8080/"
        },
        "collapsed": true,
        "id": "bCvNtm1OOhlR",
        "outputId": "e6fd27ab-ee94-46ec-a07e-ee48c8f30da3"
      },
      "outputs": [
        {
          "name": "stderr",
          "output_type": "stream",
          "text": [
            "/home/jovyan/.local/lib/python3.10/site-packages/huggingface_hub/file_download.py:1132: FutureWarning: `resume_download` is deprecated and will be removed in version 1.0.0. Downloads always resume when possible. If you want to force a new download, use `force_download=True`.\n",
            "  warnings.warn(\n"
          ]
        },
        {
          "name": "stdout",
          "output_type": "stream",
          "text": [
            "Loaded pretrained model gpt2-small into HookedTransformer\n"
          ]
        }
      ],
      "source": [
        "from transformer_lens import HookedTransformer\n",
        "from sae_lens import SAE\n",
        "from sae_lens.toolkit.pretrained_saes import get_gpt2_res_jb_saes\n",
        "\n",
        "# Choose a layer you want to focus on\n",
        "# For this tutorial, we're going to use layer 2\n",
        "# layer = 0\n",
        "\n",
        "# get model\n",
        "model = HookedTransformer.from_pretrained(\"gpt2-small\", device = device)\n",
        "\n",
        "# # get the SAE for this layer\n",
        "# '''\n",
        "# sae, cfg_dict, _ = SAE.from_pretrained(\n",
        "#     release = \"gemma-2b-res-jb\",\n",
        "#     sae_id = f\"blocks.{layer}.hook_resid_post\",\n",
        "#     device = device\n",
        "# )\n",
        "# '''\n",
        "# sae, cfg_dict, _ = SAE.from_pretrained(\n",
        "#     release = \"gpt2-small-res-jb\",\n",
        "#     sae_id = f\"blocks.{layer}.hook_resid_pre\",\n",
        "#     device = device\n",
        "# )\n",
        "\n",
        "# # get hook point\n",
        "# hook_point = sae.cfg.hook_name\n",
        "# print(hook_point)"
      ]
    },
    {
      "cell_type": "markdown",
      "metadata": {
        "id": "NkAAoyFbu5a5"
      },
      "source": [
        "## Determine your feature of interest and its index"
      ]
    },
    {
      "cell_type": "markdown",
      "metadata": {
        "id": "DkQNvdd54q4S"
      },
      "source": [
        "### Find your feature"
      ]
    },
    {
      "cell_type": "markdown",
      "metadata": {
        "id": "wzeY2D13xRjY"
      },
      "source": [
        "#### Explore through code by using the feature activations for a prompt\n",
        "\n",
        "For the purpose of the tutorial, we are selecting a simple token prompt.\n",
        "\n",
        "In this example we will look trying to find and steer a \"Jedi\" feature.\n",
        "\n",
        "We run our prompt on our model and get the cache, which we then use with our sae to get our feature activations.\n",
        "\n",
        "Now we'll look at the top feature activations and look them up on Neuronpedia to determine what they have been intepreted as."
      ]
    },
    {
      "cell_type": "code",
      "execution_count": 5,
      "metadata": {
        "colab": {
          "base_uri": "https://localhost:8080/"
        },
        "id": "IIrdJ36mlXgB",
        "outputId": "c4014b87-3af6-4c27-8f79-3b5a3c2c03dc"
      },
      "outputs": [],
      "source": [
        "# print('dir(sae)\\n', dir(sae))\n",
        "# print('sae.W_enc.shape\\n', sae.W_enc.shape)\n",
        "\n",
        "# print('\\n')\n",
        "\n",
        "# #sv_prompt = \" The Golden Gate Bridge\"\n",
        "# # sv_prompt = 'Jedi'\n",
        "# sv_prompt = 'Emily\\'s dog just died. She is feeling sad'\n",
        "# # sv_prompt = 'John\\'s lunch was stolen. He is feeling angry'\n",
        "# # sv_prompt = 'John just received a present. He is feeling happy'\n",
        "\n",
        "# sv_logits, cache = model.run_with_cache(sv_prompt, prepend_bos=True)\n",
        "# tokens = model.to_tokens(sv_prompt)\n",
        "# print('tokens', tokens)\n",
        "\n",
        "# # get the feature activations from our SAE\n",
        "# sv_feature_acts = sae.encode(cache[hook_point])\n",
        "\n",
        "# # get sae_out\n",
        "# sae_out = sae.decode(sv_feature_acts)\n",
        "\n",
        "# # print out the top activations, focus on the indices\n",
        "# print('\\n', torch.topk(sv_feature_acts, 3))\n",
        "\n",
        "\n",
        "# # Explanation of the topk outputs below:\n",
        "# # There are 5 tokens in sv_prompt: <BOS>, The, Golden, Gate, Bridge. \n",
        "# # So what topk is showing is for each token what SAE feature is being activated the most.\n",
        "# # Thats why we have a 5 x 3 array. \n"
      ]
    },
    {
      "cell_type": "markdown",
      "metadata": {
        "id": "cexaoBR65lIa"
      },
      "source": [
        "### Set up hook functions\n",
        "\n",
        "Finally, we need to create a hook that allows us to apply the steering vector when our model runs generate() on our defined prompt. We have also added a boolean value 'steering_on' that allows us to easily toggle the steering vector on and off for each prompt\n"
      ]
    },
    {
      "cell_type": "code",
      "execution_count": 4,
      "metadata": {
        "collapsed": true,
        "id": "3kcVWeJoIAlC"
      },
      "outputs": [],
      "source": [
        "def steering_hook(resid_pre, hook):\n",
        "\n",
        "    if resid_pre.shape[1] == 1:\n",
        "        return\n",
        "\n",
        "    # print('resid_pre.shape', resid_pre.shape)\n",
        "    position = sae.W_dec.shape[-1]\n",
        "    # print('sae_out.shape', sae_out.shape, '\\n')\n",
        "    if steering_on:\n",
        "      # using our steering vector and applying the coefficient\n",
        "\n",
        "      # So here resid_pre are the values from the residual stream (in this case [batch_size, n_tokens, 768])\n",
        "      # We modify all values up to but not including the last token (since its an EOS token)\n",
        "\n",
        "      # Modification is an addition of the outgoing weights from the target SAE feature \n",
        "      # (which is a size 768 vector) multiplied by a coefficient that controls the magnitude of the steering\n",
        "\n",
        "      # The steered values would then make their way through the rest of the model\n",
        "      resid_pre[:, :position - 1, :] += coeff * steering_vector\n",
        "\n",
        "def ablation_hook(resid_pre, hook):\n",
        "\n",
        "    if resid_pre.shape[1] == 1:\n",
        "        return\n",
        "    \n",
        "    if steering_on:\n",
        "\n",
        "        position = sae.W_dec.shape[-1]\n",
        "    \n",
        "        act_strength = (resid_pre @ sae.W_enc)[:, :position-1, feature_id]\n",
        "        act_strength = torch.unsqueeze(act_strength, -1)\n",
        "        new_shape = list(act_strength.shape)\n",
        "        new_shape[-1] = steering_vector.shape[-1]\n",
        "        act_strength.expand(new_shape)\n",
        "\n",
        "        resid_pre[:, :position-1, :] -= act_strength * steering_vector\n",
        "\n",
        "def hooked_generate(prompt_batch, fwd_hooks=[], seed=None, **kwargs):\n",
        "    if seed is not None:\n",
        "        torch.manual_seed(seed)\n",
        "\n",
        "    with model.hooks(fwd_hooks=fwd_hooks):\n",
        "        tokenized = model.to_tokens(prompt_batch)\n",
        "        result = model.generate(\n",
        "            stop_at_eos=False,  # avoids a bug on MPS\n",
        "            input=tokenized,\n",
        "            max_new_tokens=30,\n",
        "            do_sample=True,\n",
        "            **kwargs)\n",
        "    return result\n"
      ]
    },
    {
      "cell_type": "code",
      "execution_count": 5,
      "metadata": {
        "id": "VcuRkX0yA2WH"
      },
      "outputs": [],
      "source": [
        "def run_generate(prompts, n_samples, steering_type='steer'):\n",
        "  \n",
        "  res_list = []\n",
        "\n",
        "  for prompt, label in prompts:\n",
        "\n",
        "    model.reset_hooks()\n",
        "\n",
        "    # Steering\n",
        "    editing_hooks = [(f\"blocks.{layer}.hook_resid_pre\", steering_hook)] if steering_type == 'steer' \\\n",
        "                    else [(f\"blocks.{layer}.hook_resid_pre\", ablation_hook)]\n",
        "\n",
        "    res = hooked_generate([prompt] * n_samples, editing_hooks, seed=None, **sampling_kwargs)\n",
        "\n",
        "    # Print results, removing the ugly beginning of sequence token\n",
        "    res_str = model.to_string(res[:, 1:])\n",
        "    res_str = [(text.split('\\\". '))[1] for text in res_str]\n",
        "    res_list.append({'prompt': prompt, 'responses': res_str, 'label': label})\n",
        "\n",
        "  return pd.DataFrame(res_list)"
      ]
    },
    {
      "cell_type": "markdown",
      "metadata": {
        "id": "YACtNFzGcNua"
      },
      "source": [
        "## Implement your steering vector and affect the output"
      ]
    },
    {
      "cell_type": "markdown",
      "metadata": {
        "id": "pO8hjg8j5bb-"
      },
      "source": [
        "### Define values for your steering vector\n",
        "To create our steering vector, we now need to get the decoder weights from our sparse autoencoder found at our index of interest.\n",
        "\n",
        "Then to use our steering vector, we want a prompt for text generation, as well as a scaling factor coefficent to apply with the steering vector\n",
        "\n",
        "We also set common sampling kwargs - temperature, top_p and freq_penalty"
      ]
    },
    {
      "cell_type": "code",
      "execution_count": 154,
      "metadata": {
        "id": "rgYEWGV0t0L2"
      },
      "outputs": [],
      "source": [
        "# Golden State Bridge:\n",
        "# steering_vector = sae.W_dec[10200]\n",
        "\n",
        "# Jedi:\n",
        "# steering_vector = sae.W_dec[7650]\n",
        "\n",
        "# Sadness: 2442, \n",
        "# steering_vector = sae.W_dec[2442]\n",
        "\n",
        "# Anger: 1550, 4707, 18357, 5526, 21165, 252\n",
        "# steering_vector = sae.W_dec[21165]\n",
        "\n",
        "# Worry: 849, 15524, 18978, 21673\n",
        "# steering_vector = sae.W_dec[18978]\n",
        "\n",
        "# Happiness: 13928, 3879, 3456\n",
        "# steering_vector = sae.W_dec[24422]\n",
        "# sampling_kwargs = dict(temperature=0.9, top_p=0.1, freq_penalty=1.0)"
      ]
    },
    {
      "cell_type": "markdown",
      "metadata": {},
      "source": [
        "### Loading an Emotion Recognition Dataset - https://github.com/dair-ai/emotion_dataset"
      ]
    },
    {
      "cell_type": "code",
      "execution_count": 6,
      "metadata": {},
      "outputs": [],
      "source": [
        "emotion_dataset = load_dataset('dair-ai/emotion', split='train', trust_remote_code=True)"
      ]
    },
    {
      "cell_type": "code",
      "execution_count": 7,
      "metadata": {},
      "outputs": [],
      "source": [
        "emotion_dataset = emotion_dataset.shuffle(seed=42)"
      ]
    },
    {
      "cell_type": "code",
      "execution_count": 8,
      "metadata": {},
      "outputs": [],
      "source": [
        "# Split dataset into partitions based on label\n",
        "parted_dataset = [emotion_dataset.filter(lambda x: x['label'] == label) for label in range(len(emotion_dataset.features['label'].names))]"
      ]
    },
    {
      "cell_type": "code",
      "execution_count": 9,
      "metadata": {},
      "outputs": [
        {
          "name": "stdout",
          "output_type": "stream",
          "text": [
            "Dataset({\n",
            "    features: ['text', 'label'],\n",
            "    num_rows: 4666\n",
            "})\n"
          ]
        }
      ],
      "source": [
        "print(parted_dataset[0])"
      ]
    },
    {
      "cell_type": "code",
      "execution_count": 10,
      "metadata": {},
      "outputs": [
        {
          "name": "stdout",
          "output_type": "stream",
          "text": [
            "Dataset({\n",
            "    features: ['text', 'label'],\n",
            "    num_rows: 30\n",
            "})\n"
          ]
        }
      ],
      "source": [
        "# batch_size will take batch_size number of samples from each class, awkward naming but whatever\n",
        "batch_size = 5\n",
        "batch = concatenate_datasets([part.select([x for x in range(batch_size)]) for part in parted_dataset])\n",
        "print(batch)\n",
        "# prompts = [f'Jennifer says, \\\"{text}\\\". Jennifer feels' for text in batch['text']]\n",
        "prompts = [f'Alex says, \\\"{text}\\\". Alex feels' for text in batch['text']]\n",
        "labels = [label for label in batch['label']]\n",
        "prompts = list(zip(prompts, labels))"
      ]
    },
    {
      "cell_type": "markdown",
      "metadata": {},
      "source": [
        "### Getting a \"judge\" model to judge the generations"
      ]
    },
    {
      "cell_type": "code",
      "execution_count": 11,
      "metadata": {
        "tags": [
          "Generation Params"
        ]
      },
      "outputs": [
        {
          "ename": "NameError",
          "evalue": "name 'sae' is not defined",
          "output_type": "error",
          "traceback": [
            "\u001b[0;31m---------------------------------------------------------------------------\u001b[0m",
            "\u001b[0;31mNameError\u001b[0m                                 Traceback (most recent call last)",
            "\u001b[1;32m/home/jovyan/1L-Sparse-Autoencoder/feature_steering.ipynb Cell 27\u001b[0m line \u001b[0;36m6\n\u001b[1;32m      <a href='vscode-notebook-cell://lobot.caslab.queensu.ca/home/jovyan/1L-Sparse-Autoencoder/feature_steering.ipynb#X35sdnNjb2RlLXJlbW90ZQ%3D%3D?line=3'>4</a>\u001b[0m coeff \u001b[39m=\u001b[39m \u001b[39m15\u001b[39m\n\u001b[1;32m      <a href='vscode-notebook-cell://lobot.caslab.queensu.ca/home/jovyan/1L-Sparse-Autoencoder/feature_steering.ipynb#X35sdnNjb2RlLXJlbW90ZQ%3D%3D?line=4'>5</a>\u001b[0m feature_id \u001b[39m=\u001b[39m \u001b[39m22318\u001b[39m\n\u001b[0;32m----> <a href='vscode-notebook-cell://lobot.caslab.queensu.ca/home/jovyan/1L-Sparse-Autoencoder/feature_steering.ipynb#X35sdnNjb2RlLXJlbW90ZQ%3D%3D?line=5'>6</a>\u001b[0m steering_vector \u001b[39m=\u001b[39m sae\u001b[39m.\u001b[39mW_dec[feature_id]\n",
            "\u001b[0;31mNameError\u001b[0m: name 'sae' is not defined"
          ]
        }
      ],
      "source": [
        "sampling_kwargs = dict(temperature=0.5, top_p=0.1, freq_penalty=5.0)\n",
        "n_samples = 1\n",
        "steer_type = 'steer'\n",
        "coeff = 15\n",
        "feature_id = 22318\n",
        "steering_vector = sae.W_dec[feature_id]"
      ]
    },
    {
      "cell_type": "code",
      "execution_count": 181,
      "metadata": {},
      "outputs": [
        {
          "data": {
            "application/vnd.jupyter.widget-view+json": {
              "model_id": "64269ac5d3a44a21aead831f14eab250",
              "version_major": 2,
              "version_minor": 0
            },
            "text/plain": [
              "  0%|          | 0/30 [00:00<?, ?it/s]"
            ]
          },
          "metadata": {},
          "output_type": "display_data"
        },
        {
          "data": {
            "application/vnd.jupyter.widget-view+json": {
              "model_id": "cbf9703cfd064f7185806108509b205f",
              "version_major": 2,
              "version_minor": 0
            },
            "text/plain": [
              "  0%|          | 0/30 [00:00<?, ?it/s]"
            ]
          },
          "metadata": {},
          "output_type": "display_data"
        },
        {
          "data": {
            "application/vnd.jupyter.widget-view+json": {
              "model_id": "8c9e0c8e7de647f3b114809437ecfc4f",
              "version_major": 2,
              "version_minor": 0
            },
            "text/plain": [
              "  0%|          | 0/30 [00:00<?, ?it/s]"
            ]
          },
          "metadata": {},
          "output_type": "display_data"
        },
        {
          "data": {
            "application/vnd.jupyter.widget-view+json": {
              "model_id": "351ffa42173f4de9b355f389b08ab391",
              "version_major": 2,
              "version_minor": 0
            },
            "text/plain": [
              "  0%|          | 0/30 [00:00<?, ?it/s]"
            ]
          },
          "metadata": {},
          "output_type": "display_data"
        },
        {
          "data": {
            "application/vnd.jupyter.widget-view+json": {
              "model_id": "2d12aaea5d744a2585768c8884aa3d5c",
              "version_major": 2,
              "version_minor": 0
            },
            "text/plain": [
              "  0%|          | 0/30 [00:00<?, ?it/s]"
            ]
          },
          "metadata": {},
          "output_type": "display_data"
        },
        {
          "data": {
            "application/vnd.jupyter.widget-view+json": {
              "model_id": "0e45a16eb48644daa3f34d6645bb3f50",
              "version_major": 2,
              "version_minor": 0
            },
            "text/plain": [
              "  0%|          | 0/30 [00:00<?, ?it/s]"
            ]
          },
          "metadata": {},
          "output_type": "display_data"
        },
        {
          "data": {
            "application/vnd.jupyter.widget-view+json": {
              "model_id": "69aa9ed82f514b4d967b646dcd744677",
              "version_major": 2,
              "version_minor": 0
            },
            "text/plain": [
              "  0%|          | 0/30 [00:00<?, ?it/s]"
            ]
          },
          "metadata": {},
          "output_type": "display_data"
        },
        {
          "data": {
            "application/vnd.jupyter.widget-view+json": {
              "model_id": "c4b3715daa554d08b05e8ea125f69628",
              "version_major": 2,
              "version_minor": 0
            },
            "text/plain": [
              "  0%|          | 0/30 [00:00<?, ?it/s]"
            ]
          },
          "metadata": {},
          "output_type": "display_data"
        },
        {
          "data": {
            "application/vnd.jupyter.widget-view+json": {
              "model_id": "92ee3e79a4d14af0b245a0c36da2e770",
              "version_major": 2,
              "version_minor": 0
            },
            "text/plain": [
              "  0%|          | 0/30 [00:00<?, ?it/s]"
            ]
          },
          "metadata": {},
          "output_type": "display_data"
        },
        {
          "data": {
            "application/vnd.jupyter.widget-view+json": {
              "model_id": "d97d046a290f4e27b36222235a875ca7",
              "version_major": 2,
              "version_minor": 0
            },
            "text/plain": [
              "  0%|          | 0/30 [00:00<?, ?it/s]"
            ]
          },
          "metadata": {},
          "output_type": "display_data"
        },
        {
          "data": {
            "application/vnd.jupyter.widget-view+json": {
              "model_id": "34065d568cf94093a60bde9d69b6274e",
              "version_major": 2,
              "version_minor": 0
            },
            "text/plain": [
              "  0%|          | 0/30 [00:00<?, ?it/s]"
            ]
          },
          "metadata": {},
          "output_type": "display_data"
        },
        {
          "data": {
            "application/vnd.jupyter.widget-view+json": {
              "model_id": "a15cdcbe876a46b69417b50818724f6e",
              "version_major": 2,
              "version_minor": 0
            },
            "text/plain": [
              "  0%|          | 0/30 [00:00<?, ?it/s]"
            ]
          },
          "metadata": {},
          "output_type": "display_data"
        },
        {
          "data": {
            "application/vnd.jupyter.widget-view+json": {
              "model_id": "a2fccf9185dc46d982444fb72026575c",
              "version_major": 2,
              "version_minor": 0
            },
            "text/plain": [
              "  0%|          | 0/30 [00:00<?, ?it/s]"
            ]
          },
          "metadata": {},
          "output_type": "display_data"
        },
        {
          "data": {
            "application/vnd.jupyter.widget-view+json": {
              "model_id": "b6c609d9021f4b22a3d063a707054e59",
              "version_major": 2,
              "version_minor": 0
            },
            "text/plain": [
              "  0%|          | 0/30 [00:00<?, ?it/s]"
            ]
          },
          "metadata": {},
          "output_type": "display_data"
        },
        {
          "data": {
            "application/vnd.jupyter.widget-view+json": {
              "model_id": "5b4acfbaa9304362a15d29d08b1163c4",
              "version_major": 2,
              "version_minor": 0
            },
            "text/plain": [
              "  0%|          | 0/30 [00:00<?, ?it/s]"
            ]
          },
          "metadata": {},
          "output_type": "display_data"
        },
        {
          "data": {
            "application/vnd.jupyter.widget-view+json": {
              "model_id": "6e9471cdad0b4fef8e20e4fec60b1951",
              "version_major": 2,
              "version_minor": 0
            },
            "text/plain": [
              "  0%|          | 0/30 [00:00<?, ?it/s]"
            ]
          },
          "metadata": {},
          "output_type": "display_data"
        },
        {
          "data": {
            "application/vnd.jupyter.widget-view+json": {
              "model_id": "951c9453c57747348ccea033d87925dd",
              "version_major": 2,
              "version_minor": 0
            },
            "text/plain": [
              "  0%|          | 0/30 [00:00<?, ?it/s]"
            ]
          },
          "metadata": {},
          "output_type": "display_data"
        },
        {
          "data": {
            "application/vnd.jupyter.widget-view+json": {
              "model_id": "8f4e5bb591f742ca9de5011341dc887b",
              "version_major": 2,
              "version_minor": 0
            },
            "text/plain": [
              "  0%|          | 0/30 [00:00<?, ?it/s]"
            ]
          },
          "metadata": {},
          "output_type": "display_data"
        },
        {
          "data": {
            "application/vnd.jupyter.widget-view+json": {
              "model_id": "4d18e97190964a568ee20657fb0b3c95",
              "version_major": 2,
              "version_minor": 0
            },
            "text/plain": [
              "  0%|          | 0/30 [00:00<?, ?it/s]"
            ]
          },
          "metadata": {},
          "output_type": "display_data"
        },
        {
          "data": {
            "application/vnd.jupyter.widget-view+json": {
              "model_id": "bef405ce6c414837bc73d27ff505e349",
              "version_major": 2,
              "version_minor": 0
            },
            "text/plain": [
              "  0%|          | 0/30 [00:00<?, ?it/s]"
            ]
          },
          "metadata": {},
          "output_type": "display_data"
        },
        {
          "data": {
            "application/vnd.jupyter.widget-view+json": {
              "model_id": "bb0f3046156a4ae2884991d11ab456ff",
              "version_major": 2,
              "version_minor": 0
            },
            "text/plain": [
              "  0%|          | 0/30 [00:00<?, ?it/s]"
            ]
          },
          "metadata": {},
          "output_type": "display_data"
        },
        {
          "data": {
            "application/vnd.jupyter.widget-view+json": {
              "model_id": "f2a1c15a89d4440b9c65f96be30ec164",
              "version_major": 2,
              "version_minor": 0
            },
            "text/plain": [
              "  0%|          | 0/30 [00:00<?, ?it/s]"
            ]
          },
          "metadata": {},
          "output_type": "display_data"
        },
        {
          "data": {
            "application/vnd.jupyter.widget-view+json": {
              "model_id": "863d6bd906794071af8796ab45856f5f",
              "version_major": 2,
              "version_minor": 0
            },
            "text/plain": [
              "  0%|          | 0/30 [00:00<?, ?it/s]"
            ]
          },
          "metadata": {},
          "output_type": "display_data"
        },
        {
          "data": {
            "application/vnd.jupyter.widget-view+json": {
              "model_id": "dc67a55bce624c11ac111254adbd0155",
              "version_major": 2,
              "version_minor": 0
            },
            "text/plain": [
              "  0%|          | 0/30 [00:00<?, ?it/s]"
            ]
          },
          "metadata": {},
          "output_type": "display_data"
        },
        {
          "data": {
            "application/vnd.jupyter.widget-view+json": {
              "model_id": "d7e4617f7bf84cb5a7225166bc34904f",
              "version_major": 2,
              "version_minor": 0
            },
            "text/plain": [
              "  0%|          | 0/30 [00:00<?, ?it/s]"
            ]
          },
          "metadata": {},
          "output_type": "display_data"
        },
        {
          "data": {
            "application/vnd.jupyter.widget-view+json": {
              "model_id": "fff2a47909e14085bb20f6c4bdff7b6d",
              "version_major": 2,
              "version_minor": 0
            },
            "text/plain": [
              "  0%|          | 0/30 [00:00<?, ?it/s]"
            ]
          },
          "metadata": {},
          "output_type": "display_data"
        },
        {
          "data": {
            "application/vnd.jupyter.widget-view+json": {
              "model_id": "d3f6d054b9c544e1a7f0cb4e3b0b4fbb",
              "version_major": 2,
              "version_minor": 0
            },
            "text/plain": [
              "  0%|          | 0/30 [00:00<?, ?it/s]"
            ]
          },
          "metadata": {},
          "output_type": "display_data"
        },
        {
          "data": {
            "application/vnd.jupyter.widget-view+json": {
              "model_id": "07ac91bbf9814f1589b02af17ed42dbc",
              "version_major": 2,
              "version_minor": 0
            },
            "text/plain": [
              "  0%|          | 0/30 [00:00<?, ?it/s]"
            ]
          },
          "metadata": {},
          "output_type": "display_data"
        },
        {
          "data": {
            "application/vnd.jupyter.widget-view+json": {
              "model_id": "7b8be318b88f40c7bd8bad422d7b80d3",
              "version_major": 2,
              "version_minor": 0
            },
            "text/plain": [
              "  0%|          | 0/30 [00:00<?, ?it/s]"
            ]
          },
          "metadata": {},
          "output_type": "display_data"
        },
        {
          "data": {
            "application/vnd.jupyter.widget-view+json": {
              "model_id": "b636fbfe413846b685aa1e317e88d471",
              "version_major": 2,
              "version_minor": 0
            },
            "text/plain": [
              "  0%|          | 0/30 [00:00<?, ?it/s]"
            ]
          },
          "metadata": {},
          "output_type": "display_data"
        }
      ],
      "source": [
        "steering_on = False\n",
        "default_generation = run_generate(prompts, n_samples, steering_type=steer_type)"
      ]
    },
    {
      "cell_type": "code",
      "execution_count": 205,
      "metadata": {},
      "outputs": [
        {
          "data": {
            "application/vnd.jupyter.widget-view+json": {
              "model_id": "8b5b131ffe1b44d3b4b3499a6762e984",
              "version_major": 2,
              "version_minor": 0
            },
            "text/plain": [
              "  0%|          | 0/30 [00:00<?, ?it/s]"
            ]
          },
          "metadata": {},
          "output_type": "display_data"
        },
        {
          "data": {
            "application/vnd.jupyter.widget-view+json": {
              "model_id": "af38388b6592489fb51834a300b0a48e",
              "version_major": 2,
              "version_minor": 0
            },
            "text/plain": [
              "  0%|          | 0/30 [00:00<?, ?it/s]"
            ]
          },
          "metadata": {},
          "output_type": "display_data"
        },
        {
          "data": {
            "application/vnd.jupyter.widget-view+json": {
              "model_id": "875ea7981a6b46b4b862038549f4bedf",
              "version_major": 2,
              "version_minor": 0
            },
            "text/plain": [
              "  0%|          | 0/30 [00:00<?, ?it/s]"
            ]
          },
          "metadata": {},
          "output_type": "display_data"
        },
        {
          "data": {
            "application/vnd.jupyter.widget-view+json": {
              "model_id": "6cdaef6db46445a2839d25d104ff6882",
              "version_major": 2,
              "version_minor": 0
            },
            "text/plain": [
              "  0%|          | 0/30 [00:00<?, ?it/s]"
            ]
          },
          "metadata": {},
          "output_type": "display_data"
        },
        {
          "data": {
            "application/vnd.jupyter.widget-view+json": {
              "model_id": "6623e4025d96461ca56d79bbaf3ee522",
              "version_major": 2,
              "version_minor": 0
            },
            "text/plain": [
              "  0%|          | 0/30 [00:00<?, ?it/s]"
            ]
          },
          "metadata": {},
          "output_type": "display_data"
        },
        {
          "data": {
            "application/vnd.jupyter.widget-view+json": {
              "model_id": "fc9dcfa0effe432fa37087ff6a333013",
              "version_major": 2,
              "version_minor": 0
            },
            "text/plain": [
              "  0%|          | 0/30 [00:00<?, ?it/s]"
            ]
          },
          "metadata": {},
          "output_type": "display_data"
        },
        {
          "data": {
            "application/vnd.jupyter.widget-view+json": {
              "model_id": "fc13b1042e7c44e7b5b97ba5da5b9bd1",
              "version_major": 2,
              "version_minor": 0
            },
            "text/plain": [
              "  0%|          | 0/30 [00:00<?, ?it/s]"
            ]
          },
          "metadata": {},
          "output_type": "display_data"
        },
        {
          "data": {
            "application/vnd.jupyter.widget-view+json": {
              "model_id": "725920357cea44eeb23f9b341a66cb47",
              "version_major": 2,
              "version_minor": 0
            },
            "text/plain": [
              "  0%|          | 0/30 [00:00<?, ?it/s]"
            ]
          },
          "metadata": {},
          "output_type": "display_data"
        },
        {
          "data": {
            "application/vnd.jupyter.widget-view+json": {
              "model_id": "e398595ca1674df9b563e80634729cb5",
              "version_major": 2,
              "version_minor": 0
            },
            "text/plain": [
              "  0%|          | 0/30 [00:00<?, ?it/s]"
            ]
          },
          "metadata": {},
          "output_type": "display_data"
        },
        {
          "data": {
            "application/vnd.jupyter.widget-view+json": {
              "model_id": "295d0f3314784a1f8ff78152273b3cb4",
              "version_major": 2,
              "version_minor": 0
            },
            "text/plain": [
              "  0%|          | 0/30 [00:00<?, ?it/s]"
            ]
          },
          "metadata": {},
          "output_type": "display_data"
        },
        {
          "data": {
            "application/vnd.jupyter.widget-view+json": {
              "model_id": "1bd388cfd64b40368cacf35d46703254",
              "version_major": 2,
              "version_minor": 0
            },
            "text/plain": [
              "  0%|          | 0/30 [00:00<?, ?it/s]"
            ]
          },
          "metadata": {},
          "output_type": "display_data"
        },
        {
          "data": {
            "application/vnd.jupyter.widget-view+json": {
              "model_id": "7101b3bce9a849de9041d09ca0466f3a",
              "version_major": 2,
              "version_minor": 0
            },
            "text/plain": [
              "  0%|          | 0/30 [00:00<?, ?it/s]"
            ]
          },
          "metadata": {},
          "output_type": "display_data"
        },
        {
          "data": {
            "application/vnd.jupyter.widget-view+json": {
              "model_id": "aa983a8b675b400bbc3bbcafb927672b",
              "version_major": 2,
              "version_minor": 0
            },
            "text/plain": [
              "  0%|          | 0/30 [00:00<?, ?it/s]"
            ]
          },
          "metadata": {},
          "output_type": "display_data"
        },
        {
          "data": {
            "application/vnd.jupyter.widget-view+json": {
              "model_id": "06447122fc1e461d9b33c906bf406c71",
              "version_major": 2,
              "version_minor": 0
            },
            "text/plain": [
              "  0%|          | 0/30 [00:00<?, ?it/s]"
            ]
          },
          "metadata": {},
          "output_type": "display_data"
        },
        {
          "data": {
            "application/vnd.jupyter.widget-view+json": {
              "model_id": "bc38535eea674c3ea2e4d5815eaf30f7",
              "version_major": 2,
              "version_minor": 0
            },
            "text/plain": [
              "  0%|          | 0/30 [00:00<?, ?it/s]"
            ]
          },
          "metadata": {},
          "output_type": "display_data"
        },
        {
          "data": {
            "application/vnd.jupyter.widget-view+json": {
              "model_id": "1fd6ab325567442797c508e7740f4fe6",
              "version_major": 2,
              "version_minor": 0
            },
            "text/plain": [
              "  0%|          | 0/30 [00:00<?, ?it/s]"
            ]
          },
          "metadata": {},
          "output_type": "display_data"
        },
        {
          "data": {
            "application/vnd.jupyter.widget-view+json": {
              "model_id": "884ce38899b3456a854fb8a89ca70762",
              "version_major": 2,
              "version_minor": 0
            },
            "text/plain": [
              "  0%|          | 0/30 [00:00<?, ?it/s]"
            ]
          },
          "metadata": {},
          "output_type": "display_data"
        },
        {
          "data": {
            "application/vnd.jupyter.widget-view+json": {
              "model_id": "a80babf96b0d4ad089f5489c4754a606",
              "version_major": 2,
              "version_minor": 0
            },
            "text/plain": [
              "  0%|          | 0/30 [00:00<?, ?it/s]"
            ]
          },
          "metadata": {},
          "output_type": "display_data"
        },
        {
          "data": {
            "application/vnd.jupyter.widget-view+json": {
              "model_id": "459d5310084c408eaf94e1241c45287a",
              "version_major": 2,
              "version_minor": 0
            },
            "text/plain": [
              "  0%|          | 0/30 [00:00<?, ?it/s]"
            ]
          },
          "metadata": {},
          "output_type": "display_data"
        },
        {
          "data": {
            "application/vnd.jupyter.widget-view+json": {
              "model_id": "21a628b4be31474facd9351e97d05a10",
              "version_major": 2,
              "version_minor": 0
            },
            "text/plain": [
              "  0%|          | 0/30 [00:00<?, ?it/s]"
            ]
          },
          "metadata": {},
          "output_type": "display_data"
        },
        {
          "data": {
            "application/vnd.jupyter.widget-view+json": {
              "model_id": "72a95914ce42417194b254c10abb4f79",
              "version_major": 2,
              "version_minor": 0
            },
            "text/plain": [
              "  0%|          | 0/30 [00:00<?, ?it/s]"
            ]
          },
          "metadata": {},
          "output_type": "display_data"
        },
        {
          "data": {
            "application/vnd.jupyter.widget-view+json": {
              "model_id": "bc762480c8454b49ae5ec63bce22896e",
              "version_major": 2,
              "version_minor": 0
            },
            "text/plain": [
              "  0%|          | 0/30 [00:00<?, ?it/s]"
            ]
          },
          "metadata": {},
          "output_type": "display_data"
        },
        {
          "data": {
            "application/vnd.jupyter.widget-view+json": {
              "model_id": "6d42bf8408a849f8bcd87760e4f16b1f",
              "version_major": 2,
              "version_minor": 0
            },
            "text/plain": [
              "  0%|          | 0/30 [00:00<?, ?it/s]"
            ]
          },
          "metadata": {},
          "output_type": "display_data"
        },
        {
          "data": {
            "application/vnd.jupyter.widget-view+json": {
              "model_id": "4e4f1c9e170b474a8c5a49261b71247e",
              "version_major": 2,
              "version_minor": 0
            },
            "text/plain": [
              "  0%|          | 0/30 [00:00<?, ?it/s]"
            ]
          },
          "metadata": {},
          "output_type": "display_data"
        },
        {
          "data": {
            "application/vnd.jupyter.widget-view+json": {
              "model_id": "0b8a4bc1e19a4818b27bb2e8c2572b88",
              "version_major": 2,
              "version_minor": 0
            },
            "text/plain": [
              "  0%|          | 0/30 [00:00<?, ?it/s]"
            ]
          },
          "metadata": {},
          "output_type": "display_data"
        },
        {
          "data": {
            "application/vnd.jupyter.widget-view+json": {
              "model_id": "2b602e65e70347cfac48c511d3e38167",
              "version_major": 2,
              "version_minor": 0
            },
            "text/plain": [
              "  0%|          | 0/30 [00:00<?, ?it/s]"
            ]
          },
          "metadata": {},
          "output_type": "display_data"
        },
        {
          "data": {
            "application/vnd.jupyter.widget-view+json": {
              "model_id": "2f6661bed20a4f05941510ae743e103b",
              "version_major": 2,
              "version_minor": 0
            },
            "text/plain": [
              "  0%|          | 0/30 [00:00<?, ?it/s]"
            ]
          },
          "metadata": {},
          "output_type": "display_data"
        },
        {
          "data": {
            "application/vnd.jupyter.widget-view+json": {
              "model_id": "5a7679219d1d4dc0a6820c8a7b6e2bf3",
              "version_major": 2,
              "version_minor": 0
            },
            "text/plain": [
              "  0%|          | 0/30 [00:00<?, ?it/s]"
            ]
          },
          "metadata": {},
          "output_type": "display_data"
        },
        {
          "data": {
            "application/vnd.jupyter.widget-view+json": {
              "model_id": "624f02d0ca804856b7ec6e6b7c156cc2",
              "version_major": 2,
              "version_minor": 0
            },
            "text/plain": [
              "  0%|          | 0/30 [00:00<?, ?it/s]"
            ]
          },
          "metadata": {},
          "output_type": "display_data"
        },
        {
          "data": {
            "application/vnd.jupyter.widget-view+json": {
              "model_id": "a0e8d2429c5541a5a6c277e4697775e7",
              "version_major": 2,
              "version_minor": 0
            },
            "text/plain": [
              "  0%|          | 0/30 [00:00<?, ?it/s]"
            ]
          },
          "metadata": {},
          "output_type": "display_data"
        }
      ],
      "source": [
        "steering_on = True\n",
        "steered_generation = run_generate(prompts, n_samples, steering_type=steer_type)"
      ]
    },
    {
      "cell_type": "code",
      "execution_count": 12,
      "metadata": {},
      "outputs": [],
      "source": [
        "emotion_features = {\n",
        "\n",
        "    'layer_0':\n",
        "    {\n",
        "        'sadness': [12266, 23208, 14158, 10882, 10510, 546], \n",
        "        'joy': [8699, 10924, 13808, 16670, 15464, 1432], \n",
        "        'love': [24486, 19618, 3970, 7792, 13985, 21219, 4892, 7099],\n",
        "        'anger': [22318, 13668, 17628, 12030, 800, 22574],\n",
        "        'fear': [2998, 8167, 634, 22447, 15196, 8194, 2288, 13200, 23219, 4783, 6938],\n",
        "        'surprise': [8279, 2031, 5029, 14386, 16023, 15694],\n",
        "    },\n",
        "\n",
        "    'layer_1':\n",
        "    {\n",
        "        'sadness': [8174, 15771, 24104, 8419], \n",
        "        'joy': [18120, 23750, 17653, 6284, 11250, 24040, 7683, 3591], \n",
        "        'love': [3091, 14230, 6847, 4332, 150],\n",
        "        'anger': [20851, 13745, 10403, 11541, 4194],\n",
        "        'fear': [5186, 6767, 20821, 23954, 21612, 21153, 19325, 6146, 21826],\n",
        "        'surprise': [12718, 23779, 18239, 666, 487, 16125, 8551, 2037],\n",
        "    },\n",
        "\n",
        "    'layer_2':\n",
        "    {\n",
        "        'sadness': [11683, 14915, 11568, 4350, 2442], \n",
        "        'joy': [7796, 23405, 22134, 3456, 13928, 3879, 23476], \n",
        "        'love': [3203],\n",
        "        'anger': [11085, 21027, 14918, 252, 21165, 4707, 1550, 5526, 18357],\n",
        "        'fear': [24422, 22815, 21011, 20309, 18350, 10882, 9937, 5843, 12026],\n",
        "        'surprise': [11631, 11365, 15076, 10353, 7902, 7800],\n",
        "    },\n",
        "\n",
        "    'layer_3':\n",
        "    {\n",
        "        'sadness': [24140, 24469, 22098, 14290], \n",
        "        'joy': [10739, 9828, 14625, 5329, 19341, 10990, 6001], \n",
        "        'love': [14981, 5501, 15927, 11815, 23271],\n",
        "        'anger': [13819, 9272, 412, 3213, 16043, 24133],\n",
        "        'fear': [6134, 1861, 22236, 8135, 20126, 20648, 2253, 20588, 18762, 9805, 8914, 6653],\n",
        "        'surprise': [3282, 23140, 10647, 972, 17827, 3625, 17365, 14434, 10958],\n",
        "    },\n",
        "\n",
        "    'layer_4':\n",
        "    {\n",
        "        'sadness': [5179, 7494, 9341, 22033, 23292, 10051], \n",
        "        'joy': [15968, 12298, 9569, 8244, 22722], \n",
        "        'love': [9757, 10750, 4004, 7249],\n",
        "        'anger': [22695, 9072, 18320, 11510, 3810, 16080, 15004, 11183],\n",
        "        'fear': [20655, 18321, 13386, 4338, 2955, 24553, 16651, 15882, 14836, 12290],\n",
        "        'surprise': [19514, 15250, 19967, 16649, 24019, 12758, 9661],\n",
        "    },\n",
        "\n",
        "    'layer_5':\n",
        "    {\n",
        "        'sadness': [1265, 22889], \n",
        "        'joy': [6803, 17170, 14404, 1255, 13678, 14997], \n",
        "        'love': [23060, 12473, 3674, 18288, 13689, 4600, 3448],\n",
        "        'anger': [1773, 330, 5136, 9706, 9559],\n",
        "        'fear': [7952, 15844, 6801, 21689, 24318, 2212, 5990, 15747],\n",
        "        'surprise': [21258, 14750, 2877, 3055, 17557, 23920, 3546, 16559, 9884, 7516, 6011],\n",
        "    },\n",
        "\n",
        "    'layer_6':\n",
        "    {\n",
        "        'sadness': [20719, 251], \n",
        "        'joy': [9995, 3020, 18199, 14968, 203, 2617], \n",
        "        'love': [19727, 16022, 11397, 14808],\n",
        "        'anger': [20521, 16530, 10131, 6415, 15780, 21846],\n",
        "        'fear': [3246, 5289, 12900, 20520, 18781, 2459, 20211, 19068, 6685, 2260],\n",
        "        'surprise': [13502, 18954, 14477, 6315, 9678, 2328, 21364, 17678, 9978, 19798, 3036],\n",
        "    },\n",
        "\n",
        "    'layer_7':\n",
        "    {\n",
        "        'sadness': [2045], \n",
        "        'joy': [24314, 17025, 19547], \n",
        "        'love': [2887, 2715, 19662],\n",
        "        'anger': [1776, 10033],\n",
        "        'fear': [18892, 13863, 17128, 13519, 4505, 5211, 17463, 19010, 15862, 14791],\n",
        "        'surprise': [17837, 20417, 17104, 12344, 8002, 10849, 15668, 11750, 8981, 8442],\n",
        "    },\n",
        "\n",
        "    'layer_8':\n",
        "    {\n",
        "        'sadness': [7473, 3927], \n",
        "        'joy': [13624, 8708, 13433], \n",
        "        'love': [8631, 9837, 2017],\n",
        "        'anger': [21519, 22715, 2133, 17121],\n",
        "        'fear': [13796, 4846, 8887, 4810, 19414, 19585, 17376],\n",
        "        'surprise': [14571, 1366, 14856, 15950, 15512, 20821, 8855, 12456, 20423, 4939],\n",
        "    },\n",
        "\n",
        "    'layer_9':\n",
        "    {\n",
        "        'sadness': [10885, 17773, 5000], \n",
        "        'joy': [4288, 7702, 20850, 1418, 4864], \n",
        "        'love': [20105, 9946, 17442, 21303, 21876],\n",
        "        'anger': [21253, 7002, 15510, 16663],\n",
        "        'fear': [20233, 19535, 5563, 1413, 15382, 14412],\n",
        "        'surprise': [21445, 21532, 10719, 14851, 24082, 16180, 1167, 14205, 7831, 17898, 1655],\n",
        "    },\n",
        "\n",
        "    'layer_10':\n",
        "    {\n",
        "        'sadness': [11363], \n",
        "        'joy': [4091, 5713, 809], \n",
        "        'love': [10165, 14654, 20694, 19070, 130, 2095],\n",
        "        'anger': [14697, 5203, 19957],\n",
        "        'fear': [24358, 20305, 18367, 6822, 6260, 2783],\n",
        "        'surprise': [2150, 9733, 23922, 23723, 7658, 184, 18509, 20367, 14901, 6227],\n",
        "    },\n",
        "\n",
        "    'layer_11':\n",
        "    {\n",
        "        'sadness': [3334, 24428, 16896], \n",
        "        'joy': [4943, 8946], \n",
        "        'love': [12316, 6390, 6694, 15057, 4407],\n",
        "        'anger': [21754, 12214, 8427, 20367, 14410],\n",
        "        'fear': [13374, 9550, 24256, 14324, 13554, 165, 12092, 9703, 20934],\n",
        "        'surprise': [22471, 5047, 22203, 17670, 17411, 17777, 5820, 949, 12189, 4452, 15556, 3086, 21799],\n",
        "    },\n",
        "\n",
        "}\n",
        "\n"
      ]
    },
    {
      "cell_type": "markdown",
      "metadata": {},
      "source": [
        "### Attempts at LLMs as Oracles"
      ]
    },
    {
      "cell_type": "code",
      "execution_count": 26,
      "metadata": {},
      "outputs": [
        {
          "name": "stdout",
          "output_type": "stream",
          "text": [
            "sadness, joy, love, anger, fear, surprise \n",
            "\n"
          ]
        }
      ],
      "source": [
        "emotion_labels = emotion_dataset.features['label'].names\n",
        "# judge_prompt = f'For each of the following emotions: {emotion_labels}, rate '\n",
        "emotions = \", \".join(emotion_labels)\n",
        "print(emotions, '\\n')\n",
        "# judge_prompt = f'For the following text: {example_response}, which of the following emotions: {emotions}, does John feel?'\n",
        "# judge_prompt = f'For the following text: \\\"{steered_example[0]}\\\", what does John feel?'\n",
        "# judge_prompt = f'Given the following text: \\\"{steered_example[0]}\\\", what does John feel? John feels'\n",
        "\n",
        "# example_idx = 0\n",
        "\n",
        "# default_example = default_generation.iloc[example_idx]['responses'][0]\n",
        "# steered_example = steered_generation.iloc[example_idx]['responses'][0]\n",
        "\n",
        "# print(default_generation.iloc[example_idx]['prompt'])\n",
        "# print(default_example)\n",
        "# print(list(set(default_generation.iloc[example_idx]['prompt'].split(' ')) & set(default_example.split(' '))))\n",
        "# print()\n",
        "# print(steered_generation.iloc[example_idx]['prompt'])\n",
        "# print(steered_example)\n",
        "# print(list(set(steered_generation.iloc[example_idx]['prompt'].split(' ')) & set(steered_example.split(' '))))"
      ]
    },
    {
      "cell_type": "code",
      "execution_count": 197,
      "metadata": {},
      "outputs": [],
      "source": [
        "\n",
        "# model_id = \"meta-llama/Meta-Llama-3-8B\"\n",
        "\n",
        "# tokenizer = AutoTokenizer.from_pretrained(model_id)\n",
        "# judge_model = AutoModelForCausalLM.from_pretrained(model_id)\n",
        "\n",
        "# pipeline = transformers.pipeline(\n",
        "#     \"text-generation\",\n",
        "#     model=model_id,\n",
        "#     model_kwargs={\"torch_dtype\": torch.bfloat16},\n",
        "#     device=device,\n",
        "#     return_full_text=False,\n",
        "# )\n",
        "# pipeline.tokenizer.pad_token_id = judge_model.config.eos_token_id"
      ]
    },
    {
      "cell_type": "code",
      "execution_count": 14,
      "metadata": {},
      "outputs": [
        {
          "data": {
            "application/vnd.jupyter.widget-view+json": {
              "model_id": "46a43c6e46d54d61b2dfc5d90746f4cd",
              "version_major": 2,
              "version_minor": 0
            },
            "text/plain": [
              "Loading checkpoint shards:   0%|          | 0/4 [00:00<?, ?it/s]"
            ]
          },
          "metadata": {},
          "output_type": "display_data"
        },
        {
          "name": "stderr",
          "output_type": "stream",
          "text": [
            "Special tokens have been added in the vocabulary, make sure the associated word embeddings are fine-tuned or trained.\n"
          ]
        }
      ],
      "source": [
        "# Constrained generation\n",
        "from guidance import models\n",
        "from guidance import select\n",
        "\n",
        "guided_model = models.Transformers('meta-llama/Meta-Llama-3-8B', device_map={\"\": 0})"
      ]
    },
    {
      "cell_type": "code",
      "execution_count": 15,
      "metadata": {},
      "outputs": [
        {
          "ename": "NameError",
          "evalue": "name 'new_prompt' is not defined",
          "output_type": "error",
          "traceback": [
            "\u001b[0;31m---------------------------------------------------------------------------\u001b[0m",
            "\u001b[0;31mNameError\u001b[0m                                 Traceback (most recent call last)",
            "\u001b[1;32m/home/jovyan/1L-Sparse-Autoencoder/feature_steering.ipynb Cell 35\u001b[0m line \u001b[0;36m1\n\u001b[1;32m      <a href='vscode-notebook-cell://lobot.caslab.queensu.ca/home/jovyan/1L-Sparse-Autoencoder/feature_steering.ipynb#X46sdnNjb2RlLXJlbW90ZQ%3D%3D?line=7'>8</a>\u001b[0m prompt_file \u001b[39m=\u001b[39m \u001b[39mopen\u001b[39m(\u001b[39m'\u001b[39m\u001b[39mfewshot1.txt\u001b[39m\u001b[39m'\u001b[39m, \u001b[39m'\u001b[39m\u001b[39mr\u001b[39m\u001b[39m'\u001b[39m)\n\u001b[1;32m     <a href='vscode-notebook-cell://lobot.caslab.queensu.ca/home/jovyan/1L-Sparse-Autoencoder/feature_steering.ipynb#X46sdnNjb2RlLXJlbW90ZQ%3D%3D?line=9'>10</a>\u001b[0m judge_fewshot \u001b[39m=\u001b[39m prompt_file\u001b[39m.\u001b[39mread()\n\u001b[0;32m---> <a href='vscode-notebook-cell://lobot.caslab.queensu.ca/home/jovyan/1L-Sparse-Autoencoder/feature_steering.ipynb#X46sdnNjb2RlLXJlbW90ZQ%3D%3D?line=10'>11</a>\u001b[0m judge_prompt \u001b[39m=\u001b[39m judge_fewshot \u001b[39m+\u001b[39m new_prompt\n\u001b[1;32m     <a href='vscode-notebook-cell://lobot.caslab.queensu.ca/home/jovyan/1L-Sparse-Autoencoder/feature_steering.ipynb#X46sdnNjb2RlLXJlbW90ZQ%3D%3D?line=12'>13</a>\u001b[0m prompt_file\u001b[39m.\u001b[39mclose()\n",
            "\u001b[0;31mNameError\u001b[0m: name 'new_prompt' is not defined"
          ]
        }
      ],
      "source": [
        "# # Import few-shot prompt\n",
        "\n",
        "# # label_map = {'(a)': 'sadness', '(b)': 'joy', '(c)': 'love', '(d)': 'anger', '(e)': 'fear', '(f)': 'surprise'}\n",
        "# label_map = {'(a)': 0, '(b)': 1, '(c)': 2, '(d)': 3, '(e)': 4, '(f)': 5}\n",
        "\n",
        "# # new_prompt = f\"\\n\\n---\\n\\nText:\\n\\\\'\\'\\'\\n{default_example}\\n\\\\'\\'\\'\\nLabel: \"\n",
        "\n",
        "prompt_file = open('fewshot1.txt', 'r')\n",
        "\n",
        "judge_fewshot = prompt_file.read()\n",
        "judge_prompt = judge_fewshot + new_prompt\n",
        "\n",
        "prompt_file.close()"
      ]
    },
    {
      "cell_type": "code",
      "execution_count": 15,
      "metadata": {},
      "outputs": [
        {
          "ename": "NameError",
          "evalue": "name 'judge_prompt' is not defined",
          "output_type": "error",
          "traceback": [
            "\u001b[0;31m---------------------------------------------------------------------------\u001b[0m",
            "\u001b[0;31mNameError\u001b[0m                                 Traceback (most recent call last)",
            "\u001b[1;32m/home/jovyan/1L-Sparse-Autoencoder/feature_steering.ipynb Cell 36\u001b[0m line \u001b[0;36m4\n\u001b[1;32m      <a href='vscode-notebook-cell://lobot.caslab.queensu.ca/home/jovyan/1L-Sparse-Autoencoder/feature_steering.ipynb#X51sdnNjb2RlLXJlbW90ZQ%3D%3D?line=0'>1</a>\u001b[0m \u001b[39mfrom\u001b[39;00m \u001b[39mguidance\u001b[39;00m \u001b[39mimport\u001b[39;00m select\n\u001b[1;32m      <a href='vscode-notebook-cell://lobot.caslab.queensu.ca/home/jovyan/1L-Sparse-Autoencoder/feature_steering.ipynb#X51sdnNjb2RlLXJlbW90ZQ%3D%3D?line=2'>3</a>\u001b[0m \u001b[39m# lm = guided_model + judge_prompt + select(['(a)', '(b)', '(c)', '(d)', '(e)', '(f)'], name='choice')\u001b[39;00m\n\u001b[0;32m----> <a href='vscode-notebook-cell://lobot.caslab.queensu.ca/home/jovyan/1L-Sparse-Autoencoder/feature_steering.ipynb#X51sdnNjb2RlLXJlbW90ZQ%3D%3D?line=3'>4</a>\u001b[0m lm \u001b[39m=\u001b[39m guided_model \u001b[39m+\u001b[39m judge_prompt \u001b[39m+\u001b[39m select(emotion_labels, name\u001b[39m=\u001b[39m\u001b[39m'\u001b[39m\u001b[39mchoice\u001b[39m\u001b[39m'\u001b[39m)\n",
            "\u001b[0;31mNameError\u001b[0m: name 'judge_prompt' is not defined"
          ]
        }
      ],
      "source": [
        "# from guidance import select\n",
        "\n",
        "# # lm = guided_model + judge_prompt + select(['(a)', '(b)', '(c)', '(d)', '(e)', '(f)'], name='choice')\n",
        "# lm = guided_model + judge_prompt + select(emotion_labels, name='choice')"
      ]
    },
    {
      "cell_type": "code",
      "execution_count": 58,
      "metadata": {},
      "outputs": [
        {
          "name": "stdout",
          "output_type": "stream",
          "text": [
            "fear\n"
          ]
        }
      ],
      "source": [
        "print(lm['choice'])"
      ]
    },
    {
      "cell_type": "markdown",
      "metadata": {},
      "source": [
        "### Default responses from GPT2 (no steering, annotation done by Llama 3 - 8B)"
      ]
    },
    {
      "cell_type": "code",
      "execution_count": 16,
      "metadata": {},
      "outputs": [],
      "source": [
        "def annotate_responses(generation):\n",
        "\n",
        "    annotation_df = generation.copy(deep=True)\n",
        "    annotation_df['responses'] = np.empty(annotation_df['responses'].size, dtype=str)\n",
        "    annotation_df = annotation_df.rename(columns={'responses': 'prediction'})\n",
        "\n",
        "    for i, row in generation.iterrows():\n",
        "\n",
        "        row_annotations = pd.Series(n_samples, dtype=int)\n",
        "\n",
        "        judge_prompts = []\n",
        "        for j, response in enumerate(row['responses']):\n",
        "\n",
        "            new_prompt = f\"\\n\\n---\\n\\nText:\\n\\\\'\\'\\'\\n{response}\\n\\\\'\\'\\'\\nLabel: \"\n",
        "            # guided_res = guided_model + judge_fewshot + new_prompt + select(['(a)', '(b)', '(c)', '(d)', '(e)', '(f)'], name='choice')\n",
        "            guided_res = guided_model + judge_fewshot + new_prompt + select(emotion_labels, name='choice')\n",
        "            row_annotations[j] = guided_res['choice']\n",
        "        \n",
        "        # annotation = label_map[(row_annotations.mode())[0]]\n",
        "        annotation = (row_annotations.mode())[0]\n",
        "        annotation_df.loc[i, \"prediction\"] = annotation\n",
        "\n",
        "    return annotation_df"
      ]
    },
    {
      "cell_type": "code",
      "execution_count": 17,
      "metadata": {},
      "outputs": [],
      "source": [
        "# def annotate_responses(generation):\n",
        "\n",
        "#     annotation_df = generation.copy(deep=True)\n",
        "#     annotation_df['responses'] = np.empty(annotation_df['responses'].size, dtype=str)\n",
        "#     annotation_df = annotation_df.rename(columns={'responses': 'prediction'})\n",
        "\n",
        "#     for i, row in generation.iterrows():\n",
        "\n",
        "#         row_annotations = pd.Series(n_samples, dtype=int)\n",
        "\n",
        "#         judge_prompts = []\n",
        "#         for j, response in enumerate(row['responses']):\n",
        "\n",
        "#             new_prompt = f\"\\n\\n---\\n\\nText:\\n\\\\'\\'\\'\\n{response}\\n\\\\'\\'\\'\\nLabel: \"\n",
        "#             guided_res = guided_model + judge_fewshot + new_prompt + select(['(a)', '(b)', '(c)', '(d)', '(e)', '(f)'], name='choice')\n",
        "#             row_annotations[j] = guided_res['choice']\n",
        "#             # judge_prompts.append(judge_fewshot + new_prompt)\n",
        "\n",
        "#         # judge_prompts = Dataset.from_list(judge_prompts)\n",
        "#         # outputs = pipeline(\n",
        "#         #             judge_prompts,\n",
        "#         #             max_new_tokens=3,\n",
        "#         #             eos_token_id=terminators,\n",
        "#         #             do_sample=True,\n",
        "#         #             temperature=0.1,\n",
        "#         #             top_p=0.1,\n",
        "#         #             batch_size=len(judge_prompts)\n",
        "#         #             )   \n",
        "                    \n",
        "#         # try:\n",
        "#         #     row_annotations = pd.Series([label_map[item[0]['generated_text'][1:4]] for item in outputs])\n",
        "#         # except:\n",
        "#         #     print('error getting annotation')\n",
        "#         #     debug = open('debug.txt', 'a')\n",
        "#         #     debug.write(str(judge_prompts))\n",
        "#         #     debug.close()\n",
        "#         # annotation = label_map[outputs[0]['generated_text'][1:4]]\n",
        "#         # row_annotations[j] = annotation\n",
        "#         annotation = label_map[(row_annotations.mode())[0]]\n",
        "#         # Add annotation to annotation_df\n",
        "#         # annotation_df['prediction'][i] = annotation\n",
        "#         annotation_df.loc[i, \"prediction\"] = annotation\n",
        "\n",
        "#     return annotation_df\n"
      ]
    },
    {
      "cell_type": "code",
      "execution_count": 18,
      "metadata": {},
      "outputs": [
        {
          "ename": "NameError",
          "evalue": "name 'default_generation' is not defined",
          "output_type": "error",
          "traceback": [
            "\u001b[0;31m---------------------------------------------------------------------------\u001b[0m",
            "\u001b[0;31mNameError\u001b[0m                                 Traceback (most recent call last)",
            "\u001b[1;32m/home/jovyan/1L-Sparse-Autoencoder/feature_steering.ipynb Cell 41\u001b[0m line \u001b[0;36m1\n\u001b[0;32m----> <a href='vscode-notebook-cell://lobot.caslab.queensu.ca/home/jovyan/1L-Sparse-Autoencoder/feature_steering.ipynb#X55sdnNjb2RlLXJlbW90ZQ%3D%3D?line=0'>1</a>\u001b[0m default_preds \u001b[39m=\u001b[39m annotate_responses(default_generation)\n",
            "\u001b[0;31mNameError\u001b[0m: name 'default_generation' is not defined"
          ]
        }
      ],
      "source": [
        "default_preds = annotate_responses(default_generation)"
      ]
    },
    {
      "cell_type": "code",
      "execution_count": 207,
      "metadata": {},
      "outputs": [
        {
          "data": {
            "text/html": [
              "<pre style='margin: 0px; padding: 0px; vertical-align: middle; padding-left: 8px; margin-left: -8px; border-radius: 0px; border-left: 1px solid rgba(127, 127, 127, 0.2); white-space: pre-wrap; font-family: ColfaxAI, Arial; font-size: 15px; line-height: 23px;'>Label the text with the correct emotion:\n",
              "\n",
              "sadness\n",
              "joy\n",
              "love\n",
              "anger\n",
              "fear\n",
              "surprise\n",
              "\n",
              "---\n",
              "\n",
              "Text:\n",
              "\\```\n",
              "John feels angry. \n",
              "\\```\n",
              "Label: anger\n",
              "\n",
              "---\n",
              "\n",
              "Text:\n",
              "\\```\n",
              "John feels miserable. \n",
              "\\```\n",
              "Label: sadness\n",
              "\n",
              "---\n",
              "\n",
              "Text:\n",
              "\\```\n",
              "John feels loved. \n",
              "\\```\n",
              "Label: love\n",
              "\n",
              "---\n",
              "\n",
              "Text:\n",
              "\\```\n",
              "John feels surprised. \n",
              "\\```\n",
              "Label: surprise\n",
              "\n",
              "---\n",
              "\n",
              "Text:\n",
              "\\```\n",
              "John feels frightened. \n",
              "\\```\n",
              "Label: fear\n",
              "\n",
              "---\n",
              "\n",
              "Text:\n",
              "\\```\n",
              "John feels joyful. \n",
              "\\```\n",
              "Label: joy\n",
              "\n",
              "---\n",
              "\n",
              "Text:\n",
              "\\```\n",
              "John feels affectionate. \n",
              "\\```\n",
              "Label: love\n",
              "\n",
              "---\n",
              "\n",
              "Text:\n",
              "\\```\n",
              "John feels frustrated. \n",
              "\\```\n",
              "Label: anger\n",
              "\n",
              "---\n",
              "\n",
              "Text:\n",
              "\\```\n",
              "John feels sad. \n",
              "\\```\n",
              "Label: sadness\n",
              "\n",
              "---\n",
              "\n",
              "Text:\n",
              "\\```\n",
              "John feels shocked. \n",
              "\\```\n",
              "Label: surprise\n",
              "\n",
              "---\n",
              "\n",
              "Text:\n",
              "\\```\n",
              "John feels afraid. \n",
              "\\```\n",
              "Label: fear\n",
              "\n",
              "---\n",
              "\n",
              "Text:\n",
              "\\```\n",
              "John feels happy. \n",
              "\\```\n",
              "Label: joy\n",
              "\n",
              "---\n",
              "\n",
              "Text:\n",
              "\\&#x27;&#x27;&#x27;\n",
              "Alex feels fury furious fury to the.\n",
              "! of a moment that it was in her on back for all when this one- &#x27; as no matter before his\n",
              "\\&#x27;&#x27;&#x27;\n",
              "Label: <span style='background-color: rgba(0.0, 165.0, 0, 0.15); border-radius: 3px;' title='1.0'>anger</span></pre>"
            ],
            "text/plain": [
              "<IPython.core.display.HTML object>"
            ]
          },
          "metadata": {},
          "output_type": "display_data"
        },
        {
          "name": "stderr",
          "output_type": "stream",
          "text": [
            "/tmp/ipykernel_32363/515263311.py:17: FutureWarning: Setting an item of incompatible dtype is deprecated and will raise an error in a future version of pandas. Value 'anger' has dtype incompatible with int64, please explicitly cast to a compatible dtype first.\n",
            "  row_annotations[j] = guided_res['choice']\n"
          ]
        }
      ],
      "source": [
        "steered_preds = annotate_responses(steered_generation)"
      ]
    },
    {
      "cell_type": "code",
      "execution_count": 23,
      "metadata": {},
      "outputs": [],
      "source": [
        "def fill_missing_labels(series: pd.Series):\n",
        "\n",
        "    # labels = [0, 1, 2, 3, 4, 5]\n",
        "    labels = emotion_labels\n",
        "    missing = []\n",
        "    for label in labels:\n",
        "        if label not in series.index:\n",
        "            missing.append(label)\n",
        "            \n",
        "    missing = pd.Series([0 for _ in range(len(missing))], index=missing)\n",
        "\n",
        "    return pd.concat([series, missing]) if not(missing.empty) else series"
      ]
    },
    {
      "cell_type": "code",
      "execution_count": 208,
      "metadata": {},
      "outputs": [
        {
          "name": "stdout",
          "output_type": "stream",
          "text": [
            "Index([0, 1, 2, 3, 4, 5], dtype='int64', name='label')\n"
          ]
        }
      ],
      "source": [
        "# Fill in missing labels if necessary \n",
        "\n",
        "real_distr = default_preds['label'].value_counts(sort=False)\n",
        "print(real_distr.index)\n",
        "# real_distr = real_distr.reindex(sorted(real_distr.index))\n",
        "real_distr.index = emotion_labels\n",
        "\n",
        "\n",
        "default_distr = fill_missing_labels(default_preds['prediction'].value_counts(sort=False))\n",
        "# default_distr = default_distr.reindex(sorted(default_distr.index))\n",
        "default_distr = default_distr.reindex(emotion_labels)\n",
        "\n",
        "steered_distr = fill_missing_labels(steered_preds['prediction'].value_counts(sort=False))\n",
        "# steered_distr = steered_distr.reindex(sorted(steered_distr.index))\n",
        "steered_distr = steered_distr.reindex(emotion_labels)\n"
      ]
    },
    {
      "cell_type": "code",
      "execution_count": 209,
      "metadata": {},
      "outputs": [
        {
          "name": "stdout",
          "output_type": "stream",
          "text": [
            "Index(['sadness', 'joy', 'love', 'anger', 'fear', 'surprise'], dtype='object')\n"
          ]
        }
      ],
      "source": [
        "print(real_distr.index)"
      ]
    },
    {
      "cell_type": "code",
      "execution_count": 210,
      "metadata": {},
      "outputs": [
        {
          "name": "stdout",
          "output_type": "stream",
          "text": [
            "          real  default  steered\n",
            "sadness      5        6        0\n",
            "joy          5        4        0\n",
            "love         5        5        0\n",
            "anger        5        6       30\n",
            "fear         5        9        0\n",
            "surprise     5        0        0\n"
          ]
        }
      ],
      "source": [
        "plot_df = pd.DataFrame([real_distr, default_distr, steered_distr]).transpose()\n",
        "plot_df.columns = ['real', 'default', 'steered']\n",
        "print(plot_df)"
      ]
    },
    {
      "cell_type": "code",
      "execution_count": 211,
      "metadata": {},
      "outputs": [
        {
          "data": {
            "image/png": "[encoded data removed]",
            "text/plain": [
              "<Figure size 640x480 with 1 Axes>"
            ]
          },
          "metadata": {},
          "output_type": "display_data"
        }
      ],
      "source": [
        "# df = pd.DataFrame({\"Example one\":yesSeries,\"Example two\":nodSeries})\n",
        "ax = plot_df.plot.bar(color=[\"SeaGreen\", \"SkyBlue\",\"IndianRed\"], rot=0, title=f\"Default and Steered Label Predictions ({steer_type} feature {feature_id})\")\n",
        "ax.set_xlabel(\"Predicted Labels\")\n",
        "ax.set_ylabel(\"Counts\")\n",
        "ax.yaxis.set_major_locator(MaxNLocator(integer=True))\n",
        "plt.show()"
      ]
    },
    {
      "cell_type": "code",
      "execution_count": 224,
      "metadata": {},
      "outputs": [
        {
          "name": "stdout",
          "output_type": "stream",
          "text": [
            "0.6502387678692824\n"
          ]
        }
      ],
      "source": [
        "# Calculate Jensen-Shannon Divergence for real labels vs default predictions\n",
        "\n",
        "js_dis = distance.jensenshannon(default_distr, steered_distr)\n",
        "print(js_dis)"
      ]
    },
    {
      "cell_type": "markdown",
      "metadata": {},
      "source": [
        "### Go through emotion related features and check ablation effects on prediction "
      ]
    },
    {
      "cell_type": "code",
      "execution_count": 19,
      "metadata": {},
      "outputs": [
        {
          "name": "stdout",
          "output_type": "stream",
          "text": [
            "Dataset({\n",
            "    features: ['text', 'label'],\n",
            "    num_rows: 90\n",
            "})\n"
          ]
        }
      ],
      "source": [
        "# batch_size will take batch_size number of samples from each class, awkward naming but whatever\n",
        "batch_size = 15\n",
        "batch = concatenate_datasets([part.select([x for x in range(batch_size)]) for part in parted_dataset])\n",
        "print(batch)\n",
        "# prompts = [f'Jennifer says, \\\"{text}\\\". Jennifer feels' for text in batch['text']]\n",
        "prompts = [f'Alex says, \\\"{text}\\\". Alex feels' for text in batch['text']]\n",
        "labels = [label for label in batch['label']]\n",
        "prompts = list(zip(prompts, labels))"
      ]
    },
    {
      "cell_type": "code",
      "execution_count": 28,
      "metadata": {},
      "outputs": [
        {
          "data": {
            "text/html": [
              "<pre style='margin: 0px; padding: 0px; vertical-align: middle; padding-left: 8px; margin-left: -8px; border-radius: 0px; border-left: 1px solid rgba(127, 127, 127, 0.2); white-space: pre-wrap; font-family: ColfaxAI, Arial; font-size: 15px; line-height: 23px;'>Label the text with the correct emotion:\n",
              "\n",
              "sadness\n",
              "joy\n",
              "love\n",
              "anger\n",
              "fear\n",
              "surprise\n",
              "\n",
              "---\n",
              "\n",
              "Text:\n",
              "\\```\n",
              "John feels angry. \n",
              "\\```\n",
              "Label: anger\n",
              "\n",
              "---\n",
              "\n",
              "Text:\n",
              "\\```\n",
              "John feels miserable. \n",
              "\\```\n",
              "Label: sadness\n",
              "\n",
              "---\n",
              "\n",
              "Text:\n",
              "\\```\n",
              "John feels loved. \n",
              "\\```\n",
              "Label: love\n",
              "\n",
              "---\n",
              "\n",
              "Text:\n",
              "\\```\n",
              "John feels surprised. \n",
              "\\```\n",
              "Label: surprise\n",
              "\n",
              "---\n",
              "\n",
              "Text:\n",
              "\\```\n",
              "John feels frightened. \n",
              "\\```\n",
              "Label: fear\n",
              "\n",
              "---\n",
              "\n",
              "Text:\n",
              "\\```\n",
              "John feels joyful. \n",
              "\\```\n",
              "Label: joy\n",
              "\n",
              "---\n",
              "\n",
              "Text:\n",
              "\\```\n",
              "John feels affectionate. \n",
              "\\```\n",
              "Label: love\n",
              "\n",
              "---\n",
              "\n",
              "Text:\n",
              "\\```\n",
              "John feels frustrated. \n",
              "\\```\n",
              "Label: anger\n",
              "\n",
              "---\n",
              "\n",
              "Text:\n",
              "\\```\n",
              "John feels sad. \n",
              "\\```\n",
              "Label: sadness\n",
              "\n",
              "---\n",
              "\n",
              "Text:\n",
              "\\```\n",
              "John feels shocked. \n",
              "\\```\n",
              "Label: surprise\n",
              "\n",
              "---\n",
              "\n",
              "Text:\n",
              "\\```\n",
              "John feels afraid. \n",
              "\\```\n",
              "Label: fear\n",
              "\n",
              "---\n",
              "\n",
              "Text:\n",
              "\\```\n",
              "John feels happy. \n",
              "\\```\n",
              "Label: joy\n",
              "\n",
              "---\n",
              "\n",
              "Text:\n",
              "\\&#x27;&#x27;&#x27;\n",
              "Alex feels like he&#x27;s in a trance. He starts to feel more and more comfortable with his surroundings.\n",
              "\n",
              "&quot;I&#x27;m not sure if it is just\n",
              "\\&#x27;&#x27;&#x27;\n",
              "Label: <span style='background-color: rgba(0.0, 165.0, 0, 0.15); border-radius: 3px;' title='1.0'>fear</span></pre>"
            ],
            "text/plain": [
              "<IPython.core.display.HTML object>"
            ]
          },
          "metadata": {},
          "output_type": "display_data"
        },
        {
          "name": "stderr",
          "output_type": "stream",
          "text": [
            "/tmp/ipykernel_904/515263311.py:17: FutureWarning: Setting an item of incompatible dtype is deprecated and will raise an error in a future version of pandas. Value 'fear' has dtype incompatible with int64, please explicitly cast to a compatible dtype first.\n",
            "  row_annotations[j] = guided_res['choice']\n"
          ]
        },
        {
          "ename": "NameError",
          "evalue": "name 'pickle' is not defined",
          "output_type": "error",
          "traceback": [
            "\u001b[0;31m---------------------------------------------------------------------------\u001b[0m",
            "\u001b[0;31mNameError\u001b[0m                                 Traceback (most recent call last)",
            "\u001b[1;32m/home/jovyan/1L-Sparse-Autoencoder/feature_steering.ipynb Cell 51\u001b[0m line \u001b[0;36m8\n\u001b[1;32m     <a href='vscode-notebook-cell://lobot.caslab.queensu.ca/home/jovyan/1L-Sparse-Autoencoder/feature_steering.ipynb#Y100sdnNjb2RlLXJlbW90ZQ%3D%3D?line=76'>77</a>\u001b[0m             steer_20_effects[layer_name][emotion][j] \u001b[39m=\u001b[39m (feature_num, js_distance)\n\u001b[1;32m     <a href='vscode-notebook-cell://lobot.caslab.queensu.ca/home/jovyan/1L-Sparse-Autoencoder/feature_steering.ipynb#Y100sdnNjb2RlLXJlbW90ZQ%3D%3D?line=78'>79</a>\u001b[0m \u001b[39mwith\u001b[39;00m \u001b[39mopen\u001b[39m(\u001b[39mf\u001b[39m\u001b[39m'\u001b[39m\u001b[39mablation_effect_all_layers.pkl\u001b[39m\u001b[39m'\u001b[39m, \u001b[39m'\u001b[39m\u001b[39mwb\u001b[39m\u001b[39m'\u001b[39m) \u001b[39mas\u001b[39;00m f:\n\u001b[0;32m---> <a href='vscode-notebook-cell://lobot.caslab.queensu.ca/home/jovyan/1L-Sparse-Autoencoder/feature_steering.ipynb#Y100sdnNjb2RlLXJlbW90ZQ%3D%3D?line=79'>80</a>\u001b[0m     pickle\u001b[39m.\u001b[39mdump(ablation_effects, f)\n\u001b[1;32m     <a href='vscode-notebook-cell://lobot.caslab.queensu.ca/home/jovyan/1L-Sparse-Autoencoder/feature_steering.ipynb#Y100sdnNjb2RlLXJlbW90ZQ%3D%3D?line=81'>82</a>\u001b[0m \u001b[39mwith\u001b[39;00m \u001b[39mopen\u001b[39m(\u001b[39mf\u001b[39m\u001b[39m'\u001b[39m\u001b[39msteer_20_effect_all_layers.pkl\u001b[39m\u001b[39m'\u001b[39m, \u001b[39m'\u001b[39m\u001b[39mwb\u001b[39m\u001b[39m'\u001b[39m) \u001b[39mas\u001b[39;00m f:\n\u001b[1;32m     <a href='vscode-notebook-cell://lobot.caslab.queensu.ca/home/jovyan/1L-Sparse-Autoencoder/feature_steering.ipynb#Y100sdnNjb2RlLXJlbW90ZQ%3D%3D?line=82'>83</a>\u001b[0m     pickle\u001b[39m.\u001b[39mdump(steer_20_effects, f)\n",
            "\u001b[0;31mNameError\u001b[0m: name 'pickle' is not defined"
          ]
        }
      ],
      "source": [
        "ablation_effects = copy.deepcopy(emotion_features)\n",
        "steer_20_effects = copy.deepcopy(emotion_features)\n",
        "sampling_kwargs = dict(temperature=0.5, top_p=0.1, freq_penalty=5.0)\n",
        "n_samples = 1\n",
        "coeff = 20\n",
        "steer_type = 'ablate'\n",
        "target_layer = 0\n",
        "\n",
        "# Get default distribution\n",
        "steering_on = False\n",
        "default_generation = run_generate(prompts, n_samples, steering_type=steer_type)\n",
        "default_preds = annotate_responses(default_generation)\n",
        "default_distr = fill_missing_labels(default_preds['prediction'].value_counts(sort=False))\n",
        "default_distr = default_distr.reindex(emotion_labels)\n",
        "    \n",
        "\n",
        "steering_on = True\n",
        "for layer_idx, layer_name in enumerate(ablation_effects.keys()):\n",
        "\n",
        "    layer = layer_idx\n",
        "\n",
        "    # Load SAE for this layer\n",
        "    sae, cfg_dict, _ = SAE.from_pretrained(\n",
        "        release = \"gpt2-small-res-jb\",\n",
        "        sae_id = f\"blocks.{layer_idx}.hook_resid_pre\",\n",
        "        device = device\n",
        "        )\n",
        "\n",
        "    # get hook point\n",
        "    hook_point = sae.cfg.hook_name\n",
        "\n",
        "    for emotion in ablation_effects[layer_name]:\n",
        "        \n",
        "        steer_type = 'ablate'\n",
        "        for j, feature_num in enumerate(ablation_effects[layer_name][emotion]):\n",
        "\n",
        "            feature_id = feature_num\n",
        "            steering_vector = sae.W_dec[feature_num]\n",
        "            \n",
        "            # Do generation\n",
        "            responses = run_generate(prompts, n_samples, steering_type=steer_type)\n",
        "\n",
        "            # Do annotation\n",
        "            annotations = annotate_responses(responses)\n",
        "\n",
        "            # Get distribution\n",
        "            new_distr = fill_missing_labels(annotations['prediction'].value_counts(sort=False))\n",
        "            new_distr = new_distr.reindex(emotion_labels)\n",
        "\n",
        "            # Get JS distance\n",
        "            js_distance = distance.jensenshannon(default_distr, new_distr)\n",
        "\n",
        "            # Replace value in dict\n",
        "            ablation_effects[layer_name][emotion][j] = (feature_num, js_distance)\n",
        "        \n",
        "        steer_type = 'steer'\n",
        "        coeff = 20\n",
        "        for j, feature_num in enumerate(steer_20_effects[layer_name][emotion]):\n",
        "\n",
        "            feature_id = feature_num\n",
        "            steering_vector = sae.W_dec[feature_num]\n",
        "              \n",
        "            # Do generation\n",
        "            responses = run_generate(prompts, n_samples, steering_type=steer_type)\n",
        "\n",
        "            # Do annotation\n",
        "            annotations = annotate_responses(responses)\n",
        "\n",
        "            # Get distribution\n",
        "            new_distr = fill_missing_labels(annotations['prediction'].value_counts(sort=False))\n",
        "            new_distr = new_distr.reindex(emotion_labels)\n",
        "\n",
        "            # Get JS distance\n",
        "            js_distance = distance.jensenshannon(default_distr, new_distr)\n",
        "\n",
        "            # Replace value in dict\n",
        "            steer_20_effects[layer_name][emotion][j] = (feature_num, js_distance)\n",
        "\n",
        "\n",
        "        "
      ]
    },
    {
      "cell_type": "code",
      "execution_count": 29,
      "metadata": {},
      "outputs": [],
      "source": [
        "import pickle"
      ]
    },
    {
      "cell_type": "code",
      "execution_count": 30,
      "metadata": {},
      "outputs": [],
      "source": [
        "with open(f'ablation_effect_all_layers.pkl', 'wb') as f:\n",
        "    pickle.dump(ablation_effects, f)\n",
        "\n",
        "with open(f'steer_20_effect_all_layers.pkl', 'wb') as f:\n",
        "    pickle.dump(steer_20_effects, f)"
      ]
    },
    {
      "cell_type": "code",
      "execution_count": 32,
      "metadata": {},
      "outputs": [
        {
          "name": "stdout",
          "output_type": "stream",
          "text": [
            "{'layer_0': {'sadness': [(12266, 0.05920798421448489), (23208, 0.092545568777795), (14158, 0.10598818985199403), (10882, 0.08441380089022585), (10510, 0.042430235470293294), (546, 0.09506236271362445)], 'joy': [(8699, 0.06013792769847593), (10924, 0.05442534221522403), (13808, 0.14422535808526082), (16670, 0.0972270243966704), (15464, 0.06801962236531685), (1432, 0.07907644240058859)], 'love': [(24486, 0.04199374843362757), (19618, 0.07785277366991186), (3970, 0.0738154339558306), (7792, 0.1090845437855492), (13985, 0.07359145043270564), (21219, 0.060694505838899786), (4892, 0.12055547402890134), (7099, 0.06485527517976264)], 'anger': [(22318, 0.07140873140508561), (13668, 0.11260909246796945), (17628, 0.136993132323818), (12030, 0.08207058533001868), (800, 0.1336924728991583), (22574, 0.06984331557150779)], 'fear': [(2998, 0.08669878258234977), (8167, 0.08839673501064112), (634, 0.10288922697877087), (22447, 0.10043814345398534), (15196, 0.10198877668693447), (8194, 0.1503271416717931), (2288, 0.10512030717921103), (13200, 0.04148056162429206), (23219, 0.102654977026402), (4783, 0.11430782877322976), (6938, 0.10917842381580542)], 'surprise': [(8279, 0.07232417477746987), (2031, 0.07671283642450336), (5029, 0.14099754806542966), (14386, 0.07332051241010643), (16023, 0.12047911496575464), (15694, 0.10069613565345462)]}, 'layer_1': {'sadness': [(8174, 0.08278261069873295), (15771, 0.0707970533106189), (24104, 0.11251054328651888), (8419, 0.08556252241333802)], 'joy': [(18120, 0.0882647015903174), (23750, 0.08401244301678701), (17653, 0.06893731512603865), (6284, 0.10078771768658373), (11250, 0.110114043089124), (24040, 0.0802607338309567), (7683, 0.10848610192052004), (3591, 0.09021383180043342)], 'love': [(3091, 0.10888524314829286), (14230, 0.07459391690591335), (6847, 0.09059198210017705), (4332, 0.07153630946089715), (150, 0.08396553794138618)], 'anger': [(20851, 0.08698506078235167), (13745, 0.09177732502630577), (10403, 0.09664953424925479), (11541, 0.08892998467946743), (4194, 0.08049815424784616)], 'fear': [(5186, 0.06532839367619102), (6767, 0.044099045072224494), (20821, 0.08082077232689851), (23954, 0.10072919764278811), (21612, 0.08770381488459113), (21153, 0.06175227177015332), (19325, 0.119999965603483), (6146, 0.08205126474078336), (21826, 0.08156900736407777)], 'surprise': [(12718, 0.13967974926152998), (23779, 0.041260862324528226), (18239, 0.10499565369232723), (666, 0.07321535309891099), (487, 0.02596511610082932), (16125, 0.053906248386955985), (8551, 0.13205099186631775), (2037, 0.1178055222362124)]}, 'layer_2': {'sadness': [(11683, 0.10901298153471035), (14915, 0.13088293565167347), (11568, 0.06966354897426054), (4350, 0.08484378995198522), (2442, 0.10134184728648533)], 'joy': [(7796, 0.17982066049934312), (23405, 0.07340644639445086), (22134, 0.09081248835786807), (3456, 0.13996561349074774), (13928, 0.11056528765708495), (3879, 0.11641754045351872), (23476, 0.07537542370792892)], 'love': [(3203, 0.07667066216200115)], 'anger': [(11085, 0.07795194239863522), (21027, 0.06898965952670631), (14918, 0.08486769742737132), (252, 0.11079884925220439), (21165, 0.16978544516701438), (4707, 0.07412123160452701), (1550, 0.14649070366810923), (5526, 0.12208548058919942), (18357, 0.10914000845849153)], 'fear': [(24422, 0.14471614390713852), (22815, 0.13971655418695292), (21011, 0.19965969638448558), (20309, 0.1576285615866012), (18350, 0.16328753882045655), (10882, 0.1786845279869587), (9937, 0.1451197785971641), (5843, 0.11012748832194018), (12026, 0.09285075188100708)], 'surprise': [(11631, 0.08530139172590022), (11365, 0.09281374963404761), (15076, 0.12746189189513843), (10353, 0.11497617240740243), (7902, 0.06890262999999801), (7800, 0.07979319290773887)]}, 'layer_3': {'sadness': [(24140, 0.11089085529604116), (24469, 0.12268222312403322), (22098, 0.1952673551815616), (14290, 0.2137946147603388)], 'joy': [(10739, 0.3033343227657852), (9828, 0.16630223394861934), (14625, 0.15553963898143797), (5329, 0.11385538224077471), (19341, 0.08220755922876147), (10990, 0.290404197510232), (6001, 0.22178996982992916)], 'love': [(14981, 0.10385726070504728), (5501, 0.10100027975417092), (15927, 0.12418563911117868), (11815, 0.2151697103329929), (23271, 0.1421862637636011)], 'anger': [(13819, 0.2699199198172551), (9272, 0.11406987880124302), (412, 0.18115905665938525), (3213, 0.19035480386343653), (16043, 0.19656022490278602), (24133, 0.11013771998763776)], 'fear': [(6134, 0.22710370579886724), (1861, 0.1784237428105986), (22236, 0.21368830859305607), (8135, 0.16471386326691803), (20126, 0.11596743807207702), (20648, 0.12210171207809402), (2253, 0.15247894044481547), (20588, 0.18749299322333565), (18762, 0.10996823753349491), (9805, 0.37307524449018326), (8914, 0.3640790135185004), (6653, 0.19515156494384123)], 'surprise': [(3282, 0.11914302379402406), (23140, 0.06448036535893385), (10647, 0.07905270379522587), (972, 0.11664777264243713), (17827, 0.08837494822804567), (3625, 0.19220189492654574), (17365, 0.09945335660731768), (14434, 0.20189987134466356), (10958, 0.1461839921582414)]}, 'layer_4': {'sadness': [(5179, 0.1516322026561144), (7494, 0.1360780662869252), (9341, 0.15079343321705496), (22033, 0.13225791959677188), (23292, 0.09588280335170336), (10051, 0.16184772836465164)], 'joy': [(15968, 0.17825563283848447), (12298, 0.11350115069191585), (9569, 0.19305623894226878), (8244, 0.13373764065642485), (22722, 0.0432819606757845)], 'love': [(9757, 0.11675532508426302), (10750, 0.38149043474043914), (4004, 0.07846850338470268), (7249, 0.08282084519374922)], 'anger': [(22695, 0.12867893843986386), (9072, 0.17251722873946043), (18320, 0.2189556618512231), (11510, 0.27737562713133734), (3810, 0.14003046212543133), (16080, 0.10338197816847375), (15004, 0.1535711462630919), (11183, 0.07544098450314801)], 'fear': [(20655, 0.1137355419718942), (18321, 0.11739830431909286), (13386, 0.1348076565103428), (4338, 0.13183044842658487), (2955, 0.21025919726937814), (24553, 0.18211432444279105), (16651, 0.19627285659318058), (15882, 0.11012787873157162), (14836, 0.19097086359005608), (12290, 0.3318287236254845)], 'surprise': [(19514, 0.17719715775777112), (15250, 0.09674258038002881), (19967, 0.22212170014708327), (16649, 0.16817119087167884), (24019, 0.14636238788551154), (12758, 0.10678019294420539), (9661, 0.10748740445921887)]}, 'layer_5': {'sadness': [(1265, 0.10136741527535473), (22889, 0.29763475567656644)], 'joy': [(6803, 0.0763374170625742), (17170, 0.1754007513072962), (14404, 0.18633505918508522), (1255, 0.13581214034397743), (13678, 0.0525691035762242), (14997, 0.1327591879310639)], 'love': [(23060, 0.09093884075528191), (12473, 0.06409809093663213), (3674, 0.1747335410040413), (18288, 0.3234246777799626), (13689, 0.20441523940309536), (4600, 0.16897121919793856), (3448, 0.11051162943972177)], 'anger': [(1773, 0.25009367756577666), (330, 0.11633919510799778), (5136, 0.0989554919214543), (9706, 0.30872216983025075), (9559, 0.1972460934823813)], 'fear': [(7952, 0.1455917573824695), (15844, 0.15461875274687087), (6801, 0.07613900638119463), (21689, 0.1696821281947014), (24318, 0.19812114630159472), (2212, 0.15987935280310722), (5990, 0.07558356983123973), (15747, 0.07452067741522801)], 'surprise': [(21258, 0.11544096803697967), (14750, 0.21974117514255104), (2877, 0.14950584620882204), (3055, 0.15142393532438173), (17557, 0.09976778649834034), (23920, 0.10169973522053877), (3546, 0.10862969880876583), (16559, 0.19984102707823578), (9884, 0.1402239291593294), (7516, 0.14110163813221097), (6011, 0.12399108423258706)]}, 'layer_6': {'sadness': [(20719, 0.1827357826004929), (251, 0.1667884939417949)], 'joy': [(9995, 0.41385311137790726), (3020, 0.11806126284928456), (18199, 0.23326015203554237), (14968, 0.4690107474334633), (203, 0.16420497389534608), (2617, 0.10490456665961148)], 'love': [(19727, 0.19431345137244435), (16022, 0.1929307095386162), (11397, 0.22841700643359672), (14808, 0.12070575426624416)], 'anger': [(20521, 0.28426048704802764), (16530, 0.17231968888774232), (10131, 0.16133901486968588), (6415, 0.13028725273899974), (15780, 0.14067356120817054), (21846, 0.12671795148385273)], 'fear': [(3246, 0.32926947278051205), (5289, 0.13559210383793402), (12900, 0.09087168095858553), (20520, 0.05956348273788324), (18781, 0.10887647379197264), (2459, 0.16700871286697283), (20211, 0.2512240289486539), (19068, 0.22841859896801917), (6685, 0.19622326730243717), (2260, 0.1413581022999798)], 'surprise': [(13502, 0.20922938557635634), (18954, 0.17015569593926375), (14477, 0.13834870717572384), (6315, 0.14450375803182522), (9678, 0.13270161249664114), (2328, 0.1360437297200074), (21364, 0.10607247850985187), (17678, 0.21614031295649808), (9978, 0.16229374266252933), (19798, 0.10932340726353161), (3036, 0.1649389887646368)]}, 'layer_7': {'sadness': [(2045, 0.1409003258814016)], 'joy': [(24314, 0.06363465125700116), (17025, 0.14009379918417494), (19547, 0.35747241000093927)], 'love': [(2887, 0.20600862078239304), (2715, 0.3127584331963752), (19662, 0.1835775892376651)], 'anger': [(1776, 0.17804747766756485), (10033, 0.06780356380614216)], 'fear': [(18892, 0.15537577323750443), (13863, 0.08924924591761636), (17128, 0.15784299179192687), (13519, 0.24183575144316544), (4505, 0.1503526748630277), (5211, 0.14044034093836982), (17463, 0.09809035567977728), (19010, 0.2585205085495013), (15862, 0.10001354733692269), (14791, 0.1255267199853651)], 'surprise': [(17837, 0.1895018667873762), (20417, 0.17180750192021166), (17104, 0.1901787382713103), (12344, 0.12735672379569282), (8002, 0.10999627438501877), (10849, 0.18370270248719928), (15668, 0.17688673844441655), (11750, 0.15439119878821872), (8981, 0.1285740173181606), (8442, 0.15597028072543984)]}, 'layer_8': {'sadness': [(7473, 0.10856316030212315), (3927, 0.08104116355909313)], 'joy': [(13624, 0.14830001594368836), (8708, 0.1206259370930131), (13433, 0.13856570052810444)], 'love': [(8631, 0.10544465583492463), (9837, 0.14139453683451264), (2017, 0.0996319509378801)], 'anger': [(21519, 0.11901920846699857), (22715, 0.1368442622445486), (2133, 0.0862203658669718), (17121, 0.11017614052347069)], 'fear': [(13796, 0.04482442464450781), (4846, 0.09494175476141464), (8887, 0.11249238293858611), (4810, 0.14167240495881306), (19414, 0.1045311308773317), (19585, 0.19822171970153785), (17376, 0.14968242201277351)], 'surprise': [(14571, 0.092388661481209), (1366, 0.13066969811132334), (14856, 0.07721259945815388), (15950, 0.11896818243524233), (15512, 0.09793672821155154), (20821, 0.1178396347906298), (8855, 0.15374417943965074), (12456, 0.10261458340283115), (20423, 0.06023797337210977), (4939, 0.12000355144580742)]}, 'layer_9': {'sadness': [(10885, 0.037305747074865524), (17773, 0.09846156633134527), (5000, 0.11067924148401045)], 'joy': [(4288, 0.09918201302403717), (7702, 0.09938177177544495), (20850, 0.17434274344256986), (1418, 0.0334732841391533), (4864, 0.148695212050079)], 'love': [(20105, 0.06628447646483075), (9946, 0.014630275186298988), (17442, 0.059408231626364785), (21303, 0.1155785884156918), (21876, 0.09235732461661074)], 'anger': [(21253, 0.12928596837232648), (7002, 0.15985840642348093), (15510, 0.08606158343518645), (16663, 0.1170638342267597)], 'fear': [(20233, 0.12446875970129781), (19535, 0.07207657681172679), (5563, 0.1016008907930907), (1413, 0.10423360039462017), (15382, 0.0893696203406636), (14412, 0.1353956456733649)], 'surprise': [(21445, 0.1626966362635964), (21532, 0.1390040421500891), (10719, 0.12170390195959997), (14851, 0.10707740013272268), (24082, 0.08588012020653156), (16180, 0.042706389885031136), (1167, 0.13320458762695553), (14205, 0.0724265120279411), (7831, 0.10213131959709884), (17898, 0.1232413654113332), (1655, 0.10652383171665133)]}, 'layer_10': {'sadness': [(11363, 0.04822834991281956)], 'joy': [(4091, 0.0910336432916331), (5713, 0.11791119595372762), (809, 0.06737367319841785)], 'love': [(10165, 0.10543352214385351), (14654, 0.09768209397223344), (20694, 0.1160955389433796), (19070, 0.05373079365516869), (130, 0.10016602648643837), (2095, 0.10434852523662398)], 'anger': [(14697, 0.080494470429097), (5203, 0.12109571074675084), (19957, 0.10935485036682291)], 'fear': [(24358, 0.12342722001564692), (20305, 0.050942894174335916), (18367, 0.07249504590225818), (6822, 0.08492831011969887), (6260, 0.0853634643116814), (2783, 0.07527187671307996)], 'surprise': [(2150, 0.049379195137489264), (9733, 0.10669960998845879), (23922, 0.0996319509378801), (23723, 0.028596126887156532), (7658, 0.08640320186602929), (184, 0.09512646252949322), (18509, 0.09367956085515729), (20367, 0.08981363738952128), (14901, 0.08961755338190079), (6227, 0.05110375694231299)]}, 'layer_11': {'sadness': [(3334, 0.03491064789711906), (24428, 0.061601851458312394), (16896, 0.04134567669712565)], 'joy': [(4943, 0.07499662694943307), (8946, 0.0455783323832594)], 'love': [(12316, 0.07762917902410268), (6390, 0.05236080739283085), (6694, 0.0842768407729381), (15057, 0.07099832418666449), (4407, 0.04846728407267005)], 'anger': [(21754, 0.11133324244259951), (12214, 0.05831364519482581), (8427, 0.09447104991078069), (20367, 0.0446769072920493), (14410, 0.11787660521784123)], 'fear': [(13374, 0.06391760642634166), (9550, 0.1063693132265101), (24256, 0.05597584565279088), (14324, 0.04667880951207732), (13554, 0.149864940113406), (165, 0.046527363852980584), (12092, 0.05943900434489758), (9703, 0.05222925621919577), (20934, 0.038558525135048365)], 'surprise': [(22471, 0.07075167017046219), (5047, 0.08343433222256068), (22203, 0.06251590983165062), (17670, 0.09113426308525982), (17411, 0.06877949017731294), (17777, 0.13129797037847057), (5820, 0.03073685194208769), (949, 0.05172578478481615), (12189, 0.08630888625260198), (4452, 0.12365358861082651), (15556, 0.07904224206200781), (3086, 0.03762554961227632), (21799, 0.017362469960508557)]}}\n"
          ]
        }
      ],
      "source": [
        "with open(f'ablation_effect_all_layers.pkl', 'rb') as f:\n",
        "    loaded_dict = pickle.load(f)\n",
        "    print(loaded_dict)"
      ]
    },
    {
      "cell_type": "code",
      "execution_count": 263,
      "metadata": {},
      "outputs": [
        {
          "name": "stdout",
          "output_type": "stream",
          "text": [
            "{'layer_0': {'sadness': [12266, 23208, 14158, 10882, 10510, 546], 'joy': [8699, 10924, 13808, 16670, 15464, 1432], 'love': [24486, 19618, 3970, 7792, 13985, 21219, 4892, 7099], 'anger': [22318, 13668, 17628, 12030, 800, 22574], 'fear': [2998, 8167, 634, 22447, 15196, 8194, 2288, 13200, 23219, 4783, 6938], 'surprise': [8279, 2031, 5029, 14386, 16023, 15694]}, 'layer_1': {'sadness': [8174, 15771, 24104, 8419], 'joy': [18120, 23750, 17653, 6284, 11250, 24040, 7683, 3591], 'love': [3091, 14230, 6847, 4332, 150], 'anger': [20851, 13745, 10403, 11541, 4194], 'fear': [5186, 6767, 20821, 23954, 21612, 21153, 19325, 6146, 21826], 'surprise': [12718, 23779, 18239, 666, 487, 16125, 8551, 2037]}, 'layer_2': {'sadness': [11683, 14915, 11568, 4350, 2442], 'joy': [7796, 23405, 22134, 3456, 13928, 3879, 23476], 'love': [3203], 'anger': [11085, 21027, 14918, 252, 21165, 4707, 1550, 5526, 18357], 'fear': [24422, 22815, 21011, 20309, 18350, 10882, 9937, 5843, 12026], 'surprise': [11631, 11365, 15076, 10353, 7902, 7800]}, 'layer_3': {'sadness': [24140, 24469, 22098, 14290], 'joy': [10739, 9828, 14625, 5329, 19341, 10990, 6001], 'love': [14981, 5501, 15927, 11815, 23271], 'anger': [13819, 9272, 412, 3213, 16043, 24133], 'fear': [6134, 1861, 22236, 8135, 20126, 20648, 2253, 20588, 18762, 9805, 8914, 6653], 'surprise': [3282, 23140, 10647, 972, 17827, 3625, 17365, 14434, 10958]}, 'layer_4': {'sadness': [(5179, 0.18218899644082082), (7494, 0.13167911455489734), (9341, 0.40293895996609025), (22033, 0.31097613525076423), (23292, 0.5314430815949358), (10051, 0.6027760430259975)], 'joy': [(15968, 0.17590611904589878), (12298, 0.3275249137464507), (9569, 0.39257111449133003), (8244, 0.38911317707570103), (22722, 0.22145850298755843)], 'love': [(9757, 0.4460286026385722), (10750, 0.5309766020226961), (4004, 0.26943276297327384), (7249, 0.2862318646377037)], 'anger': [(22695, 0.18966329011422806), (9072, 0.4711841663050394), (18320, 0.3328448090661558), (11510, 0.47023503249242016), (3810, 0.2989590336704878), (16080, 0.1644146385420268), (15004, 0.23043942604638706), (11183, 0.22146159762076692)], 'fear': [(20655, 0.2685137517313212), (18321, 0.1683113538849863), (13386, 0.15289010172467213), (4338, 0.13436654088127076), (2955, 0.4149281369070298), (24553, 0.5032057892648392), (16651, 0.42608606463605586), (15882, 0.4499338076821463), (14836, 0.33194135980359524), (12290, 0.3747336196420694)], 'surprise': [(19514, 0.15021134404218275), (15250, 0.1804911208896597), (19967, 0.4335914596421074), (16649, 0.17666172858648552), (24019, 0.1854853283641485), (12758, 0.2865766418111494), (9661, 0.2712700992619696)]}, 'layer_5': {'sadness': [1265, 22889], 'joy': [6803, 17170, 14404, 1255, 13678, 14997], 'love': [23060, 12473, 3674, 18288, 13689, 4600, 3448], 'anger': [1773, 330, 5136, 9706, 9559], 'fear': [7952, 15844, 6801, 21689, 24318, 2212, 5990, 15747], 'surprise': [21258, 14750, 2877, 3055, 17557, 23920, 3546, 16559, 9884, 7516, 6011]}, 'layer_6': {'sadness': [20719, 251], 'joy': [9995, 3020, 18199, 14968, 203, 2617], 'love': [19727, 16022, 11397, 14808], 'anger': [20521, 16530, 10131, 6415, 15780, 21846], 'fear': [3246, 5289, 12900, 20520, 18781, 2459, 20211, 19068, 6685, 2260], 'surprise': [13502, 18954, 14477, 6315, 9678, 2328, 21364, 17678, 9978, 19798, 3036]}, 'layer_7': {'sadness': [2045], 'joy': [24314, 17025, 19547], 'love': [2887, 2715, 19662], 'anger': [1776, 10033], 'fear': [18892, 13863, 17128, 13519, 4505, 5211, 17463, 19010, 15862, 14791], 'surprise': [17837, 20417, 17104, 12344, 8002, 10849, 15668, 11750, 8981, 8442]}, 'layer_8': {'sadness': [7473, 3927], 'joy': [13624, 8708, 13433], 'love': [8631, 9837, 2017], 'anger': [21519, 22715, 2133, 17121], 'fear': [13796, 4846, 8887, 4810, 19414, 19585, 17376], 'surprise': [14571, 1366, 14856, 15950, 15512, 20821, 8855, 12456, 20423, 4939]}, 'layer_9': {'sadness': [10885, 17773, 5000], 'joy': [4288, 7702, 20850, 1418, 4864], 'love': [20105, 9946, 17442, 21303, 21876], 'anger': [21253, 7002, 15510, 16663], 'fear': [20233, 19535, 5563, 1413, 15382, 14412], 'surprise': [21445, 21532, 10719, 14851, 24082, 16180, 1167, 14205, 7831, 17898, 1655]}, 'layer_10': {'sadness': [11363], 'joy': [4091, 5713, 809], 'love': [10165, 14654, 20694, 19070, 130, 2095], 'anger': [14697, 5203, 19957], 'fear': [24358, 20305, 18367, 6822, 6260, 2783], 'surprise': [2150, 9733, 23922, 23723, 7658, 184, 18509, 20367, 14901, 6227]}, 'layer_11': {'sadness': [3334, 24428, 16896], 'joy': [4943, 8946], 'love': [12316, 6390, 6694, 15057, 4407], 'anger': [21754, 12214, 8427, 20367, 14410], 'fear': [13374, 9550, 24256, 14324, 13554, 165, 12092, 9703, 20934], 'surprise': [22471, 5047, 22203, 17670, 17411, 17777, 5820, 949, 12189, 4452, 15556, 3086, 21799]}}\n"
          ]
        }
      ],
      "source": [
        "print(steer_20_effects)"
      ]
    },
    {
      "cell_type": "code",
      "execution_count": 246,
      "metadata": {},
      "outputs": [
        {
          "name": "stdout",
          "output_type": "stream",
          "text": [
            "{'layer_0': {'sadness': [12266, 23208, 14158, 10882, 10510, 546], 'joy': [8699, 10924, 13808, 16670, 15464, 1432], 'love': [24486, 19618, 3970, 7792, 13985, 21219, 4892, 7099], 'anger': [22318, 13668, 17628, 12030, 800, 22574], 'fear': [2998, 8167, 634, 22447, 15196, 8194, 2288, 13200, 23219, 4783, 6938], 'surprise': [8279, 2031, 5029, 14386, 16023, 15694]}, 'layer_1': {'sadness': [8174, 15771, 24104, 8419], 'joy': [18120, 23750, 17653, 6284, 11250, 24040, 7683, 3591], 'love': [3091, 14230, 6847, 4332, 150], 'anger': [20851, 13745, 10403, 11541, 4194], 'fear': [5186, 6767, 20821, 23954, 21612, 21153, 19325, 6146, 21826], 'surprise': [12718, 23779, 18239, 666, 487, 16125, 8551, 2037]}, 'layer_2': {'sadness': [11683, 14915, 11568, 4350, 2442], 'joy': [7796, 23405, 22134, 3456, 13928, 3879, 23476], 'love': [3203], 'anger': [11085, 21027, 14918, 252, 21165, 4707, 1550, 5526, 18357], 'fear': [24422, 22815, 21011, 20309, 18350, 10882, 9937, 5843, 12026], 'surprise': [11631, 11365, 15076, 10353, 7902, 7800]}, 'layer_3': {'sadness': [24140, 24469, 22098, 14290], 'joy': [10739, 9828, 14625, 5329, 19341, 10990, 6001], 'love': [14981, 5501, 15927, 11815, 23271], 'anger': [13819, 9272, 412, 3213, 16043, 24133], 'fear': [6134, 1861, 22236, 8135, 20126, 20648, 2253, 20588, 18762, 9805, 8914, 6653], 'surprise': [3282, 23140, 10647, 972, 17827, 3625, 17365, 14434, 10958]}, 'layer_4': {'sadness': [(5179, 0.15037059723155236), (7494, 0.1234799374108679), (9341, 0.19482402648264632), (22033, 0.1928657476801596), (23292, 0.08375136558652015), (10051, 0.18453389571173054)], 'joy': [(15968, 0.14992831400144688), (12298, 0.1540917404519769), (9569, 0.09159589991453815), (8244, 0.0902234703148447), (22722, 0.1521547214926575)], 'love': [(9757, 0.1654931225284623), (10750, 0.4475711504566756), (4004, 0.08194580604159592), (7249, 0.1129769738193759)], 'anger': [(22695, 0.16789129273020656), (9072, 0.17780075095749842), (18320, 0.26486377115119836), (11510, 0.2012046172793415), (3810, 0.15453146011826524), (16080, 0.21939485454932042), (15004, 0.11294002933983269), (11183, 0.1521547214926575)], 'fear': [(20655, 0.16078315662118262), (18321, 0.239085532064044), (13386, 0.1725242052026652), (4338, 0.1487632340342783), (2955, 0.21935889738775247), (24553, 0.14737780098823453), (16651, 0.20674850437470382), (15882, 0.14250673434503003), (14836, 0.15888185672086802), (12290, 0.3621171870901296)], 'surprise': [(19514, 0.16937890970185077), (15250, 0.08150334736596794), (19967, 0.3927833962220925), (16649, 0.13578770405092835), (24019, 0.16506179953893704), (12758, 0.18710035244033263), (9661, 0.24870618455228424)]}, 'layer_5': {'sadness': [1265, 22889], 'joy': [6803, 17170, 14404, 1255, 13678, 14997], 'love': [23060, 12473, 3674, 18288, 13689, 4600, 3448], 'anger': [1773, 330, 5136, 9706, 9559], 'fear': [7952, 15844, 6801, 21689, 24318, 2212, 5990, 15747], 'surprise': [21258, 14750, 2877, 3055, 17557, 23920, 3546, 16559, 9884, 7516, 6011]}, 'layer_6': {'sadness': [20719, 251], 'joy': [9995, 3020, 18199, 14968, 203, 2617], 'love': [19727, 16022, 11397, 14808], 'anger': [20521, 16530, 10131, 6415, 15780, 21846], 'fear': [3246, 5289, 12900, 20520, 18781, 2459, 20211, 19068, 6685, 2260], 'surprise': [13502, 18954, 14477, 6315, 9678, 2328, 21364, 17678, 9978, 19798, 3036]}, 'layer_7': {'sadness': [2045], 'joy': [24314, 17025, 19547], 'love': [2887, 2715, 19662], 'anger': [1776, 10033], 'fear': [18892, 13863, 17128, 13519, 4505, 5211, 17463, 19010, 15862, 14791], 'surprise': [17837, 20417, 17104, 12344, 8002, 10849, 15668, 11750, 8981, 8442]}, 'layer_8': {'sadness': [7473, 3927], 'joy': [13624, 8708, 13433], 'love': [8631, 9837, 2017], 'anger': [21519, 22715, 2133, 17121], 'fear': [13796, 4846, 8887, 4810, 19414, 19585, 17376], 'surprise': [14571, 1366, 14856, 15950, 15512, 20821, 8855, 12456, 20423, 4939]}, 'layer_9': {'sadness': [10885, 17773, 5000], 'joy': [4288, 7702, 20850, 1418, 4864], 'love': [20105, 9946, 17442, 21303, 21876], 'anger': [21253, 7002, 15510, 16663], 'fear': [20233, 19535, 5563, 1413, 15382, 14412], 'surprise': [21445, 21532, 10719, 14851, 24082, 16180, 1167, 14205, 7831, 17898, 1655]}, 'layer_10': {'sadness': [11363], 'joy': [4091, 5713, 809], 'love': [10165, 14654, 20694, 19070, 130, 2095], 'anger': [14697, 5203, 19957], 'fear': [24358, 20305, 18367, 6822, 6260, 2783], 'surprise': [2150, 9733, 23922, 23723, 7658, 184, 18509, 20367, 14901, 6227]}, 'layer_11': {'sadness': [3334, 24428, 16896], 'joy': [4943, 8946], 'love': [12316, 6390, 6694, 15057, 4407], 'anger': [21754, 12214, 8427, 20367, 14410], 'fear': [13374, 9550, 24256, 14324, 13554, 165, 12092, 9703, 20934], 'surprise': [22471, 5047, 22203, 17670, 17411, 17777, 5820, 949, 12189, 4452, 15556, 3086, 21799]}}\n"
          ]
        }
      ],
      "source": [
        "print(ablation_effects)"
      ]
    },
    {
      "cell_type": "code",
      "execution_count": 247,
      "metadata": {},
      "outputs": [
        {
          "name": "stdout",
          "output_type": "stream",
          "text": [
            "640 bytes\n"
          ]
        }
      ],
      "source": [
        "print(str(sys.getsizeof(emotion_features)), 'bytes')"
      ]
    },
    {
      "cell_type": "code",
      "execution_count": 222,
      "metadata": {},
      "outputs": [],
      "source": [
        "import pickle "
      ]
    },
    {
      "cell_type": "code",
      "execution_count": 249,
      "metadata": {},
      "outputs": [],
      "source": [
        "\n",
        "with open(f'ablation_effect_layer_{target_layer}.pkl', 'wb') as f:\n",
        "    pickle.dump(ablation_effects, f)\n",
        "        \n",
        "with open(f'ablation_effect_layer_{target_layer}.pkl', 'rb') as f:\n",
        "    loaded_dict = pickle.load(f)\n",
        "    ablation_layer_4_effects = np.array([n for e in loaded_dict[f'layer_{target_layer}'] for _, n in loaded_dict['layer_4'][e]])\n"
      ]
    },
    {
      "cell_type": "code",
      "execution_count": 256,
      "metadata": {},
      "outputs": [],
      "source": [
        "with open(f'steer_20_effect_layer_{target_layer}.pkl', 'wb') as f:\n",
        "    pickle.dump(steer_20_effects, f)\n",
        "        \n",
        "with open(f'steer_20_effect_layer_{target_layer}.pkl', 'rb') as f:\n",
        "    loaded_dict = pickle.load(f)\n",
        "    steer_20_layer_4_effects = np.array([n for e in loaded_dict['layer_4'] for _, n in loaded_dict['layer_4'][e]])\n",
        "    scatter_plt_labels = np.array([e for e in loaded_dict['layer_4'] for _, n in loaded_dict['layer_4'][e]])\n"
      ]
    },
    {
      "cell_type": "code",
      "execution_count": 257,
      "metadata": {},
      "outputs": [
        {
          "name": "stdout",
          "output_type": "stream",
          "text": [
            "['sadness' 'sadness' 'sadness' 'sadness' 'sadness' 'sadness' 'joy' 'joy'\n",
            " 'joy' 'joy' 'joy' 'love' 'love' 'love' 'love' 'anger' 'anger' 'anger'\n",
            " 'anger' 'anger' 'anger' 'anger' 'anger' 'fear' 'fear' 'fear' 'fear'\n",
            " 'fear' 'fear' 'fear' 'fear' 'fear' 'fear' 'surprise' 'surprise'\n",
            " 'surprise' 'surprise' 'surprise' 'surprise' 'surprise']\n"
          ]
        }
      ],
      "source": [
        "print(scatter_plt_labels)"
      ]
    },
    {
      "cell_type": "markdown",
      "metadata": {},
      "source": [
        "### REMEMBER TO CHANGE NAMES"
      ]
    },
    {
      "cell_type": "code",
      "execution_count": 1,
      "metadata": {},
      "outputs": [
        {
          "ename": "NameError",
          "evalue": "name 'plt' is not defined",
          "output_type": "error",
          "traceback": [
            "\u001b[0;31m---------------------------------------------------------------------------\u001b[0m",
            "\u001b[0;31mNameError\u001b[0m                                 Traceback (most recent call last)",
            "\u001b[1;32m/home/jovyan/1L-Sparse-Autoencoder/feature_steering.ipynb Cell 61\u001b[0m line \u001b[0;36m2\n\u001b[1;32m      <a href='vscode-notebook-cell://lobot.caslab.queensu.ca/home/jovyan/1L-Sparse-Autoencoder/feature_steering.ipynb#Y114sdnNjb2RlLXJlbW90ZQ%3D%3D?line=0'>1</a>\u001b[0m \u001b[39m# Create a colormap\u001b[39;00m\n\u001b[0;32m----> <a href='vscode-notebook-cell://lobot.caslab.queensu.ca/home/jovyan/1L-Sparse-Autoencoder/feature_steering.ipynb#Y114sdnNjb2RlLXJlbW90ZQ%3D%3D?line=1'>2</a>\u001b[0m cmap \u001b[39m=\u001b[39m plt\u001b[39m.\u001b[39mget_cmap(\u001b[39m'\u001b[39m\u001b[39mplasma\u001b[39m\u001b[39m'\u001b[39m)\n\u001b[1;32m      <a href='vscode-notebook-cell://lobot.caslab.queensu.ca/home/jovyan/1L-Sparse-Autoencoder/feature_steering.ipynb#Y114sdnNjb2RlLXJlbW90ZQ%3D%3D?line=2'>3</a>\u001b[0m unique_plt_labels \u001b[39m=\u001b[39m \u001b[39mlist\u001b[39m(\u001b[39mset\u001b[39m(scatter_plt_labels))\n\u001b[1;32m      <a href='vscode-notebook-cell://lobot.caslab.queensu.ca/home/jovyan/1L-Sparse-Autoencoder/feature_steering.ipynb#Y114sdnNjb2RlLXJlbW90ZQ%3D%3D?line=3'>4</a>\u001b[0m colors \u001b[39m=\u001b[39m [cmap(i \u001b[39m/\u001b[39m \u001b[39mlen\u001b[39m(unique_plt_labels)) \u001b[39mfor\u001b[39;00m i \u001b[39min\u001b[39;00m \u001b[39mrange\u001b[39m(\u001b[39mlen\u001b[39m(unique_plt_labels))]\n",
            "\u001b[0;31mNameError\u001b[0m: name 'plt' is not defined"
          ]
        }
      ],
      "source": [
        "# Create a colormap\n",
        "cmap = plt.get_cmap('plasma')\n",
        "unique_plt_labels = list(set(scatter_plt_labels))\n",
        "colors = [cmap(i / len(unique_plt_labels)) for i in range(len(unique_plt_labels))]\n",
        "color_map = dict(zip(unique_plt_labels, colors))\n",
        "\n",
        "# Plotting the scatter plot with colored labels\n",
        "plt.figure(figsize=(12, 12))\n",
        "for label in unique_plt_labels:\n",
        "    idx = np.where(scatter_plt_labels == label)\n",
        "    plt.scatter(ablation_layer_4_effects[idx], steer_20_layer_4_effects[idx], color=color_map[label], label=label)\n",
        "\n",
        "# Create legend\n",
        "plt.legend()\n",
        "\n",
        "# Adding labels to each point (uncomment if needed)\n",
        "# for i in range(len(ablation_layer_0_effects)):\n",
        "#     plt.text(ablation_layer_0_effects[i], steer_20_layer_0_effects[i], scatter_plt_labels[i], fontsize=10, ha='right')\n",
        "\n",
        "plt.xlabel('Ablation')\n",
        "plt.ylabel('Steering (coeff = 20)')\n",
        "plt.title('Scatter Plot with Colored Labels')\n",
        "plt.savefig('layer_0_effects.png', bbox_inches='tight')\n",
        "plt.show()"
      ]
    },
    {
      "cell_type": "code",
      "execution_count": null,
      "metadata": {},
      "outputs": [],
      "source": []
    }
  ],
  "metadata": {
    "accelerator": "GPU",
    "colab": {
      "collapsed_sections": [
        "fapxk8MDrs6R",
        "CmaPYLpGrxbo"
      ],
      "gpuType": "T4",
      "provenance": []
    },
    "kernelspec": {
      "display_name": "steering",
      "language": "python",
      "name": "python3"
    },
    "language_info": {
      "codemirror_mode": {
        "name": "ipython",
        "version": 3
      },
      "file_extension": ".py",
      "mimetype": "text/x-python",
      "name": "python",
      "nbconvert_exporter": "python",
      "pygments_lexer": "ipython3",
      "version": "3.10.14"
    },
    "widgets": {
      "application/vnd.jupyter.widget-state+json": {
        "06d77984a1a64d39938bfe68e114539b": {
          "model_module": "@jupyter-widgets/controls",
          "model_module_version": "1.5.0",
          "model_name": "HTMLModel",
          "state": {
            "_dom_classes": [],
            "_model_module": "@jupyter-widgets/controls",
            "_model_module_version": "1.5.0",
            "_model_name": "HTMLModel",
            "_view_count": null,
            "_view_module": "@jupyter-widgets/controls",
            "_view_module_version": "1.5.0",
            "_view_name": "HTMLView",
            "description": "",
            "description_tooltip": null,
            "layout": "IPY_MODEL_fe6cae73e861414eaff54680113676bc",
            "placeholder": "​",
            "style": "IPY_MODEL_3f5f9cad86e24dd489146215c3a208c9",
            "value": "100%"
          }
        },
        "07c0dd1a8de149408b981a8892f6e46d": {
          "model_module": "@jupyter-widgets/controls",
          "model_module_version": "1.5.0",
          "model_name": "ProgressStyleModel",
          "state": {
            "_model_module": "@jupyter-widgets/controls",
            "_model_module_version": "1.5.0",
            "_model_name": "ProgressStyleModel",
            "_view_count": null,
            "_view_module": "@jupyter-widgets/base",
            "_view_module_version": "1.2.0",
            "_view_name": "StyleView",
            "bar_color": null,
            "description_width": ""
          }
        },
        "106650a69f4c4bd0a340d58c4bd4f1bb": {
          "model_module": "@jupyter-widgets/controls",
          "model_module_version": "1.5.0",
          "model_name": "HBoxModel",
          "state": {
            "_dom_classes": [],
            "_model_module": "@jupyter-widgets/controls",
            "_model_module_version": "1.5.0",
            "_model_name": "HBoxModel",
            "_view_count": null,
            "_view_module": "@jupyter-widgets/controls",
            "_view_module_version": "1.5.0",
            "_view_name": "HBoxView",
            "box_style": "",
            "children": [
              "IPY_MODEL_06d77984a1a64d39938bfe68e114539b",
              "IPY_MODEL_6571f57262c447ce9177223fb583e707",
              "IPY_MODEL_a2179cafb63f475db0162cd990a17ff7"
            ],
            "layout": "IPY_MODEL_c0bb81765e93420796cd5f959e9d3534"
          }
        },
        "1a5dd5f7c9d340b6ab00ecaf43525ae9": {
          "model_module": "@jupyter-widgets/controls",
          "model_module_version": "1.5.0",
          "model_name": "HBoxModel",
          "state": {
            "_dom_classes": [],
            "_model_module": "@jupyter-widgets/controls",
            "_model_module_version": "1.5.0",
            "_model_name": "HBoxModel",
            "_view_count": null,
            "_view_module": "@jupyter-widgets/controls",
            "_view_module_version": "1.5.0",
            "_view_name": "HBoxView",
            "box_style": "",
            "children": [
              "IPY_MODEL_8211cc6c973a43fcaf18e14f6d7f08a2",
              "IPY_MODEL_3d3584d1feec459287ffa24c4ef790c3",
              "IPY_MODEL_5f03835168e64ec588c50ee21fedd198"
            ],
            "layout": "IPY_MODEL_b833db18729f422cb86deed4be6f1900"
          }
        },
        "229dad8e29f04c279c5603286e2c0643": {
          "model_module": "@jupyter-widgets/base",
          "model_module_version": "1.2.0",
          "model_name": "LayoutModel",
          "state": {
            "_model_module": "@jupyter-widgets/base",
            "_model_module_version": "1.2.0",
            "_model_name": "LayoutModel",
            "_view_count": null,
            "_view_module": "@jupyter-widgets/base",
            "_view_module_version": "1.2.0",
            "_view_name": "LayoutView",
            "align_content": null,
            "align_items": null,
            "align_self": null,
            "border": null,
            "bottom": null,
            "display": null,
            "flex": null,
            "flex_flow": null,
            "grid_area": null,
            "grid_auto_columns": null,
            "grid_auto_flow": null,
            "grid_auto_rows": null,
            "grid_column": null,
            "grid_gap": null,
            "grid_row": null,
            "grid_template_areas": null,
            "grid_template_columns": null,
            "grid_template_rows": null,
            "height": null,
            "justify_content": null,
            "justify_items": null,
            "left": null,
            "margin": null,
            "max_height": null,
            "max_width": null,
            "min_height": null,
            "min_width": null,
            "object_fit": null,
            "object_position": null,
            "order": null,
            "overflow": null,
            "overflow_x": null,
            "overflow_y": null,
            "padding": null,
            "right": null,
            "top": null,
            "visibility": null,
            "width": null
          }
        },
        "25ebd285de2e49c483c3b22b5c8364c0": {
          "model_module": "@jupyter-widgets/base",
          "model_module_version": "1.2.0",
          "model_name": "LayoutModel",
          "state": {
            "_model_module": "@jupyter-widgets/base",
            "_model_module_version": "1.2.0",
            "_model_name": "LayoutModel",
            "_view_count": null,
            "_view_module": "@jupyter-widgets/base",
            "_view_module_version": "1.2.0",
            "_view_name": "LayoutView",
            "align_content": null,
            "align_items": null,
            "align_self": null,
            "border": null,
            "bottom": null,
            "display": null,
            "flex": null,
            "flex_flow": null,
            "grid_area": null,
            "grid_auto_columns": null,
            "grid_auto_flow": null,
            "grid_auto_rows": null,
            "grid_column": null,
            "grid_gap": null,
            "grid_row": null,
            "grid_template_areas": null,
            "grid_template_columns": null,
            "grid_template_rows": null,
            "height": null,
            "justify_content": null,
            "justify_items": null,
            "left": null,
            "margin": null,
            "max_height": null,
            "max_width": null,
            "min_height": null,
            "min_width": null,
            "object_fit": null,
            "object_position": null,
            "order": null,
            "overflow": null,
            "overflow_x": null,
            "overflow_y": null,
            "padding": null,
            "right": null,
            "top": null,
            "visibility": null,
            "width": null
          }
        },
        "359ef2b8a4ac4a9c9a91edc4a2dd1326": {
          "model_module": "@jupyter-widgets/base",
          "model_module_version": "1.2.0",
          "model_name": "LayoutModel",
          "state": {
            "_model_module": "@jupyter-widgets/base",
            "_model_module_version": "1.2.0",
            "_model_name": "LayoutModel",
            "_view_count": null,
            "_view_module": "@jupyter-widgets/base",
            "_view_module_version": "1.2.0",
            "_view_name": "LayoutView",
            "align_content": null,
            "align_items": null,
            "align_self": null,
            "border": null,
            "bottom": null,
            "display": null,
            "flex": null,
            "flex_flow": null,
            "grid_area": null,
            "grid_auto_columns": null,
            "grid_auto_flow": null,
            "grid_auto_rows": null,
            "grid_column": null,
            "grid_gap": null,
            "grid_row": null,
            "grid_template_areas": null,
            "grid_template_columns": null,
            "grid_template_rows": null,
            "height": null,
            "justify_content": null,
            "justify_items": null,
            "left": null,
            "margin": null,
            "max_height": null,
            "max_width": null,
            "min_height": null,
            "min_width": null,
            "object_fit": null,
            "object_position": null,
            "order": null,
            "overflow": null,
            "overflow_x": null,
            "overflow_y": null,
            "padding": null,
            "right": null,
            "top": null,
            "visibility": null,
            "width": null
          }
        },
        "38341454dd6b4e9ca2fe5b85d2e371e1": {
          "model_module": "@jupyter-widgets/controls",
          "model_module_version": "1.5.0",
          "model_name": "DescriptionStyleModel",
          "state": {
            "_model_module": "@jupyter-widgets/controls",
            "_model_module_version": "1.5.0",
            "_model_name": "DescriptionStyleModel",
            "_view_count": null,
            "_view_module": "@jupyter-widgets/base",
            "_view_module_version": "1.2.0",
            "_view_name": "StyleView",
            "description_width": ""
          }
        },
        "3b74befc8d70471697ce6686ab4ac5c3": {
          "model_module": "@jupyter-widgets/base",
          "model_module_version": "1.2.0",
          "model_name": "LayoutModel",
          "state": {
            "_model_module": "@jupyter-widgets/base",
            "_model_module_version": "1.2.0",
            "_model_name": "LayoutModel",
            "_view_count": null,
            "_view_module": "@jupyter-widgets/base",
            "_view_module_version": "1.2.0",
            "_view_name": "LayoutView",
            "align_content": null,
            "align_items": null,
            "align_self": null,
            "border": null,
            "bottom": null,
            "display": null,
            "flex": null,
            "flex_flow": null,
            "grid_area": null,
            "grid_auto_columns": null,
            "grid_auto_flow": null,
            "grid_auto_rows": null,
            "grid_column": null,
            "grid_gap": null,
            "grid_row": null,
            "grid_template_areas": null,
            "grid_template_columns": null,
            "grid_template_rows": null,
            "height": null,
            "justify_content": null,
            "justify_items": null,
            "left": null,
            "margin": null,
            "max_height": null,
            "max_width": null,
            "min_height": null,
            "min_width": null,
            "object_fit": null,
            "object_position": null,
            "order": null,
            "overflow": null,
            "overflow_x": null,
            "overflow_y": null,
            "padding": null,
            "right": null,
            "top": null,
            "visibility": null,
            "width": null
          }
        },
        "3d3584d1feec459287ffa24c4ef790c3": {
          "model_module": "@jupyter-widgets/controls",
          "model_module_version": "1.5.0",
          "model_name": "FloatProgressModel",
          "state": {
            "_dom_classes": [],
            "_model_module": "@jupyter-widgets/controls",
            "_model_module_version": "1.5.0",
            "_model_name": "FloatProgressModel",
            "_view_count": null,
            "_view_module": "@jupyter-widgets/controls",
            "_view_module_version": "1.5.0",
            "_view_name": "ProgressView",
            "bar_style": "success",
            "description": "",
            "description_tooltip": null,
            "layout": "IPY_MODEL_a30c82833f55441995744300c2ef538d",
            "max": 50,
            "min": 0,
            "orientation": "horizontal",
            "style": "IPY_MODEL_4932983d4f1a4199b3d24c730c765a24",
            "value": 50
          }
        },
        "3f5f9cad86e24dd489146215c3a208c9": {
          "model_module": "@jupyter-widgets/controls",
          "model_module_version": "1.5.0",
          "model_name": "DescriptionStyleModel",
          "state": {
            "_model_module": "@jupyter-widgets/controls",
            "_model_module_version": "1.5.0",
            "_model_name": "DescriptionStyleModel",
            "_view_count": null,
            "_view_module": "@jupyter-widgets/base",
            "_view_module_version": "1.2.0",
            "_view_name": "StyleView",
            "description_width": ""
          }
        },
        "3fdf0c5e62f24f30b02bcdc37b17c2e7": {
          "model_module": "@jupyter-widgets/base",
          "model_module_version": "1.2.0",
          "model_name": "LayoutModel",
          "state": {
            "_model_module": "@jupyter-widgets/base",
            "_model_module_version": "1.2.0",
            "_model_name": "LayoutModel",
            "_view_count": null,
            "_view_module": "@jupyter-widgets/base",
            "_view_module_version": "1.2.0",
            "_view_name": "LayoutView",
            "align_content": null,
            "align_items": null,
            "align_self": null,
            "border": null,
            "bottom": null,
            "display": null,
            "flex": null,
            "flex_flow": null,
            "grid_area": null,
            "grid_auto_columns": null,
            "grid_auto_flow": null,
            "grid_auto_rows": null,
            "grid_column": null,
            "grid_gap": null,
            "grid_row": null,
            "grid_template_areas": null,
            "grid_template_columns": null,
            "grid_template_rows": null,
            "height": null,
            "justify_content": null,
            "justify_items": null,
            "left": null,
            "margin": null,
            "max_height": null,
            "max_width": null,
            "min_height": null,
            "min_width": null,
            "object_fit": null,
            "object_position": null,
            "order": null,
            "overflow": null,
            "overflow_x": null,
            "overflow_y": null,
            "padding": null,
            "right": null,
            "top": null,
            "visibility": null,
            "width": null
          }
        },
        "4024c181581c485abd3181586afc2574": {
          "model_module": "@jupyter-widgets/controls",
          "model_module_version": "1.5.0",
          "model_name": "FloatProgressModel",
          "state": {
            "_dom_classes": [],
            "_model_module": "@jupyter-widgets/controls",
            "_model_module_version": "1.5.0",
            "_model_name": "FloatProgressModel",
            "_view_count": null,
            "_view_module": "@jupyter-widgets/controls",
            "_view_module_version": "1.5.0",
            "_view_name": "ProgressView",
            "bar_style": "success",
            "description": "",
            "description_tooltip": null,
            "layout": "IPY_MODEL_3fdf0c5e62f24f30b02bcdc37b17c2e7",
            "max": 50,
            "min": 0,
            "orientation": "horizontal",
            "style": "IPY_MODEL_07c0dd1a8de149408b981a8892f6e46d",
            "value": 50
          }
        },
        "4932983d4f1a4199b3d24c730c765a24": {
          "model_module": "@jupyter-widgets/controls",
          "model_module_version": "1.5.0",
          "model_name": "ProgressStyleModel",
          "state": {
            "_model_module": "@jupyter-widgets/controls",
            "_model_module_version": "1.5.0",
            "_model_name": "ProgressStyleModel",
            "_view_count": null,
            "_view_module": "@jupyter-widgets/base",
            "_view_module_version": "1.2.0",
            "_view_name": "StyleView",
            "bar_color": null,
            "description_width": ""
          }
        },
        "5c53f97287d54c03a378fc44ab791cd7": {
          "model_module": "@jupyter-widgets/controls",
          "model_module_version": "1.5.0",
          "model_name": "DescriptionStyleModel",
          "state": {
            "_model_module": "@jupyter-widgets/controls",
            "_model_module_version": "1.5.0",
            "_model_name": "DescriptionStyleModel",
            "_view_count": null,
            "_view_module": "@jupyter-widgets/base",
            "_view_module_version": "1.2.0",
            "_view_name": "StyleView",
            "description_width": ""
          }
        },
        "5e9700580d6b4ad0bfac34bf3b3919fc": {
          "model_module": "@jupyter-widgets/base",
          "model_module_version": "1.2.0",
          "model_name": "LayoutModel",
          "state": {
            "_model_module": "@jupyter-widgets/base",
            "_model_module_version": "1.2.0",
            "_model_name": "LayoutModel",
            "_view_count": null,
            "_view_module": "@jupyter-widgets/base",
            "_view_module_version": "1.2.0",
            "_view_name": "LayoutView",
            "align_content": null,
            "align_items": null,
            "align_self": null,
            "border": null,
            "bottom": null,
            "display": null,
            "flex": null,
            "flex_flow": null,
            "grid_area": null,
            "grid_auto_columns": null,
            "grid_auto_flow": null,
            "grid_auto_rows": null,
            "grid_column": null,
            "grid_gap": null,
            "grid_row": null,
            "grid_template_areas": null,
            "grid_template_columns": null,
            "grid_template_rows": null,
            "height": null,
            "justify_content": null,
            "justify_items": null,
            "left": null,
            "margin": null,
            "max_height": null,
            "max_width": null,
            "min_height": null,
            "min_width": null,
            "object_fit": null,
            "object_position": null,
            "order": null,
            "overflow": null,
            "overflow_x": null,
            "overflow_y": null,
            "padding": null,
            "right": null,
            "top": null,
            "visibility": null,
            "width": null
          }
        },
        "5f03835168e64ec588c50ee21fedd198": {
          "model_module": "@jupyter-widgets/controls",
          "model_module_version": "1.5.0",
          "model_name": "HTMLModel",
          "state": {
            "_dom_classes": [],
            "_model_module": "@jupyter-widgets/controls",
            "_model_module_version": "1.5.0",
            "_model_name": "HTMLModel",
            "_view_count": null,
            "_view_module": "@jupyter-widgets/controls",
            "_view_module_version": "1.5.0",
            "_view_name": "HTMLView",
            "description": "",
            "description_tooltip": null,
            "layout": "IPY_MODEL_c20e9e14100d45f3bdff1b6df943940f",
            "placeholder": "​",
            "style": "IPY_MODEL_5c53f97287d54c03a378fc44ab791cd7",
            "value": " 50/50 [00:01&lt;00:00, 29.69it/s]"
          }
        },
        "60604227dac34e37a0a9f3bfb3984317": {
          "model_module": "@jupyter-widgets/controls",
          "model_module_version": "1.5.0",
          "model_name": "HTMLModel",
          "state": {
            "_dom_classes": [],
            "_model_module": "@jupyter-widgets/controls",
            "_model_module_version": "1.5.0",
            "_model_name": "HTMLModel",
            "_view_count": null,
            "_view_module": "@jupyter-widgets/controls",
            "_view_module_version": "1.5.0",
            "_view_name": "HTMLView",
            "description": "",
            "description_tooltip": null,
            "layout": "IPY_MODEL_3b74befc8d70471697ce6686ab4ac5c3",
            "placeholder": "​",
            "style": "IPY_MODEL_b2ff537e768b43ef98c412e633ab9e49",
            "value": "100%"
          }
        },
        "635162e10abc441797d4e5b74713bf44": {
          "model_module": "@jupyter-widgets/controls",
          "model_module_version": "1.5.0",
          "model_name": "HTMLModel",
          "state": {
            "_dom_classes": [],
            "_model_module": "@jupyter-widgets/controls",
            "_model_module_version": "1.5.0",
            "_model_name": "HTMLModel",
            "_view_count": null,
            "_view_module": "@jupyter-widgets/controls",
            "_view_module_version": "1.5.0",
            "_view_name": "HTMLView",
            "description": "",
            "description_tooltip": null,
            "layout": "IPY_MODEL_5e9700580d6b4ad0bfac34bf3b3919fc",
            "placeholder": "​",
            "style": "IPY_MODEL_a2c30462ef8d41fd9158f194a746d5a7",
            "value": " 50/50 [00:02&lt;00:00, 29.94it/s]"
          }
        },
        "6571f57262c447ce9177223fb583e707": {
          "model_module": "@jupyter-widgets/controls",
          "model_module_version": "1.5.0",
          "model_name": "FloatProgressModel",
          "state": {
            "_dom_classes": [],
            "_model_module": "@jupyter-widgets/controls",
            "_model_module_version": "1.5.0",
            "_model_name": "FloatProgressModel",
            "_view_count": null,
            "_view_module": "@jupyter-widgets/controls",
            "_view_module_version": "1.5.0",
            "_view_name": "ProgressView",
            "bar_style": "success",
            "description": "",
            "description_tooltip": null,
            "layout": "IPY_MODEL_70006fb01d6a49fb909e4a3bfc5b940a",
            "max": 50,
            "min": 0,
            "orientation": "horizontal",
            "style": "IPY_MODEL_7980b120d41247548f49667cea6156a5",
            "value": 50
          }
        },
        "66d406d6eb1f49699ee09c9a2fd4ffa9": {
          "model_module": "@jupyter-widgets/base",
          "model_module_version": "1.2.0",
          "model_name": "LayoutModel",
          "state": {
            "_model_module": "@jupyter-widgets/base",
            "_model_module_version": "1.2.0",
            "_model_name": "LayoutModel",
            "_view_count": null,
            "_view_module": "@jupyter-widgets/base",
            "_view_module_version": "1.2.0",
            "_view_name": "LayoutView",
            "align_content": null,
            "align_items": null,
            "align_self": null,
            "border": null,
            "bottom": null,
            "display": null,
            "flex": null,
            "flex_flow": null,
            "grid_area": null,
            "grid_auto_columns": null,
            "grid_auto_flow": null,
            "grid_auto_rows": null,
            "grid_column": null,
            "grid_gap": null,
            "grid_row": null,
            "grid_template_areas": null,
            "grid_template_columns": null,
            "grid_template_rows": null,
            "height": null,
            "justify_content": null,
            "justify_items": null,
            "left": null,
            "margin": null,
            "max_height": null,
            "max_width": null,
            "min_height": null,
            "min_width": null,
            "object_fit": null,
            "object_position": null,
            "order": null,
            "overflow": null,
            "overflow_x": null,
            "overflow_y": null,
            "padding": null,
            "right": null,
            "top": null,
            "visibility": null,
            "width": null
          }
        },
        "70006fb01d6a49fb909e4a3bfc5b940a": {
          "model_module": "@jupyter-widgets/base",
          "model_module_version": "1.2.0",
          "model_name": "LayoutModel",
          "state": {
            "_model_module": "@jupyter-widgets/base",
            "_model_module_version": "1.2.0",
            "_model_name": "LayoutModel",
            "_view_count": null,
            "_view_module": "@jupyter-widgets/base",
            "_view_module_version": "1.2.0",
            "_view_name": "LayoutView",
            "align_content": null,
            "align_items": null,
            "align_self": null,
            "border": null,
            "bottom": null,
            "display": null,
            "flex": null,
            "flex_flow": null,
            "grid_area": null,
            "grid_auto_columns": null,
            "grid_auto_flow": null,
            "grid_auto_rows": null,
            "grid_column": null,
            "grid_gap": null,
            "grid_row": null,
            "grid_template_areas": null,
            "grid_template_columns": null,
            "grid_template_rows": null,
            "height": null,
            "justify_content": null,
            "justify_items": null,
            "left": null,
            "margin": null,
            "max_height": null,
            "max_width": null,
            "min_height": null,
            "min_width": null,
            "object_fit": null,
            "object_position": null,
            "order": null,
            "overflow": null,
            "overflow_x": null,
            "overflow_y": null,
            "padding": null,
            "right": null,
            "top": null,
            "visibility": null,
            "width": null
          }
        },
        "720b4d010c364e3fbf72a53b267e8db9": {
          "model_module": "@jupyter-widgets/base",
          "model_module_version": "1.2.0",
          "model_name": "LayoutModel",
          "state": {
            "_model_module": "@jupyter-widgets/base",
            "_model_module_version": "1.2.0",
            "_model_name": "LayoutModel",
            "_view_count": null,
            "_view_module": "@jupyter-widgets/base",
            "_view_module_version": "1.2.0",
            "_view_name": "LayoutView",
            "align_content": null,
            "align_items": null,
            "align_self": null,
            "border": null,
            "bottom": null,
            "display": null,
            "flex": null,
            "flex_flow": null,
            "grid_area": null,
            "grid_auto_columns": null,
            "grid_auto_flow": null,
            "grid_auto_rows": null,
            "grid_column": null,
            "grid_gap": null,
            "grid_row": null,
            "grid_template_areas": null,
            "grid_template_columns": null,
            "grid_template_rows": null,
            "height": null,
            "justify_content": null,
            "justify_items": null,
            "left": null,
            "margin": null,
            "max_height": null,
            "max_width": null,
            "min_height": null,
            "min_width": null,
            "object_fit": null,
            "object_position": null,
            "order": null,
            "overflow": null,
            "overflow_x": null,
            "overflow_y": null,
            "padding": null,
            "right": null,
            "top": null,
            "visibility": null,
            "width": null
          }
        },
        "7761a50a602f41f1a21aa826c491eb9d": {
          "model_module": "@jupyter-widgets/controls",
          "model_module_version": "1.5.0",
          "model_name": "HTMLModel",
          "state": {
            "_dom_classes": [],
            "_model_module": "@jupyter-widgets/controls",
            "_model_module_version": "1.5.0",
            "_model_name": "HTMLModel",
            "_view_count": null,
            "_view_module": "@jupyter-widgets/controls",
            "_view_module_version": "1.5.0",
            "_view_name": "HTMLView",
            "description": "",
            "description_tooltip": null,
            "layout": "IPY_MODEL_b272384164504fa5b81d5502c12f8800",
            "placeholder": "​",
            "style": "IPY_MODEL_f525b9f19c334fe6b2305ad6bcfa20bf",
            "value": " 50/50 [00:01&lt;00:00, 28.55it/s]"
          }
        },
        "7980b120d41247548f49667cea6156a5": {
          "model_module": "@jupyter-widgets/controls",
          "model_module_version": "1.5.0",
          "model_name": "ProgressStyleModel",
          "state": {
            "_model_module": "@jupyter-widgets/controls",
            "_model_module_version": "1.5.0",
            "_model_name": "ProgressStyleModel",
            "_view_count": null,
            "_view_module": "@jupyter-widgets/base",
            "_view_module_version": "1.2.0",
            "_view_name": "StyleView",
            "bar_color": null,
            "description_width": ""
          }
        },
        "79b59cbde9444bf892931d31afec7f2a": {
          "model_module": "@jupyter-widgets/controls",
          "model_module_version": "1.5.0",
          "model_name": "HTMLModel",
          "state": {
            "_dom_classes": [],
            "_model_module": "@jupyter-widgets/controls",
            "_model_module_version": "1.5.0",
            "_model_name": "HTMLModel",
            "_view_count": null,
            "_view_module": "@jupyter-widgets/controls",
            "_view_module_version": "1.5.0",
            "_view_name": "HTMLView",
            "description": "",
            "description_tooltip": null,
            "layout": "IPY_MODEL_d9c33fbfb3164cbbb7b9a4cd172d20ae",
            "placeholder": "​",
            "style": "IPY_MODEL_df53331cce124bd1ada5aa9e9a977015",
            "value": "100%"
          }
        },
        "8211cc6c973a43fcaf18e14f6d7f08a2": {
          "model_module": "@jupyter-widgets/controls",
          "model_module_version": "1.5.0",
          "model_name": "HTMLModel",
          "state": {
            "_dom_classes": [],
            "_model_module": "@jupyter-widgets/controls",
            "_model_module_version": "1.5.0",
            "_model_name": "HTMLModel",
            "_view_count": null,
            "_view_module": "@jupyter-widgets/controls",
            "_view_module_version": "1.5.0",
            "_view_name": "HTMLView",
            "description": "",
            "description_tooltip": null,
            "layout": "IPY_MODEL_66d406d6eb1f49699ee09c9a2fd4ffa9",
            "placeholder": "​",
            "style": "IPY_MODEL_38341454dd6b4e9ca2fe5b85d2e371e1",
            "value": "100%"
          }
        },
        "83d947fc3338491ab4155b87c443884c": {
          "model_module": "@jupyter-widgets/controls",
          "model_module_version": "1.5.0",
          "model_name": "ProgressStyleModel",
          "state": {
            "_model_module": "@jupyter-widgets/controls",
            "_model_module_version": "1.5.0",
            "_model_name": "ProgressStyleModel",
            "_view_count": null,
            "_view_module": "@jupyter-widgets/base",
            "_view_module_version": "1.2.0",
            "_view_name": "StyleView",
            "bar_color": null,
            "description_width": ""
          }
        },
        "9f555c5ada38495eb4281cbb49169abe": {
          "model_module": "@jupyter-widgets/controls",
          "model_module_version": "1.5.0",
          "model_name": "HBoxModel",
          "state": {
            "_dom_classes": [],
            "_model_module": "@jupyter-widgets/controls",
            "_model_module_version": "1.5.0",
            "_model_name": "HBoxModel",
            "_view_count": null,
            "_view_module": "@jupyter-widgets/controls",
            "_view_module_version": "1.5.0",
            "_view_name": "HBoxView",
            "box_style": "",
            "children": [
              "IPY_MODEL_79b59cbde9444bf892931d31afec7f2a",
              "IPY_MODEL_a157870318114d459a33d795850967ef",
              "IPY_MODEL_635162e10abc441797d4e5b74713bf44"
            ],
            "layout": "IPY_MODEL_720b4d010c364e3fbf72a53b267e8db9"
          }
        },
        "a157870318114d459a33d795850967ef": {
          "model_module": "@jupyter-widgets/controls",
          "model_module_version": "1.5.0",
          "model_name": "FloatProgressModel",
          "state": {
            "_dom_classes": [],
            "_model_module": "@jupyter-widgets/controls",
            "_model_module_version": "1.5.0",
            "_model_name": "FloatProgressModel",
            "_view_count": null,
            "_view_module": "@jupyter-widgets/controls",
            "_view_module_version": "1.5.0",
            "_view_name": "ProgressView",
            "bar_style": "success",
            "description": "",
            "description_tooltip": null,
            "layout": "IPY_MODEL_229dad8e29f04c279c5603286e2c0643",
            "max": 50,
            "min": 0,
            "orientation": "horizontal",
            "style": "IPY_MODEL_83d947fc3338491ab4155b87c443884c",
            "value": 50
          }
        },
        "a2179cafb63f475db0162cd990a17ff7": {
          "model_module": "@jupyter-widgets/controls",
          "model_module_version": "1.5.0",
          "model_name": "HTMLModel",
          "state": {
            "_dom_classes": [],
            "_model_module": "@jupyter-widgets/controls",
            "_model_module_version": "1.5.0",
            "_model_name": "HTMLModel",
            "_view_count": null,
            "_view_module": "@jupyter-widgets/controls",
            "_view_module_version": "1.5.0",
            "_view_name": "HTMLView",
            "description": "",
            "description_tooltip": null,
            "layout": "IPY_MODEL_359ef2b8a4ac4a9c9a91edc4a2dd1326",
            "placeholder": "​",
            "style": "IPY_MODEL_c66dc6c14a4c4274900abe8fc993266a",
            "value": " 50/50 [00:01&lt;00:00, 28.62it/s]"
          }
        },
        "a2c30462ef8d41fd9158f194a746d5a7": {
          "model_module": "@jupyter-widgets/controls",
          "model_module_version": "1.5.0",
          "model_name": "DescriptionStyleModel",
          "state": {
            "_model_module": "@jupyter-widgets/controls",
            "_model_module_version": "1.5.0",
            "_model_name": "DescriptionStyleModel",
            "_view_count": null,
            "_view_module": "@jupyter-widgets/base",
            "_view_module_version": "1.2.0",
            "_view_name": "StyleView",
            "description_width": ""
          }
        },
        "a30c82833f55441995744300c2ef538d": {
          "model_module": "@jupyter-widgets/base",
          "model_module_version": "1.2.0",
          "model_name": "LayoutModel",
          "state": {
            "_model_module": "@jupyter-widgets/base",
            "_model_module_version": "1.2.0",
            "_model_name": "LayoutModel",
            "_view_count": null,
            "_view_module": "@jupyter-widgets/base",
            "_view_module_version": "1.2.0",
            "_view_name": "LayoutView",
            "align_content": null,
            "align_items": null,
            "align_self": null,
            "border": null,
            "bottom": null,
            "display": null,
            "flex": null,
            "flex_flow": null,
            "grid_area": null,
            "grid_auto_columns": null,
            "grid_auto_flow": null,
            "grid_auto_rows": null,
            "grid_column": null,
            "grid_gap": null,
            "grid_row": null,
            "grid_template_areas": null,
            "grid_template_columns": null,
            "grid_template_rows": null,
            "height": null,
            "justify_content": null,
            "justify_items": null,
            "left": null,
            "margin": null,
            "max_height": null,
            "max_width": null,
            "min_height": null,
            "min_width": null,
            "object_fit": null,
            "object_position": null,
            "order": null,
            "overflow": null,
            "overflow_x": null,
            "overflow_y": null,
            "padding": null,
            "right": null,
            "top": null,
            "visibility": null,
            "width": null
          }
        },
        "a8bdc4ecce4f48e0ba6483ea9e679336": {
          "model_module": "@jupyter-widgets/controls",
          "model_module_version": "1.5.0",
          "model_name": "HBoxModel",
          "state": {
            "_dom_classes": [],
            "_model_module": "@jupyter-widgets/controls",
            "_model_module_version": "1.5.0",
            "_model_name": "HBoxModel",
            "_view_count": null,
            "_view_module": "@jupyter-widgets/controls",
            "_view_module_version": "1.5.0",
            "_view_name": "HBoxView",
            "box_style": "",
            "children": [
              "IPY_MODEL_60604227dac34e37a0a9f3bfb3984317",
              "IPY_MODEL_4024c181581c485abd3181586afc2574",
              "IPY_MODEL_7761a50a602f41f1a21aa826c491eb9d"
            ],
            "layout": "IPY_MODEL_25ebd285de2e49c483c3b22b5c8364c0"
          }
        },
        "b272384164504fa5b81d5502c12f8800": {
          "model_module": "@jupyter-widgets/base",
          "model_module_version": "1.2.0",
          "model_name": "LayoutModel",
          "state": {
            "_model_module": "@jupyter-widgets/base",
            "_model_module_version": "1.2.0",
            "_model_name": "LayoutModel",
            "_view_count": null,
            "_view_module": "@jupyter-widgets/base",
            "_view_module_version": "1.2.0",
            "_view_name": "LayoutView",
            "align_content": null,
            "align_items": null,
            "align_self": null,
            "border": null,
            "bottom": null,
            "display": null,
            "flex": null,
            "flex_flow": null,
            "grid_area": null,
            "grid_auto_columns": null,
            "grid_auto_flow": null,
            "grid_auto_rows": null,
            "grid_column": null,
            "grid_gap": null,
            "grid_row": null,
            "grid_template_areas": null,
            "grid_template_columns": null,
            "grid_template_rows": null,
            "height": null,
            "justify_content": null,
            "justify_items": null,
            "left": null,
            "margin": null,
            "max_height": null,
            "max_width": null,
            "min_height": null,
            "min_width": null,
            "object_fit": null,
            "object_position": null,
            "order": null,
            "overflow": null,
            "overflow_x": null,
            "overflow_y": null,
            "padding": null,
            "right": null,
            "top": null,
            "visibility": null,
            "width": null
          }
        },
        "b2ff537e768b43ef98c412e633ab9e49": {
          "model_module": "@jupyter-widgets/controls",
          "model_module_version": "1.5.0",
          "model_name": "DescriptionStyleModel",
          "state": {
            "_model_module": "@jupyter-widgets/controls",
            "_model_module_version": "1.5.0",
            "_model_name": "DescriptionStyleModel",
            "_view_count": null,
            "_view_module": "@jupyter-widgets/base",
            "_view_module_version": "1.2.0",
            "_view_name": "StyleView",
            "description_width": ""
          }
        },
        "b833db18729f422cb86deed4be6f1900": {
          "model_module": "@jupyter-widgets/base",
          "model_module_version": "1.2.0",
          "model_name": "LayoutModel",
          "state": {
            "_model_module": "@jupyter-widgets/base",
            "_model_module_version": "1.2.0",
            "_model_name": "LayoutModel",
            "_view_count": null,
            "_view_module": "@jupyter-widgets/base",
            "_view_module_version": "1.2.0",
            "_view_name": "LayoutView",
            "align_content": null,
            "align_items": null,
            "align_self": null,
            "border": null,
            "bottom": null,
            "display": null,
            "flex": null,
            "flex_flow": null,
            "grid_area": null,
            "grid_auto_columns": null,
            "grid_auto_flow": null,
            "grid_auto_rows": null,
            "grid_column": null,
            "grid_gap": null,
            "grid_row": null,
            "grid_template_areas": null,
            "grid_template_columns": null,
            "grid_template_rows": null,
            "height": null,
            "justify_content": null,
            "justify_items": null,
            "left": null,
            "margin": null,
            "max_height": null,
            "max_width": null,
            "min_height": null,
            "min_width": null,
            "object_fit": null,
            "object_position": null,
            "order": null,
            "overflow": null,
            "overflow_x": null,
            "overflow_y": null,
            "padding": null,
            "right": null,
            "top": null,
            "visibility": null,
            "width": null
          }
        },
        "c0bb81765e93420796cd5f959e9d3534": {
          "model_module": "@jupyter-widgets/base",
          "model_module_version": "1.2.0",
          "model_name": "LayoutModel",
          "state": {
            "_model_module": "@jupyter-widgets/base",
            "_model_module_version": "1.2.0",
            "_model_name": "LayoutModel",
            "_view_count": null,
            "_view_module": "@jupyter-widgets/base",
            "_view_module_version": "1.2.0",
            "_view_name": "LayoutView",
            "align_content": null,
            "align_items": null,
            "align_self": null,
            "border": null,
            "bottom": null,
            "display": null,
            "flex": null,
            "flex_flow": null,
            "grid_area": null,
            "grid_auto_columns": null,
            "grid_auto_flow": null,
            "grid_auto_rows": null,
            "grid_column": null,
            "grid_gap": null,
            "grid_row": null,
            "grid_template_areas": null,
            "grid_template_columns": null,
            "grid_template_rows": null,
            "height": null,
            "justify_content": null,
            "justify_items": null,
            "left": null,
            "margin": null,
            "max_height": null,
            "max_width": null,
            "min_height": null,
            "min_width": null,
            "object_fit": null,
            "object_position": null,
            "order": null,
            "overflow": null,
            "overflow_x": null,
            "overflow_y": null,
            "padding": null,
            "right": null,
            "top": null,
            "visibility": null,
            "width": null
          }
        },
        "c20e9e14100d45f3bdff1b6df943940f": {
          "model_module": "@jupyter-widgets/base",
          "model_module_version": "1.2.0",
          "model_name": "LayoutModel",
          "state": {
            "_model_module": "@jupyter-widgets/base",
            "_model_module_version": "1.2.0",
            "_model_name": "LayoutModel",
            "_view_count": null,
            "_view_module": "@jupyter-widgets/base",
            "_view_module_version": "1.2.0",
            "_view_name": "LayoutView",
            "align_content": null,
            "align_items": null,
            "align_self": null,
            "border": null,
            "bottom": null,
            "display": null,
            "flex": null,
            "flex_flow": null,
            "grid_area": null,
            "grid_auto_columns": null,
            "grid_auto_flow": null,
            "grid_auto_rows": null,
            "grid_column": null,
            "grid_gap": null,
            "grid_row": null,
            "grid_template_areas": null,
            "grid_template_columns": null,
            "grid_template_rows": null,
            "height": null,
            "justify_content": null,
            "justify_items": null,
            "left": null,
            "margin": null,
            "max_height": null,
            "max_width": null,
            "min_height": null,
            "min_width": null,
            "object_fit": null,
            "object_position": null,
            "order": null,
            "overflow": null,
            "overflow_x": null,
            "overflow_y": null,
            "padding": null,
            "right": null,
            "top": null,
            "visibility": null,
            "width": null
          }
        },
        "c66dc6c14a4c4274900abe8fc993266a": {
          "model_module": "@jupyter-widgets/controls",
          "model_module_version": "1.5.0",
          "model_name": "DescriptionStyleModel",
          "state": {
            "_model_module": "@jupyter-widgets/controls",
            "_model_module_version": "1.5.0",
            "_model_name": "DescriptionStyleModel",
            "_view_count": null,
            "_view_module": "@jupyter-widgets/base",
            "_view_module_version": "1.2.0",
            "_view_name": "StyleView",
            "description_width": ""
          }
        },
        "d9c33fbfb3164cbbb7b9a4cd172d20ae": {
          "model_module": "@jupyter-widgets/base",
          "model_module_version": "1.2.0",
          "model_name": "LayoutModel",
          "state": {
            "_model_module": "@jupyter-widgets/base",
            "_model_module_version": "1.2.0",
            "_model_name": "LayoutModel",
            "_view_count": null,
            "_view_module": "@jupyter-widgets/base",
            "_view_module_version": "1.2.0",
            "_view_name": "LayoutView",
            "align_content": null,
            "align_items": null,
            "align_self": null,
            "border": null,
            "bottom": null,
            "display": null,
            "flex": null,
            "flex_flow": null,
            "grid_area": null,
            "grid_auto_columns": null,
            "grid_auto_flow": null,
            "grid_auto_rows": null,
            "grid_column": null,
            "grid_gap": null,
            "grid_row": null,
            "grid_template_areas": null,
            "grid_template_columns": null,
            "grid_template_rows": null,
            "height": null,
            "justify_content": null,
            "justify_items": null,
            "left": null,
            "margin": null,
            "max_height": null,
            "max_width": null,
            "min_height": null,
            "min_width": null,
            "object_fit": null,
            "object_position": null,
            "order": null,
            "overflow": null,
            "overflow_x": null,
            "overflow_y": null,
            "padding": null,
            "right": null,
            "top": null,
            "visibility": null,
            "width": null
          }
        },
        "df53331cce124bd1ada5aa9e9a977015": {
          "model_module": "@jupyter-widgets/controls",
          "model_module_version": "1.5.0",
          "model_name": "DescriptionStyleModel",
          "state": {
            "_model_module": "@jupyter-widgets/controls",
            "_model_module_version": "1.5.0",
            "_model_name": "DescriptionStyleModel",
            "_view_count": null,
            "_view_module": "@jupyter-widgets/base",
            "_view_module_version": "1.2.0",
            "_view_name": "StyleView",
            "description_width": ""
          }
        },
        "f525b9f19c334fe6b2305ad6bcfa20bf": {
          "model_module": "@jupyter-widgets/controls",
          "model_module_version": "1.5.0",
          "model_name": "DescriptionStyleModel",
          "state": {
            "_model_module": "@jupyter-widgets/controls",
            "_model_module_version": "1.5.0",
            "_model_name": "DescriptionStyleModel",
            "_view_count": null,
            "_view_module": "@jupyter-widgets/base",
            "_view_module_version": "1.2.0",
            "_view_name": "StyleView",
            "description_width": ""
          }
        },
        "fe6cae73e861414eaff54680113676bc": {
          "model_module": "@jupyter-widgets/base",
          "model_module_version": "1.2.0",
          "model_name": "LayoutModel",
          "state": {
            "_model_module": "@jupyter-widgets/base",
            "_model_module_version": "1.2.0",
            "_model_name": "LayoutModel",
            "_view_count": null,
            "_view_module": "@jupyter-widgets/base",
            "_view_module_version": "1.2.0",
            "_view_name": "LayoutView",
            "align_content": null,
            "align_items": null,
            "align_self": null,
            "border": null,
            "bottom": null,
            "display": null,
            "flex": null,
            "flex_flow": null,
            "grid_area": null,
            "grid_auto_columns": null,
            "grid_auto_flow": null,
            "grid_auto_rows": null,
            "grid_column": null,
            "grid_gap": null,
            "grid_row": null,
            "grid_template_areas": null,
            "grid_template_columns": null,
            "grid_template_rows": null,
            "height": null,
            "justify_content": null,
            "justify_items": null,
            "left": null,
            "margin": null,
            "max_height": null,
            "max_width": null,
            "min_height": null,
            "min_width": null,
            "object_fit": null,
            "object_position": null,
            "order": null,
            "overflow": null,
            "overflow_x": null,
            "overflow_y": null,
            "padding": null,
            "right": null,
            "top": null,
            "visibility": null,
            "width": null
          }
        }
      }
    }
  },
  "nbformat": 4,
  "nbformat_minor": 0
}
